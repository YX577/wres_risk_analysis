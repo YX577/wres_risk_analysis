{
 "cells": [
  {
   "cell_type": "markdown",
   "metadata": {},
   "source": [
    "# Results: Annual Maximum, Daily Precipitation Depth"
   ]
  },
  {
   "cell_type": "markdown",
   "metadata": {},
   "source": [
    "Compare the simulated maximum daily precipitation depth on an annual basis to the datasets"
   ]
  },
  {
   "cell_type": "markdown",
   "metadata": {},
   "source": [
    "## Imports and Parameters"
   ]
  },
  {
   "cell_type": "code",
   "execution_count": 1,
   "metadata": {},
   "outputs": [],
   "source": [
    "%matplotlib inline"
   ]
  },
  {
   "cell_type": "code",
   "execution_count": 2,
   "metadata": {},
   "outputs": [],
   "source": [
    "from IPython.display import display, HTML\n",
    "import numpy as np\n",
    "import pandas as pd\n",
    "import datetime as dt\n",
    "import matplotlib as mpl\n",
    "import matplotlib.pyplot as plt\n",
    "import os\n",
    "import pickle\n",
    "import seaborn as sns\n",
    "from copy import deepcopy"
   ]
  },
  {
   "cell_type": "code",
   "execution_count": 3,
   "metadata": {},
   "outputs": [],
   "source": [
    "IN_DIR = r'C:\\Users\\nmartin\\Documents\\CC_IRD\\Process_Results'\n",
    "SIM_ROOT = \"DC_WGMN1\"\n",
    "AMAX_ROOT = \"%s_%s_PreAnnTot_npa.pickle\"\n",
    "DP_DATA_IN = r'C:\\Users\\nmartin\\Documents\\CC_IRD\\Events\\PRISM_Annual_Totals_1981-2010_npa.pickle'\n",
    "P1_LOCA_IN = r'C:\\Users\\nmartin\\Documents\\CC_IRD\\Events\\LOCA_Annual_Totals_2011-2040_npa.pickle'\n",
    "P2_LOCA_IN = r'C:\\Users\\nmartin\\Documents\\CC_IRD\\Events\\LOCA_Annual_Totals_2041-2070_npa.pickle'\n",
    "P3_LOCA_IN = r'C:\\Users\\nmartin\\Documents\\CC_IRD\\Events\\LOCA_Annual_Totals_2071-2100_npa.pickle'"
   ]
  },
  {
   "cell_type": "code",
   "execution_count": 4,
   "metadata": {},
   "outputs": [],
   "source": [
    "OUT_DIR = r'C:\\Users\\nmartin\\Documents\\CC_IRD\\Events'"
   ]
  },
  {
   "cell_type": "markdown",
   "metadata": {},
   "source": [
    "## Load"
   ]
  },
  {
   "cell_type": "markdown",
   "metadata": {},
   "source": [
    "### Data and LOCA"
   ]
  },
  {
   "cell_type": "code",
   "execution_count": 5,
   "metadata": {},
   "outputs": [
    {
     "data": {
      "text/plain": [
       "1154.6359"
      ]
     },
     "execution_count": 5,
     "metadata": {},
     "output_type": "execute_result"
    }
   ],
   "source": [
    "with open( DP_DATA_IN, 'rb' ) as IP:\n",
    "    npPAnn = pickle.load( IP )\n",
    "npPAnn.max()"
   ]
  },
  {
   "cell_type": "code",
   "execution_count": 6,
   "metadata": {},
   "outputs": [
    {
     "data": {
      "text/plain": [
       "1256.4879"
      ]
     },
     "execution_count": 6,
     "metadata": {},
     "output_type": "execute_result"
    }
   ],
   "source": [
    "with open( P1_LOCA_IN, 'rb' ) as IP:\n",
    "    LOCA_P1 = pickle.load( IP )\n",
    "LOCA_P1.max()"
   ]
  },
  {
   "cell_type": "code",
   "execution_count": 7,
   "metadata": {},
   "outputs": [
    {
     "data": {
      "text/plain": [
       "1369.5848"
      ]
     },
     "execution_count": 7,
     "metadata": {},
     "output_type": "execute_result"
    }
   ],
   "source": [
    "with open( P2_LOCA_IN, 'rb' ) as IP:\n",
    "    LOCA_P2 = pickle.load( IP )\n",
    "LOCA_P2.max()"
   ]
  },
  {
   "cell_type": "code",
   "execution_count": 8,
   "metadata": {},
   "outputs": [
    {
     "data": {
      "text/plain": [
       "1234.8926"
      ]
     },
     "execution_count": 8,
     "metadata": {},
     "output_type": "execute_result"
    }
   ],
   "source": [
    "with open( P3_LOCA_IN, 'rb' ) as IP:\n",
    "    LOCA_P3 = pickle.load( IP )\n",
    "LOCA_P3.max()"
   ]
  },
  {
   "cell_type": "markdown",
   "metadata": {},
   "source": [
    "### Simulation Results"
   ]
  },
  {
   "cell_type": "code",
   "execution_count": 9,
   "metadata": {},
   "outputs": [
    {
     "data": {
      "text/plain": [
       "(1447.1616, 92.61681)"
      ]
     },
     "execution_count": 9,
     "metadata": {},
     "output_type": "execute_result"
    }
   ],
   "source": [
    "InFile = os.path.normpath( os.path.join( IN_DIR, AMAX_ROOT % ( \"DP\", SIM_ROOT ) ) )\n",
    "with open( InFile, 'rb' ) as IP:\n",
    "    DP_SimAr = pickle.load( IP )\n",
    "DP_SimAr.max(), DP_SimAr.min()"
   ]
  },
  {
   "cell_type": "code",
   "execution_count": 10,
   "metadata": {},
   "outputs": [
    {
     "data": {
      "text/plain": [
       "(1765.5358, 200.31302)"
      ]
     },
     "execution_count": 10,
     "metadata": {},
     "output_type": "execute_result"
    }
   ],
   "source": [
    "InFile = os.path.normpath( os.path.join( IN_DIR, AMAX_ROOT % ( \"P1\", SIM_ROOT ) ) )\n",
    "with open( InFile, 'rb' ) as IP:\n",
    "    P1_SimAr = pickle.load( IP )\n",
    "P1_SimAr.max(), P1_SimAr.min()"
   ]
  },
  {
   "cell_type": "code",
   "execution_count": 11,
   "metadata": {},
   "outputs": [
    {
     "data": {
      "text/plain": [
       "(1810.003, 213.84854)"
      ]
     },
     "execution_count": 11,
     "metadata": {},
     "output_type": "execute_result"
    }
   ],
   "source": [
    "InFile = os.path.normpath( os.path.join( IN_DIR, AMAX_ROOT % ( \"P2\", SIM_ROOT ) ) )\n",
    "with open( InFile, 'rb' ) as IP:\n",
    "    P2_SimAr = pickle.load( IP )\n",
    "P2_SimAr.max(), P2_SimAr.min()"
   ]
  },
  {
   "cell_type": "code",
   "execution_count": 12,
   "metadata": {},
   "outputs": [
    {
     "data": {
      "text/plain": [
       "(1805.0571, 203.26137)"
      ]
     },
     "execution_count": 12,
     "metadata": {},
     "output_type": "execute_result"
    }
   ],
   "source": [
    "InFile = os.path.normpath( os.path.join( IN_DIR, AMAX_ROOT % ( \"P3\", SIM_ROOT ) ) )\n",
    "with open( InFile, 'rb' ) as IP:\n",
    "    P3_SimAr = pickle.load( IP )\n",
    "P3_SimAr.max(), P3_SimAr.min()"
   ]
  },
  {
   "cell_type": "markdown",
   "metadata": {},
   "source": [
    "## Make Plotting DataFrames"
   ]
  },
  {
   "cell_type": "code",
   "execution_count": 13,
   "metadata": {},
   "outputs": [
    {
     "data": {
      "text/plain": [
       "30"
      ]
     },
     "execution_count": 13,
     "metadata": {},
     "output_type": "execute_result"
    }
   ],
   "source": [
    "NumPRISM = npPAnn.shape[0]\n",
    "NumPRISM"
   ]
  },
  {
   "cell_type": "code",
   "execution_count": 14,
   "metadata": {},
   "outputs": [
    {
     "data": {
      "text/plain": [
       "1920"
      ]
     },
     "execution_count": 14,
     "metadata": {},
     "output_type": "execute_result"
    }
   ],
   "source": [
    "NumP1_LOCA = LOCA_P1.shape[0]\n",
    "NumP1_LOCA"
   ]
  },
  {
   "cell_type": "code",
   "execution_count": 15,
   "metadata": {},
   "outputs": [
    {
     "data": {
      "text/plain": [
       "1920"
      ]
     },
     "execution_count": 15,
     "metadata": {},
     "output_type": "execute_result"
    }
   ],
   "source": [
    "NumP2_LOCA = LOCA_P2.shape[0]\n",
    "NumP2_LOCA"
   ]
  },
  {
   "cell_type": "code",
   "execution_count": 16,
   "metadata": {},
   "outputs": [
    {
     "data": {
      "text/plain": [
       "1856"
      ]
     },
     "execution_count": 16,
     "metadata": {},
     "output_type": "execute_result"
    }
   ],
   "source": [
    "NumP3_LOCA = LOCA_P3.shape[0]\n",
    "NumP3_LOCA"
   ]
  },
  {
   "cell_type": "code",
   "execution_count": 17,
   "metadata": {},
   "outputs": [
    {
     "data": {
      "text/plain": [
       "310000"
      ]
     },
     "execution_count": 17,
     "metadata": {},
     "output_type": "execute_result"
    }
   ],
   "source": [
    "NumDP_Sim = DP_SimAr.shape[0]\n",
    "NumDP_Sim"
   ]
  },
  {
   "cell_type": "code",
   "execution_count": 18,
   "metadata": {},
   "outputs": [
    {
     "data": {
      "text/plain": [
       "300000"
      ]
     },
     "execution_count": 18,
     "metadata": {},
     "output_type": "execute_result"
    }
   ],
   "source": [
    "NumP1_Sim = P1_SimAr.shape[0]\n",
    "NumP1_Sim"
   ]
  },
  {
   "cell_type": "code",
   "execution_count": 19,
   "metadata": {},
   "outputs": [
    {
     "data": {
      "text/plain": [
       "300000"
      ]
     },
     "execution_count": 19,
     "metadata": {},
     "output_type": "execute_result"
    }
   ],
   "source": [
    "NumP2_Sim = P2_SimAr.shape[0]\n",
    "NumP2_Sim"
   ]
  },
  {
   "cell_type": "code",
   "execution_count": 20,
   "metadata": {},
   "outputs": [
    {
     "data": {
      "text/plain": [
       "300000"
      ]
     },
     "execution_count": 20,
     "metadata": {},
     "output_type": "execute_result"
    }
   ],
   "source": [
    "NumP3_Sim = P3_SimAr.shape[0]\n",
    "NumP3_Sim"
   ]
  },
  {
   "cell_type": "code",
   "execution_count": 21,
   "metadata": {},
   "outputs": [],
   "source": [
    "PRISM_Labels = [ \"PRISM\" for x in range( NumPRISM ) ]\n",
    "LOCA_P1_Labels = [ \"LOCA\" for x in range( NumP1_LOCA ) ]\n",
    "LOCA_P2_Labels = [ \"LOCA\" for x in range( NumP2_LOCA ) ]\n",
    "LOCA_P3_Labels = [ \"LOCA\" for x in range( NumP3_LOCA ) ]\n",
    "SimDP_Labels = [ \"Simulated\" for x in range( NumDP_Sim ) ]\n",
    "SimP1_Labels = [ \"Simulated\" for x in range( NumP1_Sim ) ]\n",
    "SimP2_Labels = [ \"Simulated\" for x in range( NumP2_Sim ) ]\n",
    "SimP3_Labels = [ \"Simulated\" for x in range( NumP3_Sim ) ]"
   ]
  },
  {
   "cell_type": "code",
   "execution_count": 22,
   "metadata": {},
   "outputs": [
    {
     "data": {
      "text/plain": [
       "1215726"
      ]
     },
     "execution_count": 22,
     "metadata": {},
     "output_type": "execute_result"
    }
   ],
   "source": [
    "AllLabels = deepcopy( PRISM_Labels )\n",
    "AllLabels.extend( SimDP_Labels)\n",
    "AllLabels.extend( LOCA_P1_Labels )\n",
    "AllLabels.extend( SimP1_Labels )\n",
    "AllLabels.extend( LOCA_P2_Labels )\n",
    "AllLabels.extend( SimP2_Labels )\n",
    "AllLabels.extend( LOCA_P3_Labels )\n",
    "AllLabels.extend( SimP3_Labels )\n",
    "DPTotLen = len( AllLabels )\n",
    "DPTotLen"
   ]
  },
  {
   "cell_type": "code",
   "execution_count": 23,
   "metadata": {},
   "outputs": [],
   "source": [
    "Interval_PRISM_DP = [ \"1981-2010\" for x in range( NumPRISM ) ]\n",
    "Interval_LOCA_P1 = [ \"2011-2040\" for x in range( NumP1_LOCA ) ] \n",
    "Interval_LOCA_P2 = [ \"2041-2070\" for x in range( NumP2_LOCA ) ] \n",
    "Interval_LOCA_P3 = [ \"2071-2100\" for x in range( NumP3_LOCA ) ] \n",
    "Interval_SIM_DP = [ \"1981-2010\" for x in range( NumDP_Sim ) ]\n",
    "Interval_SIM_P1 = [ \"2011-2040\" for x in range( NumP1_Sim) ] \n",
    "Interval_SIM_P2 = [ \"2041-2070\" for x in range( NumP2_Sim ) ] \n",
    "Interval_SIM_P3 = [ \"2071-2100\" for x in range( NumP3_Sim ) ]"
   ]
  },
  {
   "cell_type": "code",
   "execution_count": 24,
   "metadata": {},
   "outputs": [],
   "source": [
    "AllIntervals = deepcopy( Interval_PRISM_DP )\n",
    "AllIntervals.extend( Interval_SIM_DP )\n",
    "AllIntervals.extend( Interval_LOCA_P1 )\n",
    "AllIntervals.extend( Interval_SIM_P1 )\n",
    "AllIntervals.extend( Interval_LOCA_P2 )\n",
    "AllIntervals.extend( Interval_SIM_P2 )\n",
    "AllIntervals.extend( Interval_LOCA_P3 )\n",
    "AllIntervals.extend( Interval_SIM_P3 )"
   ]
  },
  {
   "cell_type": "code",
   "execution_count": 25,
   "metadata": {},
   "outputs": [
    {
     "data": {
      "text/plain": [
       "(1215726,)"
      ]
     },
     "execution_count": 25,
     "metadata": {},
     "output_type": "execute_result"
    }
   ],
   "source": [
    "AllValues = np.concatenate( [ npPAnn, DP_SimAr, LOCA_P1, P1_SimAr, LOCA_P2, P2_SimAr, LOCA_P3, P3_SimAr ], axis=0 )\n",
    "AllValues.shape"
   ]
  },
  {
   "cell_type": "code",
   "execution_count": 26,
   "metadata": {},
   "outputs": [],
   "source": [
    "DataDict = { \"Interval\" :AllIntervals,\n",
    "             \"DLabel\" : AllLabels,\n",
    "             \"AnnTot\" : AllValues, }\n",
    "DPDF = pd.DataFrame( data=DataDict )"
   ]
  },
  {
   "cell_type": "markdown",
   "metadata": {},
   "source": [
    "Now save this DataFrame in case want to used it later for plotting"
   ]
  },
  {
   "cell_type": "code",
   "execution_count": 27,
   "metadata": {},
   "outputs": [],
   "source": [
    "OutFiler = os.path.normpath( os.path.join( OUT_DIR, \"SimDF_%s_AnnTotPre_All.pickle\" % SIM_ROOT ) )\n",
    "DPDF.to_pickle( OutFiler, compression='zip', protocol=-1 )"
   ]
  },
  {
   "cell_type": "markdown",
   "metadata": {},
   "source": [
    "## Plots"
   ]
  },
  {
   "cell_type": "code",
   "execution_count": 28,
   "metadata": {},
   "outputs": [],
   "source": [
    "sns.set(style=\"whitegrid\", palette=\"pastel\", color_codes=True)"
   ]
  },
  {
   "cell_type": "code",
   "execution_count": 29,
   "metadata": {},
   "outputs": [
    {
     "data": {
      "text/plain": [
       "'C:\\\\Users\\\\nmartin\\\\Documents\\\\CC_IRD\\\\Events\\\\Plots\\\\Results_AnnTot_DC_WGMN1_BW.svg'"
      ]
     },
     "execution_count": 29,
     "metadata": {},
     "output_type": "execute_result"
    }
   ],
   "source": [
    "OutSVG = os.path.normpath( os.path.join( OUT_DIR, \"Plots\", \"Results_AnnTot_%s_BW.svg\" % SIM_ROOT) )\n",
    "OutSVG"
   ]
  },
  {
   "cell_type": "code",
   "execution_count": 30,
   "metadata": {},
   "outputs": [
    {
     "data": {
      "text/plain": [
       "'C:\\\\Users\\\\nmartin\\\\Documents\\\\CC_IRD\\\\Events\\\\Plots\\\\Results_AnnTot_DC_WGMN1_BW.png'"
      ]
     },
     "execution_count": 30,
     "metadata": {},
     "output_type": "execute_result"
    }
   ],
   "source": [
    "OutPNG = os.path.normpath( os.path.join( OUT_DIR, \"Plots\", \"Results_AnnTot_%s_BW.png\" % SIM_ROOT) )\n",
    "OutPNG"
   ]
  },
  {
   "cell_type": "code",
   "execution_count": 31,
   "metadata": {},
   "outputs": [],
   "source": [
    "preTicks = [ 100.0, 500.0, 1000.0, 1500.0, 2000.0, 2500.0 ]"
   ]
  },
  {
   "cell_type": "code",
   "execution_count": 32,
   "metadata": {},
   "outputs": [
    {
     "data": {
      "image/png": "[encoded data removed]",
      "text/plain": [
       "<Figure size 720x432 with 1 Axes>"
      ]
     },
     "metadata": {},
     "output_type": "display_data"
    }
   ],
   "source": [
    "Fig1 = plt.figure()\n",
    "Fig1.set_size_inches(10.0, 6.0)\n",
    "ax11 = Fig1.add_subplot(111)\n",
    "g1 = sns.boxenplot( x=\"Interval\", y=\"AnnTot\", hue=\"DLabel\",\n",
    "                    dodge=True, linewidth=1.2, orient=\"v\",\n",
    "                    palette={ \"PRISM\" : \"xkcd:ocean blue\", \n",
    "                              \"LOCA\" : \"xkcd:sky blue\",\n",
    "                              \"Simulated\" : \"xkcd:pale orange\", },\n",
    "                    data=DPDF, ax=ax11 )\n",
    "g1.legend(prop=dict(size=11))\n",
    "g1.legend(loc=\"lower center\")\n",
    "g1.set_yscale('log')\n",
    "g1.grid(b=True, which=\"both\", axis='y')\n",
    "g1.set_yticks( preTicks )\n",
    "g1.set_xlabel('', fontsize=12 )\n",
    "g1.set_ylabel('Annual Precipitation Depth ($mm$)', fontsize=12)\n",
    "g1.set_ylim( ( 50.0, 2500.0))\n",
    "g1.tick_params(axis='both', which='major', labelsize=11)\n",
    "g1.yaxis.set_major_formatter( mpl.ticker.StrMethodFormatter( \"{x:,.1f}\" ) )\n",
    "Fig1.savefig( OutSVG )\n",
    "Fig1.savefig( OutPNG )"
   ]
  },
  {
   "cell_type": "code",
   "execution_count": null,
   "metadata": {},
   "outputs": [],
   "source": []
  }
 ],
 "metadata": {
  "kernelspec": {
   "display_name": "Python 3",
   "language": "python",
   "name": "python3"
  },
  "language_info": {
   "codemirror_mode": {
    "name": "ipython",
    "version": 3
   },
   "file_extension": ".py",
   "mimetype": "text/x-python",
   "name": "python",
   "nbconvert_exporter": "python",
   "pygments_lexer": "ipython3",
   "version": "3.7.7"
  }
 },
 "nbformat": 4,
 "nbformat_minor": 4
}
