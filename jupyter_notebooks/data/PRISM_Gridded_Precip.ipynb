{
 "cells": [
  {
   "cell_type": "markdown",
   "metadata": {},
   "source": [
    "# Dolan Creek: Obtain and Process Gridded PRISM"
   ]
  },
  {
   "cell_type": "markdown",
   "metadata": {},
   "source": [
    "Obtain the PRISM 4km precipitation grid for all days from 1/1981 to the present. Only the 4 km precipitation grid is free.\n",
    "\n",
    "Notebook Organization"
   ]
  },
  {
   "cell_type": "markdown",
   "metadata": {},
   "source": [
    "https://automating-gis-processes.github.io/2016/Lesson7-read-raster.html\n"
   ]
  },
  {
   "cell_type": "markdown",
   "metadata": {},
   "source": [
    "## Parameters and Imports"
   ]
  },
  {
   "cell_type": "code",
   "execution_count": 1,
   "metadata": {},
   "outputs": [],
   "source": [
    "# our imports\n",
    "import os\n",
    "import pandas as pd\n",
    "import geopandas as gpd\n",
    "import numpy as np\n",
    "import datetime as dt\n",
    "import matplotlib.pyplot as plt\n",
    "# this tells Jupyter to embed matplotlib plots in the notebook\n",
    "%matplotlib notebook\n",
    "import matplotlib\n",
    "from IPython.display import display, HTML\n",
    "import shapely as sp\n",
    "from matplotlib.collections import PatchCollection\n",
    "from matplotlib.lines import Line2D\n",
    "from descartes import PolygonPatch\n",
    "import gdal\n",
    "import gdalconst\n",
    "from shapely.geometry import Point\n",
    "from shapely.geometry import Polygon\n",
    "import urllib.parse as urlp\n",
    "import urllib.request as urlr\n",
    "import urllib.error as urle"
   ]
  },
  {
   "cell_type": "markdown",
   "metadata": {},
   "source": [
    "### Parameters and File Locations"
   ]
  },
  {
   "cell_type": "code",
   "execution_count": 2,
   "metadata": {},
   "outputs": [],
   "source": [
    "PRISM_ENDPT = r'http://services.nacse.org/prism/data/public/4km/'\n",
    "ELEMENT_OPTIONS = [ 'ppt', 'tmin', 'tmax', 'tmean', 'tdmean', 'vpdmin', 'vpdmax' ]"
   ]
  },
  {
   "cell_type": "code",
   "execution_count": 3,
   "metadata": {},
   "outputs": [],
   "source": [
    "TEMP_DIR = r'C:\\Temp\\PRISM_Temp'\n",
    "FILEOUT_DIR = r'\\\\augustine.space.swri.edu\\jdrive\\Groundwater\\R8937_Stochastic_CC_Re' \\\n",
    "              r'charge\\Data\\Weather\\PRISM_Daily'"
   ]
  },
  {
   "cell_type": "code",
   "execution_count": 4,
   "metadata": {},
   "outputs": [],
   "source": [
    "SNO_DATA = -9999.0"
   ]
  },
  {
   "cell_type": "markdown",
   "metadata": {},
   "source": [
    "Some parameters"
   ]
  },
  {
   "cell_type": "code",
   "execution_count": 5,
   "metadata": {},
   "outputs": [],
   "source": [
    "START_DT = dt.datetime( 1981, 1, 1 )\n",
    "PRISM_DT_FMT = \"%Y%m%d\"\n",
    "ZIP_EXT = '.zip'\n",
    "SPLITTER = '_'\n",
    "ZIP_SWITCH = r'/vsizip/'"
   ]
  },
  {
   "cell_type": "markdown",
   "metadata": {},
   "source": [
    "Two boundary files are required. These are used to extract all of the PRISM grid cell centers within the big boundary. Consequently, the big boundary needs to encompass the watershed with a 4 km buffer. One of these files needs to be in NAD83 degrees to use with the PRISM values from the website and the other should be in UTM 14 N, meters to plot with reprojected grid."
   ]
  },
  {
   "cell_type": "code",
   "execution_count": 6,
   "metadata": {},
   "outputs": [],
   "source": [
    "CLIP_BND = r'\\\\augustine.space.swri.edu\\jdrive\\Groundwater\\R8937_Stochastic_CC_Re' \\\n",
    "           r'charge\\GIS\\Shapefiles\\BigBound_NAD83.shp'\n",
    "PLT_CLIP = r'\\\\augustine.space.swri.edu\\jdrive\\Groundwater\\R8937_Stochastic_CC_Rec' \\\n",
    "           r'harge\\GIS\\Shapefiles\\UTM14N\\BigBoundary.shp'"
   ]
  },
  {
   "cell_type": "markdown",
   "metadata": {},
   "source": [
    "The AOI is normally the watershed. Texas counties are also loaded to use as a reference."
   ]
  },
  {
   "cell_type": "code",
   "execution_count": 7,
   "metadata": {},
   "outputs": [],
   "source": [
    "TX_COUNTY_SHP = r'\\\\augustine.space.swri.edu\\jdrive\\Groundwater\\23209-WGCD Num' \\\n",
    "                r'Model\\GIS\\Shapefiles_final\\Counties.shp'\n",
    "AOI_SHP = r'\\\\augustine.space.swri.edu\\jdrive\\Groundwater\\R8937_Stochastic_CC_Re' \\\n",
    "          r'charge\\GIS\\Shapefiles\\UTM14N\\AOI.shp'"
   ]
  },
  {
   "cell_type": "markdown",
   "metadata": {},
   "source": [
    "Load the boundaries and save their crs information"
   ]
  },
  {
   "cell_type": "code",
   "execution_count": 8,
   "metadata": {},
   "outputs": [
    {
     "name": "stdout",
     "output_type": "stream",
     "text": [
      "{'init': 'epsg:4269'}\n"
     ]
    }
   ],
   "source": [
    "ClipNAD83 = gpd.read_file( CLIP_BND )\n",
    "crs_NAD83 = ClipNAD83.crs\n",
    "print(\"%s\" % crs_NAD83)"
   ]
  },
  {
   "cell_type": "code",
   "execution_count": 9,
   "metadata": {},
   "outputs": [
    {
     "name": "stdout",
     "output_type": "stream",
     "text": [
      "{'init': 'epsg:32614'}\n"
     ]
    }
   ],
   "source": [
    "ClipWGS84 = gpd.read_file( PLT_CLIP )\n",
    "crs_WGS84 = ClipWGS84.crs\n",
    "print(\"%s\" % crs_WGS84 )"
   ]
  },
  {
   "cell_type": "code",
   "execution_count": 10,
   "metadata": {},
   "outputs": [],
   "source": [
    "gpd_AOI = gpd.read_file( AOI_SHP )"
   ]
  },
  {
   "cell_type": "code",
   "execution_count": 11,
   "metadata": {},
   "outputs": [],
   "source": [
    "gpd_TXCO = gpd.read_file( TX_COUNTY_SHP )"
   ]
  },
  {
   "cell_type": "code",
   "execution_count": 12,
   "metadata": {},
   "outputs": [],
   "source": [
    "# convert the texas counties to UTM, WGS84\n",
    "gpd_TXCOUTM = gpd_TXCO.to_crs( crs_WGS84 )"
   ]
  },
  {
   "cell_type": "markdown",
   "metadata": {},
   "source": [
    "## Process PRISM Rasters"
   ]
  },
  {
   "cell_type": "markdown",
   "metadata": {},
   "source": [
    "Next load the GDAL driver that is needed for reading the file"
   ]
  },
  {
   "cell_type": "code",
   "execution_count": 13,
   "metadata": {},
   "outputs": [
    {
     "data": {
      "text/plain": [
       "203"
      ]
     },
     "execution_count": 13,
     "metadata": {},
     "output_type": "execute_result"
    }
   ],
   "source": [
    "gdal.GetDriverByName('EHdr').Register()"
   ]
  },
  {
   "cell_type": "markdown",
   "metadata": {},
   "source": [
    "### Generic Functions for Processing"
   ]
  },
  {
   "cell_type": "code",
   "execution_count": 14,
   "metadata": {},
   "outputs": [],
   "source": [
    "def makeGridAndCentroids( InBIL, InCRS ):\n",
    "    \"\"\"Take the input raster in ArcGIS BIL format and create GeoDataFrames representing\n",
    "    the raster grid in polygon format and point format where each point is the polygon\n",
    "    centroid or the center of the raster cell. Assign the CRS and return both \n",
    "    GeoDataFrames.\n",
    "    \n",
    "    Arguments:\n",
    "        InBIL (string): fully qualified path to the raster file to use to extract the grid\n",
    "        InCRS (dict): projection/coordinate system dictionary\n",
    "        \n",
    "    Return:\n",
    "        Tuple T - [0](GeoDataFrame): polygon grid with index1 and geometry. Return empty geodataframe for error\n",
    "                - [1](GeoDataFrame): centroid points with index1 and geometry. Return empty geodataframe for error\n",
    "    \"\"\"\n",
    "    # open our raster file\n",
    "    img = gdal.Open( InBIL, gdalconst.GA_ReadOnly )\n",
    "    # get a reference to the band/data\n",
    "    oBand1 = img.GetRasterBand(1)\n",
    "    # get the geogransform information to make the 'grid'\n",
    "    GTT = img.GetGeoTransform()\n",
    "    OrigX = GTT[0]\n",
    "    OrigY = GTT[3]\n",
    "    PixW = GTT[1]\n",
    "    PixH = GTT[5]\n",
    "    # get the number of rows and columns\n",
    "    NumCol = img.RasterXSize\n",
    "    NumRow = img.RasterYSize\n",
    "    # now make our shapes and put them in a list to represent the grid\n",
    "    GridList = list()\n",
    "    PointList = list()\n",
    "    for iI in range(NumRow):\n",
    "        for jJ in range(NumCol):\n",
    "            X1 = OrigX + (jJ * PixW)\n",
    "            Y1 = OrigY + (iI * PixH)\n",
    "            X2 = OrigX + ( (jJ + 1) * PixW )\n",
    "            Y2 = OrigY + (iI * PixH)\n",
    "            X3 = OrigX + ( (jJ + 1) * PixW )\n",
    "            Y3 = OrigY + ( (iI + 1) * PixH )\n",
    "            X4 = OrigX + (jJ * PixW)\n",
    "            Y4 = OrigY + ( (iI + 1) * PixH )\n",
    "            Pt1 = Point( X1, Y1 )\n",
    "            Pt2 = Point( X2, Y2 )\n",
    "            Pt3 = Point( X3, Y3 )\n",
    "            Pt4 = Point( X4, Y4 )\n",
    "            PolyList = [ ( X1, Y1 ), ( X2, Y2 ), ( X3, Y3 ), ( X4, Y4 ) ]\n",
    "            OurPoly = Polygon( PolyList )\n",
    "            GridList.append( OurPoly )\n",
    "            PointList.append( OurPoly.centroid )\n",
    "        # end of inner for\n",
    "    # end of outer for\n",
    "    TotalCells = NumRow * NumCol\n",
    "    # make two geodataframes, one for each geometry type\n",
    "    DataDict = { \"Index1\" : range(1, TotalCells + 1, 1),\n",
    "               }\n",
    "    PtsDF = pd.DataFrame( data=DataDict )\n",
    "    PolysDF = pd.DataFrame( data=DataDict )\n",
    "    # now do the geodataframes\n",
    "    Points_gdf = gpd.GeoDataFrame( PtsDF, geometry=PointList )\n",
    "    Points_gdf.crs = InCRS\n",
    "    Polys_gdf = gpd.GeoDataFrame( PolysDF, geometry=GridList )\n",
    "    Polys_gdf.crs = InCRS\n",
    "    # close the dataset before returning\n",
    "    img = None\n",
    "    # now return\n",
    "    return (Polys_gdf, Points_gdf)"
   ]
  },
  {
   "cell_type": "code",
   "execution_count": 15,
   "metadata": {},
   "outputs": [],
   "source": [
    "def loadRasterData( InBIL, ColName, BandNum ):\n",
    "    \"\"\"Load raster data from an ArcGIS BIL file\n",
    "    \n",
    "    Arguments:\n",
    "        InBIL (string): fully qualified path to the raster file to use to extract the grid\n",
    "        ColName (string): column name for the return DataFrame for the data\n",
    "        BandNum (int): the band number to read from - starts at 1\n",
    "        \n",
    "    Returns:\n",
    "        DataDF (DataFrame): dataframe with two columns, Index1 which is index starting with 1 and Data\n",
    "    \"\"\"\n",
    "    # parameters\n",
    "    EmptyDF = pd.DataFrame( data={} )\n",
    "    # open our raster file\n",
    "    img = gdal.Open( InBIL, gdalconst.GA_ReadOnly )\n",
    "    # check that opened something\n",
    "    if img is None:\n",
    "        return EmptyDF\n",
    "    # get the number of rows, columns, and bands\n",
    "    NumCol = img.RasterXSize\n",
    "    NumRow = img.RasterYSize\n",
    "    NumBands = img.RasterCount\n",
    "    # adjust our BandNum if is out of range\n",
    "    if BandNum > NumBands:\n",
    "        BandNum = 1\n",
    "    # get a reference to the band/data\n",
    "    oBand1 = img.GetRasterBand( BandNum )\n",
    "    # get our no data value\n",
    "    NO_DATA = oBand1.GetNoDataValue()\n",
    "    # get the total number of cells\n",
    "    TotalCells = NumRow * NumCol\n",
    "    # read the data\n",
    "    FData = oBand1.ReadAsArray()\n",
    "    # flatten it out\n",
    "    FDataV = FData.flatten()\n",
    "    # create the data dictionary\n",
    "    DataDict = { \"Index1\" : range(1, TotalCells + 1, 1),\n",
    "                 ColName : FDataV,\n",
    "               }\n",
    "    DataDF = pd.DataFrame( data=DataDict )\n",
    "    # now replace the no data values with NaNs\n",
    "    DataDF.replace( NO_DATA, np.nan, inplace=True )\n",
    "    # set the img reference\n",
    "    img = None\n",
    "    # return\n",
    "    return DataDF"
   ]
  },
  {
   "cell_type": "code",
   "execution_count": 16,
   "metadata": {},
   "outputs": [],
   "source": [
    "def extractDT( CompName ):\n",
    "    \"\"\"Extract the datestring from a zip archive name. While doing this check for a zip archive\n",
    "    \n",
    "    Arguments:\n",
    "        CompName (str): directory item name that checking for if zip archive\n",
    "        \n",
    "    Returns:\n",
    "        CurDT (dt.datetime): the extacted date. Return none if could not extract.\n",
    "        \n",
    "    \"\"\"\n",
    "    # globals\n",
    "    global PRISM_DT_FMT, ZIP_EXT, SPLITTER\n",
    "    # local parameters\n",
    "    DINDEX = 4\n",
    "    # start of function\n",
    "    if not ZIP_EXT in CompName:\n",
    "        # then is probably not a zip file\n",
    "        print(\"No %s in %s!!!\" % (ZIP_EXT, CompName))\n",
    "        return None\n",
    "    # if made it here then split\n",
    "    NameComponents = CompName.split( SPLITTER )\n",
    "    NumComp = len( NameComponents )\n",
    "    if NumComp <= DINDEX:\n",
    "        # then there are not enough items\n",
    "        print(\"Issue parsing %s; has %d components\" % (CompName, NumComp))\n",
    "        return None\n",
    "    # now try to parse the date\n",
    "    try:\n",
    "        CurDT = dt.datetime.strptime( NameComponents[DINDEX], PRISM_DT_FMT )\n",
    "    except:\n",
    "        print(\"Issue parsing time from %s of %s\" % (NameComponents[DINDEX], CompName))\n",
    "        return None\n",
    "    # if made it here then return the good\n",
    "    return CurDT\n",
    "\n",
    "def checkForZip( CompName ):\n",
    "    \"\"\"Check that seems to be a zip archive\n",
    "    \n",
    "    Arguments:\n",
    "        CompName (str): directory item name that checking for if zip archive\n",
    "        \n",
    "    Returns:\n",
    "        RetStatus (bool): true = is zip\n",
    "        \n",
    "    \"\"\"\n",
    "    # globals\n",
    "    global PRISM_DT_FMT, ZIP_EXT, SPLITTER\n",
    "    # local parameters\n",
    "    # start of function\n",
    "    if not ZIP_EXT in CompName:\n",
    "        # then is probably not a zip file\n",
    "        print(\"No %s in %s!!!\" % (ZIP_EXT, CompName))\n",
    "        return False\n",
    "    else:\n",
    "        return True"
   ]
  },
  {
   "cell_type": "code",
   "execution_count": 17,
   "metadata": {},
   "outputs": [],
   "source": [
    "def findBILinZip( ZipA ):\n",
    "    \"\"\"Find the name of the .bil raster in a zip archive.\n",
    "    \n",
    "    Arguments:\n",
    "        ZipA (string): fully qualifed path name to zip archive\n",
    "        \n",
    "    Returns:\n",
    "        BilFile (string): the name of the .bil file\n",
    "        \n",
    "    \"\"\"\n",
    "    # imports\n",
    "    import zipfile\n",
    "    # local parameters\n",
    "    BadFile = \"\"\n",
    "    CheckBil = \"_bil.bil\"\n",
    "    Check2 = \".xml\"\n",
    "    # check that our file exists\n",
    "    if not os.path.exists( ZipA ):\n",
    "        return BadFile\n",
    "    # if made it here then try to access\n",
    "    try:\n",
    "        zFile = zipfile.ZipFile( ZipA )\n",
    "    except:\n",
    "        print(\"Issue with zip file %s!!!!\" % ZipA)\n",
    "        return BadFile\n",
    "    # now if made it here let's look for the bil fle.\n",
    "    AllNames = zFile.namelist()\n",
    "    BilFile = BadFile\n",
    "    FoundIt = False\n",
    "    for tName in AllNames:\n",
    "        if CheckBil in tName:\n",
    "            # then need to do our second check\n",
    "            if Check2 in tName:\n",
    "                continue\n",
    "            else:\n",
    "                BilFile = tName\n",
    "                FoundIt = True\n",
    "                break\n",
    "            # end of inner if\n",
    "        # end of outer if\n",
    "    # end of for\n",
    "    if not FoundIt:\n",
    "        return BadFile\n",
    "    # now return\n",
    "    return BilFile"
   ]
  },
  {
   "cell_type": "markdown",
   "metadata": {},
   "source": [
    "### Create PRISM Grid for AOI"
   ]
  },
  {
   "cell_type": "markdown",
   "metadata": {},
   "source": [
    "Get a single PRISM grid from the web access site and process this to identify the values that we want in our region of interest.\n",
    "\n",
    "Set the end time and use this to get a recent grid."
   ]
  },
  {
   "cell_type": "code",
   "execution_count": 18,
   "metadata": {},
   "outputs": [
    {
     "data": {
      "text/plain": [
       "datetime.datetime(2019, 6, 20, 0, 0)"
      ]
     },
     "execution_count": 18,
     "metadata": {},
     "output_type": "execute_result"
    }
   ],
   "source": [
    "today_now = dt.datetime.now()\n",
    "END_DT = dt.datetime( today_now.year, today_now.month, today_now.day ) - dt.timedelta( days=1 )\n",
    "END_DT"
   ]
  },
  {
   "cell_type": "markdown",
   "metadata": {},
   "source": [
    "Get a raster grid from the PRISM web access site to make our local area."
   ]
  },
  {
   "cell_type": "code",
   "execution_count": 19,
   "metadata": {},
   "outputs": [],
   "source": [
    "DateStr = END_DT.strftime( PRISM_DT_FMT )\n",
    "tElem = ELEMENT_OPTIONS[0]\n",
    "# get our output directory\n",
    "OutDir = os.path.normpath( TEMP_DIR )\n",
    "# make the full end point\n",
    "tSubStr = \"%s/\" % tElem\n",
    "Url1 = urlp.urljoin( PRISM_ENDPT, tSubStr )\n",
    "Url2 = urlp.urljoin( Url1, DateStr )\n",
    "# get our output file string\n",
    "OutZFile = \"PRISM_tfile_stable_4kmD1_bil.zip\"\n",
    "OutFP = os.path.normpath( os.path.join( OutDir, OutZFile ) )\n",
    "# now are ready to make our request; use 4 retry\n",
    "attempts = 0\n",
    "while attempts < 4:\n",
    "    try:\n",
    "        response = urlr.urlopen( Url2, timeout=10 )\n",
    "        content = response.read()\n",
    "        fID = open( OutFP, 'w+b' )\n",
    "        fID.write( content )\n",
    "        fID.close()\n",
    "        break\n",
    "    except urle.URLError as err:\n",
    "        attempts += 1\n",
    "        print(\"Working on %s, Error: %s\" % (OutZFile, type(err)))\n",
    "    except:\n",
    "        attempts += 1\n",
    "        print(\"Unknown error working on %s, maybe timeout error!!!\" % OutZFile)\n",
    "# end of inner while\n",
    "# extract the file name from the zip\n",
    "BFile = findBILinZip( OutFP )\n",
    "BIL_FILE = \"%s%s\\%s\" % (ZIP_SWITCH, OutFP, BFile)"
   ]
  },
  {
   "cell_type": "code",
   "execution_count": 20,
   "metadata": {},
   "outputs": [
    {
     "name": "stdout",
     "output_type": "stream",
     "text": [
      "Read in PRISM grid from C:\\Temp\\PRISM_Temp\\PRISM_tfile_stable_4kmD1_bil.zip\n"
     ]
    }
   ],
   "source": [
    "RetTuple = makeGridAndCentroids( BIL_FILE, crs_NAD83 )\n",
    "PolyGrid = RetTuple[0]\n",
    "CentGrid = RetTuple[1]\n",
    "NumPoly = len( PolyGrid )\n",
    "NumCent = len( CentGrid )\n",
    "if (NumPoly <= 0) or (NumCent <= 0):\n",
    "    print(\"Error reading in PRISM grid from the BIL file !!!!\")\n",
    "else:\n",
    "    print(\"Read in PRISM grid from %s\" % OutFP )"
   ]
  },
  {
   "cell_type": "markdown",
   "metadata": {},
   "source": [
    "Now we want to clip our full PRISM grid to get only our area of interest."
   ]
  },
  {
   "cell_type": "code",
   "execution_count": 21,
   "metadata": {},
   "outputs": [],
   "source": [
    "ExGridNAD83 = gpd.overlay( ClipNAD83, PolyGrid, how='intersection' )"
   ]
  },
  {
   "cell_type": "markdown",
   "metadata": {},
   "source": [
    "Also extract our points. This does not use overlay but need to query for if are within."
   ]
  },
  {
   "cell_type": "code",
   "execution_count": 22,
   "metadata": {},
   "outputs": [],
   "source": [
    "AOI_Mask = CentGrid.within( ClipNAD83.loc[0, 'geometry'] )\n",
    "ExPntsNAD83 = CentGrid.loc[AOI_Mask].copy()"
   ]
  },
  {
   "cell_type": "code",
   "execution_count": 23,
   "metadata": {},
   "outputs": [
    {
     "data": {
      "text/plain": [
       "(210, 240, 872505)"
      ]
     },
     "execution_count": 23,
     "metadata": {},
     "output_type": "execute_result"
    }
   ],
   "source": [
    "len(ExPntsNAD83), len(ExGridNAD83), len(PolyGrid)"
   ]
  },
  {
   "cell_type": "markdown",
   "metadata": {},
   "source": [
    "Now we want to convert to the GAM coordinate system and plot for checking"
   ]
  },
  {
   "cell_type": "code",
   "execution_count": 24,
   "metadata": {},
   "outputs": [],
   "source": [
    "ExGridWGS84 = ExGridNAD83.to_crs( crs_WGS84 )\n",
    "ExPntsWGS84 = ExPntsNAD83.to_crs( crs_WGS84 )"
   ]
  },
  {
   "cell_type": "code",
   "execution_count": 25,
   "metadata": {},
   "outputs": [
    {
     "data": {
      "image/png": "[encoded data removed]",
      "text/plain": [
       "<Figure size 864x576 with 1 Axes>"
      ]
     },
     "metadata": {
      "needs_background": "light"
     },
     "output_type": "display_data"
    }
   ],
   "source": [
    "Fig1 = plt.figure()\n",
    "Fig1.set_size_inches(12.0, 8.0)\n",
    "ax11 = Fig1.add_subplot(111)\n",
    "gpd_TXCOUTM.plot( ax=ax11, facecolor='none', edgecolor='xkcd:dark grey' )\n",
    "ClipWGS84.plot( ax=ax11, facecolor='none', edgecolor='xkcd:light grey' )\n",
    "gpd_AOI.plot( ax=ax11, facecolor='none', edgecolor='xkcd:orange', linewidth=2, label=\"AOI\" )\n",
    "ExGridWGS84.plot( ax=ax11, facecolor='none', edgecolor='xkcd:lightblue' )\n",
    "ExPntsWGS84.plot( ax=ax11, marker='o', color='xkcd:dark green', markersize=3 )\n",
    "txc = Line2D( [0], [0], linestyle='-', color='xkcd:dark grey' )\n",
    "aoi = Line2D( [0], [0], linestyle='-', color='xkcd:light grey' )\n",
    "ao = Line2D( [0], [0], linestyle='-', color='xkcd:orange' )\n",
    "pgrid = Line2D( [0], [0], linestyle='-', color='xkcd:light grey' )\n",
    "pcent = Line2D( [], [], linestyle='None', marker='o', color='xkcd:dark green')\n",
    "ax11.legend( (txc, ao, pgrid, pcent), ('Counties', 'Study Area', 'PRISM Grid', 'PRISM centroids'),\n",
    "             loc='lower left')\n",
    "ax11.set_xlim( ( 286500, 348800 ) )\n",
    "ax11.set_ylim( ( 3289800, 3355800 ) )\n",
    "ax11.set_xlabel('Easting - X (m)')\n",
    "ax11.set_ylabel('Northing - Y (m)')\n",
    "ax11.yaxis.set_major_formatter( matplotlib.ticker.StrMethodFormatter( \"{x:,.0f}\" ) )\n",
    "ax11.xaxis.set_major_formatter( matplotlib.ticker.StrMethodFormatter( \"{x:,.0f}\" ) )"
   ]
  },
  {
   "cell_type": "markdown",
   "metadata": {},
   "source": [
    "Now calculate the area for each grid cell that extracted in square meters."
   ]
  },
  {
   "cell_type": "code",
   "execution_count": 26,
   "metadata": {},
   "outputs": [],
   "source": [
    "ExGridWGS84[\"New_Area_m2\"] = ExGridWGS84.geometry.area"
   ]
  },
  {
   "cell_type": "code",
   "execution_count": 27,
   "metadata": {},
   "outputs": [],
   "source": [
    "ExGridWGS84.drop(columns='Id', inplace=True )"
   ]
  },
  {
   "cell_type": "code",
   "execution_count": 28,
   "metadata": {},
   "outputs": [
    {
     "data": {
      "text/html": [
       "<table border=\"1\" class=\"dataframe\">\n",
       "  <thead>\n",
       "    <tr style=\"text-align: right;\">\n",
       "      <th></th>\n",
       "      <th>Shape_Leng</th>\n",
       "      <th>Shape_Area</th>\n",
       "      <th>Index1</th>\n",
       "      <th>geometry</th>\n",
       "      <th>New_Area_m2</th>\n",
       "    </tr>\n",
       "  </thead>\n",
       "  <tbody>\n",
       "    <tr>\n",
       "      <th>0</th>\n",
       "      <td>237897.378163</td>\n",
       "      <td>3.529765e+09</td>\n",
       "      <td>662337</td>\n",
       "      <td>POLYGON ((325716.8044914886 3354322.927228396,...</td>\n",
       "      <td>1.655575e+07</td>\n",
       "    </tr>\n",
       "    <tr>\n",
       "      <th>1</th>\n",
       "      <td>237897.378163</td>\n",
       "      <td>3.529765e+09</td>\n",
       "      <td>662340</td>\n",
       "      <td>POLYGON ((337737.5590962378 3354100.067182836,...</td>\n",
       "      <td>1.640379e+07</td>\n",
       "    </tr>\n",
       "    <tr>\n",
       "      <th>2</th>\n",
       "      <td>237897.378163</td>\n",
       "      <td>3.529765e+09</td>\n",
       "      <td>662338</td>\n",
       "      <td>POLYGON ((329723.7576626952 3354247.167613508,...</td>\n",
       "      <td>1.650508e+07</td>\n",
       "    </tr>\n",
       "    <tr>\n",
       "      <th>3</th>\n",
       "      <td>237897.378163</td>\n",
       "      <td>3.529765e+09</td>\n",
       "      <td>662342</td>\n",
       "      <td>POLYGON ((348027.23851624 3353919.825521393, 3...</td>\n",
       "      <td>9.354797e+06</td>\n",
       "    </tr>\n",
       "    <tr>\n",
       "      <th>4</th>\n",
       "      <td>237897.378163</td>\n",
       "      <td>3.529765e+09</td>\n",
       "      <td>662336</td>\n",
       "      <td>POLYGON ((321709.8149563536 3354400.159944925,...</td>\n",
       "      <td>1.660644e+07</td>\n",
       "    </tr>\n",
       "  </tbody>\n",
       "</table>"
      ],
      "text/plain": [
       "<IPython.core.display.HTML object>"
      ]
     },
     "metadata": {},
     "output_type": "display_data"
    }
   ],
   "source": [
    "display( HTML( ExGridWGS84.head().to_html() ) )"
   ]
  },
  {
   "cell_type": "code",
   "execution_count": 29,
   "metadata": {},
   "outputs": [],
   "source": [
    "ExPntsWGS84A = ExPntsWGS84.merge( ExGridWGS84[['Index1', 'New_Area_m2']], left_on='Index1', \n",
    "                                  right_on='Index1' )"
   ]
  },
  {
   "cell_type": "code",
   "execution_count": 30,
   "metadata": {},
   "outputs": [
    {
     "data": {
      "text/html": [
       "<table border=\"1\" class=\"dataframe\">\n",
       "  <thead>\n",
       "    <tr style=\"text-align: right;\">\n",
       "      <th></th>\n",
       "      <th>Index1</th>\n",
       "      <th>geometry</th>\n",
       "      <th>New_Area_m2</th>\n",
       "    </tr>\n",
       "  </thead>\n",
       "  <tbody>\n",
       "    <tr>\n",
       "      <th>0</th>\n",
       "      <td>662328</td>\n",
       "      <td>POINT (291619.2247031514 3353093.044753992)</td>\n",
       "      <td>1.701255e+07</td>\n",
       "    </tr>\n",
       "    <tr>\n",
       "      <th>1</th>\n",
       "      <td>662329</td>\n",
       "      <td>POINT (295627.4652986222 3353017.290083501)</td>\n",
       "      <td>1.696173e+07</td>\n",
       "    </tr>\n",
       "    <tr>\n",
       "      <th>2</th>\n",
       "      <td>662330</td>\n",
       "      <td>POINT (299635.6524244148 3352943.008720022)</td>\n",
       "      <td>1.691092e+07</td>\n",
       "    </tr>\n",
       "    <tr>\n",
       "      <th>3</th>\n",
       "      <td>662331</td>\n",
       "      <td>POINT (303643.7871283953 3352870.200525675)</td>\n",
       "      <td>1.686013e+07</td>\n",
       "    </tr>\n",
       "    <tr>\n",
       "      <th>4</th>\n",
       "      <td>662332</td>\n",
       "      <td>POINT (307651.870458468 3352798.865365324)</td>\n",
       "      <td>1.680936e+07</td>\n",
       "    </tr>\n",
       "  </tbody>\n",
       "</table>"
      ],
      "text/plain": [
       "<IPython.core.display.HTML object>"
      ]
     },
     "metadata": {},
     "output_type": "display_data"
    }
   ],
   "source": [
    "display( HTML( ExPntsWGS84A.head().to_html() ) )"
   ]
  },
  {
   "cell_type": "markdown",
   "metadata": {},
   "source": [
    "Get our unique points list and unique polygons list"
   ]
  },
  {
   "cell_type": "code",
   "execution_count": 31,
   "metadata": {},
   "outputs": [],
   "source": [
    "UniquePts = sorted( ExPntsWGS84A['Index1'].unique() )\n",
    "UniquePolys = sorted( ExGridWGS84['Index1'].unique() )"
   ]
  },
  {
   "cell_type": "code",
   "execution_count": 32,
   "metadata": {},
   "outputs": [
    {
     "data": {
      "text/plain": [
       "(210, 210)"
      ]
     },
     "execution_count": 32,
     "metadata": {},
     "output_type": "execute_result"
    }
   ],
   "source": [
    "len( ExPntsWGS84A ), len(UniquePts)"
   ]
  },
  {
   "cell_type": "code",
   "execution_count": 33,
   "metadata": {},
   "outputs": [
    {
     "data": {
      "text/plain": [
       "(240, 240)"
      ]
     },
     "execution_count": 33,
     "metadata": {},
     "output_type": "execute_result"
    }
   ],
   "source": [
    "len( ExGridWGS84 ), len(UniquePolys)"
   ]
  },
  {
   "cell_type": "markdown",
   "metadata": {},
   "source": [
    "Now output"
   ]
  },
  {
   "cell_type": "code",
   "execution_count": null,
   "metadata": {},
   "outputs": [],
   "source": [
    "#OutFiler = \"AOI_PRISM_Pts.shp\"\n",
    "#OutFilePath = os.path.normpath( os.path.join( FILEOUT_DIR, OutFiler ) )\n",
    "#ExPntsWGS84A.to_file( OutFilePath, driver='ESRI Shapefile' )"
   ]
  },
  {
   "cell_type": "code",
   "execution_count": null,
   "metadata": {},
   "outputs": [],
   "source": [
    "#OutFiler = \"AOI_PRISM_Poly.shp\"\n",
    "#OutFilePath = os.path.normpath( os.path.join( FILEOUT_DIR, OutFiler ) )\n",
    "#ExGridWGS84.to_file( OutFilePath, driver='ESRI Shapefile' )"
   ]
  },
  {
   "cell_type": "markdown",
   "metadata": {},
   "source": [
    "## Acquire and Process PRISM Rasters"
   ]
  },
  {
   "cell_type": "markdown",
   "metadata": {},
   "source": [
    "PRISM datasets are available for ftp-style download for each day and each parameter. If do not have the data, then go through and download all datasets as zip files. Many times will already have some of this record because what is downloaded is for CONUS. In those cases only need to change the start date below to update the downloaded record."
   ]
  },
  {
   "cell_type": "markdown",
   "metadata": {},
   "source": [
    "Change the start time if necessary."
   ]
  },
  {
   "cell_type": "code",
   "execution_count": 36,
   "metadata": {},
   "outputs": [
    {
     "data": {
      "text/plain": [
       "datetime.datetime(1981, 1, 1, 0, 0)"
      ]
     },
     "execution_count": 36,
     "metadata": {},
     "output_type": "execute_result"
    }
   ],
   "source": [
    "TStartDT = START_DT\n",
    "#TStartDT = dt.datetime( 1981, 1, 1, 0, 0, 0 )\n",
    "TStartDT"
   ]
  },
  {
   "cell_type": "code",
   "execution_count": 37,
   "metadata": {},
   "outputs": [
    {
     "data": {
      "text/plain": [
       "14050"
      ]
     },
     "execution_count": 37,
     "metadata": {},
     "output_type": "execute_result"
    }
   ],
   "source": [
    "ExDateRange = pd.date_range( start=TStartDT, end=END_DT, freq='D' )\n",
    "TotTimes = len( ExDateRange )\n",
    "TotTimes"
   ]
  },
  {
   "cell_type": "markdown",
   "metadata": {},
   "source": [
    "Now go through the data period and each of the data types and get each day for each type."
   ]
  },
  {
   "cell_type": "code",
   "execution_count": null,
   "metadata": {},
   "outputs": [],
   "source": [
    "AnnualPtsDict = dict()\n",
    "AnnualPolyDict = dict()\n",
    "for tElem in ELEMENT_OPTIONS:\n",
    "    CPtsDict = dict()\n",
    "    PolysDict = dict()\n",
    "    # now set our initial dictionary structure\n",
    "    for tPt in UniquePts:\n",
    "        CPtsDict[tPt] = [SNO_DATA for x in range(TotTimes)]\n",
    "    for tPoly in UniquePolys:\n",
    "        PolysDict[tPoly] = [SNO_DATA for x in range(TotTimes)]\n",
    "    OutCnt = 0\n",
    "    fCnt = 0\n",
    "    for dtTS in ExDateRange:\n",
    "        # get our DateStr\n",
    "        DateStr = dtTS.strftime( PRISM_DT_FMT )\n",
    "        # get our output directory\n",
    "        OutDir = os.path.normpath( TEMP_DIR )\n",
    "        # make the full end point\n",
    "        tSubStr = \"%s/\" % tElem\n",
    "        Url1 = urlp.urljoin( PRISM_ENDPT, tSubStr )\n",
    "        Url2 = urlp.urljoin( Url1, DateStr )\n",
    "        # get our output file string\n",
    "        OutZFile = \"PRISM_tfile_stable_4kmD1_bil.zip\"\n",
    "        OutFP = os.path.normpath( os.path.join( OutDir, OutZFile ) )\n",
    "        # now are ready to make our request; use 4 retry\n",
    "        SuccessRead = False\n",
    "        attempts = 0\n",
    "        while attempts < 5:\n",
    "            try:\n",
    "                response = urlr.urlopen( Url2, timeout=8 )\n",
    "                content = response.read()\n",
    "                fID = open( OutFP, 'w+b' )\n",
    "                fID.write( content )\n",
    "                fID.close()\n",
    "                SuccessRead = True\n",
    "                break\n",
    "            except urle.URLError as err:\n",
    "                attempts += 1\n",
    "                print(\"Working on %s, %s; Error: %s\" % (tElem, DateStr, type(err)))\n",
    "            except:\n",
    "                attempts += 1\n",
    "                print(\"Unknown error working on %s, %s; maybe timeout error!!!\" % (tElem, DateStr))\n",
    "        # end of inner while\n",
    "        OutCnt += 1\n",
    "        if OutCnt >= 3650:\n",
    "            print(\"In %s At %s\" % (tElem, dtTS.strftime( \"%m/%d/%Y\" ) ) )\n",
    "            OutCnt = 0\n",
    "        # process our temporary file if successful\n",
    "        if SuccessRead:\n",
    "            # extract the file name from the zip\n",
    "            BFile = findBILinZip( OutFP )\n",
    "            BIL_FILE = \"%s%s\\%s\" % (ZIP_SWITCH, OutFP, BFile)\n",
    "            # get the data\n",
    "            DataDF = loadRasterData( BIL_FILE, tElem, 1 )\n",
    "            if len(DataDF) <= 0:\n",
    "                print(\"Error processing time %s for %s; not updated!!!!\" % (DateStr, tElem))\n",
    "                fCnt += 1\n",
    "                continue\n",
    "            # now process the data\n",
    "            for tPt in UniquePts:\n",
    "                CPtsDict[tPt][fCnt] = float( DataDF[DataDF['Index1'] == tPt][tElem] )\n",
    "            # end of for\n",
    "            for tPoly in UniquePolys:\n",
    "                PolysDict[tPoly][fCnt] = float( DataDF[DataDF['Index1'] == tPoly][tElem] )\n",
    "            # end of for\n",
    "        else:\n",
    "            print(\"Error downloading %s for %s. Not updated!!!\" % (DateStr, tElem))\n",
    "        # update the counter\n",
    "        fCnt += 1\n",
    "        # end of if\n",
    "    # end of time for\n",
    "    # now need to create our dataframe and output\n",
    "    PtsDF = pd.DataFrame( index=ExDateRange, data=CPtsDict )\n",
    "    PolyDF = pd.DataFrame( index=ExDateRange, data=PolysDict )\n",
    "    # replace any no datas with NaNs\n",
    "    PtsDF.replace( to_replace=SNO_DATA, value=np.nan, inplace=True )\n",
    "    PolyDF.replace( to_replace=SNO_DATA, value=np.nan, inplace=True )\n",
    "    # next resample to annual\n",
    "    if tElem == ELEMENT_OPTIONS[0]:\n",
    "        AnnPtsDF = PtsDF.resample( 'AS', closed='left', label='left' ).sum()\n",
    "        AnnPolyDF = PolyDF.resample( 'AS', closed='left', label='left' ).sum()\n",
    "    elif tElem == ELEMENT_OPTIONS[1]:\n",
    "        AnnPtsDF = PtsDF.resample( 'AS', closed='left', label='left' ).min()\n",
    "        AnnPolyDF = PolyDF.resample( 'AS', closed='left', label='left' ).min()\n",
    "    elif tElem == ELEMENT_OPTIONS[2]:\n",
    "        AnnPtsDF = PtsDF.resample( 'AS', closed='left', label='left' ).max()\n",
    "        AnnPolyDF = PolyDF.resample( 'AS', closed='left', label='left' ).max()\n",
    "    elif tElem == ELEMENT_OPTIONS[3]:\n",
    "        AnnPtsDF = PtsDF.resample( 'AS', closed='left', label='left' ).mean()\n",
    "        AnnPolyDF = PolyDF.resample( 'AS', closed='left', label='left' ).mean()\n",
    "    elif tElem == ELEMENT_OPTIONS[4]:\n",
    "        AnnPtsDF = PtsDF.resample( 'AS', closed='left', label='left' ).mean()\n",
    "        AnnPolyDF = PolyDF.resample( 'AS', closed='left', label='left' ).mean()\n",
    "    elif tElem == ELEMENT_OPTIONS[5]:\n",
    "        AnnPtsDF = PtsDF.resample( 'AS', closed='left', label='left' ).min()\n",
    "        AnnPolyDF = PolyDF.resample( 'AS', closed='left', label='left' ).min()\n",
    "    elif tElem == ELEMENT_OPTIONS[6]:\n",
    "        AnnPtsDF = PtsDF.resample( 'AS', closed='left', label='left' ).max()\n",
    "        AnnPolyDF = PolyDF.resample( 'AS', closed='left', label='left' ).max()\n",
    "    else:\n",
    "        AnnPtsDF = PtsDF.resample( 'AS', closed='left', label='left' ).sum()\n",
    "        AnnPolyDF = PolyDF.resample( 'AS', closed='left', label='left' ).sum()\n",
    "    # now output\n",
    "    OutFiler = \"PRISM_AOI_Pts_%s.xlsx\" % tElem\n",
    "    OutFilePath = os.path.normpath( os.path.join( FILEOUT_DIR, OutFiler ) )\n",
    "    PDWriterXLSX = pd.ExcelWriter( OutFilePath )\n",
    "    PtsDF.to_excel( PDWriterXLSX, sheet_name='Daily', na_rep=str(np.nan), index=True,\n",
    "                    index_label='DateTime_UTC', columns=UniquePts )\n",
    "    AnnPtsDF.to_excel( PDWriterXLSX, sheet_name='Annual', na_rep=str(np.nan), index=True,\n",
    "                       index_label='DateTime_UTC', columns=UniquePts )\n",
    "    PDWriterXLSX.save()\n",
    "    AnnualPtsDict[tElem] = AnnPtsDF\n",
    "    OutFiler = \"PRISM_AOI_Poly_%s.xlsx\" % tElem\n",
    "    OutFilePath = os.path.normpath( os.path.join( FILEOUT_DIR, OutFiler ) )\n",
    "    PDWriterXLSX = pd.ExcelWriter( OutFilePath )\n",
    "    PolyDF.to_excel( PDWriterXLSX, sheet_name='Daily', na_rep=str(np.nan), index=True,\n",
    "                     index_label='DateTime_UTC', columns=UniquePts )\n",
    "    AnnPolyDF.to_excel( PDWriterXLSX, sheet_name='Annual', na_rep=str(np.nan), index=True,\n",
    "                        index_label='DateTime_UTC', columns=UniquePts )\n",
    "    PDWriterXLSX.save()\n",
    "    AnnualPolyDict[tElem] = AnnPolyDF\n",
    "# end of element for"
   ]
  },
  {
   "cell_type": "markdown",
   "metadata": {},
   "source": [
    "**Code segment below is to redo any failures**\n",
    "\n",
    "If there are no failures then can stop running the notebook here"
   ]
  },
  {
   "cell_type": "code",
   "execution_count": 39,
   "metadata": {},
   "outputs": [],
   "source": [
    "#DateStrs = [ '20130323', '20130324', '20001204' ]\n",
    "DateStrs = [ '20130323' ]\n",
    "#Params = [ 'tmin', 'tmin', 'vpdmin' ]\n",
    "Params = [ 'tmin' ]\n",
    "iCnt = 0\n",
    "for tElem in Params:\n",
    "    TotTimes = 1\n",
    "    DateStr = DateStrs[iCnt]\n",
    "    CPtsDict = dict()\n",
    "    PolysDict = dict()\n",
    "    # now set our initial dictionary structure\n",
    "    for tPt in UniquePts:\n",
    "        CPtsDict[tPt] = [SNO_DATA for x in range(TotTimes)]\n",
    "    for tPoly in UniquePolys:\n",
    "        PolysDict[tPoly] = [SNO_DATA for x in range(TotTimes)]\n",
    "    fCnt = 0\n",
    "    # get our output directory\n",
    "    OutDir = os.path.normpath( TEMP_DIR )\n",
    "    # make the full end point\n",
    "    tSubStr = \"%s/\" % tElem\n",
    "    Url1 = urlp.urljoin( PRISM_ENDPT, tSubStr )\n",
    "    Url2 = urlp.urljoin( Url1, DateStr )\n",
    "    # get our output file string\n",
    "    OutZFile = \"PRISM_tfile_stable_4kmD1_bil.zip\"\n",
    "    OutFP = os.path.normpath( os.path.join( OutDir, OutZFile ) )\n",
    "    # now are ready to make our request; use 4 retry\n",
    "    SuccessRead = False\n",
    "    attempts = 0\n",
    "    while attempts < 5:\n",
    "        try:\n",
    "            response = urlr.urlopen( Url2, timeout=8 )\n",
    "            content = response.read()\n",
    "            fID = open( OutFP, 'w+b' )\n",
    "            fID.write( content )\n",
    "            fID.close()\n",
    "            SuccessRead = True\n",
    "            break\n",
    "        except urle.URLError as err:\n",
    "            attempts += 1\n",
    "            print(\"Working on %s, %s; Error: %s\" % (tElem, DateStr, type(err)))\n",
    "        except:\n",
    "            attempts += 1\n",
    "            print(\"Unknown error working on %s, %s; maybe timeout error!!!\" % (tElem, DateStr))\n",
    "    # process our temporary file if successful\n",
    "    if SuccessRead:\n",
    "        # extract the file name from the zip\n",
    "        BFile = findBILinZip( OutFP )\n",
    "        BIL_FILE = \"%s%s\\%s\" % (ZIP_SWITCH, OutFP, BFile)\n",
    "        # get the data\n",
    "        DataDF = loadRasterData( BIL_FILE, tElem, 1 )\n",
    "        if len(DataDF) <= 0:\n",
    "            print(\"Error processing time %s for %s; not updated!!!!\" % (DateStr, tElem))\n",
    "            fCnt += 1\n",
    "            iCnt += 1\n",
    "            continue\n",
    "        # now process the data\n",
    "        for tPt in UniquePts:\n",
    "            CPtsDict[tPt][fCnt] = float( DataDF[DataDF['Index1'] == tPt][tElem] )\n",
    "        # end of for\n",
    "        for tPoly in UniquePolys:\n",
    "            PolysDict[tPoly][fCnt] = float( DataDF[DataDF['Index1'] == tPoly][tElem] )\n",
    "        # end of for\n",
    "    else:\n",
    "        print(\"Error downloading %s for %s. Not updated!!!\" % (DateStr, tElem))\n",
    "    # update the counter\n",
    "    fCnt += 1\n",
    "    # end of if\n",
    "    # end of time for\n",
    "    # now need to create our dataframe and output\n",
    "    PtsDF = pd.DataFrame( index=ExDateRange, data=CPtsDict )\n",
    "    PolyDF = pd.DataFrame( index=ExDateRange, data=PolysDict )\n",
    "    # replace any no datas with NaNs\n",
    "    PtsDF.replace( to_replace=SNO_DATA, value=np.nan, inplace=True )\n",
    "    PolyDF.replace( to_replace=SNO_DATA, value=np.nan, inplace=True )\n",
    "    # now output\n",
    "    OutFiler = \"PRISM_AOI_Pts_%s_Upd_%d.xlsx\" % (tElem, iCnt+4)\n",
    "    OutFilePath = os.path.normpath( os.path.join( FILEOUT_DIR, OutFiler ) )\n",
    "    PDWriterXLSX = pd.ExcelWriter( OutFilePath )\n",
    "    PtsDF.to_excel( PDWriterXLSX, sheet_name='Daily', na_rep=str(np.nan), index=True,\n",
    "                    index_label='DateTime_UTC', columns=UniquePts )\n",
    "    PDWriterXLSX.save()\n",
    "    OutFiler = \"PRISM_AOI_Poly_%s_Upd_%d.xlsx\" % (tElem, iCnt+4)\n",
    "    OutFilePath = os.path.normpath( os.path.join( FILEOUT_DIR, OutFiler ) )\n",
    "    PDWriterXLSX = pd.ExcelWriter( OutFilePath )\n",
    "    PolyDF.to_excel( PDWriterXLSX, sheet_name='Daily', na_rep=str(np.nan), index=True,\n",
    "                     index_label='DateTime_UTC', columns=UniquePts )\n",
    "    PDWriterXLSX.save()\n",
    "    # increment iCnt\n",
    "    iCnt += 1\n",
    "# end of element for"
   ]
  },
  {
   "cell_type": "code",
   "execution_count": null,
   "metadata": {},
   "outputs": [],
   "source": [
    "# now plot\n",
    "Fig1 = plt.figure()\n",
    "Fig1.set_size_inches(14.0, 7.0)\n",
    "ax11 = Fig1.add_subplot(111)\n",
    "Polys_gdf.plot( column='Temp', cmap='seismic', ax=ax11, vmin=-25, vmax=25, legend=True )"
   ]
  },
  {
   "cell_type": "code",
   "execution_count": null,
   "metadata": {},
   "outputs": [],
   "source": []
  }
 ],
 "metadata": {
  "kernelspec": {
   "display_name": "Python 3",
   "language": "python",
   "name": "python3"
  },
  "language_info": {
   "codemirror_mode": {
    "name": "ipython",
    "version": 3
   },
   "file_extension": ".py",
   "mimetype": "text/x-python",
   "name": "python",
   "nbconvert_exporter": "python",
   "pygments_lexer": "ipython3",
   "version": "3.7.3"
  }
 },
 "nbformat": 4,
 "nbformat_minor": 2
}
