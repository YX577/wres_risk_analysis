{
 "cells": [
  {
   "cell_type": "markdown",
   "metadata": {},
   "source": [
    "# Compare WG Simulated, Contiguous Wet Days to Data"
   ]
  },
  {
   "cell_type": "code",
   "execution_count": 1,
   "metadata": {},
   "outputs": [],
   "source": [
    "%matplotlib inline"
   ]
  },
  {
   "cell_type": "code",
   "execution_count": 2,
   "metadata": {},
   "outputs": [],
   "source": [
    "import os\n",
    "from IPython.display import display, HTML\n",
    "import pandas as pd\n",
    "import numpy as np\n",
    "import matplotlib as mpl\n",
    "import matplotlib.pyplot as plt\n",
    "from scipy import stats as sstats\n",
    "import datetime as dt\n",
    "import sqlalchemy\n",
    "import seaborn as sns"
   ]
  },
  {
   "cell_type": "code",
   "execution_count": 3,
   "metadata": {},
   "outputs": [],
   "source": [
    "# all months for prism\n",
    "PRISM_IN = r'\\\\augustine.space.swri.edu\\jdrive\\Groundwater\\R8937_Stochas' \\\n",
    "           r'tic_CC_Recharge\\Data\\JNotes\\Processed\\PRISM\\WetDays_1981-2010.pickle'\n",
    "WG_IN_DIR = r'C:\\Temp\\WG_Test_Out\\Test1\\Processed'\n",
    "OUT_DIR = r'C:\\Temp\\WG_Test_Out\\Test1\\Processed\\Comparison'\n",
    "OUT_ROOT = \"DC_WGMN1\"\n",
    "H0_ROOT = \"H0_Data_WetDays_G\""
   ]
  },
  {
   "cell_type": "code",
   "execution_count": 4,
   "metadata": {},
   "outputs": [],
   "source": [
    "LOCA_KEYS = [ 62, 63, 64, 76, 77, 78, 79, 90, 91, 92, 93, 94,\n",
    "              104, 105, 106, 107, 108, 120, 121, 122, 123, 137 ]\n",
    "NUM_LOCA_GRID = len( LOCA_KEYS )"
   ]
  },
  {
   "cell_type": "markdown",
   "metadata": {},
   "source": [
    "Load all PRISM"
   ]
  },
  {
   "cell_type": "code",
   "execution_count": 5,
   "metadata": {},
   "outputs": [],
   "source": [
    "PRAllDF = pd.read_pickle( PRISM_IN )"
   ]
  },
  {
   "cell_type": "code",
   "execution_count": 6,
   "metadata": {},
   "outputs": [
    {
     "data": {
      "text/html": [
       "<table border=\"1\" class=\"dataframe\">\n",
       "  <thead>\n",
       "    <tr style=\"text-align: right;\">\n",
       "      <th></th>\n",
       "      <th>Grid_Id</th>\n",
       "      <th>Year</th>\n",
       "      <th>Month</th>\n",
       "      <th>Day</th>\n",
       "      <th>Wet_Count</th>\n",
       "      <th>Total_Depth</th>\n",
       "      <th>Day_1</th>\n",
       "      <th>Day_2</th>\n",
       "      <th>Day_3</th>\n",
       "      <th>Day_4</th>\n",
       "      <th>Day_5</th>\n",
       "      <th>Day_6</th>\n",
       "      <th>Day_7</th>\n",
       "      <th>Day_8</th>\n",
       "      <th>Day_9</th>\n",
       "      <th>Day_10</th>\n",
       "      <th>Day_11</th>\n",
       "      <th>Day_12</th>\n",
       "      <th>Day_13</th>\n",
       "      <th>Day_14</th>\n",
       "      <th>Day_15</th>\n",
       "      <th>Day_16</th>\n",
       "      <th>Day_17</th>\n",
       "      <th>Day_18</th>\n",
       "      <th>Day_19</th>\n",
       "    </tr>\n",
       "  </thead>\n",
       "  <tbody>\n",
       "    <tr>\n",
       "      <th>0</th>\n",
       "      <td>662328</td>\n",
       "      <td>1981</td>\n",
       "      <td>1</td>\n",
       "      <td>6</td>\n",
       "      <td>1</td>\n",
       "      <td>1.31</td>\n",
       "      <td>1.31</td>\n",
       "      <td>0.00</td>\n",
       "      <td>0.00</td>\n",
       "      <td>0.0</td>\n",
       "      <td>0.0</td>\n",
       "      <td>0.0</td>\n",
       "      <td>0.0</td>\n",
       "      <td>0.0</td>\n",
       "      <td>0.0</td>\n",
       "      <td>0.0</td>\n",
       "      <td>0.0</td>\n",
       "      <td>0.0</td>\n",
       "      <td>0.0</td>\n",
       "      <td>0.0</td>\n",
       "      <td>0.0</td>\n",
       "      <td>0.0</td>\n",
       "      <td>0.0</td>\n",
       "      <td>0.0</td>\n",
       "      <td>0.0</td>\n",
       "    </tr>\n",
       "    <tr>\n",
       "      <th>1</th>\n",
       "      <td>662328</td>\n",
       "      <td>1981</td>\n",
       "      <td>1</td>\n",
       "      <td>9</td>\n",
       "      <td>1</td>\n",
       "      <td>7.96</td>\n",
       "      <td>7.96</td>\n",
       "      <td>0.00</td>\n",
       "      <td>0.00</td>\n",
       "      <td>0.0</td>\n",
       "      <td>0.0</td>\n",
       "      <td>0.0</td>\n",
       "      <td>0.0</td>\n",
       "      <td>0.0</td>\n",
       "      <td>0.0</td>\n",
       "      <td>0.0</td>\n",
       "      <td>0.0</td>\n",
       "      <td>0.0</td>\n",
       "      <td>0.0</td>\n",
       "      <td>0.0</td>\n",
       "      <td>0.0</td>\n",
       "      <td>0.0</td>\n",
       "      <td>0.0</td>\n",
       "      <td>0.0</td>\n",
       "      <td>0.0</td>\n",
       "    </tr>\n",
       "    <tr>\n",
       "      <th>2</th>\n",
       "      <td>662328</td>\n",
       "      <td>1981</td>\n",
       "      <td>1</td>\n",
       "      <td>11</td>\n",
       "      <td>1</td>\n",
       "      <td>0.32</td>\n",
       "      <td>0.32</td>\n",
       "      <td>0.00</td>\n",
       "      <td>0.00</td>\n",
       "      <td>0.0</td>\n",
       "      <td>0.0</td>\n",
       "      <td>0.0</td>\n",
       "      <td>0.0</td>\n",
       "      <td>0.0</td>\n",
       "      <td>0.0</td>\n",
       "      <td>0.0</td>\n",
       "      <td>0.0</td>\n",
       "      <td>0.0</td>\n",
       "      <td>0.0</td>\n",
       "      <td>0.0</td>\n",
       "      <td>0.0</td>\n",
       "      <td>0.0</td>\n",
       "      <td>0.0</td>\n",
       "      <td>0.0</td>\n",
       "      <td>0.0</td>\n",
       "    </tr>\n",
       "    <tr>\n",
       "      <th>3</th>\n",
       "      <td>662328</td>\n",
       "      <td>1981</td>\n",
       "      <td>1</td>\n",
       "      <td>14</td>\n",
       "      <td>1</td>\n",
       "      <td>0.70</td>\n",
       "      <td>0.70</td>\n",
       "      <td>0.00</td>\n",
       "      <td>0.00</td>\n",
       "      <td>0.0</td>\n",
       "      <td>0.0</td>\n",
       "      <td>0.0</td>\n",
       "      <td>0.0</td>\n",
       "      <td>0.0</td>\n",
       "      <td>0.0</td>\n",
       "      <td>0.0</td>\n",
       "      <td>0.0</td>\n",
       "      <td>0.0</td>\n",
       "      <td>0.0</td>\n",
       "      <td>0.0</td>\n",
       "      <td>0.0</td>\n",
       "      <td>0.0</td>\n",
       "      <td>0.0</td>\n",
       "      <td>0.0</td>\n",
       "      <td>0.0</td>\n",
       "    </tr>\n",
       "    <tr>\n",
       "      <th>4</th>\n",
       "      <td>662328</td>\n",
       "      <td>1981</td>\n",
       "      <td>1</td>\n",
       "      <td>17</td>\n",
       "      <td>3</td>\n",
       "      <td>12.92</td>\n",
       "      <td>1.08</td>\n",
       "      <td>5.27</td>\n",
       "      <td>6.57</td>\n",
       "      <td>0.0</td>\n",
       "      <td>0.0</td>\n",
       "      <td>0.0</td>\n",
       "      <td>0.0</td>\n",
       "      <td>0.0</td>\n",
       "      <td>0.0</td>\n",
       "      <td>0.0</td>\n",
       "      <td>0.0</td>\n",
       "      <td>0.0</td>\n",
       "      <td>0.0</td>\n",
       "      <td>0.0</td>\n",
       "      <td>0.0</td>\n",
       "      <td>0.0</td>\n",
       "      <td>0.0</td>\n",
       "      <td>0.0</td>\n",
       "      <td>0.0</td>\n",
       "    </tr>\n",
       "  </tbody>\n",
       "</table>"
      ],
      "text/plain": [
       "<IPython.core.display.HTML object>"
      ]
     },
     "metadata": {},
     "output_type": "display_data"
    }
   ],
   "source": [
    "display( HTML( PRAllDF.head().to_html() ) )"
   ]
  },
  {
   "cell_type": "code",
   "execution_count": 7,
   "metadata": {},
   "outputs": [
    {
     "data": {
      "text/html": [
       "<table border=\"1\" class=\"dataframe\">\n",
       "  <thead>\n",
       "    <tr style=\"text-align: right;\">\n",
       "      <th></th>\n",
       "      <th>Grid_Id</th>\n",
       "      <th>Year</th>\n",
       "      <th>Month</th>\n",
       "      <th>Day</th>\n",
       "      <th>Wet_Count</th>\n",
       "      <th>Total_Depth</th>\n",
       "      <th>Day_1</th>\n",
       "      <th>Day_2</th>\n",
       "      <th>Day_3</th>\n",
       "      <th>Day_4</th>\n",
       "      <th>Day_5</th>\n",
       "      <th>Day_6</th>\n",
       "      <th>Day_7</th>\n",
       "      <th>Day_8</th>\n",
       "      <th>Day_9</th>\n",
       "      <th>Day_10</th>\n",
       "      <th>Day_11</th>\n",
       "      <th>Day_12</th>\n",
       "      <th>Day_13</th>\n",
       "      <th>Day_14</th>\n",
       "      <th>Day_15</th>\n",
       "      <th>Day_16</th>\n",
       "      <th>Day_17</th>\n",
       "      <th>Day_18</th>\n",
       "      <th>Day_19</th>\n",
       "    </tr>\n",
       "  </thead>\n",
       "  <tbody>\n",
       "    <tr>\n",
       "      <th>count</th>\n",
       "      <td>226190.000000</td>\n",
       "      <td>226190.000000</td>\n",
       "      <td>226190.000000</td>\n",
       "      <td>226190.000000</td>\n",
       "      <td>226190.000000</td>\n",
       "      <td>226190.000000</td>\n",
       "      <td>226190.000000</td>\n",
       "      <td>226190.000000</td>\n",
       "      <td>226190.000000</td>\n",
       "      <td>226190.000000</td>\n",
       "      <td>226190.000000</td>\n",
       "      <td>226190.000000</td>\n",
       "      <td>226190.000000</td>\n",
       "      <td>226190.000000</td>\n",
       "      <td>226190.000000</td>\n",
       "      <td>226190.000000</td>\n",
       "      <td>226190.000000</td>\n",
       "      <td>226190.000000</td>\n",
       "      <td>226190.000000</td>\n",
       "      <td>226190.000000</td>\n",
       "      <td>226190.000000</td>\n",
       "      <td>226190.000000</td>\n",
       "      <td>226190.000000</td>\n",
       "      <td>226190.000000</td>\n",
       "      <td>226190.000000</td>\n",
       "    </tr>\n",
       "    <tr>\n",
       "      <th>mean</th>\n",
       "      <td>671315.617972</td>\n",
       "      <td>1995.406141</td>\n",
       "      <td>6.306658</td>\n",
       "      <td>15.876966</td>\n",
       "      <td>1.930748</td>\n",
       "      <td>14.844876</td>\n",
       "      <td>6.314675</td>\n",
       "      <td>4.691103</td>\n",
       "      <td>1.809316</td>\n",
       "      <td>0.866333</td>\n",
       "      <td>0.451123</td>\n",
       "      <td>0.252808</td>\n",
       "      <td>0.172082</td>\n",
       "      <td>0.102201</td>\n",
       "      <td>0.029241</td>\n",
       "      <td>0.014211</td>\n",
       "      <td>0.041145</td>\n",
       "      <td>0.054286</td>\n",
       "      <td>0.017693</td>\n",
       "      <td>0.006229</td>\n",
       "      <td>0.004210</td>\n",
       "      <td>0.006312</td>\n",
       "      <td>0.003994</td>\n",
       "      <td>0.007797</td>\n",
       "      <td>0.000040</td>\n",
       "    </tr>\n",
       "    <tr>\n",
       "      <th>std</th>\n",
       "      <td>5668.012976</td>\n",
       "      <td>8.709375</td>\n",
       "      <td>3.253769</td>\n",
       "      <td>8.895912</td>\n",
       "      <td>1.369366</td>\n",
       "      <td>22.393805</td>\n",
       "      <td>9.543975</td>\n",
       "      <td>9.888966</td>\n",
       "      <td>5.922898</td>\n",
       "      <td>5.191674</td>\n",
       "      <td>3.491162</td>\n",
       "      <td>2.808339</td>\n",
       "      <td>2.942173</td>\n",
       "      <td>2.307218</td>\n",
       "      <td>0.667743</td>\n",
       "      <td>0.419851</td>\n",
       "      <td>1.512172</td>\n",
       "      <td>1.773005</td>\n",
       "      <td>0.563330</td>\n",
       "      <td>0.199768</td>\n",
       "      <td>0.194175</td>\n",
       "      <td>0.317559</td>\n",
       "      <td>0.237523</td>\n",
       "      <td>0.451132</td>\n",
       "      <td>0.003869</td>\n",
       "    </tr>\n",
       "    <tr>\n",
       "      <th>min</th>\n",
       "      <td>662328.000000</td>\n",
       "      <td>1981.000000</td>\n",
       "      <td>1.000000</td>\n",
       "      <td>1.000000</td>\n",
       "      <td>1.000000</td>\n",
       "      <td>0.200000</td>\n",
       "      <td>0.200000</td>\n",
       "      <td>0.000000</td>\n",
       "      <td>0.000000</td>\n",
       "      <td>0.000000</td>\n",
       "      <td>0.000000</td>\n",
       "      <td>0.000000</td>\n",
       "      <td>0.000000</td>\n",
       "      <td>0.000000</td>\n",
       "      <td>0.000000</td>\n",
       "      <td>0.000000</td>\n",
       "      <td>0.000000</td>\n",
       "      <td>0.000000</td>\n",
       "      <td>0.000000</td>\n",
       "      <td>0.000000</td>\n",
       "      <td>0.000000</td>\n",
       "      <td>0.000000</td>\n",
       "      <td>0.000000</td>\n",
       "      <td>0.000000</td>\n",
       "      <td>0.000000</td>\n",
       "    </tr>\n",
       "    <tr>\n",
       "      <th>25%</th>\n",
       "      <td>666548.000000</td>\n",
       "      <td>1988.000000</td>\n",
       "      <td>4.000000</td>\n",
       "      <td>8.000000</td>\n",
       "      <td>1.000000</td>\n",
       "      <td>1.830000</td>\n",
       "      <td>0.920000</td>\n",
       "      <td>0.000000</td>\n",
       "      <td>0.000000</td>\n",
       "      <td>0.000000</td>\n",
       "      <td>0.000000</td>\n",
       "      <td>0.000000</td>\n",
       "      <td>0.000000</td>\n",
       "      <td>0.000000</td>\n",
       "      <td>0.000000</td>\n",
       "      <td>0.000000</td>\n",
       "      <td>0.000000</td>\n",
       "      <td>0.000000</td>\n",
       "      <td>0.000000</td>\n",
       "      <td>0.000000</td>\n",
       "      <td>0.000000</td>\n",
       "      <td>0.000000</td>\n",
       "      <td>0.000000</td>\n",
       "      <td>0.000000</td>\n",
       "      <td>0.000000</td>\n",
       "    </tr>\n",
       "    <tr>\n",
       "      <th>50%</th>\n",
       "      <td>670770.000000</td>\n",
       "      <td>1995.000000</td>\n",
       "      <td>6.000000</td>\n",
       "      <td>15.000000</td>\n",
       "      <td>2.000000</td>\n",
       "      <td>6.660000</td>\n",
       "      <td>2.690000</td>\n",
       "      <td>0.310000</td>\n",
       "      <td>0.000000</td>\n",
       "      <td>0.000000</td>\n",
       "      <td>0.000000</td>\n",
       "      <td>0.000000</td>\n",
       "      <td>0.000000</td>\n",
       "      <td>0.000000</td>\n",
       "      <td>0.000000</td>\n",
       "      <td>0.000000</td>\n",
       "      <td>0.000000</td>\n",
       "      <td>0.000000</td>\n",
       "      <td>0.000000</td>\n",
       "      <td>0.000000</td>\n",
       "      <td>0.000000</td>\n",
       "      <td>0.000000</td>\n",
       "      <td>0.000000</td>\n",
       "      <td>0.000000</td>\n",
       "      <td>0.000000</td>\n",
       "    </tr>\n",
       "    <tr>\n",
       "      <th>75%</th>\n",
       "      <td>676383.000000</td>\n",
       "      <td>2003.000000</td>\n",
       "      <td>9.000000</td>\n",
       "      <td>24.000000</td>\n",
       "      <td>2.000000</td>\n",
       "      <td>18.290000</td>\n",
       "      <td>7.570000</td>\n",
       "      <td>5.010000</td>\n",
       "      <td>0.000000</td>\n",
       "      <td>0.000000</td>\n",
       "      <td>0.000000</td>\n",
       "      <td>0.000000</td>\n",
       "      <td>0.000000</td>\n",
       "      <td>0.000000</td>\n",
       "      <td>0.000000</td>\n",
       "      <td>0.000000</td>\n",
       "      <td>0.000000</td>\n",
       "      <td>0.000000</td>\n",
       "      <td>0.000000</td>\n",
       "      <td>0.000000</td>\n",
       "      <td>0.000000</td>\n",
       "      <td>0.000000</td>\n",
       "      <td>0.000000</td>\n",
       "      <td>0.000000</td>\n",
       "      <td>0.000000</td>\n",
       "    </tr>\n",
       "    <tr>\n",
       "      <th>max</th>\n",
       "      <td>680607.000000</td>\n",
       "      <td>2010.000000</td>\n",
       "      <td>12.000000</td>\n",
       "      <td>31.000000</td>\n",
       "      <td>19.000000</td>\n",
       "      <td>430.489999</td>\n",
       "      <td>199.639999</td>\n",
       "      <td>235.470001</td>\n",
       "      <td>170.809998</td>\n",
       "      <td>250.429993</td>\n",
       "      <td>117.230003</td>\n",
       "      <td>88.150002</td>\n",
       "      <td>361.529999</td>\n",
       "      <td>217.410004</td>\n",
       "      <td>53.560001</td>\n",
       "      <td>36.930000</td>\n",
       "      <td>164.240005</td>\n",
       "      <td>140.009995</td>\n",
       "      <td>41.040001</td>\n",
       "      <td>21.820000</td>\n",
       "      <td>14.150000</td>\n",
       "      <td>23.450001</td>\n",
       "      <td>28.059999</td>\n",
       "      <td>34.740002</td>\n",
       "      <td>0.490000</td>\n",
       "    </tr>\n",
       "  </tbody>\n",
       "</table>"
      ],
      "text/plain": [
       "<IPython.core.display.HTML object>"
      ]
     },
     "metadata": {},
     "output_type": "display_data"
    }
   ],
   "source": [
    "display( HTML( PRAllDF.describe().to_html() ) )"
   ]
  },
  {
   "cell_type": "markdown",
   "metadata": {},
   "source": [
    "Next load all grid cells and concatenate from the WG"
   ]
  },
  {
   "cell_type": "code",
   "execution_count": 8,
   "metadata": {},
   "outputs": [],
   "source": [
    "DFList = list()"
   ]
  },
  {
   "cell_type": "code",
   "execution_count": 9,
   "metadata": {},
   "outputs": [],
   "source": [
    "for gG in LOCA_KEYS:\n",
    "    cFile = \"%s%d.pickle\" % ( H0_ROOT, gG )\n",
    "    InFP = os.path.normpath( os.path.join( WG_IN_DIR, cFile ) )\n",
    "    cDF = pd.read_pickle( InFP )\n",
    "    DFList.append( cDF )\n",
    "# end of for"
   ]
  },
  {
   "cell_type": "markdown",
   "metadata": {},
   "source": [
    "Now concatenate"
   ]
  },
  {
   "cell_type": "code",
   "execution_count": 10,
   "metadata": {},
   "outputs": [
    {
     "data": {
      "text/plain": [
       "22"
      ]
     },
     "execution_count": 10,
     "metadata": {},
     "output_type": "execute_result"
    }
   ],
   "source": [
    "NumDF = len( DFList )\n",
    "NumDF"
   ]
  },
  {
   "cell_type": "code",
   "execution_count": 11,
   "metadata": {},
   "outputs": [],
   "source": [
    "H0DDDF = pd.concat( DFList, ignore_index=True )"
   ]
  },
  {
   "cell_type": "code",
   "execution_count": 12,
   "metadata": {},
   "outputs": [
    {
     "data": {
      "text/plain": [
       "['Year', 'Month', 'Day', 'Wet_Count']"
      ]
     },
     "execution_count": 12,
     "metadata": {},
     "output_type": "execute_result"
    }
   ],
   "source": [
    "CurColumns = list( H0DDDF.columns )\n",
    "CurColumns[3] = 'Wet_Count'\n",
    "CurColumns"
   ]
  },
  {
   "cell_type": "code",
   "execution_count": 13,
   "metadata": {},
   "outputs": [],
   "source": [
    "H0DDDF.columns = CurColumns"
   ]
  },
  {
   "cell_type": "code",
   "execution_count": 14,
   "metadata": {},
   "outputs": [
    {
     "data": {
      "text/html": [
       "<table border=\"1\" class=\"dataframe\">\n",
       "  <thead>\n",
       "    <tr style=\"text-align: right;\">\n",
       "      <th></th>\n",
       "      <th>Year</th>\n",
       "      <th>Month</th>\n",
       "      <th>Day</th>\n",
       "      <th>Wet_Count</th>\n",
       "    </tr>\n",
       "  </thead>\n",
       "  <tbody>\n",
       "    <tr>\n",
       "      <th>0</th>\n",
       "      <td>1980</td>\n",
       "      <td>1</td>\n",
       "      <td>5</td>\n",
       "      <td>3</td>\n",
       "    </tr>\n",
       "    <tr>\n",
       "      <th>1</th>\n",
       "      <td>1980</td>\n",
       "      <td>2</td>\n",
       "      <td>7</td>\n",
       "      <td>3</td>\n",
       "    </tr>\n",
       "    <tr>\n",
       "      <th>2</th>\n",
       "      <td>1980</td>\n",
       "      <td>2</td>\n",
       "      <td>13</td>\n",
       "      <td>2</td>\n",
       "    </tr>\n",
       "    <tr>\n",
       "      <th>3</th>\n",
       "      <td>1980</td>\n",
       "      <td>2</td>\n",
       "      <td>29</td>\n",
       "      <td>2</td>\n",
       "    </tr>\n",
       "    <tr>\n",
       "      <th>4</th>\n",
       "      <td>1980</td>\n",
       "      <td>3</td>\n",
       "      <td>5</td>\n",
       "      <td>3</td>\n",
       "    </tr>\n",
       "  </tbody>\n",
       "</table>"
      ],
      "text/plain": [
       "<IPython.core.display.HTML object>"
      ]
     },
     "metadata": {},
     "output_type": "display_data"
    }
   ],
   "source": [
    "display( HTML( H0DDDF.head().to_html() ) )"
   ]
  },
  {
   "cell_type": "code",
   "execution_count": 15,
   "metadata": {},
   "outputs": [
    {
     "data": {
      "text/html": [
       "<table border=\"1\" class=\"dataframe\">\n",
       "  <thead>\n",
       "    <tr style=\"text-align: right;\">\n",
       "      <th></th>\n",
       "      <th>Year</th>\n",
       "      <th>Month</th>\n",
       "      <th>Day</th>\n",
       "      <th>Wet_Count</th>\n",
       "    </tr>\n",
       "  </thead>\n",
       "  <tbody>\n",
       "    <tr>\n",
       "      <th>count</th>\n",
       "      <td>2.375268e+08</td>\n",
       "      <td>2.375268e+08</td>\n",
       "      <td>2.375268e+08</td>\n",
       "      <td>2.375268e+08</td>\n",
       "    </tr>\n",
       "    <tr>\n",
       "      <th>mean</th>\n",
       "      <td>1.994989e+03</td>\n",
       "      <td>6.355838e+00</td>\n",
       "      <td>1.572146e+01</td>\n",
       "      <td>2.143392e+00</td>\n",
       "    </tr>\n",
       "    <tr>\n",
       "      <th>std</th>\n",
       "      <td>8.947478e+00</td>\n",
       "      <td>3.285988e+00</td>\n",
       "      <td>8.804661e+00</td>\n",
       "      <td>1.521063e+00</td>\n",
       "    </tr>\n",
       "    <tr>\n",
       "      <th>min</th>\n",
       "      <td>1.980000e+03</td>\n",
       "      <td>1.000000e+00</td>\n",
       "      <td>1.000000e+00</td>\n",
       "      <td>1.000000e+00</td>\n",
       "    </tr>\n",
       "    <tr>\n",
       "      <th>25%</th>\n",
       "      <td>1.987000e+03</td>\n",
       "      <td>4.000000e+00</td>\n",
       "      <td>8.000000e+00</td>\n",
       "      <td>1.000000e+00</td>\n",
       "    </tr>\n",
       "    <tr>\n",
       "      <th>50%</th>\n",
       "      <td>1.995000e+03</td>\n",
       "      <td>6.000000e+00</td>\n",
       "      <td>1.600000e+01</td>\n",
       "      <td>2.000000e+00</td>\n",
       "    </tr>\n",
       "    <tr>\n",
       "      <th>75%</th>\n",
       "      <td>2.003000e+03</td>\n",
       "      <td>9.000000e+00</td>\n",
       "      <td>2.300000e+01</td>\n",
       "      <td>3.000000e+00</td>\n",
       "    </tr>\n",
       "    <tr>\n",
       "      <th>max</th>\n",
       "      <td>2.010000e+03</td>\n",
       "      <td>1.200000e+01</td>\n",
       "      <td>3.100000e+01</td>\n",
       "      <td>1.900000e+01</td>\n",
       "    </tr>\n",
       "  </tbody>\n",
       "</table>"
      ],
      "text/plain": [
       "<IPython.core.display.HTML object>"
      ]
     },
     "metadata": {},
     "output_type": "display_data"
    }
   ],
   "source": [
    "display( HTML( H0DDDF.describe().to_html() ) )"
   ]
  },
  {
   "cell_type": "markdown",
   "metadata": {},
   "source": [
    "Can now drop some columns"
   ]
  },
  {
   "cell_type": "code",
   "execution_count": 16,
   "metadata": {},
   "outputs": [],
   "source": [
    "H0DDDF.drop( columns=['Year', 'Day'], inplace=True )\n",
    "PRAllDF.drop( columns=['Grid_Id', 'Year', 'Day'], inplace=True )"
   ]
  },
  {
   "cell_type": "code",
   "execution_count": 17,
   "metadata": {},
   "outputs": [
    {
     "data": {
      "text/plain": [
       "['Total_Depth',\n",
       " 'Day_1',\n",
       " 'Day_2',\n",
       " 'Day_3',\n",
       " 'Day_4',\n",
       " 'Day_5',\n",
       " 'Day_6',\n",
       " 'Day_7',\n",
       " 'Day_8',\n",
       " 'Day_9',\n",
       " 'Day_10',\n",
       " 'Day_11',\n",
       " 'Day_12',\n",
       " 'Day_13',\n",
       " 'Day_14',\n",
       " 'Day_15',\n",
       " 'Day_16',\n",
       " 'Day_17',\n",
       " 'Day_18',\n",
       " 'Day_19']"
      ]
     },
     "execution_count": 17,
     "metadata": {},
     "output_type": "execute_result"
    }
   ],
   "source": [
    "ExtraCols = list( PRAllDF.columns )\n",
    "ExtraCols[2:]"
   ]
  },
  {
   "cell_type": "code",
   "execution_count": 18,
   "metadata": {},
   "outputs": [],
   "source": [
    "PRAllDF.drop( columns=ExtraCols[2:], inplace=True )"
   ]
  },
  {
   "cell_type": "code",
   "execution_count": 19,
   "metadata": {},
   "outputs": [
    {
     "data": {
      "text/html": [
       "<table border=\"1\" class=\"dataframe\">\n",
       "  <thead>\n",
       "    <tr style=\"text-align: right;\">\n",
       "      <th></th>\n",
       "      <th>Month</th>\n",
       "      <th>Wet_Count</th>\n",
       "    </tr>\n",
       "  </thead>\n",
       "  <tbody>\n",
       "    <tr>\n",
       "      <th>0</th>\n",
       "      <td>1</td>\n",
       "      <td>1</td>\n",
       "    </tr>\n",
       "    <tr>\n",
       "      <th>1</th>\n",
       "      <td>1</td>\n",
       "      <td>1</td>\n",
       "    </tr>\n",
       "    <tr>\n",
       "      <th>2</th>\n",
       "      <td>1</td>\n",
       "      <td>1</td>\n",
       "    </tr>\n",
       "    <tr>\n",
       "      <th>3</th>\n",
       "      <td>1</td>\n",
       "      <td>1</td>\n",
       "    </tr>\n",
       "    <tr>\n",
       "      <th>4</th>\n",
       "      <td>1</td>\n",
       "      <td>3</td>\n",
       "    </tr>\n",
       "  </tbody>\n",
       "</table>"
      ],
      "text/plain": [
       "<IPython.core.display.HTML object>"
      ]
     },
     "metadata": {},
     "output_type": "display_data"
    }
   ],
   "source": [
    "display(HTML( PRAllDF.head().to_html()))"
   ]
  },
  {
   "cell_type": "code",
   "execution_count": 20,
   "metadata": {},
   "outputs": [
    {
     "data": {
      "text/html": [
       "<table border=\"1\" class=\"dataframe\">\n",
       "  <thead>\n",
       "    <tr style=\"text-align: right;\">\n",
       "      <th></th>\n",
       "      <th>Month</th>\n",
       "      <th>Wet_Count</th>\n",
       "    </tr>\n",
       "  </thead>\n",
       "  <tbody>\n",
       "    <tr>\n",
       "      <th>0</th>\n",
       "      <td>1</td>\n",
       "      <td>3</td>\n",
       "    </tr>\n",
       "    <tr>\n",
       "      <th>1</th>\n",
       "      <td>2</td>\n",
       "      <td>3</td>\n",
       "    </tr>\n",
       "    <tr>\n",
       "      <th>2</th>\n",
       "      <td>2</td>\n",
       "      <td>2</td>\n",
       "    </tr>\n",
       "    <tr>\n",
       "      <th>3</th>\n",
       "      <td>2</td>\n",
       "      <td>2</td>\n",
       "    </tr>\n",
       "    <tr>\n",
       "      <th>4</th>\n",
       "      <td>3</td>\n",
       "      <td>3</td>\n",
       "    </tr>\n",
       "  </tbody>\n",
       "</table>"
      ],
      "text/plain": [
       "<IPython.core.display.HTML object>"
      ]
     },
     "metadata": {},
     "output_type": "display_data"
    }
   ],
   "source": [
    "display(HTML( H0DDDF.head().to_html()))"
   ]
  },
  {
   "cell_type": "markdown",
   "metadata": {},
   "source": [
    "Now filter all into monthly values"
   ]
  },
  {
   "cell_type": "code",
   "execution_count": 21,
   "metadata": {},
   "outputs": [],
   "source": [
    "PRJanDF = PRAllDF[PRAllDF['Month'] == 1].copy()\n",
    "PRFebDF = PRAllDF[PRAllDF['Month'] == 2].copy()\n",
    "PRMarDF = PRAllDF[PRAllDF['Month'] == 3].copy()\n",
    "PRAprDF = PRAllDF[PRAllDF['Month'] == 4].copy()\n",
    "PRMayDF = PRAllDF[PRAllDF['Month'] == 5].copy()\n",
    "PRJunDF = PRAllDF[PRAllDF['Month'] == 6].copy()\n",
    "PRJulDF = PRAllDF[PRAllDF['Month'] == 7].copy()\n",
    "PRAugDF = PRAllDF[PRAllDF['Month'] == 8].copy()\n",
    "PRSepDF = PRAllDF[PRAllDF['Month'] == 9].copy()\n",
    "PROctDF = PRAllDF[PRAllDF['Month'] == 10].copy()\n",
    "PRNovDF = PRAllDF[PRAllDF['Month'] == 11].copy()\n",
    "PRDecDF = PRAllDF[PRAllDF['Month'] == 12].copy()"
   ]
  },
  {
   "cell_type": "code",
   "execution_count": 22,
   "metadata": {},
   "outputs": [],
   "source": [
    "H0JanDF = H0DDDF[H0DDDF['Month'] == 1].copy()\n",
    "H0FebDF = H0DDDF[H0DDDF['Month'] == 2].copy()\n",
    "H0MarDF = H0DDDF[H0DDDF['Month'] == 3].copy()\n",
    "H0AprDF = H0DDDF[H0DDDF['Month'] == 4].copy()\n",
    "H0MayDF = H0DDDF[H0DDDF['Month'] == 5].copy()\n",
    "H0JunDF = H0DDDF[H0DDDF['Month'] == 6].copy()\n",
    "H0JulDF = H0DDDF[H0DDDF['Month'] == 7].copy()\n",
    "H0AugDF = H0DDDF[H0DDDF['Month'] == 8].copy()\n",
    "H0SepDF = H0DDDF[H0DDDF['Month'] == 9].copy()\n",
    "H0OctDF = H0DDDF[H0DDDF['Month'] == 10].copy()\n",
    "H0NovDF = H0DDDF[H0DDDF['Month'] == 11].copy()\n",
    "H0DecDF = H0DDDF[H0DDDF['Month'] == 12].copy()"
   ]
  },
  {
   "cell_type": "code",
   "execution_count": 23,
   "metadata": {},
   "outputs": [],
   "source": [
    "MonthLister = [ \"Jan\", \"Feb\", \"Mar\", \"Apr\", \"May\", \"Jun\", \"Jul\", \"Aug\", \n",
    "                 \"Sep\", \"Oct\", \"Nov\", \"Dec\", \"All\" ]\n",
    "AveLister = list()\n",
    "VarLister = list()\n",
    "SkewLister = list()\n",
    "KurtLister = list()\n",
    "PLister = list()\n",
    "NLister = list()\n",
    "CntLister = list()\n",
    "MedianLister = list()\n",
    "MaxLister = list()\n",
    "MinLister = list()"
   ]
  },
  {
   "cell_type": "code",
   "execution_count": 24,
   "metadata": {},
   "outputs": [
    {
     "data": {
      "text/plain": [
       "101"
      ]
     },
     "execution_count": 24,
     "metadata": {},
     "output_type": "execute_result"
    }
   ],
   "source": [
    "OurQs = np.array( [ round( 0.01 * x, 2 ) for x in range(101) ], dtype=np.float32 )\n",
    "NumQs = len( OurQs )\n",
    "NumQs"
   ]
  },
  {
   "cell_type": "markdown",
   "metadata": {},
   "source": [
    "## Jan"
   ]
  },
  {
   "cell_type": "markdown",
   "metadata": {},
   "source": [
    "First get our overall tracking values"
   ]
  },
  {
   "cell_type": "code",
   "execution_count": 25,
   "metadata": {},
   "outputs": [],
   "source": [
    "AveLister.append( [ PRJanDF['Wet_Count'].mean(), H0JanDF['Wet_Count'].mean() ] )\n",
    "VarLister.append( [ PRJanDF['Wet_Count'].var(), H0JanDF['Wet_Count'].var() ] )\n",
    "SkewLister.append( [ PRJanDF['Wet_Count'].skew(), H0JanDF['Wet_Count'].skew() ] )\n",
    "KurtLister.append( [ PRJanDF['Wet_Count'].kurtosis(), H0JanDF['Wet_Count'].kurtosis() ] )\n",
    "CntLister.append( [ PRJanDF['Wet_Count'].count(), H0JanDF['Wet_Count'].count() ] )\n",
    "PLister.append( [ (1.0 - (( PRJanDF['Wet_Count'].var() - PRJanDF['Wet_Count'].mean() ) / \n",
    "                            PRJanDF['Wet_Count'].var() ) ),\n",
    "                  (1.0 - (( H0JanDF['Wet_Count'].var() - H0JanDF['Wet_Count'].mean() ) / \n",
    "                            H0JanDF['Wet_Count'].var() ) ) ])\n",
    "NLister.append( [ ( PRJanDF['Wet_Count'].mean()**2.0 / \n",
    "                   ( PRJanDF['Wet_Count'].var() - PRJanDF['Wet_Count'].mean() ) ),\n",
    "                  ( H0JanDF['Wet_Count'].mean()**2.0 / \n",
    "                   ( H0JanDF['Wet_Count'].var() - H0JanDF['Wet_Count'].mean() ) ) ])\n",
    "MedianLister.append( [ PRJanDF['Wet_Count'].median(), H0JanDF['Wet_Count'].median() ] )\n",
    "MaxLister.append( [ PRJanDF['Wet_Count'].max(), H0JanDF['Wet_Count'].max() ] )\n",
    "MinLister.append( [ PRJanDF['Wet_Count'].min(), H0JanDF['Wet_Count'].min() ] )"
   ]
  },
  {
   "cell_type": "code",
   "execution_count": 26,
   "metadata": {},
   "outputs": [
    {
     "data": {
      "text/plain": [
       "(16990, 18067588)"
      ]
     },
     "execution_count": 26,
     "metadata": {},
     "output_type": "execute_result"
    }
   ],
   "source": [
    "NumPR = len( PRJanDF )\n",
    "NumH0 = len( H0JanDF )\n",
    "NumPR, NumH0"
   ]
  },
  {
   "cell_type": "code",
   "execution_count": 27,
   "metadata": {},
   "outputs": [],
   "source": [
    "CompJan = pd.DataFrame( data={ 'PRISM' : np.array( PRJanDF['Wet_Count'], dtype=np.int32),\n",
    "                               \"WG H0\" : np.array( H0JanDF['Wet_Count'].sample(n=NumPR), \n",
    "                                                  dtype=np.int32 ), } )"
   ]
  },
  {
   "cell_type": "code",
   "execution_count": 28,
   "metadata": {},
   "outputs": [
    {
     "data": {
      "text/html": [
       "<table border=\"1\" class=\"dataframe\">\n",
       "  <thead>\n",
       "    <tr style=\"text-align: right;\">\n",
       "      <th></th>\n",
       "      <th>PRISM</th>\n",
       "      <th>WG H0</th>\n",
       "    </tr>\n",
       "  </thead>\n",
       "  <tbody>\n",
       "    <tr>\n",
       "      <th>count</th>\n",
       "      <td>16990.000000</td>\n",
       "      <td>16990.000000</td>\n",
       "    </tr>\n",
       "    <tr>\n",
       "      <th>mean</th>\n",
       "      <td>1.866392</td>\n",
       "      <td>2.081695</td>\n",
       "    </tr>\n",
       "    <tr>\n",
       "      <th>std</th>\n",
       "      <td>1.165071</td>\n",
       "      <td>1.453552</td>\n",
       "    </tr>\n",
       "    <tr>\n",
       "      <th>min</th>\n",
       "      <td>1.000000</td>\n",
       "      <td>1.000000</td>\n",
       "    </tr>\n",
       "    <tr>\n",
       "      <th>25%</th>\n",
       "      <td>1.000000</td>\n",
       "      <td>1.000000</td>\n",
       "    </tr>\n",
       "    <tr>\n",
       "      <th>50%</th>\n",
       "      <td>2.000000</td>\n",
       "      <td>2.000000</td>\n",
       "    </tr>\n",
       "    <tr>\n",
       "      <th>75%</th>\n",
       "      <td>2.000000</td>\n",
       "      <td>3.000000</td>\n",
       "    </tr>\n",
       "    <tr>\n",
       "      <th>max</th>\n",
       "      <td>12.000000</td>\n",
       "      <td>12.000000</td>\n",
       "    </tr>\n",
       "  </tbody>\n",
       "</table>"
      ],
      "text/plain": [
       "<IPython.core.display.HTML object>"
      ]
     },
     "metadata": {},
     "output_type": "display_data"
    }
   ],
   "source": [
    "display( HTML( CompJan.describe().to_html() ) )"
   ]
  },
  {
   "cell_type": "code",
   "execution_count": 29,
   "metadata": {},
   "outputs": [],
   "source": [
    "PRQs = CompJan['PRISM'].quantile( q=OurQs )"
   ]
  },
  {
   "cell_type": "code",
   "execution_count": 30,
   "metadata": {},
   "outputs": [],
   "source": [
    "H0Qs = CompJan['WG H0'].quantile( q=OurQs )"
   ]
  },
  {
   "cell_type": "code",
   "execution_count": 31,
   "metadata": {},
   "outputs": [
    {
     "data": {
      "text/plain": [
       "12.0"
      ]
     },
     "execution_count": 31,
     "metadata": {},
     "output_type": "execute_result"
    }
   ],
   "source": [
    "MaxVal = max( PRQs.max(), H0Qs.max() )\n",
    "MaxVal"
   ]
  },
  {
   "cell_type": "code",
   "execution_count": 32,
   "metadata": {},
   "outputs": [
    {
     "data": {
      "text/plain": [
       "20.0"
      ]
     },
     "execution_count": 32,
     "metadata": {},
     "output_type": "execute_result"
    }
   ],
   "source": [
    "MaxVal = round( MaxVal, -1 ) + 10.0\n",
    "MaxVal"
   ]
  },
  {
   "cell_type": "code",
   "execution_count": 33,
   "metadata": {},
   "outputs": [
    {
     "data": {
      "image/png": "[encoded data removed]",
      "text/plain": [
       "<Figure size 720x432 with 1 Axes>"
      ]
     },
     "metadata": {
      "needs_background": "light"
     },
     "output_type": "display_data"
    }
   ],
   "source": [
    "Fig1 = plt.figure()\n",
    "Fig1.set_size_inches(10.0, 6.0)\n",
    "ax11 = Fig1.add_subplot(111)\n",
    "ax11.plot( PRQs.values, H0Qs.values, marker='o', linestyle='None', color='xkcd:royal blue' )\n",
    "ax11.plot( [0.0, MaxVal], [0.0, MaxVal], linestyle='-', color='xkcd:dark grey' )\n",
    "ax11.set_title(\"Jan Q-Q\", fontsize=16)\n",
    "ax11.set_xlabel('PRISM', fontsize=14 )\n",
    "ax11.set_ylabel('WG H0', fontsize=14)\n",
    "ax11.set_xlim( (0.0, MaxVal) )\n",
    "ax11.set_ylim( (0.0, MaxVal) )\n",
    "ax11.grid( b=True )\n",
    "#ax11.legend(loc='lower center')\n",
    "ax11.tick_params(axis='both', which='major', labelsize=13)\n",
    "ax11.yaxis.set_major_formatter( mpl.ticker.StrMethodFormatter( \"{x:,.1f}\" ) )\n",
    "ax11.xaxis.set_major_formatter( mpl.ticker.StrMethodFormatter( \"{x:,.1f}\" ) )"
   ]
  },
  {
   "cell_type": "code",
   "execution_count": 34,
   "metadata": {},
   "outputs": [],
   "source": [
    "sns.set(style=\"ticks\", color_codes=True)"
   ]
  },
  {
   "cell_type": "code",
   "execution_count": 35,
   "metadata": {},
   "outputs": [
    {
     "data": {
      "image/png": "[encoded data removed]",
      "text/plain": [
       "<Figure size 432x288 with 1 Axes>"
      ]
     },
     "metadata": {},
     "output_type": "display_data"
    }
   ],
   "source": [
    "ax = sns.boxplot(data=CompJan, orient=\"h\", palette=\"Set2\")"
   ]
  },
  {
   "cell_type": "code",
   "execution_count": 36,
   "metadata": {},
   "outputs": [],
   "source": [
    "sns.set(style=\"white\", color_codes=True)"
   ]
  },
  {
   "cell_type": "code",
   "execution_count": 37,
   "metadata": {},
   "outputs": [
    {
     "data": {
      "image/png": "[encoded data removed]",
      "text/plain": [
       "<Figure size 432x432 with 3 Axes>"
      ]
     },
     "metadata": {},
     "output_type": "display_data"
    }
   ],
   "source": [
    "JanG = sns.jointplot(x='PRISM', y='WG H0', data=CompJan, kind=\"hex\")"
   ]
  },
  {
   "cell_type": "markdown",
   "metadata": {},
   "source": [
    "## Feb"
   ]
  },
  {
   "cell_type": "markdown",
   "metadata": {},
   "source": [
    "First get our overall tracking values"
   ]
  },
  {
   "cell_type": "code",
   "execution_count": 38,
   "metadata": {},
   "outputs": [],
   "source": [
    "AveLister.append( [ PRFebDF['Wet_Count'].mean(), H0FebDF['Wet_Count'].mean() ] )\n",
    "VarLister.append( [ PRFebDF['Wet_Count'].var(), H0FebDF['Wet_Count'].var() ] )\n",
    "SkewLister.append( [ PRFebDF['Wet_Count'].skew(), H0FebDF['Wet_Count'].skew() ] )\n",
    "KurtLister.append( [ PRFebDF['Wet_Count'].kurtosis(), H0FebDF['Wet_Count'].kurtosis() ] )\n",
    "CntLister.append( [ PRFebDF['Wet_Count'].count(), H0FebDF['Wet_Count'].count() ] )\n",
    "PLister.append( [ (1.0 - (( PRFebDF['Wet_Count'].var() - PRFebDF['Wet_Count'].mean() ) / \n",
    "                            PRFebDF['Wet_Count'].var() ) ),\n",
    "                  (1.0 - (( H0FebDF['Wet_Count'].var() - H0FebDF['Wet_Count'].mean() ) / \n",
    "                            H0FebDF['Wet_Count'].var() ) ) ])\n",
    "NLister.append( [ ( PRFebDF['Wet_Count'].mean()**2.0 / \n",
    "                   ( PRFebDF['Wet_Count'].var() - PRFebDF['Wet_Count'].mean() ) ),\n",
    "                  ( H0FebDF['Wet_Count'].mean()**2.0 / \n",
    "                   ( H0FebDF['Wet_Count'].var() - H0FebDF['Wet_Count'].mean() ) ) ])\n",
    "MedianLister.append( [ PRFebDF['Wet_Count'].median(), H0FebDF['Wet_Count'].median() ] )\n",
    "MaxLister.append( [ PRFebDF['Wet_Count'].max(), H0FebDF['Wet_Count'].max() ] )\n",
    "MinLister.append( [ PRFebDF['Wet_Count'].min(), H0FebDF['Wet_Count'].min() ] )"
   ]
  },
  {
   "cell_type": "code",
   "execution_count": 39,
   "metadata": {},
   "outputs": [
    {
     "data": {
      "text/plain": [
       "(17193, 18219410)"
      ]
     },
     "execution_count": 39,
     "metadata": {},
     "output_type": "execute_result"
    }
   ],
   "source": [
    "NumPR = len( PRFebDF )\n",
    "NumH0 = len( H0FebDF )\n",
    "NumPR, NumH0"
   ]
  },
  {
   "cell_type": "code",
   "execution_count": 40,
   "metadata": {},
   "outputs": [],
   "source": [
    "CompFeb = pd.DataFrame( data={ 'PRISM' : np.array( PRFebDF['Wet_Count'], dtype=np.int32),\n",
    "                               \"WG H0\" : np.array( H0FebDF['Wet_Count'].sample(n=NumPR), \n",
    "                                                  dtype=np.int32 ), } )"
   ]
  },
  {
   "cell_type": "code",
   "execution_count": 41,
   "metadata": {},
   "outputs": [
    {
     "data": {
      "text/html": [
       "<table border=\"1\" class=\"dataframe\">\n",
       "  <thead>\n",
       "    <tr style=\"text-align: right;\">\n",
       "      <th></th>\n",
       "      <th>PRISM</th>\n",
       "      <th>WG H0</th>\n",
       "    </tr>\n",
       "  </thead>\n",
       "  <tbody>\n",
       "    <tr>\n",
       "      <th>count</th>\n",
       "      <td>17193.000000</td>\n",
       "      <td>17193.000000</td>\n",
       "    </tr>\n",
       "    <tr>\n",
       "      <th>mean</th>\n",
       "      <td>1.815739</td>\n",
       "      <td>2.040074</td>\n",
       "    </tr>\n",
       "    <tr>\n",
       "      <th>std</th>\n",
       "      <td>1.053266</td>\n",
       "      <td>1.447816</td>\n",
       "    </tr>\n",
       "    <tr>\n",
       "      <th>min</th>\n",
       "      <td>1.000000</td>\n",
       "      <td>1.000000</td>\n",
       "    </tr>\n",
       "    <tr>\n",
       "      <th>25%</th>\n",
       "      <td>1.000000</td>\n",
       "      <td>1.000000</td>\n",
       "    </tr>\n",
       "    <tr>\n",
       "      <th>50%</th>\n",
       "      <td>2.000000</td>\n",
       "      <td>1.000000</td>\n",
       "    </tr>\n",
       "    <tr>\n",
       "      <th>75%</th>\n",
       "      <td>2.000000</td>\n",
       "      <td>3.000000</td>\n",
       "    </tr>\n",
       "    <tr>\n",
       "      <th>max</th>\n",
       "      <td>9.000000</td>\n",
       "      <td>14.000000</td>\n",
       "    </tr>\n",
       "  </tbody>\n",
       "</table>"
      ],
      "text/plain": [
       "<IPython.core.display.HTML object>"
      ]
     },
     "metadata": {},
     "output_type": "display_data"
    }
   ],
   "source": [
    "display( HTML( CompFeb.describe().to_html() ) )"
   ]
  },
  {
   "cell_type": "code",
   "execution_count": 42,
   "metadata": {},
   "outputs": [],
   "source": [
    "PRQs = CompFeb['PRISM'].quantile( q=OurQs )"
   ]
  },
  {
   "cell_type": "code",
   "execution_count": 43,
   "metadata": {},
   "outputs": [],
   "source": [
    "H0Qs = CompFeb['WG H0'].quantile( q=OurQs )"
   ]
  },
  {
   "cell_type": "code",
   "execution_count": 44,
   "metadata": {},
   "outputs": [
    {
     "data": {
      "text/plain": [
       "14.0"
      ]
     },
     "execution_count": 44,
     "metadata": {},
     "output_type": "execute_result"
    }
   ],
   "source": [
    "MaxVal = max( PRQs.max(), H0Qs.max() )\n",
    "MaxVal"
   ]
  },
  {
   "cell_type": "code",
   "execution_count": 45,
   "metadata": {},
   "outputs": [
    {
     "data": {
      "text/plain": [
       "20.0"
      ]
     },
     "execution_count": 45,
     "metadata": {},
     "output_type": "execute_result"
    }
   ],
   "source": [
    "MaxVal = round( MaxVal, -1 ) + 10.0\n",
    "MaxVal"
   ]
  },
  {
   "cell_type": "code",
   "execution_count": 46,
   "metadata": {},
   "outputs": [
    {
     "data": {
      "image/png": "[encoded data removed]",
      "text/plain": [
       "<Figure size 720x432 with 1 Axes>"
      ]
     },
     "metadata": {},
     "output_type": "display_data"
    }
   ],
   "source": [
    "Fig1 = plt.figure()\n",
    "Fig1.set_size_inches(10.0, 6.0)\n",
    "ax11 = Fig1.add_subplot(111)\n",
    "ax11.plot( PRQs.values, H0Qs.values, marker='o', linestyle='None', color='xkcd:royal blue' )\n",
    "ax11.plot( [0.0, MaxVal], [0.0, MaxVal], linestyle='-', color='xkcd:dark grey' )\n",
    "ax11.set_title(\"Feb Q-Q\", fontsize=16)\n",
    "ax11.set_xlabel('PRISM', fontsize=14 )\n",
    "ax11.set_ylabel('WG H0', fontsize=14)\n",
    "ax11.set_xlim( (0.0, MaxVal) )\n",
    "ax11.set_ylim( (0.0, MaxVal) )\n",
    "ax11.grid( b=True )\n",
    "#ax11.legend(loc='lower center')\n",
    "ax11.tick_params(axis='both', which='major', labelsize=13)\n",
    "ax11.yaxis.set_major_formatter( mpl.ticker.StrMethodFormatter( \"{x:,.1f}\" ) )\n",
    "ax11.xaxis.set_major_formatter( mpl.ticker.StrMethodFormatter( \"{x:,.1f}\" ) )"
   ]
  },
  {
   "cell_type": "code",
   "execution_count": 47,
   "metadata": {},
   "outputs": [],
   "source": [
    "sns.set(style=\"ticks\", color_codes=True)"
   ]
  },
  {
   "cell_type": "code",
   "execution_count": 48,
   "metadata": {},
   "outputs": [
    {
     "data": {
      "image/png": "[encoded data removed]",
      "text/plain": [
       "<Figure size 432x288 with 1 Axes>"
      ]
     },
     "metadata": {},
     "output_type": "display_data"
    }
   ],
   "source": [
    "ax = sns.boxplot(data=CompFeb, orient=\"h\", palette=\"Set2\")"
   ]
  },
  {
   "cell_type": "code",
   "execution_count": 49,
   "metadata": {},
   "outputs": [],
   "source": [
    "sns.set(style=\"white\", color_codes=True)"
   ]
  },
  {
   "cell_type": "code",
   "execution_count": 50,
   "metadata": {},
   "outputs": [
    {
     "data": {
      "image/png": "[encoded data removed]",
      "text/plain": [
       "<Figure size 432x432 with 3 Axes>"
      ]
     },
     "metadata": {},
     "output_type": "display_data"
    }
   ],
   "source": [
    "FebG = sns.jointplot(x='PRISM', y='WG H0', data=CompFeb, kind=\"hex\")"
   ]
  },
  {
   "cell_type": "markdown",
   "metadata": {},
   "source": [
    "## Mar"
   ]
  },
  {
   "cell_type": "markdown",
   "metadata": {},
   "source": [
    "First get our overall tracking values"
   ]
  },
  {
   "cell_type": "code",
   "execution_count": 51,
   "metadata": {},
   "outputs": [],
   "source": [
    "AveLister.append( [ PRMarDF['Wet_Count'].mean(), H0MarDF['Wet_Count'].mean() ] )\n",
    "VarLister.append( [ PRMarDF['Wet_Count'].var(), H0MarDF['Wet_Count'].var() ] )\n",
    "SkewLister.append( [ PRMarDF['Wet_Count'].skew(), H0MarDF['Wet_Count'].skew() ] )\n",
    "KurtLister.append( [ PRMarDF['Wet_Count'].kurtosis(), H0MarDF['Wet_Count'].kurtosis() ] )\n",
    "CntLister.append( [ PRMarDF['Wet_Count'].count(), H0MarDF['Wet_Count'].count() ] )\n",
    "PLister.append( [ (1.0 - (( PRMarDF['Wet_Count'].var() - PRMarDF['Wet_Count'].mean() ) / \n",
    "                            PRMarDF['Wet_Count'].var() ) ),\n",
    "                  (1.0 - (( H0MarDF['Wet_Count'].var() - H0MarDF['Wet_Count'].mean() ) / \n",
    "                            H0MarDF['Wet_Count'].var() ) ) ])\n",
    "NLister.append( [ ( PRMarDF['Wet_Count'].mean()**2.0 / \n",
    "                   ( PRMarDF['Wet_Count'].var() - PRMarDF['Wet_Count'].mean() ) ),\n",
    "                  ( H0MarDF['Wet_Count'].mean()**2.0 / \n",
    "                   ( H0MarDF['Wet_Count'].var() - H0MarDF['Wet_Count'].mean() ) ) ])\n",
    "MedianLister.append( [ PRMarDF['Wet_Count'].median(), H0MarDF['Wet_Count'].median() ] )\n",
    "MaxLister.append( [ PRMarDF['Wet_Count'].max(), H0MarDF['Wet_Count'].max() ] )\n",
    "MinLister.append( [ PRMarDF['Wet_Count'].min(), H0MarDF['Wet_Count'].min() ] )"
   ]
  },
  {
   "cell_type": "code",
   "execution_count": 52,
   "metadata": {},
   "outputs": [
    {
     "data": {
      "text/plain": [
       "(20910, 20345776)"
      ]
     },
     "execution_count": 52,
     "metadata": {},
     "output_type": "execute_result"
    }
   ],
   "source": [
    "NumPR = len( PRMarDF )\n",
    "NumH0 = len( H0MarDF )\n",
    "NumPR, NumH0"
   ]
  },
  {
   "cell_type": "code",
   "execution_count": 53,
   "metadata": {},
   "outputs": [],
   "source": [
    "CompMar = pd.DataFrame( data={ 'PRISM' : np.array( PRMarDF['Wet_Count'], dtype=np.int32),\n",
    "                               \"WG H0\" : np.array( H0MarDF['Wet_Count'].sample(n=NumPR), \n",
    "                                                  dtype=np.int32 ), } )"
   ]
  },
  {
   "cell_type": "code",
   "execution_count": 54,
   "metadata": {},
   "outputs": [
    {
     "data": {
      "text/html": [
       "<table border=\"1\" class=\"dataframe\">\n",
       "  <thead>\n",
       "    <tr style=\"text-align: right;\">\n",
       "      <th></th>\n",
       "      <th>PRISM</th>\n",
       "      <th>WG H0</th>\n",
       "    </tr>\n",
       "  </thead>\n",
       "  <tbody>\n",
       "    <tr>\n",
       "      <th>count</th>\n",
       "      <td>20910.000000</td>\n",
       "      <td>20910.000000</td>\n",
       "    </tr>\n",
       "    <tr>\n",
       "      <th>mean</th>\n",
       "      <td>1.761789</td>\n",
       "      <td>1.996844</td>\n",
       "    </tr>\n",
       "    <tr>\n",
       "      <th>std</th>\n",
       "      <td>1.076056</td>\n",
       "      <td>1.426199</td>\n",
       "    </tr>\n",
       "    <tr>\n",
       "      <th>min</th>\n",
       "      <td>1.000000</td>\n",
       "      <td>1.000000</td>\n",
       "    </tr>\n",
       "    <tr>\n",
       "      <th>25%</th>\n",
       "      <td>1.000000</td>\n",
       "      <td>1.000000</td>\n",
       "    </tr>\n",
       "    <tr>\n",
       "      <th>50%</th>\n",
       "      <td>1.000000</td>\n",
       "      <td>1.000000</td>\n",
       "    </tr>\n",
       "    <tr>\n",
       "      <th>75%</th>\n",
       "      <td>2.000000</td>\n",
       "      <td>3.000000</td>\n",
       "    </tr>\n",
       "    <tr>\n",
       "      <th>max</th>\n",
       "      <td>8.000000</td>\n",
       "      <td>14.000000</td>\n",
       "    </tr>\n",
       "  </tbody>\n",
       "</table>"
      ],
      "text/plain": [
       "<IPython.core.display.HTML object>"
      ]
     },
     "metadata": {},
     "output_type": "display_data"
    }
   ],
   "source": [
    "display( HTML( CompMar.describe().to_html() ) )"
   ]
  },
  {
   "cell_type": "code",
   "execution_count": 55,
   "metadata": {},
   "outputs": [],
   "source": [
    "PRQs = CompMar['PRISM'].quantile( q=OurQs )"
   ]
  },
  {
   "cell_type": "code",
   "execution_count": 56,
   "metadata": {},
   "outputs": [],
   "source": [
    "H0Qs = CompMar['WG H0'].quantile( q=OurQs )"
   ]
  },
  {
   "cell_type": "code",
   "execution_count": 57,
   "metadata": {},
   "outputs": [
    {
     "data": {
      "text/plain": [
       "14.0"
      ]
     },
     "execution_count": 57,
     "metadata": {},
     "output_type": "execute_result"
    }
   ],
   "source": [
    "MaxVal = max( PRQs.max(), H0Qs.max() )\n",
    "MaxVal"
   ]
  },
  {
   "cell_type": "code",
   "execution_count": 58,
   "metadata": {},
   "outputs": [
    {
     "data": {
      "text/plain": [
       "20.0"
      ]
     },
     "execution_count": 58,
     "metadata": {},
     "output_type": "execute_result"
    }
   ],
   "source": [
    "MaxVal = round( MaxVal, -1 ) + 10.0\n",
    "MaxVal"
   ]
  },
  {
   "cell_type": "code",
   "execution_count": 59,
   "metadata": {},
   "outputs": [
    {
     "data": {
      "image/png": "[encoded data removed]",
      "text/plain": [
       "<Figure size 720x432 with 1 Axes>"
      ]
     },
     "metadata": {},
     "output_type": "display_data"
    }
   ],
   "source": [
    "Fig1 = plt.figure()\n",
    "Fig1.set_size_inches(10.0, 6.0)\n",
    "ax11 = Fig1.add_subplot(111)\n",
    "ax11.plot( PRQs.values, H0Qs.values, marker='o', linestyle='None', color='xkcd:royal blue' )\n",
    "ax11.plot( [0.0, MaxVal], [0.0, MaxVal], linestyle='-', color='xkcd:dark grey' )\n",
    "ax11.set_title(\"Mar Q-Q\", fontsize=16)\n",
    "ax11.set_xlabel('PRISM', fontsize=14 )\n",
    "ax11.set_ylabel('WG H0', fontsize=14)\n",
    "ax11.set_xlim( (0.0, MaxVal) )\n",
    "ax11.set_ylim( (0.0, MaxVal) )\n",
    "ax11.grid( b=True )\n",
    "#ax11.legend(loc='lower center')\n",
    "ax11.tick_params(axis='both', which='major', labelsize=13)\n",
    "ax11.yaxis.set_major_formatter( mpl.ticker.StrMethodFormatter( \"{x:,.1f}\" ) )\n",
    "ax11.xaxis.set_major_formatter( mpl.ticker.StrMethodFormatter( \"{x:,.1f}\" ) )"
   ]
  },
  {
   "cell_type": "code",
   "execution_count": 60,
   "metadata": {},
   "outputs": [],
   "source": [
    "sns.set(style=\"ticks\", color_codes=True)"
   ]
  },
  {
   "cell_type": "code",
   "execution_count": 61,
   "metadata": {},
   "outputs": [
    {
     "data": {
      "image/png": "[encoded data removed]",
      "text/plain": [
       "<Figure size 432x288 with 1 Axes>"
      ]
     },
     "metadata": {},
     "output_type": "display_data"
    }
   ],
   "source": [
    "ax = sns.boxplot(data=CompMar, orient=\"h\", palette=\"Set2\")"
   ]
  },
  {
   "cell_type": "code",
   "execution_count": 62,
   "metadata": {},
   "outputs": [],
   "source": [
    "sns.set(style=\"white\", color_codes=True)"
   ]
  },
  {
   "cell_type": "code",
   "execution_count": 63,
   "metadata": {},
   "outputs": [
    {
     "data": {
      "image/png": "[encoded data removed]",
      "text/plain": [
       "<Figure size 432x432 with 3 Axes>"
      ]
     },
     "metadata": {},
     "output_type": "display_data"
    }
   ],
   "source": [
    "MarG = sns.jointplot(x='PRISM', y='WG H0', data=CompMar, kind=\"hex\")"
   ]
  },
  {
   "cell_type": "markdown",
   "metadata": {},
   "source": [
    "## Apr"
   ]
  },
  {
   "cell_type": "markdown",
   "metadata": {},
   "source": [
    "First get our overall tracking values"
   ]
  },
  {
   "cell_type": "code",
   "execution_count": 64,
   "metadata": {},
   "outputs": [],
   "source": [
    "AveLister.append( [ PRAprDF['Wet_Count'].mean(), H0AprDF['Wet_Count'].mean() ] )\n",
    "VarLister.append( [ PRAprDF['Wet_Count'].var(), H0AprDF['Wet_Count'].var() ] )\n",
    "SkewLister.append( [ PRAprDF['Wet_Count'].skew(), H0AprDF['Wet_Count'].skew() ] )\n",
    "KurtLister.append( [ PRAprDF['Wet_Count'].kurtosis(), H0AprDF['Wet_Count'].kurtosis() ] )\n",
    "CntLister.append( [ PRAprDF['Wet_Count'].count(), H0AprDF['Wet_Count'].count() ] )\n",
    "PLister.append( [ (1.0 - (( PRAprDF['Wet_Count'].var() - PRAprDF['Wet_Count'].mean() ) / \n",
    "                            PRAprDF['Wet_Count'].var() ) ),\n",
    "                  (1.0 - (( H0AprDF['Wet_Count'].var() - H0AprDF['Wet_Count'].mean() ) / \n",
    "                            H0AprDF['Wet_Count'].var() ) ) ])\n",
    "NLister.append( [ ( PRAprDF['Wet_Count'].mean()**2.0 / \n",
    "                   ( PRAprDF['Wet_Count'].var() - PRAprDF['Wet_Count'].mean() ) ),\n",
    "                  ( H0AprDF['Wet_Count'].mean()**2.0 / \n",
    "                   ( H0AprDF['Wet_Count'].var() - H0AprDF['Wet_Count'].mean() ) ) ])\n",
    "MedianLister.append( [ PRAprDF['Wet_Count'].median(), H0AprDF['Wet_Count'].median() ] )\n",
    "MaxLister.append( [ PRAprDF['Wet_Count'].max(), H0AprDF['Wet_Count'].max() ] )\n",
    "MinLister.append( [ PRAprDF['Wet_Count'].min(), H0AprDF['Wet_Count'].min() ] )"
   ]
  },
  {
   "cell_type": "code",
   "execution_count": 65,
   "metadata": {},
   "outputs": [
    {
     "data": {
      "text/plain": [
       "(18513, 20607708)"
      ]
     },
     "execution_count": 65,
     "metadata": {},
     "output_type": "execute_result"
    }
   ],
   "source": [
    "NumPR = len( PRAprDF )\n",
    "NumH0 = len( H0AprDF )\n",
    "NumPR, NumH0"
   ]
  },
  {
   "cell_type": "code",
   "execution_count": 66,
   "metadata": {},
   "outputs": [],
   "source": [
    "CompApr = pd.DataFrame( data={ 'PRISM' : np.array( PRAprDF['Wet_Count'], dtype=np.int32),\n",
    "                               \"WG H0\" : np.array( H0AprDF['Wet_Count'].sample(n=NumPR), \n",
    "                                                  dtype=np.int32 ), } )"
   ]
  },
  {
   "cell_type": "code",
   "execution_count": 67,
   "metadata": {},
   "outputs": [
    {
     "data": {
      "text/html": [
       "<table border=\"1\" class=\"dataframe\">\n",
       "  <thead>\n",
       "    <tr style=\"text-align: right;\">\n",
       "      <th></th>\n",
       "      <th>PRISM</th>\n",
       "      <th>WG H0</th>\n",
       "    </tr>\n",
       "  </thead>\n",
       "  <tbody>\n",
       "    <tr>\n",
       "      <th>count</th>\n",
       "      <td>18513.000000</td>\n",
       "      <td>18513.000000</td>\n",
       "    </tr>\n",
       "    <tr>\n",
       "      <th>mean</th>\n",
       "      <td>1.768595</td>\n",
       "      <td>2.022417</td>\n",
       "    </tr>\n",
       "    <tr>\n",
       "      <th>std</th>\n",
       "      <td>1.015030</td>\n",
       "      <td>1.426341</td>\n",
       "    </tr>\n",
       "    <tr>\n",
       "      <th>min</th>\n",
       "      <td>1.000000</td>\n",
       "      <td>1.000000</td>\n",
       "    </tr>\n",
       "    <tr>\n",
       "      <th>25%</th>\n",
       "      <td>1.000000</td>\n",
       "      <td>1.000000</td>\n",
       "    </tr>\n",
       "    <tr>\n",
       "      <th>50%</th>\n",
       "      <td>1.000000</td>\n",
       "      <td>1.000000</td>\n",
       "    </tr>\n",
       "    <tr>\n",
       "      <th>75%</th>\n",
       "      <td>2.000000</td>\n",
       "      <td>3.000000</td>\n",
       "    </tr>\n",
       "    <tr>\n",
       "      <th>max</th>\n",
       "      <td>6.000000</td>\n",
       "      <td>13.000000</td>\n",
       "    </tr>\n",
       "  </tbody>\n",
       "</table>"
      ],
      "text/plain": [
       "<IPython.core.display.HTML object>"
      ]
     },
     "metadata": {},
     "output_type": "display_data"
    }
   ],
   "source": [
    "display( HTML( CompApr.describe().to_html() ) )"
   ]
  },
  {
   "cell_type": "code",
   "execution_count": 68,
   "metadata": {},
   "outputs": [],
   "source": [
    "PRQs = CompApr['PRISM'].quantile( q=OurQs )"
   ]
  },
  {
   "cell_type": "code",
   "execution_count": 69,
   "metadata": {},
   "outputs": [],
   "source": [
    "H0Qs = CompApr['WG H0'].quantile( q=OurQs )"
   ]
  },
  {
   "cell_type": "code",
   "execution_count": 70,
   "metadata": {},
   "outputs": [
    {
     "data": {
      "text/plain": [
       "13.0"
      ]
     },
     "execution_count": 70,
     "metadata": {},
     "output_type": "execute_result"
    }
   ],
   "source": [
    "MaxVal = max( PRQs.max(), H0Qs.max() )\n",
    "MaxVal"
   ]
  },
  {
   "cell_type": "code",
   "execution_count": 71,
   "metadata": {},
   "outputs": [
    {
     "data": {
      "text/plain": [
       "20.0"
      ]
     },
     "execution_count": 71,
     "metadata": {},
     "output_type": "execute_result"
    }
   ],
   "source": [
    "MaxVal = round( MaxVal, -1 ) + 10.0\n",
    "MaxVal"
   ]
  },
  {
   "cell_type": "code",
   "execution_count": 72,
   "metadata": {},
   "outputs": [
    {
     "data": {
      "image/png": "[encoded data removed]",
      "text/plain": [
       "<Figure size 720x432 with 1 Axes>"
      ]
     },
     "metadata": {},
     "output_type": "display_data"
    }
   ],
   "source": [
    "Fig1 = plt.figure()\n",
    "Fig1.set_size_inches(10.0, 6.0)\n",
    "ax11 = Fig1.add_subplot(111)\n",
    "ax11.plot( PRQs.values, H0Qs.values, marker='o', linestyle='None', color='xkcd:royal blue' )\n",
    "ax11.plot( [0.0, MaxVal], [0.0, MaxVal], linestyle='-', color='xkcd:dark grey' )\n",
    "ax11.set_title(\"Apr Q-Q\", fontsize=16)\n",
    "ax11.set_xlabel('PRISM', fontsize=14 )\n",
    "ax11.set_ylabel('WG H0', fontsize=14)\n",
    "ax11.set_xlim( (0.0, MaxVal) )\n",
    "ax11.set_ylim( (0.0, MaxVal) )\n",
    "ax11.grid( b=True )\n",
    "#ax11.legend(loc='lower center')\n",
    "ax11.tick_params(axis='both', which='major', labelsize=13)\n",
    "ax11.yaxis.set_major_formatter( mpl.ticker.StrMethodFormatter( \"{x:,.1f}\" ) )\n",
    "ax11.xaxis.set_major_formatter( mpl.ticker.StrMethodFormatter( \"{x:,.1f}\" ) )"
   ]
  },
  {
   "cell_type": "code",
   "execution_count": 73,
   "metadata": {},
   "outputs": [],
   "source": [
    "sns.set(style=\"ticks\", color_codes=True)"
   ]
  },
  {
   "cell_type": "code",
   "execution_count": 74,
   "metadata": {},
   "outputs": [
    {
     "data": {
      "image/png": "[encoded data removed]",
      "text/plain": [
       "<Figure size 432x288 with 1 Axes>"
      ]
     },
     "metadata": {},
     "output_type": "display_data"
    }
   ],
   "source": [
    "ax = sns.boxplot(data=CompApr, orient=\"h\", palette=\"Set2\")"
   ]
  },
  {
   "cell_type": "code",
   "execution_count": 75,
   "metadata": {},
   "outputs": [],
   "source": [
    "sns.set(style=\"white\", color_codes=True)"
   ]
  },
  {
   "cell_type": "code",
   "execution_count": 76,
   "metadata": {},
   "outputs": [
    {
     "data": {
      "image/png": "[encoded data removed]",
      "text/plain": [
       "<Figure size 432x432 with 3 Axes>"
      ]
     },
     "metadata": {},
     "output_type": "display_data"
    }
   ],
   "source": [
    "AprG = sns.jointplot(x='PRISM', y='WG H0', data=CompApr, kind=\"hex\")"
   ]
  },
  {
   "cell_type": "markdown",
   "metadata": {},
   "source": [
    "## May"
   ]
  },
  {
   "cell_type": "markdown",
   "metadata": {},
   "source": [
    "First get our overall tracking values"
   ]
  },
  {
   "cell_type": "code",
   "execution_count": 77,
   "metadata": {},
   "outputs": [],
   "source": [
    "AveLister.append( [ PRMayDF['Wet_Count'].mean(), H0MayDF['Wet_Count'].mean() ] )\n",
    "VarLister.append( [ PRMayDF['Wet_Count'].var(), H0MayDF['Wet_Count'].var() ] )\n",
    "SkewLister.append( [ PRMayDF['Wet_Count'].skew(), H0MayDF['Wet_Count'].skew() ] )\n",
    "KurtLister.append( [ PRMayDF['Wet_Count'].kurtosis(), H0MayDF['Wet_Count'].kurtosis() ] )\n",
    "CntLister.append( [ PRMayDF['Wet_Count'].count(), H0MayDF['Wet_Count'].count() ] )\n",
    "PLister.append( [ (1.0 - (( PRMayDF['Wet_Count'].var() - PRMayDF['Wet_Count'].mean() ) / \n",
    "                            PRMayDF['Wet_Count'].var() ) ),\n",
    "                  (1.0 - (( H0MayDF['Wet_Count'].var() - H0MayDF['Wet_Count'].mean() ) / \n",
    "                            H0MayDF['Wet_Count'].var() ) ) ])\n",
    "NLister.append( [ ( PRMayDF['Wet_Count'].mean()**2.0 / \n",
    "                   ( PRMayDF['Wet_Count'].var() - PRMayDF['Wet_Count'].mean() ) ),\n",
    "                  ( H0MayDF['Wet_Count'].mean()**2.0 / \n",
    "                   ( H0MayDF['Wet_Count'].var() - H0MayDF['Wet_Count'].mean() ) ) ])\n",
    "MedianLister.append( [ PRMayDF['Wet_Count'].median(), H0MayDF['Wet_Count'].median() ] )\n",
    "MaxLister.append( [ PRMayDF['Wet_Count'].max(), H0MayDF['Wet_Count'].max() ] )\n",
    "MinLister.append( [ PRMayDF['Wet_Count'].min(), H0MayDF['Wet_Count'].min() ] )"
   ]
  },
  {
   "cell_type": "code",
   "execution_count": 78,
   "metadata": {},
   "outputs": [
    {
     "data": {
      "text/plain": [
       "(24916, 24942654)"
      ]
     },
     "execution_count": 78,
     "metadata": {},
     "output_type": "execute_result"
    }
   ],
   "source": [
    "NumPR = len( PRMayDF )\n",
    "NumH0 = len( H0MayDF )\n",
    "NumPR, NumH0"
   ]
  },
  {
   "cell_type": "code",
   "execution_count": 79,
   "metadata": {},
   "outputs": [],
   "source": [
    "CompMay = pd.DataFrame( data={ 'PRISM' : np.array( PRMayDF['Wet_Count'], dtype=np.int32),\n",
    "                               \"WG H0\" : np.array( H0MayDF['Wet_Count'].sample(n=NumPR), \n",
    "                                                  dtype=np.int32 ), } )"
   ]
  },
  {
   "cell_type": "code",
   "execution_count": 80,
   "metadata": {},
   "outputs": [
    {
     "data": {
      "text/html": [
       "<table border=\"1\" class=\"dataframe\">\n",
       "  <thead>\n",
       "    <tr style=\"text-align: right;\">\n",
       "      <th></th>\n",
       "      <th>PRISM</th>\n",
       "      <th>WG H0</th>\n",
       "    </tr>\n",
       "  </thead>\n",
       "  <tbody>\n",
       "    <tr>\n",
       "      <th>count</th>\n",
       "      <td>24916.000000</td>\n",
       "      <td>24916.000000</td>\n",
       "    </tr>\n",
       "    <tr>\n",
       "      <th>mean</th>\n",
       "      <td>1.862177</td>\n",
       "      <td>2.079788</td>\n",
       "    </tr>\n",
       "    <tr>\n",
       "      <th>std</th>\n",
       "      <td>1.305705</td>\n",
       "      <td>1.476410</td>\n",
       "    </tr>\n",
       "    <tr>\n",
       "      <th>min</th>\n",
       "      <td>1.000000</td>\n",
       "      <td>1.000000</td>\n",
       "    </tr>\n",
       "    <tr>\n",
       "      <th>25%</th>\n",
       "      <td>1.000000</td>\n",
       "      <td>1.000000</td>\n",
       "    </tr>\n",
       "    <tr>\n",
       "      <th>50%</th>\n",
       "      <td>1.000000</td>\n",
       "      <td>2.000000</td>\n",
       "    </tr>\n",
       "    <tr>\n",
       "      <th>75%</th>\n",
       "      <td>2.000000</td>\n",
       "      <td>3.000000</td>\n",
       "    </tr>\n",
       "    <tr>\n",
       "      <th>max</th>\n",
       "      <td>17.000000</td>\n",
       "      <td>13.000000</td>\n",
       "    </tr>\n",
       "  </tbody>\n",
       "</table>"
      ],
      "text/plain": [
       "<IPython.core.display.HTML object>"
      ]
     },
     "metadata": {},
     "output_type": "display_data"
    }
   ],
   "source": [
    "display( HTML( CompMay.describe().to_html() ) )"
   ]
  },
  {
   "cell_type": "code",
   "execution_count": 81,
   "metadata": {},
   "outputs": [],
   "source": [
    "PRQs = CompMay['PRISM'].quantile( q=OurQs )"
   ]
  },
  {
   "cell_type": "code",
   "execution_count": 82,
   "metadata": {},
   "outputs": [],
   "source": [
    "H0Qs = CompMay['WG H0'].quantile( q=OurQs )"
   ]
  },
  {
   "cell_type": "code",
   "execution_count": 83,
   "metadata": {},
   "outputs": [
    {
     "data": {
      "text/plain": [
       "17.0"
      ]
     },
     "execution_count": 83,
     "metadata": {},
     "output_type": "execute_result"
    }
   ],
   "source": [
    "MaxVal = max( PRQs.max(), H0Qs.max() )\n",
    "MaxVal"
   ]
  },
  {
   "cell_type": "code",
   "execution_count": 84,
   "metadata": {},
   "outputs": [
    {
     "data": {
      "text/plain": [
       "20.0"
      ]
     },
     "execution_count": 84,
     "metadata": {},
     "output_type": "execute_result"
    }
   ],
   "source": [
    "MaxVal = round( MaxVal, -1 ) + 0.0\n",
    "MaxVal"
   ]
  },
  {
   "cell_type": "code",
   "execution_count": 85,
   "metadata": {},
   "outputs": [
    {
     "data": {
      "image/png": "[encoded data removed]",
      "text/plain": [
       "<Figure size 720x432 with 1 Axes>"
      ]
     },
     "metadata": {},
     "output_type": "display_data"
    }
   ],
   "source": [
    "Fig1 = plt.figure()\n",
    "Fig1.set_size_inches(10.0, 6.0)\n",
    "ax11 = Fig1.add_subplot(111)\n",
    "ax11.plot( PRQs.values, H0Qs.values, marker='o', linestyle='None', color='xkcd:royal blue' )\n",
    "ax11.plot( [0.0, MaxVal], [0.0, MaxVal], linestyle='-', color='xkcd:dark grey' )\n",
    "ax11.set_title(\"May Q-Q\", fontsize=16)\n",
    "ax11.set_xlabel('PRISM', fontsize=14 )\n",
    "ax11.set_ylabel('WG H0', fontsize=14)\n",
    "ax11.set_xlim( (0.0, MaxVal) )\n",
    "ax11.set_ylim( (0.0, MaxVal) )\n",
    "ax11.grid( b=True )\n",
    "#ax11.legend(loc='lower center')\n",
    "ax11.tick_params(axis='both', which='major', labelsize=13)\n",
    "ax11.yaxis.set_major_formatter( mpl.ticker.StrMethodFormatter( \"{x:,.1f}\" ) )\n",
    "ax11.xaxis.set_major_formatter( mpl.ticker.StrMethodFormatter( \"{x:,.1f}\" ) )"
   ]
  },
  {
   "cell_type": "code",
   "execution_count": 86,
   "metadata": {},
   "outputs": [],
   "source": [
    "sns.set(style=\"ticks\", color_codes=True)"
   ]
  },
  {
   "cell_type": "code",
   "execution_count": 87,
   "metadata": {},
   "outputs": [
    {
     "data": {
      "image/png": "[encoded data removed]",
      "text/plain": [
       "<Figure size 432x288 with 1 Axes>"
      ]
     },
     "metadata": {},
     "output_type": "display_data"
    }
   ],
   "source": [
    "ax = sns.boxplot(data=CompMay, orient=\"h\", palette=\"Set2\")"
   ]
  },
  {
   "cell_type": "code",
   "execution_count": 88,
   "metadata": {},
   "outputs": [],
   "source": [
    "sns.set(style=\"white\", color_codes=True)"
   ]
  },
  {
   "cell_type": "code",
   "execution_count": 89,
   "metadata": {},
   "outputs": [
    {
     "data": {
      "image/png": "[encoded data removed]",
      "text/plain": [
       "<Figure size 432x432 with 3 Axes>"
      ]
     },
     "metadata": {},
     "output_type": "display_data"
    }
   ],
   "source": [
    "MayG = sns.jointplot(x='PRISM', y='WG H0', data=CompMay, kind=\"hex\")"
   ]
  },
  {
   "cell_type": "markdown",
   "metadata": {},
   "source": [
    "## Jun"
   ]
  },
  {
   "cell_type": "markdown",
   "metadata": {},
   "source": [
    "First get our overall tracking values"
   ]
  },
  {
   "cell_type": "code",
   "execution_count": 90,
   "metadata": {},
   "outputs": [],
   "source": [
    "AveLister.append( [ PRJunDF['Wet_Count'].mean(), H0JunDF['Wet_Count'].mean() ] )\n",
    "VarLister.append( [ PRJunDF['Wet_Count'].var(), H0JunDF['Wet_Count'].var() ] )\n",
    "SkewLister.append( [ PRJunDF['Wet_Count'].skew(), H0JunDF['Wet_Count'].skew() ] )\n",
    "KurtLister.append( [ PRJunDF['Wet_Count'].kurtosis(), H0JunDF['Wet_Count'].kurtosis() ] )\n",
    "CntLister.append( [ PRJunDF['Wet_Count'].count(), H0JunDF['Wet_Count'].count() ] )\n",
    "PLister.append( [ (1.0 - (( PRJunDF['Wet_Count'].var() - PRJunDF['Wet_Count'].mean() ) / \n",
    "                            PRJunDF['Wet_Count'].var() ) ),\n",
    "                  (1.0 - (( H0JunDF['Wet_Count'].var() - H0JunDF['Wet_Count'].mean() ) / \n",
    "                            H0JunDF['Wet_Count'].var() ) ) ])\n",
    "NLister.append( [ ( PRJunDF['Wet_Count'].mean()**2.0 / \n",
    "                   ( PRJunDF['Wet_Count'].var() - PRJunDF['Wet_Count'].mean() ) ),\n",
    "                  ( H0JunDF['Wet_Count'].mean()**2.0 / \n",
    "                   ( H0JunDF['Wet_Count'].var() - H0JunDF['Wet_Count'].mean() ) ) ])\n",
    "MedianLister.append( [ PRJunDF['Wet_Count'].median(), H0JunDF['Wet_Count'].median() ] )\n",
    "MaxLister.append( [ PRJunDF['Wet_Count'].max(), H0JunDF['Wet_Count'].max() ] )\n",
    "MinLister.append( [ PRJunDF['Wet_Count'].min(), H0JunDF['Wet_Count'].min() ] )"
   ]
  },
  {
   "cell_type": "code",
   "execution_count": 91,
   "metadata": {},
   "outputs": [
    {
     "data": {
      "text/plain": [
       "(22743, 22776732)"
      ]
     },
     "execution_count": 91,
     "metadata": {},
     "output_type": "execute_result"
    }
   ],
   "source": [
    "NumPR = len( PRJunDF )\n",
    "NumH0 = len( H0JunDF )\n",
    "NumPR, NumH0"
   ]
  },
  {
   "cell_type": "code",
   "execution_count": 92,
   "metadata": {},
   "outputs": [],
   "source": [
    "CompJun = pd.DataFrame( data={ 'PRISM' : np.array( PRJunDF['Wet_Count'], dtype=np.int32),\n",
    "                               \"WG H0\" : np.array( H0JunDF['Wet_Count'].sample(n=NumPR), \n",
    "                                                  dtype=np.int32 ), } )"
   ]
  },
  {
   "cell_type": "code",
   "execution_count": 93,
   "metadata": {},
   "outputs": [
    {
     "data": {
      "text/html": [
       "<table border=\"1\" class=\"dataframe\">\n",
       "  <thead>\n",
       "    <tr style=\"text-align: right;\">\n",
       "      <th></th>\n",
       "      <th>PRISM</th>\n",
       "      <th>WG H0</th>\n",
       "    </tr>\n",
       "  </thead>\n",
       "  <tbody>\n",
       "    <tr>\n",
       "      <th>count</th>\n",
       "      <td>22743.000000</td>\n",
       "      <td>22743.000000</td>\n",
       "    </tr>\n",
       "    <tr>\n",
       "      <th>mean</th>\n",
       "      <td>2.071890</td>\n",
       "      <td>2.254672</td>\n",
       "    </tr>\n",
       "    <tr>\n",
       "      <th>std</th>\n",
       "      <td>1.630758</td>\n",
       "      <td>1.558449</td>\n",
       "    </tr>\n",
       "    <tr>\n",
       "      <th>min</th>\n",
       "      <td>1.000000</td>\n",
       "      <td>1.000000</td>\n",
       "    </tr>\n",
       "    <tr>\n",
       "      <th>25%</th>\n",
       "      <td>1.000000</td>\n",
       "      <td>1.000000</td>\n",
       "    </tr>\n",
       "    <tr>\n",
       "      <th>50%</th>\n",
       "      <td>2.000000</td>\n",
       "      <td>2.000000</td>\n",
       "    </tr>\n",
       "    <tr>\n",
       "      <th>75%</th>\n",
       "      <td>2.000000</td>\n",
       "      <td>3.000000</td>\n",
       "    </tr>\n",
       "    <tr>\n",
       "      <th>max</th>\n",
       "      <td>14.000000</td>\n",
       "      <td>13.000000</td>\n",
       "    </tr>\n",
       "  </tbody>\n",
       "</table>"
      ],
      "text/plain": [
       "<IPython.core.display.HTML object>"
      ]
     },
     "metadata": {},
     "output_type": "display_data"
    }
   ],
   "source": [
    "display( HTML( CompJun.describe().to_html() ) )"
   ]
  },
  {
   "cell_type": "code",
   "execution_count": 94,
   "metadata": {},
   "outputs": [],
   "source": [
    "PRQs = CompJun['PRISM'].quantile( q=OurQs )"
   ]
  },
  {
   "cell_type": "code",
   "execution_count": 95,
   "metadata": {},
   "outputs": [],
   "source": [
    "H0Qs = CompJun['WG H0'].quantile( q=OurQs )"
   ]
  },
  {
   "cell_type": "code",
   "execution_count": 96,
   "metadata": {},
   "outputs": [
    {
     "data": {
      "text/plain": [
       "14.0"
      ]
     },
     "execution_count": 96,
     "metadata": {},
     "output_type": "execute_result"
    }
   ],
   "source": [
    "MaxVal = max( PRQs.max(), H0Qs.max() )\n",
    "MaxVal"
   ]
  },
  {
   "cell_type": "code",
   "execution_count": 97,
   "metadata": {},
   "outputs": [
    {
     "data": {
      "text/plain": [
       "10.0"
      ]
     },
     "execution_count": 97,
     "metadata": {},
     "output_type": "execute_result"
    }
   ],
   "source": [
    "MaxVal = round( MaxVal, -1 ) + 0.0\n",
    "MaxVal"
   ]
  },
  {
   "cell_type": "code",
   "execution_count": 98,
   "metadata": {},
   "outputs": [
    {
     "data": {
      "image/png": "[encoded data removed]",
      "text/plain": [
       "<Figure size 720x432 with 1 Axes>"
      ]
     },
     "metadata": {},
     "output_type": "display_data"
    }
   ],
   "source": [
    "Fig1 = plt.figure()\n",
    "Fig1.set_size_inches(10.0, 6.0)\n",
    "ax11 = Fig1.add_subplot(111)\n",
    "ax11.plot( PRQs.values, H0Qs.values, marker='o', linestyle='None', color='xkcd:royal blue' )\n",
    "ax11.plot( [0.0, MaxVal], [0.0, MaxVal], linestyle='-', color='xkcd:dark grey' )\n",
    "ax11.set_title(\"Jun Q-Q\", fontsize=16)\n",
    "ax11.set_xlabel('PRISM', fontsize=14 )\n",
    "ax11.set_ylabel('WG H0', fontsize=14)\n",
    "ax11.set_xlim( (0.0, MaxVal) )\n",
    "ax11.set_ylim( (0.0, MaxVal) )\n",
    "ax11.grid( b=True )\n",
    "#ax11.legend(loc='lower center')\n",
    "ax11.tick_params(axis='both', which='major', labelsize=13)\n",
    "ax11.yaxis.set_major_formatter( mpl.ticker.StrMethodFormatter( \"{x:,.1f}\" ) )\n",
    "ax11.xaxis.set_major_formatter( mpl.ticker.StrMethodFormatter( \"{x:,.1f}\" ) )"
   ]
  },
  {
   "cell_type": "code",
   "execution_count": 99,
   "metadata": {},
   "outputs": [],
   "source": [
    "sns.set(style=\"ticks\", color_codes=True)"
   ]
  },
  {
   "cell_type": "code",
   "execution_count": 100,
   "metadata": {},
   "outputs": [
    {
     "data": {
      "image/png": "[encoded data removed]",
      "text/plain": [
       "<Figure size 432x288 with 1 Axes>"
      ]
     },
     "metadata": {},
     "output_type": "display_data"
    }
   ],
   "source": [
    "ax = sns.boxplot(data=CompJun, orient=\"h\", palette=\"Set2\")"
   ]
  },
  {
   "cell_type": "code",
   "execution_count": 101,
   "metadata": {},
   "outputs": [],
   "source": [
    "sns.set(style=\"white\", color_codes=True)"
   ]
  },
  {
   "cell_type": "code",
   "execution_count": 102,
   "metadata": {},
   "outputs": [
    {
     "data": {
      "image/png": "[encoded data removed]",
      "text/plain": [
       "<Figure size 432x432 with 3 Axes>"
      ]
     },
     "metadata": {},
     "output_type": "display_data"
    }
   ],
   "source": [
    "JunG = sns.jointplot(x='PRISM', y='WG H0', data=CompJun, kind=\"hex\")"
   ]
  },
  {
   "cell_type": "markdown",
   "metadata": {},
   "source": [
    "## Jul"
   ]
  },
  {
   "cell_type": "markdown",
   "metadata": {},
   "source": [
    "First get our overall tracking values"
   ]
  },
  {
   "cell_type": "code",
   "execution_count": 103,
   "metadata": {},
   "outputs": [],
   "source": [
    "AveLister.append( [ PRJulDF['Wet_Count'].mean(), H0JulDF['Wet_Count'].mean() ] )\n",
    "VarLister.append( [ PRJulDF['Wet_Count'].var(), H0JulDF['Wet_Count'].var() ] )\n",
    "SkewLister.append( [ PRJulDF['Wet_Count'].skew(), H0JulDF['Wet_Count'].skew() ] )\n",
    "KurtLister.append( [ PRJulDF['Wet_Count'].kurtosis(), H0JulDF['Wet_Count'].kurtosis() ] )\n",
    "CntLister.append( [ PRJulDF['Wet_Count'].count(), H0JulDF['Wet_Count'].count() ] )\n",
    "PLister.append( [ (1.0 - (( PRJulDF['Wet_Count'].var() - PRJulDF['Wet_Count'].mean() ) / \n",
    "                            PRJulDF['Wet_Count'].var() ) ),\n",
    "                  (1.0 - (( H0JulDF['Wet_Count'].var() - H0JulDF['Wet_Count'].mean() ) / \n",
    "                            H0JulDF['Wet_Count'].var() ) ) ])\n",
    "NLister.append( [ ( PRJulDF['Wet_Count'].mean()**2.0 / \n",
    "                   ( PRJulDF['Wet_Count'].var() - PRJulDF['Wet_Count'].mean() ) ),\n",
    "                  ( H0JulDF['Wet_Count'].mean()**2.0 / \n",
    "                   ( H0JulDF['Wet_Count'].var() - H0JulDF['Wet_Count'].mean() ) ) ])\n",
    "MedianLister.append( [ PRJulDF['Wet_Count'].median(), H0JulDF['Wet_Count'].median() ] )\n",
    "MaxLister.append( [ PRJulDF['Wet_Count'].max(), H0JulDF['Wet_Count'].max() ] )\n",
    "MinLister.append( [ PRJulDF['Wet_Count'].min(), H0JulDF['Wet_Count'].min() ] )"
   ]
  },
  {
   "cell_type": "code",
   "execution_count": 104,
   "metadata": {},
   "outputs": [
    {
     "data": {
      "text/plain": [
       "(17334, 19453874)"
      ]
     },
     "execution_count": 104,
     "metadata": {},
     "output_type": "execute_result"
    }
   ],
   "source": [
    "NumPR = len( PRJulDF )\n",
    "NumH0 = len( H0JulDF )\n",
    "NumPR, NumH0"
   ]
  },
  {
   "cell_type": "code",
   "execution_count": 105,
   "metadata": {},
   "outputs": [],
   "source": [
    "CompJul = pd.DataFrame( data={ 'PRISM' : np.array( PRJulDF['Wet_Count'], dtype=np.int32),\n",
    "                               \"WG H0\" : np.array( H0JulDF['Wet_Count'].sample(n=NumPR), \n",
    "                                                  dtype=np.int32 ), } )"
   ]
  },
  {
   "cell_type": "code",
   "execution_count": 106,
   "metadata": {},
   "outputs": [
    {
     "data": {
      "text/html": [
       "<table border=\"1\" class=\"dataframe\">\n",
       "  <thead>\n",
       "    <tr style=\"text-align: right;\">\n",
       "      <th></th>\n",
       "      <th>PRISM</th>\n",
       "      <th>WG H0</th>\n",
       "    </tr>\n",
       "  </thead>\n",
       "  <tbody>\n",
       "    <tr>\n",
       "      <th>count</th>\n",
       "      <td>17334.000000</td>\n",
       "      <td>17334.000000</td>\n",
       "    </tr>\n",
       "    <tr>\n",
       "      <th>mean</th>\n",
       "      <td>2.056709</td>\n",
       "      <td>2.217722</td>\n",
       "    </tr>\n",
       "    <tr>\n",
       "      <th>std</th>\n",
       "      <td>1.494490</td>\n",
       "      <td>1.557719</td>\n",
       "    </tr>\n",
       "    <tr>\n",
       "      <th>min</th>\n",
       "      <td>1.000000</td>\n",
       "      <td>1.000000</td>\n",
       "    </tr>\n",
       "    <tr>\n",
       "      <th>25%</th>\n",
       "      <td>1.000000</td>\n",
       "      <td>1.000000</td>\n",
       "    </tr>\n",
       "    <tr>\n",
       "      <th>50%</th>\n",
       "      <td>2.000000</td>\n",
       "      <td>2.000000</td>\n",
       "    </tr>\n",
       "    <tr>\n",
       "      <th>75%</th>\n",
       "      <td>3.000000</td>\n",
       "      <td>3.000000</td>\n",
       "    </tr>\n",
       "    <tr>\n",
       "      <th>max</th>\n",
       "      <td>13.000000</td>\n",
       "      <td>14.000000</td>\n",
       "    </tr>\n",
       "  </tbody>\n",
       "</table>"
      ],
      "text/plain": [
       "<IPython.core.display.HTML object>"
      ]
     },
     "metadata": {},
     "output_type": "display_data"
    }
   ],
   "source": [
    "display( HTML( CompJul.describe().to_html() ) )"
   ]
  },
  {
   "cell_type": "code",
   "execution_count": 107,
   "metadata": {},
   "outputs": [],
   "source": [
    "PRQs = CompJul['PRISM'].quantile( q=OurQs )"
   ]
  },
  {
   "cell_type": "code",
   "execution_count": 108,
   "metadata": {},
   "outputs": [],
   "source": [
    "H0Qs = CompJul['WG H0'].quantile( q=OurQs )"
   ]
  },
  {
   "cell_type": "code",
   "execution_count": 109,
   "metadata": {},
   "outputs": [
    {
     "data": {
      "text/plain": [
       "14.0"
      ]
     },
     "execution_count": 109,
     "metadata": {},
     "output_type": "execute_result"
    }
   ],
   "source": [
    "MaxVal = max( PRQs.max(), H0Qs.max() )\n",
    "MaxVal"
   ]
  },
  {
   "cell_type": "code",
   "execution_count": 110,
   "metadata": {},
   "outputs": [
    {
     "data": {
      "text/plain": [
       "20.0"
      ]
     },
     "execution_count": 110,
     "metadata": {},
     "output_type": "execute_result"
    }
   ],
   "source": [
    "MaxVal = round( MaxVal, -1 ) + 10.0\n",
    "MaxVal"
   ]
  },
  {
   "cell_type": "code",
   "execution_count": 111,
   "metadata": {},
   "outputs": [
    {
     "data": {
      "image/png": "[encoded data removed]",
      "text/plain": [
       "<Figure size 720x432 with 1 Axes>"
      ]
     },
     "metadata": {},
     "output_type": "display_data"
    }
   ],
   "source": [
    "Fig1 = plt.figure()\n",
    "Fig1.set_size_inches(10.0, 6.0)\n",
    "ax11 = Fig1.add_subplot(111)\n",
    "ax11.plot( PRQs.values, H0Qs.values, marker='o', linestyle='None', color='xkcd:royal blue' )\n",
    "ax11.plot( [0.0, MaxVal], [0.0, MaxVal], linestyle='-', color='xkcd:dark grey' )\n",
    "ax11.set_title(\"Jul Q-Q\", fontsize=16)\n",
    "ax11.set_xlabel('PRISM', fontsize=14 )\n",
    "ax11.set_ylabel('WG H0', fontsize=14)\n",
    "ax11.set_xlim( (0.0, MaxVal) )\n",
    "ax11.set_ylim( (0.0, MaxVal) )\n",
    "ax11.grid( b=True )\n",
    "#ax11.legend(loc='lower center')\n",
    "ax11.tick_params(axis='both', which='major', labelsize=13)\n",
    "ax11.yaxis.set_major_formatter( mpl.ticker.StrMethodFormatter( \"{x:,.1f}\" ) )\n",
    "ax11.xaxis.set_major_formatter( mpl.ticker.StrMethodFormatter( \"{x:,.1f}\" ) )"
   ]
  },
  {
   "cell_type": "code",
   "execution_count": 112,
   "metadata": {},
   "outputs": [],
   "source": [
    "sns.set(style=\"ticks\", color_codes=True)"
   ]
  },
  {
   "cell_type": "code",
   "execution_count": 113,
   "metadata": {},
   "outputs": [
    {
     "data": {
      "image/png": "[encoded data removed]",
      "text/plain": [
       "<Figure size 432x288 with 1 Axes>"
      ]
     },
     "metadata": {},
     "output_type": "display_data"
    }
   ],
   "source": [
    "ax = sns.boxplot(data=CompJul, orient=\"h\", palette=\"Set2\")"
   ]
  },
  {
   "cell_type": "code",
   "execution_count": 114,
   "metadata": {},
   "outputs": [],
   "source": [
    "sns.set(style=\"white\", color_codes=True)"
   ]
  },
  {
   "cell_type": "code",
   "execution_count": 115,
   "metadata": {},
   "outputs": [
    {
     "data": {
      "image/png": "[encoded data removed]",
      "text/plain": [
       "<Figure size 432x432 with 3 Axes>"
      ]
     },
     "metadata": {},
     "output_type": "display_data"
    }
   ],
   "source": [
    "JulG = sns.jointplot(x='PRISM', y='WG H0', data=CompJul, kind=\"hex\")"
   ]
  },
  {
   "cell_type": "markdown",
   "metadata": {},
   "source": [
    "## Aug"
   ]
  },
  {
   "cell_type": "markdown",
   "metadata": {},
   "source": [
    "First get our overall tracking values"
   ]
  },
  {
   "cell_type": "code",
   "execution_count": 116,
   "metadata": {},
   "outputs": [],
   "source": [
    "AveLister.append( [ PRAugDF['Wet_Count'].mean(), H0AugDF['Wet_Count'].mean() ] )\n",
    "VarLister.append( [ PRAugDF['Wet_Count'].var(), H0AugDF['Wet_Count'].var() ] )\n",
    "SkewLister.append( [ PRAugDF['Wet_Count'].skew(), H0AugDF['Wet_Count'].skew() ] )\n",
    "KurtLister.append( [ PRAugDF['Wet_Count'].kurtosis(), H0AugDF['Wet_Count'].kurtosis() ] )\n",
    "CntLister.append( [ PRAugDF['Wet_Count'].count(), H0AugDF['Wet_Count'].count() ] )\n",
    "PLister.append( [ (1.0 - (( PRAugDF['Wet_Count'].var() - PRAugDF['Wet_Count'].mean() ) / \n",
    "                            PRAugDF['Wet_Count'].var() ) ),\n",
    "                  (1.0 - (( H0AugDF['Wet_Count'].var() - H0AugDF['Wet_Count'].mean() ) / \n",
    "                            H0AugDF['Wet_Count'].var() ) ) ])\n",
    "NLister.append( [ ( PRAugDF['Wet_Count'].mean()**2.0 / \n",
    "                   ( PRAugDF['Wet_Count'].var() - PRAugDF['Wet_Count'].mean() ) ),\n",
    "                  ( H0AugDF['Wet_Count'].mean()**2.0 / \n",
    "                   ( H0AugDF['Wet_Count'].var() - H0AugDF['Wet_Count'].mean() ) ) ])\n",
    "MedianLister.append( [ PRAugDF['Wet_Count'].median(), H0AugDF['Wet_Count'].median() ] )\n",
    "MaxLister.append( [ PRAugDF['Wet_Count'].max(), H0AugDF['Wet_Count'].max() ] )\n",
    "MinLister.append( [ PRAugDF['Wet_Count'].min(), H0AugDF['Wet_Count'].min() ] )"
   ]
  },
  {
   "cell_type": "code",
   "execution_count": 117,
   "metadata": {},
   "outputs": [
    {
     "data": {
      "text/plain": [
       "(20087, 21634536)"
      ]
     },
     "execution_count": 117,
     "metadata": {},
     "output_type": "execute_result"
    }
   ],
   "source": [
    "NumPR = len( PRAugDF )\n",
    "NumH0 = len( H0AugDF )\n",
    "NumPR, NumH0"
   ]
  },
  {
   "cell_type": "code",
   "execution_count": 118,
   "metadata": {},
   "outputs": [],
   "source": [
    "CompAug = pd.DataFrame( data={ 'PRISM' : np.array( PRAugDF['Wet_Count'], dtype=np.int32),\n",
    "                               \"WG H0\" : np.array( H0AugDF['Wet_Count'].sample(n=NumPR), \n",
    "                                                  dtype=np.int32 ), } )"
   ]
  },
  {
   "cell_type": "code",
   "execution_count": 119,
   "metadata": {},
   "outputs": [
    {
     "data": {
      "text/html": [
       "<table border=\"1\" class=\"dataframe\">\n",
       "  <thead>\n",
       "    <tr style=\"text-align: right;\">\n",
       "      <th></th>\n",
       "      <th>PRISM</th>\n",
       "      <th>WG H0</th>\n",
       "    </tr>\n",
       "  </thead>\n",
       "  <tbody>\n",
       "    <tr>\n",
       "      <th>count</th>\n",
       "      <td>20087.000000</td>\n",
       "      <td>20087.000000</td>\n",
       "    </tr>\n",
       "    <tr>\n",
       "      <th>mean</th>\n",
       "      <td>2.098422</td>\n",
       "      <td>2.277144</td>\n",
       "    </tr>\n",
       "    <tr>\n",
       "      <th>std</th>\n",
       "      <td>1.661041</td>\n",
       "      <td>1.570922</td>\n",
       "    </tr>\n",
       "    <tr>\n",
       "      <th>min</th>\n",
       "      <td>1.000000</td>\n",
       "      <td>1.000000</td>\n",
       "    </tr>\n",
       "    <tr>\n",
       "      <th>25%</th>\n",
       "      <td>1.000000</td>\n",
       "      <td>1.000000</td>\n",
       "    </tr>\n",
       "    <tr>\n",
       "      <th>50%</th>\n",
       "      <td>2.000000</td>\n",
       "      <td>2.000000</td>\n",
       "    </tr>\n",
       "    <tr>\n",
       "      <th>75%</th>\n",
       "      <td>3.000000</td>\n",
       "      <td>3.000000</td>\n",
       "    </tr>\n",
       "    <tr>\n",
       "      <th>max</th>\n",
       "      <td>15.000000</td>\n",
       "      <td>17.000000</td>\n",
       "    </tr>\n",
       "  </tbody>\n",
       "</table>"
      ],
      "text/plain": [
       "<IPython.core.display.HTML object>"
      ]
     },
     "metadata": {},
     "output_type": "display_data"
    }
   ],
   "source": [
    "display( HTML( CompAug.describe().to_html() ) )"
   ]
  },
  {
   "cell_type": "code",
   "execution_count": 120,
   "metadata": {},
   "outputs": [],
   "source": [
    "PRQs = CompAug['PRISM'].quantile( q=OurQs )"
   ]
  },
  {
   "cell_type": "code",
   "execution_count": 121,
   "metadata": {},
   "outputs": [],
   "source": [
    "H0Qs = CompAug['WG H0'].quantile( q=OurQs )"
   ]
  },
  {
   "cell_type": "code",
   "execution_count": 122,
   "metadata": {},
   "outputs": [
    {
     "data": {
      "text/plain": [
       "17.0"
      ]
     },
     "execution_count": 122,
     "metadata": {},
     "output_type": "execute_result"
    }
   ],
   "source": [
    "MaxVal = max( PRQs.max(), H0Qs.max() )\n",
    "MaxVal"
   ]
  },
  {
   "cell_type": "code",
   "execution_count": 123,
   "metadata": {},
   "outputs": [
    {
     "data": {
      "text/plain": [
       "20.0"
      ]
     },
     "execution_count": 123,
     "metadata": {},
     "output_type": "execute_result"
    }
   ],
   "source": [
    "MaxVal = round( MaxVal, -1 ) + 0.0\n",
    "MaxVal"
   ]
  },
  {
   "cell_type": "code",
   "execution_count": 124,
   "metadata": {},
   "outputs": [
    {
     "data": {
      "image/png": "[encoded data removed]",
      "text/plain": [
       "<Figure size 720x432 with 1 Axes>"
      ]
     },
     "metadata": {},
     "output_type": "display_data"
    }
   ],
   "source": [
    "Fig1 = plt.figure()\n",
    "Fig1.set_size_inches(10.0, 6.0)\n",
    "ax11 = Fig1.add_subplot(111)\n",
    "ax11.plot( PRQs.values, H0Qs.values, marker='o', linestyle='None', color='xkcd:royal blue' )\n",
    "ax11.plot( [0.0, MaxVal], [0.0, MaxVal], linestyle='-', color='xkcd:dark grey' )\n",
    "ax11.set_title(\"Aug Q-Q\", fontsize=16)\n",
    "ax11.set_xlabel('PRISM', fontsize=14 )\n",
    "ax11.set_ylabel('WG H0', fontsize=14)\n",
    "ax11.set_xlim( (0.0, MaxVal) )\n",
    "ax11.set_ylim( (0.0, MaxVal) )\n",
    "ax11.grid( b=True )\n",
    "#ax11.legend(loc='lower center')\n",
    "ax11.tick_params(axis='both', which='major', labelsize=13)\n",
    "ax11.yaxis.set_major_formatter( mpl.ticker.StrMethodFormatter( \"{x:,.1f}\" ) )\n",
    "ax11.xaxis.set_major_formatter( mpl.ticker.StrMethodFormatter( \"{x:,.1f}\" ) )"
   ]
  },
  {
   "cell_type": "code",
   "execution_count": 125,
   "metadata": {},
   "outputs": [],
   "source": [
    "sns.set(style=\"ticks\", color_codes=True)"
   ]
  },
  {
   "cell_type": "code",
   "execution_count": 126,
   "metadata": {},
   "outputs": [
    {
     "data": {
      "image/png": "[encoded data removed]",
      "text/plain": [
       "<Figure size 432x288 with 1 Axes>"
      ]
     },
     "metadata": {},
     "output_type": "display_data"
    }
   ],
   "source": [
    "ax = sns.boxplot(data=CompAug, orient=\"h\", palette=\"Set2\")"
   ]
  },
  {
   "cell_type": "code",
   "execution_count": 127,
   "metadata": {},
   "outputs": [],
   "source": [
    "sns.set(style=\"white\", color_codes=True)"
   ]
  },
  {
   "cell_type": "code",
   "execution_count": 128,
   "metadata": {},
   "outputs": [
    {
     "data": {
      "image/png": "[encoded data removed]",
      "text/plain": [
       "<Figure size 432x432 with 3 Axes>"
      ]
     },
     "metadata": {},
     "output_type": "display_data"
    }
   ],
   "source": [
    "AugG = sns.jointplot(x='PRISM', y='WG H0', data=CompAug, kind=\"hex\")"
   ]
  },
  {
   "cell_type": "markdown",
   "metadata": {},
   "source": [
    "## Sep"
   ]
  },
  {
   "cell_type": "markdown",
   "metadata": {},
   "source": [
    "First get our overall tracking values"
   ]
  },
  {
   "cell_type": "code",
   "execution_count": 129,
   "metadata": {},
   "outputs": [],
   "source": [
    "AveLister.append( [ PRSepDF['Wet_Count'].mean(), H0SepDF['Wet_Count'].mean() ] )\n",
    "VarLister.append( [ PRSepDF['Wet_Count'].var(), H0SepDF['Wet_Count'].var() ] )\n",
    "SkewLister.append( [ PRSepDF['Wet_Count'].skew(), H0SepDF['Wet_Count'].skew() ] )\n",
    "KurtLister.append( [ PRSepDF['Wet_Count'].kurtosis(), H0SepDF['Wet_Count'].kurtosis() ] )\n",
    "CntLister.append( [ PRSepDF['Wet_Count'].count(), H0SepDF['Wet_Count'].count() ] )\n",
    "PLister.append( [ (1.0 - (( PRSepDF['Wet_Count'].var() - PRSepDF['Wet_Count'].mean() ) / \n",
    "                            PRSepDF['Wet_Count'].var() ) ),\n",
    "                  (1.0 - (( H0SepDF['Wet_Count'].var() - H0SepDF['Wet_Count'].mean() ) / \n",
    "                            H0SepDF['Wet_Count'].var() ) ) ])\n",
    "NLister.append( [ ( PRSepDF['Wet_Count'].mean()**2.0 / \n",
    "                   ( PRSepDF['Wet_Count'].var() - PRSepDF['Wet_Count'].mean() ) ),\n",
    "                  ( H0SepDF['Wet_Count'].mean()**2.0 / \n",
    "                   ( H0SepDF['Wet_Count'].var() - H0SepDF['Wet_Count'].mean() ) ) ])\n",
    "MedianLister.append( [ PRSepDF['Wet_Count'].median(), H0SepDF['Wet_Count'].median() ] )\n",
    "MaxLister.append( [ PRSepDF['Wet_Count'].max(), H0SepDF['Wet_Count'].max() ] )\n",
    "MinLister.append( [ PRSepDF['Wet_Count'].min(), H0SepDF['Wet_Count'].min() ] )"
   ]
  },
  {
   "cell_type": "code",
   "execution_count": 130,
   "metadata": {},
   "outputs": [
    {
     "data": {
      "text/plain": [
       "(20781, 21302292)"
      ]
     },
     "execution_count": 130,
     "metadata": {},
     "output_type": "execute_result"
    }
   ],
   "source": [
    "NumPR = len( PRSepDF )\n",
    "NumH0 = len( H0SepDF )\n",
    "NumPR, NumH0"
   ]
  },
  {
   "cell_type": "code",
   "execution_count": 131,
   "metadata": {},
   "outputs": [],
   "source": [
    "CompSep = pd.DataFrame( data={ 'PRISM' : np.array( PRSepDF['Wet_Count'], dtype=np.int32),\n",
    "                               \"WG H0\" : np.array( H0SepDF['Wet_Count'].sample(n=NumPR), \n",
    "                                                  dtype=np.int32 ), } )"
   ]
  },
  {
   "cell_type": "code",
   "execution_count": 132,
   "metadata": {},
   "outputs": [
    {
     "data": {
      "text/html": [
       "<table border=\"1\" class=\"dataframe\">\n",
       "  <thead>\n",
       "    <tr style=\"text-align: right;\">\n",
       "      <th></th>\n",
       "      <th>PRISM</th>\n",
       "      <th>WG H0</th>\n",
       "    </tr>\n",
       "  </thead>\n",
       "  <tbody>\n",
       "    <tr>\n",
       "      <th>count</th>\n",
       "      <td>20781.000000</td>\n",
       "      <td>20781.000000</td>\n",
       "    </tr>\n",
       "    <tr>\n",
       "      <th>mean</th>\n",
       "      <td>1.863289</td>\n",
       "      <td>2.098263</td>\n",
       "    </tr>\n",
       "    <tr>\n",
       "      <th>std</th>\n",
       "      <td>1.202872</td>\n",
       "      <td>1.488605</td>\n",
       "    </tr>\n",
       "    <tr>\n",
       "      <th>min</th>\n",
       "      <td>1.000000</td>\n",
       "      <td>1.000000</td>\n",
       "    </tr>\n",
       "    <tr>\n",
       "      <th>25%</th>\n",
       "      <td>1.000000</td>\n",
       "      <td>1.000000</td>\n",
       "    </tr>\n",
       "    <tr>\n",
       "      <th>50%</th>\n",
       "      <td>2.000000</td>\n",
       "      <td>2.000000</td>\n",
       "    </tr>\n",
       "    <tr>\n",
       "      <th>75%</th>\n",
       "      <td>2.000000</td>\n",
       "      <td>3.000000</td>\n",
       "    </tr>\n",
       "    <tr>\n",
       "      <th>max</th>\n",
       "      <td>10.000000</td>\n",
       "      <td>12.000000</td>\n",
       "    </tr>\n",
       "  </tbody>\n",
       "</table>"
      ],
      "text/plain": [
       "<IPython.core.display.HTML object>"
      ]
     },
     "metadata": {},
     "output_type": "display_data"
    }
   ],
   "source": [
    "display( HTML( CompSep.describe().to_html() ) )"
   ]
  },
  {
   "cell_type": "code",
   "execution_count": 133,
   "metadata": {},
   "outputs": [],
   "source": [
    "PRQs = CompSep['PRISM'].quantile( q=OurQs )"
   ]
  },
  {
   "cell_type": "code",
   "execution_count": 134,
   "metadata": {},
   "outputs": [],
   "source": [
    "H0Qs = CompSep['WG H0'].quantile( q=OurQs )"
   ]
  },
  {
   "cell_type": "code",
   "execution_count": 135,
   "metadata": {},
   "outputs": [
    {
     "data": {
      "text/plain": [
       "12.0"
      ]
     },
     "execution_count": 135,
     "metadata": {},
     "output_type": "execute_result"
    }
   ],
   "source": [
    "MaxVal = max( PRQs.max(), H0Qs.max() )\n",
    "MaxVal"
   ]
  },
  {
   "cell_type": "code",
   "execution_count": 136,
   "metadata": {},
   "outputs": [
    {
     "data": {
      "text/plain": [
       "10.0"
      ]
     },
     "execution_count": 136,
     "metadata": {},
     "output_type": "execute_result"
    }
   ],
   "source": [
    "MaxVal = round( MaxVal, -1 ) + 0.0\n",
    "MaxVal"
   ]
  },
  {
   "cell_type": "code",
   "execution_count": 137,
   "metadata": {},
   "outputs": [
    {
     "data": {
      "image/png": "[encoded data removed]",
      "text/plain": [
       "<Figure size 720x432 with 1 Axes>"
      ]
     },
     "metadata": {},
     "output_type": "display_data"
    }
   ],
   "source": [
    "Fig1 = plt.figure()\n",
    "Fig1.set_size_inches(10.0, 6.0)\n",
    "ax11 = Fig1.add_subplot(111)\n",
    "ax11.plot( PRQs.values, H0Qs.values, marker='o', linestyle='None', color='xkcd:royal blue' )\n",
    "ax11.plot( [0.0, MaxVal], [0.0, MaxVal], linestyle='-', color='xkcd:dark grey' )\n",
    "ax11.set_title(\"Sep Q-Q\", fontsize=16)\n",
    "ax11.set_xlabel('PRISM', fontsize=14 )\n",
    "ax11.set_ylabel('WG H0', fontsize=14)\n",
    "ax11.set_xlim( (0.0, MaxVal) )\n",
    "ax11.set_ylim( (0.0, MaxVal) )\n",
    "ax11.grid( b=True )\n",
    "#ax11.legend(loc='lower center')\n",
    "ax11.tick_params(axis='both', which='major', labelsize=13)\n",
    "ax11.yaxis.set_major_formatter( mpl.ticker.StrMethodFormatter( \"{x:,.1f}\" ) )\n",
    "ax11.xaxis.set_major_formatter( mpl.ticker.StrMethodFormatter( \"{x:,.1f}\" ) )"
   ]
  },
  {
   "cell_type": "code",
   "execution_count": 138,
   "metadata": {},
   "outputs": [],
   "source": [
    "sns.set(style=\"ticks\", color_codes=True)"
   ]
  },
  {
   "cell_type": "code",
   "execution_count": 139,
   "metadata": {},
   "outputs": [
    {
     "data": {
      "image/png": "[encoded data removed]",
      "text/plain": [
       "<Figure size 432x288 with 1 Axes>"
      ]
     },
     "metadata": {},
     "output_type": "display_data"
    }
   ],
   "source": [
    "ax = sns.boxplot(data=CompSep, orient=\"h\", palette=\"Set2\")"
   ]
  },
  {
   "cell_type": "code",
   "execution_count": 140,
   "metadata": {},
   "outputs": [],
   "source": [
    "sns.set(style=\"white\", color_codes=True)"
   ]
  },
  {
   "cell_type": "code",
   "execution_count": 141,
   "metadata": {},
   "outputs": [
    {
     "data": {
      "image/png": "[encoded data removed]",
      "text/plain": [
       "<Figure size 432x432 with 3 Axes>"
      ]
     },
     "metadata": {},
     "output_type": "display_data"
    }
   ],
   "source": [
    "SepG = sns.jointplot(x='PRISM', y='WG H0', data=CompSep, kind=\"hex\")"
   ]
  },
  {
   "cell_type": "markdown",
   "metadata": {},
   "source": [
    "## Oct"
   ]
  },
  {
   "cell_type": "markdown",
   "metadata": {},
   "source": [
    "First get our overall tracking values"
   ]
  },
  {
   "cell_type": "code",
   "execution_count": 142,
   "metadata": {},
   "outputs": [],
   "source": [
    "AveLister.append( [ PROctDF['Wet_Count'].mean(), H0OctDF['Wet_Count'].mean() ] )\n",
    "VarLister.append( [ PROctDF['Wet_Count'].var(), H0OctDF['Wet_Count'].var() ] )\n",
    "SkewLister.append( [ PROctDF['Wet_Count'].skew(), H0OctDF['Wet_Count'].skew() ] )\n",
    "KurtLister.append( [ PROctDF['Wet_Count'].kurtosis(), H0OctDF['Wet_Count'].kurtosis() ] )\n",
    "CntLister.append( [ PROctDF['Wet_Count'].count(), H0OctDF['Wet_Count'].count() ] )\n",
    "PLister.append( [ (1.0 - (( PROctDF['Wet_Count'].var() - PROctDF['Wet_Count'].mean() ) / \n",
    "                            PROctDF['Wet_Count'].var() ) ),\n",
    "                  (1.0 - (( H0OctDF['Wet_Count'].var() - H0OctDF['Wet_Count'].mean() ) / \n",
    "                            H0OctDF['Wet_Count'].var() ) ) ])\n",
    "NLister.append( [ ( PROctDF['Wet_Count'].mean()**2.0 / \n",
    "                   ( PROctDF['Wet_Count'].var() - PROctDF['Wet_Count'].mean() ) ),\n",
    "                  ( H0OctDF['Wet_Count'].mean()**2.0 / \n",
    "                   ( H0OctDF['Wet_Count'].var() - H0OctDF['Wet_Count'].mean() ) ) ])\n",
    "MedianLister.append( [ PROctDF['Wet_Count'].median(), H0OctDF['Wet_Count'].median() ] )\n",
    "MaxLister.append( [ PROctDF['Wet_Count'].max(), H0OctDF['Wet_Count'].max() ] )\n",
    "MinLister.append( [ PROctDF['Wet_Count'].min(), H0OctDF['Wet_Count'].min() ] )"
   ]
  },
  {
   "cell_type": "code",
   "execution_count": 143,
   "metadata": {},
   "outputs": [
    {
     "data": {
      "text/plain": [
       "(19477, 18694148)"
      ]
     },
     "execution_count": 143,
     "metadata": {},
     "output_type": "execute_result"
    }
   ],
   "source": [
    "NumPR = len( PROctDF )\n",
    "NumH0 = len( H0OctDF )\n",
    "NumPR, NumH0"
   ]
  },
  {
   "cell_type": "code",
   "execution_count": 144,
   "metadata": {},
   "outputs": [],
   "source": [
    "CompOct = pd.DataFrame( data={ 'PRISM' : np.array( PROctDF['Wet_Count'], dtype=np.int32),\n",
    "                               \"WG H0\" : np.array( H0OctDF['Wet_Count'].sample(n=NumPR), \n",
    "                                                  dtype=np.int32 ), } )"
   ]
  },
  {
   "cell_type": "code",
   "execution_count": 145,
   "metadata": {},
   "outputs": [
    {
     "data": {
      "text/html": [
       "<table border=\"1\" class=\"dataframe\">\n",
       "  <thead>\n",
       "    <tr style=\"text-align: right;\">\n",
       "      <th></th>\n",
       "      <th>PRISM</th>\n",
       "      <th>WG H0</th>\n",
       "    </tr>\n",
       "  </thead>\n",
       "  <tbody>\n",
       "    <tr>\n",
       "      <th>count</th>\n",
       "      <td>19477.000000</td>\n",
       "      <td>19477.000000</td>\n",
       "    </tr>\n",
       "    <tr>\n",
       "      <th>mean</th>\n",
       "      <td>2.170252</td>\n",
       "      <td>2.346717</td>\n",
       "    </tr>\n",
       "    <tr>\n",
       "      <th>std</th>\n",
       "      <td>1.865462</td>\n",
       "      <td>1.677745</td>\n",
       "    </tr>\n",
       "    <tr>\n",
       "      <th>min</th>\n",
       "      <td>1.000000</td>\n",
       "      <td>1.000000</td>\n",
       "    </tr>\n",
       "    <tr>\n",
       "      <th>25%</th>\n",
       "      <td>1.000000</td>\n",
       "      <td>1.000000</td>\n",
       "    </tr>\n",
       "    <tr>\n",
       "      <th>50%</th>\n",
       "      <td>2.000000</td>\n",
       "      <td>2.000000</td>\n",
       "    </tr>\n",
       "    <tr>\n",
       "      <th>75%</th>\n",
       "      <td>2.000000</td>\n",
       "      <td>3.000000</td>\n",
       "    </tr>\n",
       "    <tr>\n",
       "      <th>max</th>\n",
       "      <td>19.000000</td>\n",
       "      <td>14.000000</td>\n",
       "    </tr>\n",
       "  </tbody>\n",
       "</table>"
      ],
      "text/plain": [
       "<IPython.core.display.HTML object>"
      ]
     },
     "metadata": {},
     "output_type": "display_data"
    }
   ],
   "source": [
    "display( HTML( CompOct.describe().to_html() ) )"
   ]
  },
  {
   "cell_type": "code",
   "execution_count": 146,
   "metadata": {},
   "outputs": [],
   "source": [
    "PRQs = CompOct['PRISM'].quantile( q=OurQs )"
   ]
  },
  {
   "cell_type": "code",
   "execution_count": 147,
   "metadata": {},
   "outputs": [],
   "source": [
    "H0Qs = CompOct['WG H0'].quantile( q=OurQs )"
   ]
  },
  {
   "cell_type": "code",
   "execution_count": 148,
   "metadata": {},
   "outputs": [
    {
     "data": {
      "text/plain": [
       "19.0"
      ]
     },
     "execution_count": 148,
     "metadata": {},
     "output_type": "execute_result"
    }
   ],
   "source": [
    "MaxVal = max( PRQs.max(), H0Qs.max() )\n",
    "MaxVal"
   ]
  },
  {
   "cell_type": "code",
   "execution_count": 149,
   "metadata": {},
   "outputs": [
    {
     "data": {
      "text/plain": [
       "20.0"
      ]
     },
     "execution_count": 149,
     "metadata": {},
     "output_type": "execute_result"
    }
   ],
   "source": [
    "MaxVal = round( MaxVal, -1 ) + 0.0\n",
    "MaxVal"
   ]
  },
  {
   "cell_type": "code",
   "execution_count": 150,
   "metadata": {},
   "outputs": [
    {
     "data": {
      "image/png": "[encoded data removed]",
      "text/plain": [
       "<Figure size 720x432 with 1 Axes>"
      ]
     },
     "metadata": {},
     "output_type": "display_data"
    }
   ],
   "source": [
    "Fig1 = plt.figure()\n",
    "Fig1.set_size_inches(10.0, 6.0)\n",
    "ax11 = Fig1.add_subplot(111)\n",
    "ax11.plot( PRQs.values, H0Qs.values, marker='o', linestyle='None', color='xkcd:royal blue' )\n",
    "ax11.plot( [0.0, MaxVal], [0.0, MaxVal], linestyle='-', color='xkcd:dark grey' )\n",
    "ax11.set_title(\"Oct Q-Q\", fontsize=16)\n",
    "ax11.set_xlabel('PRISM', fontsize=14 )\n",
    "ax11.set_ylabel('WG H0', fontsize=14)\n",
    "ax11.set_xlim( (0.0, MaxVal) )\n",
    "ax11.set_ylim( (0.0, MaxVal) )\n",
    "ax11.grid( b=True )\n",
    "#ax11.legend(loc='lower center')\n",
    "ax11.tick_params(axis='both', which='major', labelsize=13)\n",
    "ax11.yaxis.set_major_formatter( mpl.ticker.StrMethodFormatter( \"{x:,.1f}\" ) )\n",
    "ax11.xaxis.set_major_formatter( mpl.ticker.StrMethodFormatter( \"{x:,.1f}\" ) )"
   ]
  },
  {
   "cell_type": "code",
   "execution_count": 151,
   "metadata": {},
   "outputs": [],
   "source": [
    "sns.set(style=\"ticks\", color_codes=True)"
   ]
  },
  {
   "cell_type": "code",
   "execution_count": 152,
   "metadata": {},
   "outputs": [
    {
     "data": {
      "image/png": "[encoded data removed]",
      "text/plain": [
       "<Figure size 432x288 with 1 Axes>"
      ]
     },
     "metadata": {},
     "output_type": "display_data"
    }
   ],
   "source": [
    "ax = sns.boxplot(data=CompOct, orient=\"h\", palette=\"Set2\")"
   ]
  },
  {
   "cell_type": "code",
   "execution_count": 153,
   "metadata": {},
   "outputs": [],
   "source": [
    "sns.set(style=\"white\", color_codes=True)"
   ]
  },
  {
   "cell_type": "code",
   "execution_count": 154,
   "metadata": {},
   "outputs": [
    {
     "data": {
      "image/png": "[encoded data removed]",
      "text/plain": [
       "<Figure size 432x432 with 3 Axes>"
      ]
     },
     "metadata": {},
     "output_type": "display_data"
    }
   ],
   "source": [
    "OctG = sns.jointplot(x='PRISM', y='WG H0', data=CompOct, kind=\"hex\")"
   ]
  },
  {
   "cell_type": "markdown",
   "metadata": {},
   "source": [
    "## Nov"
   ]
  },
  {
   "cell_type": "markdown",
   "metadata": {},
   "source": [
    "First get our overall tracking values"
   ]
  },
  {
   "cell_type": "code",
   "execution_count": 155,
   "metadata": {},
   "outputs": [],
   "source": [
    "AveLister.append( [ PRNovDF['Wet_Count'].mean(), H0NovDF['Wet_Count'].mean() ] )\n",
    "VarLister.append( [ PRNovDF['Wet_Count'].var(), H0NovDF['Wet_Count'].var() ] )\n",
    "SkewLister.append( [ PRNovDF['Wet_Count'].skew(), H0NovDF['Wet_Count'].skew() ] )\n",
    "KurtLister.append( [ PRNovDF['Wet_Count'].kurtosis(), H0NovDF['Wet_Count'].kurtosis() ] )\n",
    "CntLister.append( [ PRNovDF['Wet_Count'].count(), H0NovDF['Wet_Count'].count() ] )\n",
    "PLister.append( [ (1.0 - (( PRNovDF['Wet_Count'].var() - PRNovDF['Wet_Count'].mean() ) / \n",
    "                            PRNovDF['Wet_Count'].var() ) ),\n",
    "                  (1.0 - (( H0NovDF['Wet_Count'].var() - H0NovDF['Wet_Count'].mean() ) / \n",
    "                            H0NovDF['Wet_Count'].var() ) ) ])\n",
    "NLister.append( [ ( PRNovDF['Wet_Count'].mean()**2.0 / \n",
    "                   ( PRNovDF['Wet_Count'].var() - PRNovDF['Wet_Count'].mean() ) ),\n",
    "                  ( H0NovDF['Wet_Count'].mean()**2.0 / \n",
    "                   ( H0NovDF['Wet_Count'].var() - H0NovDF['Wet_Count'].mean() ) ) ])\n",
    "MedianLister.append( [ PRNovDF['Wet_Count'].median(), H0NovDF['Wet_Count'].median() ] )\n",
    "MaxLister.append( [ PRNovDF['Wet_Count'].max(), H0NovDF['Wet_Count'].max() ] )\n",
    "MinLister.append( [ PRNovDF['Wet_Count'].min(), H0NovDF['Wet_Count'].min() ] )"
   ]
  },
  {
   "cell_type": "code",
   "execution_count": 156,
   "metadata": {},
   "outputs": [
    {
     "data": {
      "text/plain": [
       "(13478, 15367154)"
      ]
     },
     "execution_count": 156,
     "metadata": {},
     "output_type": "execute_result"
    }
   ],
   "source": [
    "NumPR = len( PRNovDF )\n",
    "NumH0 = len( H0NovDF )\n",
    "NumPR, NumH0"
   ]
  },
  {
   "cell_type": "code",
   "execution_count": 157,
   "metadata": {},
   "outputs": [],
   "source": [
    "CompNov = pd.DataFrame( data={ 'PRISM' : np.array( PRNovDF['Wet_Count'], dtype=np.int32),\n",
    "                               \"WG H0\" : np.array( H0NovDF['Wet_Count'].sample(n=NumPR), \n",
    "                                                  dtype=np.int32 ), } )"
   ]
  },
  {
   "cell_type": "code",
   "execution_count": 158,
   "metadata": {},
   "outputs": [
    {
     "data": {
      "text/html": [
       "<table border=\"1\" class=\"dataframe\">\n",
       "  <thead>\n",
       "    <tr style=\"text-align: right;\">\n",
       "      <th></th>\n",
       "      <th>PRISM</th>\n",
       "      <th>WG H0</th>\n",
       "    </tr>\n",
       "  </thead>\n",
       "  <tbody>\n",
       "    <tr>\n",
       "      <th>count</th>\n",
       "      <td>13478.000000</td>\n",
       "      <td>13478.000000</td>\n",
       "    </tr>\n",
       "    <tr>\n",
       "      <th>mean</th>\n",
       "      <td>1.987832</td>\n",
       "      <td>2.217095</td>\n",
       "    </tr>\n",
       "    <tr>\n",
       "      <th>std</th>\n",
       "      <td>1.240532</td>\n",
       "      <td>1.565725</td>\n",
       "    </tr>\n",
       "    <tr>\n",
       "      <th>min</th>\n",
       "      <td>1.000000</td>\n",
       "      <td>1.000000</td>\n",
       "    </tr>\n",
       "    <tr>\n",
       "      <th>25%</th>\n",
       "      <td>1.000000</td>\n",
       "      <td>1.000000</td>\n",
       "    </tr>\n",
       "    <tr>\n",
       "      <th>50%</th>\n",
       "      <td>2.000000</td>\n",
       "      <td>2.000000</td>\n",
       "    </tr>\n",
       "    <tr>\n",
       "      <th>75%</th>\n",
       "      <td>3.000000</td>\n",
       "      <td>3.000000</td>\n",
       "    </tr>\n",
       "    <tr>\n",
       "      <th>max</th>\n",
       "      <td>8.000000</td>\n",
       "      <td>14.000000</td>\n",
       "    </tr>\n",
       "  </tbody>\n",
       "</table>"
      ],
      "text/plain": [
       "<IPython.core.display.HTML object>"
      ]
     },
     "metadata": {},
     "output_type": "display_data"
    }
   ],
   "source": [
    "display( HTML( CompNov.describe().to_html() ) )"
   ]
  },
  {
   "cell_type": "code",
   "execution_count": 159,
   "metadata": {},
   "outputs": [],
   "source": [
    "PRQs = CompNov['PRISM'].quantile( q=OurQs )"
   ]
  },
  {
   "cell_type": "code",
   "execution_count": 160,
   "metadata": {},
   "outputs": [],
   "source": [
    "H0Qs = CompNov['WG H0'].quantile( q=OurQs )"
   ]
  },
  {
   "cell_type": "code",
   "execution_count": 161,
   "metadata": {},
   "outputs": [
    {
     "data": {
      "text/plain": [
       "14.0"
      ]
     },
     "execution_count": 161,
     "metadata": {},
     "output_type": "execute_result"
    }
   ],
   "source": [
    "MaxVal = max( PRQs.max(), H0Qs.max() )\n",
    "MaxVal"
   ]
  },
  {
   "cell_type": "code",
   "execution_count": 162,
   "metadata": {},
   "outputs": [
    {
     "data": {
      "text/plain": [
       "20.0"
      ]
     },
     "execution_count": 162,
     "metadata": {},
     "output_type": "execute_result"
    }
   ],
   "source": [
    "MaxVal = round( MaxVal, -1 ) + 10.0\n",
    "MaxVal"
   ]
  },
  {
   "cell_type": "code",
   "execution_count": 163,
   "metadata": {},
   "outputs": [
    {
     "data": {
      "image/png": "[encoded data removed]",
      "text/plain": [
       "<Figure size 720x432 with 1 Axes>"
      ]
     },
     "metadata": {},
     "output_type": "display_data"
    }
   ],
   "source": [
    "Fig1 = plt.figure()\n",
    "Fig1.set_size_inches(10.0, 6.0)\n",
    "ax11 = Fig1.add_subplot(111)\n",
    "ax11.plot( PRQs.values, H0Qs.values, marker='o', linestyle='None', color='xkcd:royal blue' )\n",
    "ax11.plot( [0.0, MaxVal], [0.0, MaxVal], linestyle='-', color='xkcd:dark grey' )\n",
    "ax11.set_title(\"Nov Q-Q\", fontsize=16)\n",
    "ax11.set_xlabel('PRISM', fontsize=14 )\n",
    "ax11.set_ylabel('WG H0', fontsize=14)\n",
    "ax11.set_xlim( (0.0, MaxVal) )\n",
    "ax11.set_ylim( (0.0, MaxVal) )\n",
    "ax11.grid( b=True )\n",
    "#ax11.legend(loc='lower center')\n",
    "ax11.tick_params(axis='both', which='major', labelsize=13)\n",
    "ax11.yaxis.set_major_formatter( mpl.ticker.StrMethodFormatter( \"{x:,.1f}\" ) )\n",
    "ax11.xaxis.set_major_formatter( mpl.ticker.StrMethodFormatter( \"{x:,.1f}\" ) )"
   ]
  },
  {
   "cell_type": "code",
   "execution_count": 164,
   "metadata": {},
   "outputs": [],
   "source": [
    "sns.set(style=\"ticks\", color_codes=True)"
   ]
  },
  {
   "cell_type": "code",
   "execution_count": 165,
   "metadata": {},
   "outputs": [
    {
     "data": {
      "image/png": "[encoded data removed]",
      "text/plain": [
       "<Figure size 432x288 with 1 Axes>"
      ]
     },
     "metadata": {},
     "output_type": "display_data"
    }
   ],
   "source": [
    "ax = sns.boxplot(data=CompNov, orient=\"h\", palette=\"Set2\")"
   ]
  },
  {
   "cell_type": "code",
   "execution_count": 166,
   "metadata": {},
   "outputs": [],
   "source": [
    "sns.set(style=\"white\", color_codes=True)"
   ]
  },
  {
   "cell_type": "code",
   "execution_count": 167,
   "metadata": {},
   "outputs": [
    {
     "data": {
      "image/png": "[encoded data removed]",
      "text/plain": [
       "<Figure size 432x432 with 3 Axes>"
      ]
     },
     "metadata": {},
     "output_type": "display_data"
    }
   ],
   "source": [
    "NovG = sns.jointplot(x='PRISM', y='WG H0', data=CompNov, kind=\"hex\")"
   ]
  },
  {
   "cell_type": "markdown",
   "metadata": {},
   "source": [
    "## Dec"
   ]
  },
  {
   "cell_type": "markdown",
   "metadata": {},
   "source": [
    "First get our overall tracking values"
   ]
  },
  {
   "cell_type": "code",
   "execution_count": 168,
   "metadata": {},
   "outputs": [],
   "source": [
    "AveLister.append( [ PRDecDF['Wet_Count'].mean(), H0DecDF['Wet_Count'].mean() ] )\n",
    "VarLister.append( [ PRDecDF['Wet_Count'].var(), H0DecDF['Wet_Count'].var() ] )\n",
    "SkewLister.append( [ PRDecDF['Wet_Count'].skew(), H0DecDF['Wet_Count'].skew() ] )\n",
    "KurtLister.append( [ PRDecDF['Wet_Count'].kurtosis(), H0DecDF['Wet_Count'].kurtosis() ] )\n",
    "CntLister.append( [ PRDecDF['Wet_Count'].count(), H0DecDF['Wet_Count'].count() ] )\n",
    "PLister.append( [ (1.0 - (( PRDecDF['Wet_Count'].var() - PRDecDF['Wet_Count'].mean() ) / \n",
    "                            PRDecDF['Wet_Count'].var() ) ),\n",
    "                  (1.0 - (( H0DecDF['Wet_Count'].var() - H0DecDF['Wet_Count'].mean() ) / \n",
    "                            H0DecDF['Wet_Count'].var() ) ) ])\n",
    "NLister.append( [ ( PRDecDF['Wet_Count'].mean()**2.0 / \n",
    "                   ( PRDecDF['Wet_Count'].var() - PRDecDF['Wet_Count'].mean() ) ),\n",
    "                  ( H0DecDF['Wet_Count'].mean()**2.0 / \n",
    "                   ( H0DecDF['Wet_Count'].var() - H0DecDF['Wet_Count'].mean() ) ) ])\n",
    "MedianLister.append( [ PRDecDF['Wet_Count'].median(), H0DecDF['Wet_Count'].median() ] )\n",
    "MaxLister.append( [ PRDecDF['Wet_Count'].max(), H0DecDF['Wet_Count'].max() ] )\n",
    "MinLister.append( [ PRDecDF['Wet_Count'].min(), H0DecDF['Wet_Count'].min() ] )"
   ]
  },
  {
   "cell_type": "code",
   "execution_count": 169,
   "metadata": {},
   "outputs": [
    {
     "data": {
      "text/plain": [
       "(13768, 16114978)"
      ]
     },
     "execution_count": 169,
     "metadata": {},
     "output_type": "execute_result"
    }
   ],
   "source": [
    "NumPR = len( PRDecDF )\n",
    "NumH0 = len( H0DecDF )\n",
    "NumPR, NumH0"
   ]
  },
  {
   "cell_type": "code",
   "execution_count": 170,
   "metadata": {},
   "outputs": [],
   "source": [
    "CompDec = pd.DataFrame( data={ 'PRISM' : np.array( PRDecDF['Wet_Count'], dtype=np.int32),\n",
    "                               \"WG H0\" : np.array( H0DecDF['Wet_Count'].sample(n=NumPR), \n",
    "                                                  dtype=np.int32 ), } )"
   ]
  },
  {
   "cell_type": "code",
   "execution_count": 171,
   "metadata": {},
   "outputs": [
    {
     "data": {
      "text/html": [
       "<table border=\"1\" class=\"dataframe\">\n",
       "  <thead>\n",
       "    <tr style=\"text-align: right;\">\n",
       "      <th></th>\n",
       "      <th>PRISM</th>\n",
       "      <th>WG H0</th>\n",
       "    </tr>\n",
       "  </thead>\n",
       "  <tbody>\n",
       "    <tr>\n",
       "      <th>count</th>\n",
       "      <td>13768.000000</td>\n",
       "      <td>13768.000000</td>\n",
       "    </tr>\n",
       "    <tr>\n",
       "      <th>mean</th>\n",
       "      <td>1.823286</td>\n",
       "      <td>2.055927</td>\n",
       "    </tr>\n",
       "    <tr>\n",
       "      <th>std</th>\n",
       "      <td>1.170106</td>\n",
       "      <td>1.462068</td>\n",
       "    </tr>\n",
       "    <tr>\n",
       "      <th>min</th>\n",
       "      <td>1.000000</td>\n",
       "      <td>1.000000</td>\n",
       "    </tr>\n",
       "    <tr>\n",
       "      <th>25%</th>\n",
       "      <td>1.000000</td>\n",
       "      <td>1.000000</td>\n",
       "    </tr>\n",
       "    <tr>\n",
       "      <th>50%</th>\n",
       "      <td>1.000000</td>\n",
       "      <td>1.000000</td>\n",
       "    </tr>\n",
       "    <tr>\n",
       "      <th>75%</th>\n",
       "      <td>2.000000</td>\n",
       "      <td>3.000000</td>\n",
       "    </tr>\n",
       "    <tr>\n",
       "      <th>max</th>\n",
       "      <td>9.000000</td>\n",
       "      <td>13.000000</td>\n",
       "    </tr>\n",
       "  </tbody>\n",
       "</table>"
      ],
      "text/plain": [
       "<IPython.core.display.HTML object>"
      ]
     },
     "metadata": {},
     "output_type": "display_data"
    }
   ],
   "source": [
    "display( HTML( CompDec.describe().to_html() ) )"
   ]
  },
  {
   "cell_type": "code",
   "execution_count": 172,
   "metadata": {},
   "outputs": [],
   "source": [
    "PRQs = CompDec['PRISM'].quantile( q=OurQs )"
   ]
  },
  {
   "cell_type": "code",
   "execution_count": 173,
   "metadata": {},
   "outputs": [],
   "source": [
    "H0Qs = CompDec['WG H0'].quantile( q=OurQs )"
   ]
  },
  {
   "cell_type": "code",
   "execution_count": 174,
   "metadata": {},
   "outputs": [
    {
     "data": {
      "text/plain": [
       "13.0"
      ]
     },
     "execution_count": 174,
     "metadata": {},
     "output_type": "execute_result"
    }
   ],
   "source": [
    "MaxVal = max( PRQs.max(), H0Qs.max() )\n",
    "MaxVal"
   ]
  },
  {
   "cell_type": "code",
   "execution_count": 175,
   "metadata": {},
   "outputs": [
    {
     "data": {
      "text/plain": [
       "20.0"
      ]
     },
     "execution_count": 175,
     "metadata": {},
     "output_type": "execute_result"
    }
   ],
   "source": [
    "MaxVal = round( MaxVal, -1 ) + 10.0\n",
    "MaxVal"
   ]
  },
  {
   "cell_type": "code",
   "execution_count": 176,
   "metadata": {},
   "outputs": [
    {
     "data": {
      "image/png": "[encoded data removed]",
      "text/plain": [
       "<Figure size 720x432 with 1 Axes>"
      ]
     },
     "metadata": {},
     "output_type": "display_data"
    }
   ],
   "source": [
    "Fig1 = plt.figure()\n",
    "Fig1.set_size_inches(10.0, 6.0)\n",
    "ax11 = Fig1.add_subplot(111)\n",
    "ax11.plot( PRQs.values, H0Qs.values, marker='o', linestyle='None', color='xkcd:royal blue' )\n",
    "ax11.plot( [0.0, MaxVal], [0.0, MaxVal], linestyle='-', color='xkcd:dark grey' )\n",
    "ax11.set_title(\"Dec Q-Q\", fontsize=16)\n",
    "ax11.set_xlabel('PRISM', fontsize=14 )\n",
    "ax11.set_ylabel('WG H0', fontsize=14)\n",
    "ax11.set_xlim( (0.0, MaxVal) )\n",
    "ax11.set_ylim( (0.0, MaxVal) )\n",
    "ax11.grid( b=True )\n",
    "#ax11.legend(loc='lower center')\n",
    "ax11.tick_params(axis='both', which='major', labelsize=13)\n",
    "ax11.yaxis.set_major_formatter( mpl.ticker.StrMethodFormatter( \"{x:,.1f}\" ) )\n",
    "ax11.xaxis.set_major_formatter( mpl.ticker.StrMethodFormatter( \"{x:,.1f}\" ) )"
   ]
  },
  {
   "cell_type": "code",
   "execution_count": 177,
   "metadata": {},
   "outputs": [],
   "source": [
    "sns.set(style=\"ticks\", color_codes=True)"
   ]
  },
  {
   "cell_type": "code",
   "execution_count": 178,
   "metadata": {},
   "outputs": [
    {
     "data": {
      "image/png": "[encoded data removed]",
      "text/plain": [
       "<Figure size 432x288 with 1 Axes>"
      ]
     },
     "metadata": {},
     "output_type": "display_data"
    }
   ],
   "source": [
    "ax = sns.boxplot(data=CompDec, orient=\"h\", palette=\"Set2\")"
   ]
  },
  {
   "cell_type": "code",
   "execution_count": 179,
   "metadata": {},
   "outputs": [],
   "source": [
    "sns.set(style=\"white\", color_codes=True)"
   ]
  },
  {
   "cell_type": "code",
   "execution_count": 180,
   "metadata": {},
   "outputs": [
    {
     "data": {
      "image/png": "[encoded data removed]",
      "text/plain": [
       "<Figure size 432x432 with 3 Axes>"
      ]
     },
     "metadata": {},
     "output_type": "display_data"
    }
   ],
   "source": [
    "DecG = sns.jointplot(x='PRISM', y='WG H0', data=CompDec, kind=\"hex\")"
   ]
  },
  {
   "cell_type": "markdown",
   "metadata": {},
   "source": [
    "## Output"
   ]
  },
  {
   "cell_type": "code",
   "execution_count": 181,
   "metadata": {},
   "outputs": [],
   "source": [
    "AveLister.append( [ PRAllDF['Wet_Count'].mean(), H0DDDF['Wet_Count'].mean() ] )\n",
    "VarLister.append( [ PRAllDF['Wet_Count'].var(), H0DDDF['Wet_Count'].var() ] )\n",
    "SkewLister.append( [ PRAllDF['Wet_Count'].skew(), H0DDDF['Wet_Count'].skew() ] )\n",
    "KurtLister.append( [ PRAllDF['Wet_Count'].kurtosis(), H0DDDF['Wet_Count'].kurtosis() ] )\n",
    "CntLister.append( [ PRAllDF['Wet_Count'].count(), H0DDDF['Wet_Count'].count() ] )\n",
    "PLister.append( [ (1.0 - (( PRAllDF['Wet_Count'].var() - PRAllDF['Wet_Count'].mean() ) / \n",
    "                            PRAllDF['Wet_Count'].var() ) ),\n",
    "                  (1.0 - (( H0DDDF['Wet_Count'].var() - H0DDDF['Wet_Count'].mean() ) / \n",
    "                            H0DDDF['Wet_Count'].var() ) ) ])\n",
    "NLister.append( [ ( PRAllDF['Wet_Count'].mean()**2.0 / \n",
    "                   ( PRAllDF['Wet_Count'].var() - PRAllDF['Wet_Count'].mean() ) ),\n",
    "                  ( H0DDDF['Wet_Count'].mean()**2.0 / \n",
    "                   ( H0DDDF['Wet_Count'].var() - H0DDDF['Wet_Count'].mean() ) ) ])\n",
    "MedianLister.append( [ PRAllDF['Wet_Count'].median(), H0DDDF['Wet_Count'].median() ] )\n",
    "MaxLister.append( [ PRAllDF['Wet_Count'].max(), H0DDDF['Wet_Count'].max() ] )\n",
    "MinLister.append( [ PRAllDF['Wet_Count'].min(), H0DDDF['Wet_Count'].min() ] )"
   ]
  },
  {
   "cell_type": "code",
   "execution_count": 182,
   "metadata": {},
   "outputs": [],
   "source": [
    "DataDict = dict()\n",
    "DataDict[\"PRISM_Ave\"] = np.array( [x[0] for x in AveLister], np.float32 )\n",
    "DataDict[\"H0_Ave\"] = np.array( [x[1] for x in AveLister], np.float32 )\n",
    "DataDict[\"PRISM_Med\"] = np.array( [x[0] for x in MedianLister], np.float32 )\n",
    "DataDict[\"H0_Med\"] = np.array( [x[1] for x in MedianLister], np.float32 )\n",
    "DataDict[\"PRISM_Max\"] = np.array( [x[0] for x in MaxLister], np.float32 )\n",
    "DataDict[\"H0_Max\"] = np.array( [x[1] for x in MaxLister], np.float32 )\n",
    "DataDict[\"PRISM_Min\"] = np.array( [x[0] for x in MinLister], np.float32 )\n",
    "DataDict[\"H0_Min\"] = np.array( [x[1] for x in MinLister], np.float32 )\n",
    "DataDict[\"PRISM_Var\"] = np.array( [x[0] for x in VarLister], np.float32 )\n",
    "DataDict[\"H0_Var\"] = np.array( [x[1] for x in VarLister], np.float32 )\n",
    "DataDict[\"PRISM_Skew\"] = np.array( [x[0] for x in SkewLister], np.float32 )\n",
    "DataDict[\"H0_Skew\"] = np.array( [x[1] for x in SkewLister], np.float32 )\n",
    "DataDict[\"PRISM_Kurt\"] = np.array( [x[0] for x in KurtLister], np.float32 )\n",
    "DataDict[\"H0_Kurt\"] = np.array( [x[1] for x in KurtLister], np.float32 )\n",
    "DataDict[\"PRISM_Cnt\"] = np.array( [x[0] for x in CntLister], np.float32 )\n",
    "DataDict[\"H0_Cnt\"] = np.array( [x[1] for x in CntLister], np.float32 )\n",
    "DataDict[\"PRISM_P\"] = np.array( [x[0] for x in PLister], np.float32 )\n",
    "DataDict[\"H0_P\"] = np.array( [x[1] for x in PLister], np.float32 )\n",
    "DataDict[\"PRISM_N\"] = np.array( [x[0] for x in NLister], np.float32 )\n",
    "DataDict[\"H0_N\"] = np.array( [x[1] for x in NLister], np.float32 )\n",
    "SumCompDF = pd.DataFrame( index=MonthLister, data=DataDict )"
   ]
  },
  {
   "cell_type": "code",
   "execution_count": 183,
   "metadata": {},
   "outputs": [],
   "source": [
    "OutFileFP = os.path.normpath( os.path.join( OUT_DIR, \"%s_WG_WetDay_Verification.xlsx\" % OUT_ROOT ) )\n",
    "with pd.ExcelWriter( OutFileFP, engine=\"openpyxl\" ) as writer:\n",
    "    SumCompDF.to_excel( writer, sheet_name=\"Summary\" )"
   ]
  }
 ],
 "metadata": {
  "kernelspec": {
   "display_name": "Python 3",
   "language": "python",
   "name": "python3"
  },
  "language_info": {
   "codemirror_mode": {
    "name": "ipython",
    "version": 3
   },
   "file_extension": ".py",
   "mimetype": "text/x-python",
   "name": "python",
   "nbconvert_exporter": "python",
   "pygments_lexer": "ipython3",
   "version": "3.7.5"
  }
 },
 "nbformat": 4,
 "nbformat_minor": 2
}
