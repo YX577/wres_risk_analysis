{
 "cells": [
  {
   "cell_type": "markdown",
   "metadata": {},
   "source": [
    "# Watershed Cumulative and Monthly: Temp, Precip, ETo"
   ]
  },
  {
   "cell_type": "markdown",
   "metadata": {},
   "source": [
    "Average temperature, ETo, and precipitation are taken from the daily output for the watershed.\n",
    "\n",
    "Two pathways are used within the framework.\n",
    "\n",
    "1. H0: null hypothesis of historical weather statistics\n",
    "2. H1: alternative hypothesis of weather statistics extracted from down-scaled, global climate model results.\n",
    "\n",
    "There are four analysis periods\n",
    "\n",
    "1. Data Period: 1981-2010\n",
    "2. Projection Period 1: 2011-2040\n",
    "3. Projection Period 2: 2041-2070\n",
    "4. Projection Period 3: 2071-2100"
   ]
  },
  {
   "cell_type": "markdown",
   "metadata": {},
   "source": [
    "## Imports and Parameters"
   ]
  },
  {
   "cell_type": "code",
   "execution_count": 1,
   "metadata": {},
   "outputs": [],
   "source": [
    "%matplotlib inline"
   ]
  },
  {
   "cell_type": "code",
   "execution_count": 2,
   "metadata": {},
   "outputs": [],
   "source": [
    "import os\n",
    "from IPython.display import display, HTML\n",
    "import pandas as pd\n",
    "import numpy as np\n",
    "import matplotlib as mpl\n",
    "import matplotlib.pyplot as plt\n",
    "import datetime as dt\n",
    "from math import floor, ceil\n",
    "from copy import deepcopy"
   ]
  },
  {
   "cell_type": "code",
   "execution_count": 3,
   "metadata": {},
   "outputs": [],
   "source": [
    "from pandas.plotting import register_matplotlib_converters\n",
    "register_matplotlib_converters()"
   ]
  },
  {
   "cell_type": "code",
   "execution_count": 4,
   "metadata": {},
   "outputs": [],
   "source": [
    "# input directories and file roots\n",
    "IN_DIR = r'C:\\Temp\\WG_Test_Out\\Test3'\n",
    "OUT_DIR = r'C:\\Temp\\WG_Test_Out\\Test3\\Processed'\n",
    "OUT_ROOT = \"DC_WGMN3\"\n",
    "IN_H0ROOT1 = \"WS_H0_%s_R\" % OUT_ROOT\n",
    "IN_H1ROOT1 = \"WS_H1_%s_R\" % OUT_ROOT\n",
    "IN_ROOT2 = \"_DF.pickle\"\n",
    "NUMREAL = 10000"
   ]
  },
  {
   "cell_type": "code",
   "execution_count": 5,
   "metadata": {},
   "outputs": [],
   "source": [
    "# time periods\n",
    "TP_DICT = { 1 : [ dt.datetime(1981, 1, 1), dt.datetime(2010, 12, 31)],\n",
    "            2 : [ dt.datetime(2011, 1, 1), dt.datetime(2040, 12, 31)],\n",
    "            3 : [ dt.datetime(2041, 1, 1), dt.datetime(2070, 12, 31)],\n",
    "            4 : [ dt.datetime(2071, 1, 1), dt.datetime(2100, 12, 31)],}"
   ]
  },
  {
   "cell_type": "code",
   "execution_count": 6,
   "metadata": {},
   "outputs": [
    {
     "data": {
      "text/plain": [
       "101"
      ]
     },
     "execution_count": 6,
     "metadata": {},
     "output_type": "execute_result"
    }
   ],
   "source": [
    "OurQs = np.array( [ round( 0.01 * x, 2 ) for x in range(101) ], dtype=np.float32 )\n",
    "NumQs = len( OurQs )\n",
    "NumQs"
   ]
  },
  {
   "cell_type": "code",
   "execution_count": 7,
   "metadata": {},
   "outputs": [],
   "source": [
    "StatsHdsList = list()\n",
    "for iI in range(NumQs):\n",
    "    cQ = OurQs[iI]\n",
    "    Hdr = \"%d_ptile\" % round(cQ * 100.0)\n",
    "    StatsHdsList.append( Hdr )\n",
    "# end of for\n",
    "StatsHdsList.append( \"Average\" )\n",
    "StatsHdsList.append( \"Variance\" )\n",
    "StatsHdsList.append( \"Skew\" )\n",
    "StatsHdsList.append( \"Kurt\" )"
   ]
  },
  {
   "cell_type": "code",
   "execution_count": 8,
   "metadata": {},
   "outputs": [
    {
     "data": {
      "text/plain": [
       "105"
      ]
     },
     "execution_count": 8,
     "metadata": {},
     "output_type": "execute_result"
    }
   ],
   "source": [
    "NumHdrs = len( StatsHdsList )\n",
    "NumHdrs"
   ]
  },
  {
   "cell_type": "code",
   "execution_count": 9,
   "metadata": {},
   "outputs": [],
   "source": [
    "WS_In_Hdrs = [ \"Tmax_C\", #0\n",
    "               \"Tmin_C\", #1\n",
    "               \"Tave_C\", #2\n",
    "               \"Precip_mm\", #3\n",
    "               \"ETo_mm\", #4\n",
    "              ]"
   ]
  },
  {
   "cell_type": "markdown",
   "metadata": {},
   "source": [
    "## Collate DataFrames"
   ]
  },
  {
   "cell_type": "markdown",
   "metadata": {},
   "source": [
    "### H0"
   ]
  },
  {
   "cell_type": "code",
   "execution_count": 10,
   "metadata": {},
   "outputs": [
    {
     "name": "stdout",
     "output_type": "stream",
     "text": [
      "Working on realization 500\n",
      "Working on realization 1000\n",
      "Working on realization 1500\n",
      "Working on realization 2000\n",
      "Working on realization 2500\n",
      "Working on realization 3000\n",
      "Working on realization 3500\n",
      "Working on realization 4000\n",
      "Working on realization 4500\n",
      "Working on realization 5000\n",
      "Working on realization 5500\n",
      "Working on realization 6000\n",
      "Working on realization 6500\n",
      "Working on realization 7000\n",
      "Working on realization 7500\n",
      "Working on realization 8000\n",
      "Working on realization 8500\n",
      "Working on realization 9000\n",
      "Working on realization 9500\n",
      "Working on realization 10000\n"
     ]
    }
   ],
   "source": [
    "for rR in range( 1, NUMREAL + 1, 1 ):\n",
    "    if ((rR % 500) == 0):\n",
    "        print(\"Working on realization %d\" % rR)\n",
    "    # end if\n",
    "    InFile = \"%s%d%s\" % ( IN_H0ROOT1, rR, IN_ROOT2 )\n",
    "    InFP = os.path.normpath( os.path.join( IN_DIR, InFile ) )\n",
    "    InDF = pd.read_pickle( InFP, compression='zip' )\n",
    "    TempDF = InDF[[WS_In_Hdrs[2]]].resample( 'MS', closed='left', label='left' ).mean()\n",
    "    PreDF = InDF[[WS_In_Hdrs[3]]].resample( 'MS', closed='left', label='left' ).sum()\n",
    "    EToDF = InDF[[WS_In_Hdrs[4]]].resample( 'MS', closed='left', label='left' ).sum()\n",
    "    if rR <= 1:\n",
    "        # data period\n",
    "        H0Temp1 = TempDF[[WS_In_Hdrs[2]]].loc[TP_DICT[1][0]:TP_DICT[1][1]].copy()\n",
    "        H0Temp1[\"R_%d\" % rR] = H0Temp1[WS_In_Hdrs[2]].cumsum( )\n",
    "        H0Temp1.drop( columns=[WS_In_Hdrs[2]], inplace=True)\n",
    "        H0Precip1 = PreDF[[WS_In_Hdrs[3]]].loc[TP_DICT[1][0]:TP_DICT[1][1]].copy()\n",
    "        H0Precip1[\"R_%d\" % rR] = H0Precip1[WS_In_Hdrs[3]].cumsum( )\n",
    "        H0Precip1.drop( columns=[WS_In_Hdrs[3]], inplace=True)\n",
    "        H0ETo1 = EToDF[[WS_In_Hdrs[4]]].loc[TP_DICT[1][0]:TP_DICT[1][1]].copy()\n",
    "        H0ETo1[\"R_%d\" % rR] = H0ETo1[WS_In_Hdrs[4]].cumsum( )\n",
    "        H0ETo1.drop( columns=[WS_In_Hdrs[4]], inplace=True)\n",
    "        H0MTemp1 = TempDF[[WS_In_Hdrs[2]]].loc[TP_DICT[1][0]:TP_DICT[1][1]].copy()\n",
    "        H0MTemp1.columns = [\"R_%d\" % rR]\n",
    "        H0MPrecip1 = PreDF[[WS_In_Hdrs[3]]].loc[TP_DICT[1][0]:TP_DICT[1][1]].copy()\n",
    "        H0MPrecip1.columns = [\"R_%d\" % rR]\n",
    "        H0METo1 = EToDF[[WS_In_Hdrs[4]]].loc[TP_DICT[1][0]:TP_DICT[1][1]].copy()\n",
    "        H0METo1.columns = [\"R_%d\" % rR]\n",
    "        #  Projection 1\n",
    "        H0Temp2 = TempDF[[WS_In_Hdrs[2]]].loc[TP_DICT[2][0]:TP_DICT[2][1]].copy()\n",
    "        H0Temp2[\"R_%d\" % rR] = H0Temp2[WS_In_Hdrs[2]].cumsum( )\n",
    "        H0Temp2.drop( columns=[WS_In_Hdrs[2]], inplace=True)\n",
    "        H0Precip2 = PreDF[[WS_In_Hdrs[3]]].loc[TP_DICT[2][0]:TP_DICT[2][1]].copy()\n",
    "        H0Precip2[\"R_%d\" % rR] = H0Precip2[WS_In_Hdrs[3]].cumsum( )\n",
    "        H0Precip2.drop( columns=[WS_In_Hdrs[3]], inplace=True)\n",
    "        H0ETo2 = EToDF[[WS_In_Hdrs[4]]].loc[TP_DICT[2][0]:TP_DICT[2][1]].copy()\n",
    "        H0ETo2[\"R_%d\" % rR] = H0ETo2[WS_In_Hdrs[4]].cumsum( )\n",
    "        H0ETo2.drop( columns=[WS_In_Hdrs[4]], inplace=True)\n",
    "        H0MTemp2 = TempDF[[WS_In_Hdrs[2]]].loc[TP_DICT[2][0]:TP_DICT[2][1]].copy()\n",
    "        H0MTemp2.columns = [\"R_%d\" % rR]\n",
    "        H0MPrecip2 = PreDF[[WS_In_Hdrs[3]]].loc[TP_DICT[2][0]:TP_DICT[2][1]].copy()\n",
    "        H0MPrecip2.columns = [\"R_%d\" % rR]\n",
    "        H0METo2 = EToDF[[WS_In_Hdrs[4]]].loc[TP_DICT[2][0]:TP_DICT[2][1]].copy()\n",
    "        H0METo2.columns = [\"R_%d\" % rR]\n",
    "        #  Projection 2\n",
    "        H0Temp3 = TempDF[[WS_In_Hdrs[2]]].loc[TP_DICT[3][0]:TP_DICT[3][1]].copy()\n",
    "        H0Temp3[\"R_%d\" % rR] = H0Temp3[WS_In_Hdrs[2]].cumsum( )\n",
    "        H0Temp3.drop( columns=[WS_In_Hdrs[2]], inplace=True)\n",
    "        H0Precip3 = PreDF[[WS_In_Hdrs[3]]].loc[TP_DICT[3][0]:TP_DICT[3][1]].copy()\n",
    "        H0Precip3[\"R_%d\" % rR] = H0Precip3[WS_In_Hdrs[3]].cumsum( )\n",
    "        H0Precip3.drop( columns=[WS_In_Hdrs[3]], inplace=True)\n",
    "        H0ETo3 = EToDF[[WS_In_Hdrs[4]]].loc[TP_DICT[3][0]:TP_DICT[3][1]].copy()\n",
    "        H0ETo3[\"R_%d\" % rR] = H0ETo3[WS_In_Hdrs[4]].cumsum( )\n",
    "        H0ETo3.drop( columns=[WS_In_Hdrs[4]], inplace=True)\n",
    "        H0MTemp3 = TempDF[[WS_In_Hdrs[2]]].loc[TP_DICT[3][0]:TP_DICT[3][1]].copy()\n",
    "        H0MTemp3.columns = [\"R_%d\" % rR]\n",
    "        H0MPrecip3 = PreDF[[WS_In_Hdrs[3]]].loc[TP_DICT[3][0]:TP_DICT[3][1]].copy()\n",
    "        H0MPrecip3.columns = [\"R_%d\" % rR]\n",
    "        H0METo3 = EToDF[[WS_In_Hdrs[4]]].loc[TP_DICT[3][0]:TP_DICT[3][1]].copy()\n",
    "        H0METo3.columns = [\"R_%d\" % rR]\n",
    "        #  Projection 3\n",
    "        H0Temp4 = TempDF[[WS_In_Hdrs[2]]].loc[TP_DICT[4][0]:TP_DICT[4][1]].copy()\n",
    "        H0Temp4[\"R_%d\" % rR] = H0Temp4[WS_In_Hdrs[2]].cumsum( )\n",
    "        H0Temp4.drop( columns=[WS_In_Hdrs[2]], inplace=True)\n",
    "        H0Precip4 = PreDF[[WS_In_Hdrs[3]]].loc[TP_DICT[4][0]:TP_DICT[4][1]].copy()\n",
    "        H0Precip4[\"R_%d\" % rR] = H0Precip4[WS_In_Hdrs[3]].cumsum( )\n",
    "        H0Precip4.drop( columns=[WS_In_Hdrs[3]], inplace=True)\n",
    "        H0ETo4 = EToDF[[WS_In_Hdrs[4]]].loc[TP_DICT[4][0]:TP_DICT[4][1]].copy()\n",
    "        H0ETo4[\"R_%d\" % rR] = H0ETo4[WS_In_Hdrs[4]].cumsum( )\n",
    "        H0ETo4.drop( columns=[WS_In_Hdrs[4]], inplace=True)\n",
    "        H0MTemp4 = TempDF[[WS_In_Hdrs[2]]].loc[TP_DICT[4][0]:TP_DICT[4][1]].copy()\n",
    "        H0MTemp4.columns = [\"R_%d\" % rR]\n",
    "        H0MPrecip4 = PreDF[[WS_In_Hdrs[3]]].loc[TP_DICT[4][0]:TP_DICT[4][1]].copy()\n",
    "        H0MPrecip4.columns = [\"R_%d\" % rR]\n",
    "        H0METo4 = EToDF[[WS_In_Hdrs[4]]].loc[TP_DICT[4][0]:TP_DICT[4][1]].copy()\n",
    "        H0METo4.columns = [\"R_%d\" % rR]\n",
    "    else:\n",
    "        # data period\n",
    "        tmpTmp = TempDF[[WS_In_Hdrs[2]]].loc[TP_DICT[1][0]:TP_DICT[1][1]].copy()\n",
    "        tmpTmp[\"R_%d\" % rR] = tmpTmp[WS_In_Hdrs[2]].cumsum( )\n",
    "        tmpTmp.drop( columns=[WS_In_Hdrs[2]], inplace=True)\n",
    "        H0Temp1 = H0Temp1.merge( tmpTmp, how='inner', left_index=True, right_index=True )\n",
    "        tmpPre = PreDF[[WS_In_Hdrs[3]]].loc[TP_DICT[1][0]:TP_DICT[1][1]].copy()\n",
    "        tmpPre[\"R_%d\" % rR] = tmpPre[WS_In_Hdrs[3]].cumsum( )\n",
    "        tmpPre.drop( columns=[WS_In_Hdrs[3]], inplace=True)\n",
    "        H0Precip1 = H0Precip1.merge( tmpPre, how='inner', left_index=True, right_index=True )\n",
    "        tmpETo = EToDF[[WS_In_Hdrs[4]]].loc[TP_DICT[1][0]:TP_DICT[1][1]].copy()\n",
    "        tmpETo[\"R_%d\" % rR] = tmpETo[WS_In_Hdrs[4]].cumsum( )\n",
    "        tmpETo.drop( columns=[WS_In_Hdrs[4]], inplace=True)\n",
    "        H0ETo1 = H0ETo1.merge( tmpETo, how='inner', left_index=True, right_index=True )\n",
    "        tmpTmp = TempDF[[WS_In_Hdrs[2]]].loc[TP_DICT[1][0]:TP_DICT[1][1]].copy()\n",
    "        tmpTmp.columns = [\"R_%d\" % rR]\n",
    "        H0MTemp1 = H0MTemp1.merge( tmpTmp,  how='inner', left_index=True, right_index=True )\n",
    "        tmpPre = PreDF[[WS_In_Hdrs[3]]].loc[TP_DICT[1][0]:TP_DICT[1][1]].copy()\n",
    "        tmpPre.columns = [\"R_%d\" % rR]\n",
    "        H0MPrecip1 = H0MPrecip1.merge( tmpPre,  how='inner', left_index=True, right_index=True )\n",
    "        tmpETo = EToDF[[WS_In_Hdrs[4]]].loc[TP_DICT[1][0]:TP_DICT[1][1]].copy()\n",
    "        tmpETo.columns = [\"R_%d\" % rR]\n",
    "        H0METo1 = H0METo1.merge( tmpETo, how='inner', left_index=True, right_index=True )\n",
    "        # Projection 1\n",
    "        tmpTmp = TempDF[[WS_In_Hdrs[2]]].loc[TP_DICT[2][0]:TP_DICT[2][1]].copy()\n",
    "        tmpTmp[\"R_%d\" % rR] = tmpTmp[WS_In_Hdrs[2]].cumsum( )\n",
    "        tmpTmp.drop( columns=[WS_In_Hdrs[2]], inplace=True)\n",
    "        H0Temp2 = H0Temp2.merge( tmpTmp, how='inner', left_index=True, right_index=True )\n",
    "        tmpPre = PreDF[[WS_In_Hdrs[3]]].loc[TP_DICT[2][0]:TP_DICT[2][1]].copy()\n",
    "        tmpPre[\"R_%d\" % rR] = tmpPre[WS_In_Hdrs[3]].cumsum( )\n",
    "        tmpPre.drop( columns=[WS_In_Hdrs[3]], inplace=True)\n",
    "        H0Precip2 = H0Precip2.merge( tmpPre, how='inner', left_index=True, right_index=True )\n",
    "        tmpETo = EToDF[[WS_In_Hdrs[4]]].loc[TP_DICT[2][0]:TP_DICT[2][1]].copy()\n",
    "        tmpETo[\"R_%d\" % rR] = tmpETo[WS_In_Hdrs[4]].cumsum( )\n",
    "        tmpETo.drop( columns=[WS_In_Hdrs[4]], inplace=True)\n",
    "        H0ETo2 = H0ETo2.merge( tmpETo, how='inner', left_index=True, right_index=True )\n",
    "        tmpTmp = TempDF[[WS_In_Hdrs[2]]].loc[TP_DICT[2][0]:TP_DICT[2][1]].copy()\n",
    "        tmpTmp.columns = [\"R_%d\" % rR]\n",
    "        H0MTemp2 = H0MTemp2.merge( tmpTmp,  how='inner', left_index=True, right_index=True )\n",
    "        tmpPre = PreDF[[WS_In_Hdrs[3]]].loc[TP_DICT[2][0]:TP_DICT[2][1]].copy()\n",
    "        tmpPre.columns = [\"R_%d\" % rR]\n",
    "        H0MPrecip2 = H0MPrecip2.merge( tmpPre,  how='inner', left_index=True, right_index=True )\n",
    "        tmpETo = EToDF[[WS_In_Hdrs[4]]].loc[TP_DICT[2][0]:TP_DICT[2][1]].copy()\n",
    "        tmpETo.columns = [\"R_%d\" % rR]\n",
    "        H0METo2 = H0METo2.merge( tmpETo, how='inner', left_index=True, right_index=True )\n",
    "        # Projection 2\n",
    "        tmpTmp = TempDF[[WS_In_Hdrs[2]]].loc[TP_DICT[3][0]:TP_DICT[3][1]].copy()\n",
    "        tmpTmp[\"R_%d\" % rR] = tmpTmp[WS_In_Hdrs[2]].cumsum( )\n",
    "        tmpTmp.drop( columns=[WS_In_Hdrs[2]], inplace=True)\n",
    "        H0Temp3 = H0Temp3.merge( tmpTmp, how='inner', left_index=True, right_index=True )\n",
    "        tmpPre = PreDF[[WS_In_Hdrs[3]]].loc[TP_DICT[3][0]:TP_DICT[3][1]].copy()\n",
    "        tmpPre[\"R_%d\" % rR] = tmpPre[WS_In_Hdrs[3]].cumsum( )\n",
    "        tmpPre.drop( columns=[WS_In_Hdrs[3]], inplace=True)\n",
    "        H0Precip3 = H0Precip3.merge( tmpPre, how='inner', left_index=True, right_index=True )\n",
    "        tmpETo = EToDF[[WS_In_Hdrs[4]]].loc[TP_DICT[3][0]:TP_DICT[3][1]].copy()\n",
    "        tmpETo[\"R_%d\" % rR] = tmpETo[WS_In_Hdrs[4]].cumsum( )\n",
    "        tmpETo.drop( columns=[WS_In_Hdrs[4]], inplace=True)\n",
    "        H0ETo3 = H0ETo3.merge( tmpETo, how='inner', left_index=True, right_index=True )\n",
    "        tmpTmp = TempDF[[WS_In_Hdrs[2]]].loc[TP_DICT[3][0]:TP_DICT[3][1]].copy()\n",
    "        tmpTmp.columns = [\"R_%d\" % rR]\n",
    "        H0MTemp3 = H0MTemp3.merge( tmpTmp,  how='inner', left_index=True, right_index=True )\n",
    "        tmpPre = PreDF[[WS_In_Hdrs[3]]].loc[TP_DICT[3][0]:TP_DICT[3][1]].copy()\n",
    "        tmpPre.columns = [\"R_%d\" % rR]\n",
    "        H0MPrecip3 = H0MPrecip3.merge( tmpPre,  how='inner', left_index=True, right_index=True )\n",
    "        tmpETo = EToDF[[WS_In_Hdrs[4]]].loc[TP_DICT[3][0]:TP_DICT[3][1]].copy()\n",
    "        tmpETo.columns = [\"R_%d\" % rR]\n",
    "        H0METo3 = H0METo3.merge( tmpETo, how='inner', left_index=True, right_index=True )\n",
    "        # Projection 3\n",
    "        tmpTmp = TempDF[[WS_In_Hdrs[2]]].loc[TP_DICT[4][0]:TP_DICT[4][1]].copy()\n",
    "        tmpTmp[\"R_%d\" % rR] = tmpTmp[WS_In_Hdrs[2]].cumsum( )\n",
    "        tmpTmp.drop( columns=[WS_In_Hdrs[2]], inplace=True)\n",
    "        H0Temp4 = H0Temp4.merge( tmpTmp, how='inner', left_index=True, right_index=True )\n",
    "        tmpPre = PreDF[[WS_In_Hdrs[3]]].loc[TP_DICT[4][0]:TP_DICT[4][1]].copy()\n",
    "        tmpPre[\"R_%d\" % rR] = tmpPre[WS_In_Hdrs[3]].cumsum( )\n",
    "        tmpPre.drop( columns=[WS_In_Hdrs[3]], inplace=True)\n",
    "        H0Precip4 = H0Precip4.merge( tmpPre, how='inner', left_index=True, right_index=True )\n",
    "        tmpETo = EToDF[[WS_In_Hdrs[4]]].loc[TP_DICT[4][0]:TP_DICT[4][1]].copy()\n",
    "        tmpETo[\"R_%d\" % rR] = tmpETo[WS_In_Hdrs[4]].cumsum( )\n",
    "        tmpETo.drop( columns=[WS_In_Hdrs[4]], inplace=True)\n",
    "        H0ETo4 = H0ETo4.merge( tmpETo, how='inner', left_index=True, right_index=True )\n",
    "        tmpTmp = TempDF[[WS_In_Hdrs[2]]].loc[TP_DICT[4][0]:TP_DICT[4][1]].copy()\n",
    "        tmpTmp.columns = [\"R_%d\" % rR]\n",
    "        H0MTemp4 = H0MTemp4.merge( tmpTmp,  how='inner', left_index=True, right_index=True )\n",
    "        tmpPre = PreDF[[WS_In_Hdrs[3]]].loc[TP_DICT[4][0]:TP_DICT[4][1]].copy()\n",
    "        tmpPre.columns = [\"R_%d\" % rR]\n",
    "        H0MPrecip4 = H0MPrecip4.merge( tmpPre,  how='inner', left_index=True, right_index=True )\n",
    "        tmpETo = EToDF[[WS_In_Hdrs[4]]].loc[TP_DICT[4][0]:TP_DICT[4][1]].copy()\n",
    "        tmpETo.columns = [\"R_%d\" % rR]\n",
    "        H0METo4 = H0METo4.merge( tmpETo, how='inner', left_index=True, right_index=True )\n",
    "    # end if\n",
    "# end for"
   ]
  },
  {
   "cell_type": "markdown",
   "metadata": {},
   "source": [
    "For loop can take a long time so output now"
   ]
  },
  {
   "cell_type": "code",
   "execution_count": 11,
   "metadata": {},
   "outputs": [],
   "source": [
    "OFNamer = \"CumWS_H0_Precip1_%s.pickle\" % OUT_ROOT\n",
    "OFPath = os.path.normpath( os.path.join( OUT_DIR, OFNamer ) )\n",
    "H0Precip1.to_pickle( OFPath, compression='zip' )\n",
    "#H0Precip1 = pd.read_pickle( OFPath, compression='zip' )\n",
    "OFNamer = \"CumWS_H0_Temp1_%s.pickle\" % OUT_ROOT\n",
    "OFPath = os.path.normpath( os.path.join( OUT_DIR, OFNamer ) )\n",
    "H0Temp1.to_pickle( OFPath, compression='zip' )\n",
    "#H0Temp1 = pd.read_pickle( OFPath, compression='zip' )\n",
    "OFNamer = \"CumWS_H0_ETo1_%s.pickle\" % OUT_ROOT\n",
    "OFPath = os.path.normpath( os.path.join( OUT_DIR, OFNamer ) )\n",
    "H0ETo1.to_pickle( OFPath, compression='zip' )\n",
    "#H0ETo1 = pd.read_pickle( OFPath, compression='zip' )"
   ]
  },
  {
   "cell_type": "code",
   "execution_count": 12,
   "metadata": {},
   "outputs": [],
   "source": [
    "OFNamer = \"MonWS_H0_Precip1_%s.pickle\" % OUT_ROOT\n",
    "OFPath = os.path.normpath( os.path.join( OUT_DIR, OFNamer ) )\n",
    "H0MPrecip1.to_pickle( OFPath, compression='zip' )\n",
    "#H0MPrecip1 = pd.read_pickle( OFPath, compression='zip' )\n",
    "OFNamer = \"MonWS_H0_Temp1_%s.pickle\" % OUT_ROOT\n",
    "OFPath = os.path.normpath( os.path.join( OUT_DIR, OFNamer ) )\n",
    "H0MTemp1.to_pickle( OFPath, compression='zip' )\n",
    "#H0MTemp1 = pd.read_pickle( OFPath, compression='zip' )\n",
    "OFNamer = \"MonWS_H0_ETo1_%s.pickle\" % OUT_ROOT\n",
    "OFPath = os.path.normpath( os.path.join( OUT_DIR, OFNamer ) )\n",
    "H0METo1.to_pickle( OFPath, compression='zip' )\n",
    "#H0METo1 = pd.read_pickle( OFPath, compression='zip' )"
   ]
  },
  {
   "cell_type": "code",
   "execution_count": 13,
   "metadata": {},
   "outputs": [],
   "source": [
    "OFNamer = \"CumWS_H0_Precip2_%s.pickle\" % OUT_ROOT\n",
    "OFPath = os.path.normpath( os.path.join( OUT_DIR, OFNamer ) )\n",
    "H0Precip2.to_pickle( OFPath, compression='zip' )\n",
    "#H0Precip2 = pd.read_pickle( OFPath, compression='zip' )\n",
    "OFNamer = \"CumWS_H0_Temp2_%s.pickle\" % OUT_ROOT\n",
    "OFPath = os.path.normpath( os.path.join( OUT_DIR, OFNamer ) )\n",
    "H0Temp2.to_pickle( OFPath, compression='zip' )\n",
    "#H0Temp2 = pd.read_pickle( OFPath, compression='zip' )\n",
    "OFNamer = \"CumWS_H0_ETo2_%s.pickle\" % OUT_ROOT\n",
    "OFPath = os.path.normpath( os.path.join( OUT_DIR, OFNamer ) )\n",
    "H0ETo2.to_pickle( OFPath, compression='zip' )\n",
    "#H0ETo2 = pd.read_pickle( OFPath, compression='zip' )"
   ]
  },
  {
   "cell_type": "code",
   "execution_count": 14,
   "metadata": {},
   "outputs": [],
   "source": [
    "OFNamer = \"MonWS_H0_Precip2_%s.pickle\" % OUT_ROOT\n",
    "OFPath = os.path.normpath( os.path.join( OUT_DIR, OFNamer ) )\n",
    "H0MPrecip2.to_pickle( OFPath, compression='zip' )\n",
    "#H0MPrecip2 = pd.read_pickle( OFPath, compression='zip' )\n",
    "OFNamer = \"MonWS_H0_Temp2_%s.pickle\" % OUT_ROOT\n",
    "OFPath = os.path.normpath( os.path.join( OUT_DIR, OFNamer ) )\n",
    "H0MTemp2.to_pickle( OFPath, compression='zip' )\n",
    "#H0MTemp2 = pd.read_pickle( OFPath, compression='zip' )\n",
    "OFNamer = \"MonWS_H0_ETo2_%s.pickle\" % OUT_ROOT\n",
    "OFPath = os.path.normpath( os.path.join( OUT_DIR, OFNamer ) )\n",
    "H0METo2.to_pickle( OFPath, compression='zip' )\n",
    "#H0METo2 = pd.read_pickle( OFPath, compression='zip' )"
   ]
  },
  {
   "cell_type": "code",
   "execution_count": 15,
   "metadata": {},
   "outputs": [],
   "source": [
    "OFNamer = \"CumWS_H0_Precip3_%s.pickle\" % OUT_ROOT\n",
    "OFPath = os.path.normpath( os.path.join( OUT_DIR, OFNamer ) )\n",
    "H0Precip3.to_pickle( OFPath, compression='zip' )\n",
    "#H0Precip3 = pd.read_pickle( OFPath, compression='zip' )\n",
    "OFNamer = \"CumWS_H0_Temp3_%s.pickle\" % OUT_ROOT\n",
    "OFPath = os.path.normpath( os.path.join( OUT_DIR, OFNamer ) )\n",
    "H0Temp3.to_pickle( OFPath, compression='zip' )\n",
    "#H0Temp3 = pd.read_pickle( OFPath, compression='zip' )\n",
    "OFNamer = \"CumWS_H0_ETo3_%s.pickle\" % OUT_ROOT\n",
    "OFPath = os.path.normpath( os.path.join( OUT_DIR, OFNamer ) )\n",
    "H0ETo3.to_pickle( OFPath, compression='zip' )\n",
    "#H0ETo3 = pd.read_pickle( OFPath, compression='zip' )"
   ]
  },
  {
   "cell_type": "code",
   "execution_count": 16,
   "metadata": {},
   "outputs": [],
   "source": [
    "OFNamer = \"MonWS_H0_Precip3_%s.pickle\" % OUT_ROOT\n",
    "OFPath = os.path.normpath( os.path.join( OUT_DIR, OFNamer ) )\n",
    "H0MPrecip3.to_pickle( OFPath, compression='zip' )\n",
    "#H0MPrecip3 = pd.read_pickle( OFPath, compression='zip' )\n",
    "OFNamer = \"MonWS_H0_Temp3_%s.pickle\" % OUT_ROOT\n",
    "OFPath = os.path.normpath( os.path.join( OUT_DIR, OFNamer ) )\n",
    "H0MTemp3.to_pickle( OFPath, compression='zip' )\n",
    "#H0MTemp3 = pd.read_pickle( OFPath, compression='zip' )\n",
    "OFNamer = \"MonWS_H0_ETo3_%s.pickle\" % OUT_ROOT\n",
    "OFPath = os.path.normpath( os.path.join( OUT_DIR, OFNamer ) )\n",
    "H0METo3.to_pickle( OFPath, compression='zip' )\n",
    "#H0METo3 = pd.read_pickle( OFPath, compression='zip' )"
   ]
  },
  {
   "cell_type": "code",
   "execution_count": 17,
   "metadata": {},
   "outputs": [],
   "source": [
    "OFNamer = \"CumWS_H0_Precip4_%s.pickle\" % OUT_ROOT\n",
    "OFPath = os.path.normpath( os.path.join( OUT_DIR, OFNamer ) )\n",
    "H0Precip4.to_pickle( OFPath, compression='zip' )\n",
    "#H0Precip4 = pd.read_pickle( OFPath, compression='zip' )\n",
    "OFNamer = \"CumWS_H0_Temp4_%s.pickle\" % OUT_ROOT\n",
    "OFPath = os.path.normpath( os.path.join( OUT_DIR, OFNamer ) )\n",
    "H0Temp4.to_pickle( OFPath, compression='zip' )\n",
    "#H0Temp4 = pd.read_pickle( OFPath, compression='zip' )\n",
    "OFNamer = \"CumWS_H0_ETo4_%s.pickle\" % OUT_ROOT\n",
    "OFPath = os.path.normpath( os.path.join( OUT_DIR, OFNamer ) )\n",
    "H0ETo4.to_pickle( OFPath, compression='zip' )\n",
    "#H0ETo4 = pd.read_pickle( OFPath, compression='zip' )"
   ]
  },
  {
   "cell_type": "code",
   "execution_count": 18,
   "metadata": {},
   "outputs": [],
   "source": [
    "OFNamer = \"MonWS_H0_Precip4_%s.pickle\" % OUT_ROOT\n",
    "OFPath = os.path.normpath( os.path.join( OUT_DIR, OFNamer ) )\n",
    "H0MPrecip4.to_pickle( OFPath, compression='zip' )\n",
    "#H0MPrecip4 = pd.read_pickle( OFPath, compression='zip' )\n",
    "OFNamer = \"MonWS_H0_Temp4_%s.pickle\" % OUT_ROOT\n",
    "OFPath = os.path.normpath( os.path.join( OUT_DIR, OFNamer ) )\n",
    "H0MTemp4.to_pickle( OFPath, compression='zip' )\n",
    "#H0MTemp4 = pd.read_pickle( OFPath, compression='zip' )\n",
    "OFNamer = \"MonWS_H0_ETo4_%s.pickle\"  % OUT_ROOT\n",
    "OFPath = os.path.normpath( os.path.join( OUT_DIR, OFNamer ) )\n",
    "H0METo4.to_pickle( OFPath, compression='zip' )\n",
    "#H0METo4 = pd.read_pickle( OFPath, compression='zip' )"
   ]
  },
  {
   "cell_type": "markdown",
   "metadata": {},
   "source": [
    "### H1"
   ]
  },
  {
   "cell_type": "code",
   "execution_count": 19,
   "metadata": {},
   "outputs": [
    {
     "name": "stdout",
     "output_type": "stream",
     "text": [
      "Working on realization 500\n",
      "Working on realization 1000\n",
      "Working on realization 1500\n",
      "Working on realization 2000\n",
      "Working on realization 2500\n",
      "Working on realization 3000\n",
      "Working on realization 3500\n",
      "Working on realization 4000\n",
      "Working on realization 4500\n",
      "Working on realization 5000\n",
      "Working on realization 5500\n",
      "Working on realization 6000\n",
      "Working on realization 6500\n",
      "Working on realization 7000\n",
      "Working on realization 7500\n",
      "Working on realization 8000\n",
      "Working on realization 8500\n",
      "Working on realization 9000\n",
      "Working on realization 9500\n",
      "Working on realization 10000\n"
     ]
    }
   ],
   "source": [
    "for rR in range( 1, NUMREAL + 1, 1 ):\n",
    "    if ((rR % 500) == 0):\n",
    "        print(\"Working on realization %d\" % rR)\n",
    "    # end if\n",
    "    InFile = \"%s%d%s\" % ( IN_H1ROOT1, rR, IN_ROOT2 )\n",
    "    InFP = os.path.normpath( os.path.join( IN_DIR, InFile ) )\n",
    "    InDF = pd.read_pickle( InFP, compression='zip' )\n",
    "    TempDF = InDF[[WS_In_Hdrs[2]]].resample( 'MS', closed='left', label='left' ).mean()\n",
    "    PreDF = InDF[[WS_In_Hdrs[3]]].resample( 'MS', closed='left', label='left' ).sum()\n",
    "    if rR <= 1:\n",
    "        # data period\n",
    "        H1Temp1 = TempDF[[WS_In_Hdrs[2]]].loc[TP_DICT[1][0]:TP_DICT[1][1]].copy()\n",
    "        H1Temp1[\"R_%d\" % rR] = H1Temp1[WS_In_Hdrs[2]].cumsum( )\n",
    "        H1Temp1.drop( columns=[WS_In_Hdrs[2]], inplace=True)\n",
    "        H1Precip1 = PreDF[[WS_In_Hdrs[3]]].loc[TP_DICT[1][0]:TP_DICT[1][1]].copy()\n",
    "        H1Precip1[\"R_%d\" % rR] = H1Precip1[WS_In_Hdrs[3]].cumsum( )\n",
    "        H1Precip1.drop( columns=[WS_In_Hdrs[3]], inplace=True)\n",
    "        H1ETo1 = EToDF[[WS_In_Hdrs[4]]].loc[TP_DICT[1][0]:TP_DICT[1][1]].copy()\n",
    "        H1ETo1[\"R_%d\" % rR] = H1ETo1[WS_In_Hdrs[4]].cumsum( )\n",
    "        H1ETo1.drop( columns=[WS_In_Hdrs[4]], inplace=True)\n",
    "        H1MTemp1 = TempDF[[WS_In_Hdrs[2]]].loc[TP_DICT[1][0]:TP_DICT[1][1]].copy()\n",
    "        H1MTemp1.columns = [\"R_%d\" % rR]\n",
    "        H1MPrecip1 = PreDF[[WS_In_Hdrs[3]]].loc[TP_DICT[1][0]:TP_DICT[1][1]].copy()\n",
    "        H1MPrecip1.columns = [\"R_%d\" % rR]\n",
    "        H1METo1 = EToDF[[WS_In_Hdrs[4]]].loc[TP_DICT[1][0]:TP_DICT[1][1]].copy()\n",
    "        H1METo1.columns = [\"R_%d\" % rR]\n",
    "        #  Projection 1\n",
    "        H1Temp2 = TempDF[[WS_In_Hdrs[2]]].loc[TP_DICT[2][0]:TP_DICT[2][1]].copy()\n",
    "        H1Temp2[\"R_%d\" % rR] = H1Temp2[WS_In_Hdrs[2]].cumsum( )\n",
    "        H1Temp2.drop( columns=[WS_In_Hdrs[2]], inplace=True)\n",
    "        H1Precip2 = PreDF[[WS_In_Hdrs[3]]].loc[TP_DICT[2][0]:TP_DICT[2][1]].copy()\n",
    "        H1Precip2[\"R_%d\" % rR] = H1Precip2[WS_In_Hdrs[3]].cumsum( )\n",
    "        H1Precip2.drop( columns=[WS_In_Hdrs[3]], inplace=True)\n",
    "        H1ETo2 = EToDF[[WS_In_Hdrs[4]]].loc[TP_DICT[2][0]:TP_DICT[2][1]].copy()\n",
    "        H1ETo2[\"R_%d\" % rR] = H1ETo2[WS_In_Hdrs[4]].cumsum( )\n",
    "        H1ETo2.drop( columns=[WS_In_Hdrs[4]], inplace=True)\n",
    "        H1MTemp2 = TempDF[[WS_In_Hdrs[2]]].loc[TP_DICT[2][0]:TP_DICT[2][1]].copy()\n",
    "        H1MTemp2.columns = [\"R_%d\" % rR]\n",
    "        H1MPrecip2 = PreDF[[WS_In_Hdrs[3]]].loc[TP_DICT[2][0]:TP_DICT[2][1]].copy()\n",
    "        H1MPrecip2.columns = [\"R_%d\" % rR]\n",
    "        H1METo2 = EToDF[[WS_In_Hdrs[4]]].loc[TP_DICT[2][0]:TP_DICT[2][1]].copy()\n",
    "        H1METo2.columns = [\"R_%d\" % rR]\n",
    "        #  Projection 2\n",
    "        H1Temp3 = TempDF[[WS_In_Hdrs[2]]].loc[TP_DICT[3][0]:TP_DICT[3][1]].copy()\n",
    "        H1Temp3[\"R_%d\" % rR] = H1Temp3[WS_In_Hdrs[2]].cumsum( )\n",
    "        H1Temp3.drop( columns=[WS_In_Hdrs[2]], inplace=True)\n",
    "        H1Precip3 = PreDF[[WS_In_Hdrs[3]]].loc[TP_DICT[3][0]:TP_DICT[3][1]].copy()\n",
    "        H1Precip3[\"R_%d\" % rR] = H1Precip3[WS_In_Hdrs[3]].cumsum( )\n",
    "        H1Precip3.drop( columns=[WS_In_Hdrs[3]], inplace=True)\n",
    "        H1ETo3 = EToDF[[WS_In_Hdrs[4]]].loc[TP_DICT[3][0]:TP_DICT[3][1]].copy()\n",
    "        H1ETo3[\"R_%d\" % rR] = H1ETo3[WS_In_Hdrs[4]].cumsum( )\n",
    "        H1ETo3.drop( columns=[WS_In_Hdrs[4]], inplace=True)\n",
    "        H1MTemp3 = TempDF[[WS_In_Hdrs[2]]].loc[TP_DICT[3][0]:TP_DICT[3][1]].copy()\n",
    "        H1MTemp3.columns = [\"R_%d\" % rR]\n",
    "        H1MPrecip3 = PreDF[[WS_In_Hdrs[3]]].loc[TP_DICT[3][0]:TP_DICT[3][1]].copy()\n",
    "        H1MPrecip3.columns = [\"R_%d\" % rR]\n",
    "        H1METo3 = EToDF[[WS_In_Hdrs[4]]].loc[TP_DICT[3][0]:TP_DICT[3][1]].copy()\n",
    "        H1METo3.columns = [\"R_%d\" % rR]\n",
    "        #  Projection 3\n",
    "        H1Temp4 = TempDF[[WS_In_Hdrs[2]]].loc[TP_DICT[4][0]:TP_DICT[4][1]].copy()\n",
    "        H1Temp4[\"R_%d\" % rR] = H1Temp4[WS_In_Hdrs[2]].cumsum( )\n",
    "        H1Temp4.drop( columns=[WS_In_Hdrs[2]], inplace=True)\n",
    "        H1Precip4 = PreDF[[WS_In_Hdrs[3]]].loc[TP_DICT[4][0]:TP_DICT[4][1]].copy()\n",
    "        H1Precip4[\"R_%d\" % rR] = H1Precip4[WS_In_Hdrs[3]].cumsum( )\n",
    "        H1Precip4.drop( columns=[WS_In_Hdrs[3]], inplace=True)\n",
    "        H1ETo4 = EToDF[[WS_In_Hdrs[4]]].loc[TP_DICT[4][0]:TP_DICT[4][1]].copy()\n",
    "        H1ETo4[\"R_%d\" % rR] = H1ETo4[WS_In_Hdrs[4]].cumsum( )\n",
    "        H1ETo4.drop( columns=[WS_In_Hdrs[4]], inplace=True)\n",
    "        H1MTemp4 = TempDF[[WS_In_Hdrs[2]]].loc[TP_DICT[4][0]:TP_DICT[4][1]].copy()\n",
    "        H1MTemp4.columns = [\"R_%d\" % rR]\n",
    "        H1MPrecip4 = PreDF[[WS_In_Hdrs[3]]].loc[TP_DICT[4][0]:TP_DICT[4][1]].copy()\n",
    "        H1MPrecip4.columns = [\"R_%d\" % rR]\n",
    "        H1METo4 = EToDF[[WS_In_Hdrs[4]]].loc[TP_DICT[4][0]:TP_DICT[4][1]].copy()\n",
    "        H1METo4.columns = [\"R_%d\" % rR]\n",
    "    else:\n",
    "        # data period\n",
    "        tmpTmp = TempDF[[WS_In_Hdrs[2]]].loc[TP_DICT[1][0]:TP_DICT[1][1]].copy()\n",
    "        tmpTmp[\"R_%d\" % rR] = tmpTmp[WS_In_Hdrs[2]].cumsum( )\n",
    "        tmpTmp.drop( columns=[WS_In_Hdrs[2]], inplace=True)\n",
    "        H1Temp1 = H1Temp1.merge( tmpTmp, how='inner', left_index=True, right_index=True )\n",
    "        tmpPre = PreDF[[WS_In_Hdrs[3]]].loc[TP_DICT[1][0]:TP_DICT[1][1]].copy()\n",
    "        tmpPre[\"R_%d\" % rR] = tmpPre[WS_In_Hdrs[3]].cumsum( )\n",
    "        tmpPre.drop( columns=[WS_In_Hdrs[3]], inplace=True)\n",
    "        H1Precip1 = H1Precip1.merge( tmpPre, how='inner', left_index=True, right_index=True )\n",
    "        tmpETo = EToDF[[WS_In_Hdrs[4]]].loc[TP_DICT[1][0]:TP_DICT[1][1]].copy()\n",
    "        tmpETo[\"R_%d\" % rR] = tmpETo[WS_In_Hdrs[4]].cumsum( )\n",
    "        tmpETo.drop( columns=[WS_In_Hdrs[4]], inplace=True)\n",
    "        H1ETo1 = H1ETo1.merge( tmpETo, how='inner', left_index=True, right_index=True )\n",
    "        tmpTmp = TempDF[[WS_In_Hdrs[2]]].loc[TP_DICT[1][0]:TP_DICT[1][1]].copy()\n",
    "        tmpTmp.columns = [\"R_%d\" % rR]\n",
    "        H1MTemp1 = H1MTemp1.merge( tmpTmp,  how='inner', left_index=True, right_index=True )\n",
    "        tmpPre = PreDF[[WS_In_Hdrs[3]]].loc[TP_DICT[1][0]:TP_DICT[1][1]].copy()\n",
    "        tmpPre.columns = [\"R_%d\" % rR]\n",
    "        H1MPrecip1 = H1MPrecip1.merge( tmpPre,  how='inner', left_index=True, right_index=True )\n",
    "        tmpETo = EToDF[[WS_In_Hdrs[4]]].loc[TP_DICT[1][0]:TP_DICT[1][1]].copy()\n",
    "        tmpETo.columns = [\"R_%d\" % rR]\n",
    "        H1METo1 = H1METo1.merge( tmpETo, how='inner', left_index=True, right_index=True )\n",
    "        # Projection 1\n",
    "        tmpTmp = TempDF[[WS_In_Hdrs[2]]].loc[TP_DICT[2][0]:TP_DICT[2][1]].copy()\n",
    "        tmpTmp[\"R_%d\" % rR] = tmpTmp[WS_In_Hdrs[2]].cumsum( )\n",
    "        tmpTmp.drop( columns=[WS_In_Hdrs[2]], inplace=True)\n",
    "        H1Temp2 = H1Temp2.merge( tmpTmp, how='inner', left_index=True, right_index=True )\n",
    "        tmpPre = PreDF[[WS_In_Hdrs[3]]].loc[TP_DICT[2][0]:TP_DICT[2][1]].copy()\n",
    "        tmpPre[\"R_%d\" % rR] = tmpPre[WS_In_Hdrs[3]].cumsum( )\n",
    "        tmpPre.drop( columns=[WS_In_Hdrs[3]], inplace=True)\n",
    "        H1Precip2 = H1Precip2.merge( tmpPre, how='inner', left_index=True, right_index=True )\n",
    "        tmpETo = EToDF[[WS_In_Hdrs[4]]].loc[TP_DICT[2][0]:TP_DICT[2][1]].copy()\n",
    "        tmpETo[\"R_%d\" % rR] = tmpETo[WS_In_Hdrs[4]].cumsum( )\n",
    "        tmpETo.drop( columns=[WS_In_Hdrs[4]], inplace=True)\n",
    "        H1ETo2 = H1ETo2.merge( tmpETo, how='inner', left_index=True, right_index=True )\n",
    "        tmpTmp = TempDF[[WS_In_Hdrs[2]]].loc[TP_DICT[2][0]:TP_DICT[2][1]].copy()\n",
    "        tmpTmp.columns = [\"R_%d\" % rR]\n",
    "        H1MTemp2 = H1MTemp2.merge( tmpTmp,  how='inner', left_index=True, right_index=True )\n",
    "        tmpPre = PreDF[[WS_In_Hdrs[3]]].loc[TP_DICT[2][0]:TP_DICT[2][1]].copy()\n",
    "        tmpPre.columns = [\"R_%d\" % rR]\n",
    "        H1MPrecip2 = H1MPrecip2.merge( tmpPre,  how='inner', left_index=True, right_index=True )\n",
    "        tmpETo = EToDF[[WS_In_Hdrs[4]]].loc[TP_DICT[2][0]:TP_DICT[2][1]].copy()\n",
    "        tmpETo.columns = [\"R_%d\" % rR]\n",
    "        H1METo2 = H1METo2.merge( tmpETo, how='inner', left_index=True, right_index=True )\n",
    "        # Projection 2\n",
    "        tmpTmp = TempDF[[WS_In_Hdrs[2]]].loc[TP_DICT[3][0]:TP_DICT[3][1]].copy()\n",
    "        tmpTmp[\"R_%d\" % rR] = tmpTmp[WS_In_Hdrs[2]].cumsum( )\n",
    "        tmpTmp.drop( columns=[WS_In_Hdrs[2]], inplace=True)\n",
    "        H1Temp3 = H1Temp3.merge( tmpTmp, how='inner', left_index=True, right_index=True )\n",
    "        tmpPre = PreDF[[WS_In_Hdrs[3]]].loc[TP_DICT[3][0]:TP_DICT[3][1]].copy()\n",
    "        tmpPre[\"R_%d\" % rR] = tmpPre[WS_In_Hdrs[3]].cumsum( )\n",
    "        tmpPre.drop( columns=[WS_In_Hdrs[3]], inplace=True)\n",
    "        H1Precip3 = H1Precip3.merge( tmpPre, how='inner', left_index=True, right_index=True )\n",
    "        tmpETo = EToDF[[WS_In_Hdrs[4]]].loc[TP_DICT[3][0]:TP_DICT[3][1]].copy()\n",
    "        tmpETo[\"R_%d\" % rR] = tmpETo[WS_In_Hdrs[4]].cumsum( )\n",
    "        tmpETo.drop( columns=[WS_In_Hdrs[4]], inplace=True)\n",
    "        H1ETo3 = H1ETo3.merge( tmpETo, how='inner', left_index=True, right_index=True )\n",
    "        tmpTmp = TempDF[[WS_In_Hdrs[2]]].loc[TP_DICT[3][0]:TP_DICT[3][1]].copy()\n",
    "        tmpTmp.columns = [\"R_%d\" % rR]\n",
    "        H1MTemp3 = H1MTemp3.merge( tmpTmp,  how='inner', left_index=True, right_index=True )\n",
    "        tmpPre = PreDF[[WS_In_Hdrs[3]]].loc[TP_DICT[3][0]:TP_DICT[3][1]].copy()\n",
    "        tmpPre.columns = [\"R_%d\" % rR]\n",
    "        H1MPrecip3 = H1MPrecip3.merge( tmpPre,  how='inner', left_index=True, right_index=True )\n",
    "        tmpETo = EToDF[[WS_In_Hdrs[4]]].loc[TP_DICT[3][0]:TP_DICT[3][1]].copy()\n",
    "        tmpETo.columns = [\"R_%d\" % rR]\n",
    "        H1METo3 = H1METo3.merge( tmpETo, how='inner', left_index=True, right_index=True )\n",
    "        # Projection 3\n",
    "        tmpTmp = TempDF[[WS_In_Hdrs[2]]].loc[TP_DICT[4][0]:TP_DICT[4][1]].copy()\n",
    "        tmpTmp[\"R_%d\" % rR] = tmpTmp[WS_In_Hdrs[2]].cumsum( )\n",
    "        tmpTmp.drop( columns=[WS_In_Hdrs[2]], inplace=True)\n",
    "        H1Temp4 = H1Temp4.merge( tmpTmp, how='inner', left_index=True, right_index=True )\n",
    "        tmpPre = PreDF[[WS_In_Hdrs[3]]].loc[TP_DICT[4][0]:TP_DICT[4][1]].copy()\n",
    "        tmpPre[\"R_%d\" % rR] = tmpPre[WS_In_Hdrs[3]].cumsum( )\n",
    "        tmpPre.drop( columns=[WS_In_Hdrs[3]], inplace=True)\n",
    "        H1Precip4 = H1Precip4.merge( tmpPre, how='inner', left_index=True, right_index=True )\n",
    "        tmpETo = EToDF[[WS_In_Hdrs[4]]].loc[TP_DICT[4][0]:TP_DICT[4][1]].copy()\n",
    "        tmpETo[\"R_%d\" % rR] = tmpETo[WS_In_Hdrs[4]].cumsum( )\n",
    "        tmpETo.drop( columns=[WS_In_Hdrs[4]], inplace=True)\n",
    "        H1ETo4 = H1ETo4.merge( tmpETo, how='inner', left_index=True, right_index=True )\n",
    "        tmpTmp = TempDF[[WS_In_Hdrs[2]]].loc[TP_DICT[4][0]:TP_DICT[4][1]].copy()\n",
    "        tmpTmp.columns = [\"R_%d\" % rR]\n",
    "        H1MTemp4 = H1MTemp4.merge( tmpTmp,  how='inner', left_index=True, right_index=True )\n",
    "        tmpPre = PreDF[[WS_In_Hdrs[3]]].loc[TP_DICT[4][0]:TP_DICT[4][1]].copy()\n",
    "        tmpPre.columns = [\"R_%d\" % rR]\n",
    "        H1MPrecip4 = H1MPrecip4.merge( tmpPre,  how='inner', left_index=True, right_index=True )\n",
    "        tmpETo = EToDF[[WS_In_Hdrs[4]]].loc[TP_DICT[4][0]:TP_DICT[4][1]].copy()\n",
    "        tmpETo.columns = [\"R_%d\" % rR]\n",
    "        H1METo4 = H1METo4.merge( tmpETo, how='inner', left_index=True, right_index=True )\n",
    "    # end if\n",
    "# end for"
   ]
  },
  {
   "cell_type": "markdown",
   "metadata": {},
   "source": [
    "For loop can take a long time so output now"
   ]
  },
  {
   "cell_type": "code",
   "execution_count": 20,
   "metadata": {},
   "outputs": [],
   "source": [
    "OFNamer = \"CumWS_H1_Precip1_%s.pickle\" % OUT_ROOT\n",
    "OFPath = os.path.normpath( os.path.join( OUT_DIR, OFNamer ) )\n",
    "H1Precip1.to_pickle( OFPath, compression='zip' )\n",
    "#H1Precip1 = pd.read_pickle( OFPath, compression='zip' )\n",
    "OFNamer = \"CumWS_H1_Temp1_%s.pickle\" % OUT_ROOT\n",
    "OFPath = os.path.normpath( os.path.join( OUT_DIR, OFNamer ) )\n",
    "H1Temp1.to_pickle( OFPath, compression='zip' )\n",
    "#H1Temp1 = pd.read_pickle( OFPath, compression='zip' )\n",
    "OFNamer = \"CumWS_H1_ETo1_%s.pickle\" % OUT_ROOT\n",
    "OFPath = os.path.normpath( os.path.join( OUT_DIR, OFNamer ) )\n",
    "H1ETo1.to_pickle( OFPath, compression='zip' )\n",
    "#H1ETo1 = pd.read_pickle( OFPath, compression='zip' )"
   ]
  },
  {
   "cell_type": "code",
   "execution_count": 21,
   "metadata": {},
   "outputs": [],
   "source": [
    "OFNamer = \"MonWS_H1_Precip1_%s.pickle\"  % OUT_ROOT\n",
    "OFPath = os.path.normpath( os.path.join( OUT_DIR, OFNamer ) )\n",
    "H1MPrecip1.to_pickle( OFPath, compression='zip' )\n",
    "#H1MPrecip1 = pd.read_pickle( OFPath, compression='zip' )\n",
    "OFNamer = \"MonWS_H1_Temp1_%s.pickle\" % OUT_ROOT\n",
    "OFPath = os.path.normpath( os.path.join( OUT_DIR, OFNamer ) )\n",
    "H1MTemp1.to_pickle( OFPath, compression='zip' )\n",
    "#H1MTemp1 = pd.read_pickle( OFPath, compression='zip' )\n",
    "OFNamer = \"MonWS_H1_ETo1_%s.pickle\" % OUT_ROOT\n",
    "OFPath = os.path.normpath( os.path.join( OUT_DIR, OFNamer ) )\n",
    "H1METo1.to_pickle( OFPath, compression='zip' )\n",
    "#H1METo1 = pd.read_pickle( OFPath, compression='zip' )"
   ]
  },
  {
   "cell_type": "code",
   "execution_count": 22,
   "metadata": {},
   "outputs": [],
   "source": [
    "OFNamer = \"CumWS_H1_Precip2_%s.pickle\" % OUT_ROOT\n",
    "OFPath = os.path.normpath( os.path.join( OUT_DIR, OFNamer ) )\n",
    "H1Precip2.to_pickle( OFPath, compression='zip' )\n",
    "#H1Precip2 = pd.read_pickle( OFPath, compression='zip' )\n",
    "OFNamer = \"CumWS_H1_Temp2_%s.pickle\" % OUT_ROOT\n",
    "OFPath = os.path.normpath( os.path.join( OUT_DIR, OFNamer ) )\n",
    "H1Temp2.to_pickle( OFPath, compression='zip' )\n",
    "#H1Temp2 = pd.read_pickle( OFPath, compression='zip' )\n",
    "OFNamer = \"CumWS_H1_ETo2_%s.pickle\" % OUT_ROOT\n",
    "OFPath = os.path.normpath( os.path.join( OUT_DIR, OFNamer ) )\n",
    "H1ETo2.to_pickle( OFPath, compression='zip' )\n",
    "#H1ETo2 = pd.read_pickle( OFPath, compression='zip' )"
   ]
  },
  {
   "cell_type": "code",
   "execution_count": 23,
   "metadata": {},
   "outputs": [],
   "source": [
    "OFNamer = \"MonWS_H1_Precip2_%s.pickle\" % OUT_ROOT\n",
    "OFPath = os.path.normpath( os.path.join( OUT_DIR, OFNamer ) )\n",
    "H1MPrecip2.to_pickle( OFPath, compression='zip' )\n",
    "#H1MPrecip2 = pd.read_pickle( OFPath, compression='zip' )\n",
    "OFNamer = \"MonWS_H1_Temp2_%s.pickle\" % OUT_ROOT\n",
    "OFPath = os.path.normpath( os.path.join( OUT_DIR, OFNamer ) )\n",
    "H1MTemp2.to_pickle( OFPath, compression='zip' )\n",
    "#H1MTemp2 = pd.read_pickle( OFPath, compression='zip' )\n",
    "OFNamer = \"MonWS_H1_ETo2_%s.pickle\" % OUT_ROOT\n",
    "OFPath = os.path.normpath( os.path.join( OUT_DIR, OFNamer ) )\n",
    "H1METo2.to_pickle( OFPath, compression='zip' )\n",
    "#H1METo2 = pd.read_pickle( OFPath, compression='zip' )"
   ]
  },
  {
   "cell_type": "code",
   "execution_count": 24,
   "metadata": {},
   "outputs": [],
   "source": [
    "OFNamer = \"CumWS_H1_Precip3_%s.pickle\" % OUT_ROOT\n",
    "OFPath = os.path.normpath( os.path.join( OUT_DIR, OFNamer ) )\n",
    "H1Precip3.to_pickle( OFPath, compression='zip' )\n",
    "#H1Precip3 = pd.read_pickle( OFPath, compression='zip' )\n",
    "OFNamer = \"CumWS_H1_Temp3_%s.pickle\" % OUT_ROOT\n",
    "OFPath = os.path.normpath( os.path.join( OUT_DIR, OFNamer ) )\n",
    "H1Temp3.to_pickle( OFPath, compression='zip' )\n",
    "#H1Temp3 = pd.read_pickle( OFPath, compression='zip' )\n",
    "OFNamer = \"CumWS_H1_ETo3_%s.pickle\" % OUT_ROOT\n",
    "OFPath = os.path.normpath( os.path.join( OUT_DIR, OFNamer ) )\n",
    "H1ETo3.to_pickle( OFPath, compression='zip' )\n",
    "#H1ETo3 = pd.read_pickle( OFPath, compression='zip' )"
   ]
  },
  {
   "cell_type": "code",
   "execution_count": 25,
   "metadata": {},
   "outputs": [],
   "source": [
    "OFNamer = \"MonWS_H1_Precip3_%s.pickle\" % OUT_ROOT\n",
    "OFPath = os.path.normpath( os.path.join( OUT_DIR, OFNamer ) )\n",
    "H1MPrecip3.to_pickle( OFPath, compression='zip' )\n",
    "#H1MPrecip3 = pd.read_pickle( OFPath, compression='zip' )\n",
    "OFNamer = \"MonWS_H1_Temp3_%s.pickle\" % OUT_ROOT\n",
    "OFPath = os.path.normpath( os.path.join( OUT_DIR, OFNamer ) )\n",
    "H1MTemp3.to_pickle( OFPath, compression='zip' )\n",
    "#H1MTemp3 = pd.read_pickle( OFPath, compression='zip' )\n",
    "OFNamer = \"MonWS_H1_ETo3_%s.pickle\" % OUT_ROOT\n",
    "OFPath = os.path.normpath( os.path.join( OUT_DIR, OFNamer ) )\n",
    "H1METo3.to_pickle( OFPath, compression='zip' )\n",
    "#H1METo3 = pd.read_pickle( OFPath, compression='zip' )"
   ]
  },
  {
   "cell_type": "code",
   "execution_count": 26,
   "metadata": {},
   "outputs": [],
   "source": [
    "OFNamer = \"CumWS_H1_Precip4_%s.pickle\" % OUT_ROOT\n",
    "OFPath = os.path.normpath( os.path.join( OUT_DIR, OFNamer ) )\n",
    "H1Precip4.to_pickle( OFPath, compression='zip' )\n",
    "#H1Precip4 = pd.read_pickle( OFPath, compression='zip' )\n",
    "OFNamer = \"CumWS_H1_Temp4_%s.pickle\" % OUT_ROOT\n",
    "OFPath = os.path.normpath( os.path.join( OUT_DIR, OFNamer ) )\n",
    "H1Temp4.to_pickle( OFPath, compression='zip' )\n",
    "#H1Temp4 = pd.read_pickle( OFPath, compression='zip' )\n",
    "OFNamer = \"CumWS_H1_ETo4_%s.pickle\" % OUT_ROOT\n",
    "OFPath = os.path.normpath( os.path.join( OUT_DIR, OFNamer ) )\n",
    "H1ETo4.to_pickle( OFPath, compression='zip' )\n",
    "#H1ETo4 = pd.read_pickle( OFPath, compression='zip' )"
   ]
  },
  {
   "cell_type": "code",
   "execution_count": 27,
   "metadata": {},
   "outputs": [],
   "source": [
    "OFNamer = \"MonWS_H1_Precip4_%s.pickle\" % OUT_ROOT\n",
    "OFPath = os.path.normpath( os.path.join( OUT_DIR, OFNamer ) )\n",
    "H1MPrecip4.to_pickle( OFPath, compression='zip' )\n",
    "#H1MPrecip4 = pd.read_pickle( OFPath, compression='zip' )\n",
    "OFNamer = \"MonWS_H1_Temp4_%s.pickle\" % OUT_ROOT\n",
    "OFPath = os.path.normpath( os.path.join( OUT_DIR, OFNamer ) )\n",
    "H1MTemp4.to_pickle( OFPath, compression='zip' )\n",
    "#H1MTemp4 = pd.read_pickle( OFPath, compression='zip' )\n",
    "OFNamer = \"MonWS_H1_ETo4_%s.pickle\" % OUT_ROOT\n",
    "OFPath = os.path.normpath( os.path.join( OUT_DIR, OFNamer ) )\n",
    "H1METo4.to_pickle( OFPath, compression='zip' )\n",
    "#H1METo4 = pd.read_pickle( OFPath, compression='zip' )"
   ]
  },
  {
   "cell_type": "markdown",
   "metadata": {},
   "source": [
    "Now use pivot tables to get formats for calculation of Koppen climate classification"
   ]
  },
  {
   "cell_type": "code",
   "execution_count": 28,
   "metadata": {},
   "outputs": [],
   "source": [
    "AllPCols = list( H0MPrecip1.columns )"
   ]
  },
  {
   "cell_type": "code",
   "execution_count": 29,
   "metadata": {},
   "outputs": [],
   "source": [
    "H0MPrecip1[\"Year\"] = H0MPrecip1.index.year\n",
    "H0MPrecip1[\"Month\"] = H0MPrecip1.index.month\n",
    "H0MTemp1[\"Year\"] = H0MTemp1.index.year\n",
    "H0MTemp1[\"Month\"] = H0MTemp1.index.month\n",
    "H0METo1[\"Year\"] = H0METo1.index.year\n",
    "H0METo1[\"Month\"] = H0METo1.index.month\n",
    "H1MPrecip1[\"Year\"] = H1MPrecip1.index.year\n",
    "H1MPrecip1[\"Month\"] = H1MPrecip1.index.month\n",
    "H1MTemp1[\"Year\"] = H1MTemp1.index.year\n",
    "H1MTemp1[\"Month\"] = H1MTemp1.index.month\n",
    "H1METo1[\"Year\"] = H1METo1.index.year\n",
    "H1METo1[\"Month\"] = H1METo1.index.month\n",
    "H0MPrecip1[\"Average\"] = H0MPrecip1.mean( axis=1 )\n",
    "H0MTemp1[\"Average\"] = H0MTemp1.mean( axis=1 )\n",
    "H0METo1[\"Average\"] = H0METo1.mean( axis=1 )\n",
    "H1MPrecip1[\"Average\"] = H1MPrecip1.mean( axis=1 )\n",
    "H1MTemp1[\"Average\"] = H1MTemp1.mean( axis=1 )\n",
    "H1METo1[\"Average\"] = H1METo1.mean( axis=1 )"
   ]
  },
  {
   "cell_type": "code",
   "execution_count": 30,
   "metadata": {},
   "outputs": [],
   "source": [
    "H0MPrecip2[\"Year\"] = H0MPrecip2.index.year\n",
    "H0MPrecip2[\"Month\"] = H0MPrecip2.index.month\n",
    "H0MTemp2[\"Year\"] = H0MTemp2.index.year\n",
    "H0MTemp2[\"Month\"] = H0MTemp2.index.month\n",
    "H0METo2[\"Year\"] = H0METo2.index.year\n",
    "H0METo2[\"Month\"] = H0METo2.index.month\n",
    "H1MPrecip2[\"Year\"] = H1MPrecip2.index.year\n",
    "H1MPrecip2[\"Month\"] = H1MPrecip2.index.month\n",
    "H1MTemp2[\"Year\"] = H1MTemp2.index.year\n",
    "H1MTemp2[\"Month\"] = H1MTemp2.index.month\n",
    "H1METo2[\"Year\"] = H1METo2.index.year\n",
    "H1METo2[\"Month\"] = H1METo2.index.month\n",
    "H0MPrecip2[\"Average\"] = H0MPrecip2.mean( axis=1 )\n",
    "H0MTemp2[\"Average\"] = H0MTemp2.mean( axis=1 )\n",
    "H0METo2[\"Average\"] = H0METo2.mean( axis=1 )\n",
    "H1MPrecip2[\"Average\"] = H1MPrecip2.mean( axis=1 )\n",
    "H1MTemp2[\"Average\"] = H1MTemp2.mean( axis=1 )\n",
    "H1METo2[\"Average\"] = H1METo2.mean( axis=1 )"
   ]
  },
  {
   "cell_type": "code",
   "execution_count": 31,
   "metadata": {},
   "outputs": [],
   "source": [
    "H0MPrecip3[\"Year\"] = H0MPrecip3.index.year\n",
    "H0MPrecip3[\"Month\"] = H0MPrecip3.index.month\n",
    "H0MTemp3[\"Year\"] = H0MTemp3.index.year\n",
    "H0MTemp3[\"Month\"] = H0MTemp3.index.month\n",
    "H0METo3[\"Year\"] = H0METo3.index.year\n",
    "H0METo3[\"Month\"] = H0METo3.index.month\n",
    "H1MPrecip3[\"Year\"] = H1MPrecip3.index.year\n",
    "H1MPrecip3[\"Month\"] = H1MPrecip3.index.month\n",
    "H1MTemp3[\"Year\"] = H1MTemp3.index.year\n",
    "H1MTemp3[\"Month\"] = H1MTemp3.index.month\n",
    "H1METo3[\"Year\"] = H1METo3.index.year\n",
    "H1METo3[\"Month\"] = H1METo3.index.month\n",
    "H0MPrecip3[\"Average\"] = H0MPrecip3.mean( axis=1 )\n",
    "H0MTemp3[\"Average\"] = H0MTemp3.mean( axis=1 )\n",
    "H0METo3[\"Average\"] = H0METo3.mean( axis=1 )\n",
    "H1MPrecip3[\"Average\"] = H1MPrecip3.mean( axis=1 )\n",
    "H1MTemp3[\"Average\"] = H1MTemp3.mean( axis=1 )\n",
    "H1METo3[\"Average\"] = H1METo3.mean( axis=1 )"
   ]
  },
  {
   "cell_type": "code",
   "execution_count": 32,
   "metadata": {},
   "outputs": [],
   "source": [
    "H0MPrecip4[\"Year\"] = H0MPrecip4.index.year\n",
    "H0MPrecip4[\"Month\"] = H0MPrecip4.index.month\n",
    "H0MTemp4[\"Year\"] = H0MTemp4.index.year\n",
    "H0MTemp4[\"Month\"] = H0MTemp4.index.month\n",
    "H0METo4[\"Year\"] = H0METo4.index.year\n",
    "H0METo4[\"Month\"] = H0METo4.index.month\n",
    "H1MPrecip4[\"Year\"] = H1MPrecip4.index.year\n",
    "H1MPrecip4[\"Month\"] = H1MPrecip4.index.month\n",
    "H1MTemp4[\"Year\"] = H1MTemp4.index.year\n",
    "H1MTemp4[\"Month\"] = H1MTemp4.index.month\n",
    "H1METo4[\"Year\"] = H1METo4.index.year\n",
    "H1METo4[\"Month\"] = H1METo4.index.month\n",
    "H0MPrecip4[\"Average\"] = H0MPrecip4.mean( axis=1 )\n",
    "H0MTemp4[\"Average\"] = H0MTemp4.mean( axis=1 )\n",
    "H0METo4[\"Average\"] = H0METo4.mean( axis=1 )\n",
    "H1MPrecip4[\"Average\"] = H1MPrecip4.mean( axis=1 )\n",
    "H1MTemp4[\"Average\"] = H1MTemp4.mean( axis=1 )\n",
    "H1METo4[\"Average\"] = H1METo4.mean( axis=1 )"
   ]
  },
  {
   "cell_type": "code",
   "execution_count": 33,
   "metadata": {},
   "outputs": [],
   "source": [
    "H0PTMPre1 = H0MPrecip1.pivot( index=\"Year\", columns=\"Month\", values=\"Average\" )\n",
    "H0PTMTmp1 = H0MTemp1.pivot( index=\"Year\", columns=\"Month\", values=\"Average\" )\n",
    "H0PTMETo1 = H0METo1.pivot( index=\"Year\", columns=\"Month\", values=\"Average\" )\n",
    "H0PTMPre2 = H0MPrecip2.pivot( index=\"Year\", columns=\"Month\", values=\"Average\" )\n",
    "H0PTMTmp2 = H0MTemp2.pivot( index=\"Year\", columns=\"Month\", values=\"Average\" )\n",
    "H0PTMETo2 = H0METo2.pivot( index=\"Year\", columns=\"Month\", values=\"Average\" )\n",
    "H0PTMPre3 = H0MPrecip3.pivot( index=\"Year\", columns=\"Month\", values=\"Average\" )\n",
    "H0PTMTmp3 = H0MTemp3.pivot( index=\"Year\", columns=\"Month\", values=\"Average\" )\n",
    "H0PTMETo3 = H0METo3.pivot( index=\"Year\", columns=\"Month\", values=\"Average\" )\n",
    "H0PTMPre4 = H0MPrecip4.pivot( index=\"Year\", columns=\"Month\", values=\"Average\" )\n",
    "H0PTMTmp4 = H0MTemp4.pivot( index=\"Year\", columns=\"Month\", values=\"Average\" )\n",
    "H0PTMETo4 = H0METo4.pivot( index=\"Year\", columns=\"Month\", values=\"Average\" )"
   ]
  },
  {
   "cell_type": "code",
   "execution_count": 34,
   "metadata": {},
   "outputs": [],
   "source": [
    "H1PTMPre1 = H1MPrecip1.pivot( index=\"Year\", columns=\"Month\", values=\"Average\" )\n",
    "H1PTMTmp1 = H1MTemp1.pivot( index=\"Year\", columns=\"Month\", values=\"Average\" )\n",
    "H1PTMETo1 = H1METo1.pivot( index=\"Year\", columns=\"Month\", values=\"Average\" )\n",
    "H1PTMPre2 = H1MPrecip2.pivot( index=\"Year\", columns=\"Month\", values=\"Average\" )\n",
    "H1PTMTmp2 = H1MTemp2.pivot( index=\"Year\", columns=\"Month\", values=\"Average\" )\n",
    "H1PTMETo2 = H1METo2.pivot( index=\"Year\", columns=\"Month\", values=\"Average\" )\n",
    "H1PTMPre3 = H1MPrecip3.pivot( index=\"Year\", columns=\"Month\", values=\"Average\" )\n",
    "H1PTMTmp3 = H1MTemp3.pivot( index=\"Year\", columns=\"Month\", values=\"Average\" )\n",
    "H1PTMETo3 = H1METo3.pivot( index=\"Year\", columns=\"Month\", values=\"Average\" )\n",
    "H1PTMPre4 = H1MPrecip4.pivot( index=\"Year\", columns=\"Month\", values=\"Average\" )\n",
    "H1PTMTmp4 = H1MTemp4.pivot( index=\"Year\", columns=\"Month\", values=\"Average\" )\n",
    "H1PTMETo4 = H1METo4.pivot( index=\"Year\", columns=\"Month\", values=\"Average\" )"
   ]
  },
  {
   "cell_type": "markdown",
   "metadata": {},
   "source": [
    "Output to a spreadsheet"
   ]
  },
  {
   "cell_type": "code",
   "execution_count": 35,
   "metadata": {},
   "outputs": [],
   "source": [
    "OFNamer = \"WSMon_%s_PivotTables.xlsx\" % OUT_ROOT\n",
    "OFPath = os.path.normpath( os.path.join( OUT_DIR, OFNamer ) )\n",
    "with pd.ExcelWriter( OFPath ) as writer:\n",
    "    H0PTMPre1.to_excel( writer, sheet_name='H0_Precip1', na_rep=str(np.nan),\n",
    "                        index_label=\"Year\" )\n",
    "    H0PTMTmp1.to_excel( writer, sheet_name='H0_Temp1', na_rep=str(np.nan),\n",
    "                        index_label=\"Year\" )\n",
    "    H0PTMETo1.to_excel( writer, sheet_name='H0_ETo1', na_rep=str(np.nan),\n",
    "                        index_label=\"Year\" )\n",
    "    H0PTMPre2.to_excel( writer, sheet_name='H0_Precip2', na_rep=str(np.nan),\n",
    "                        index_label=\"Year\" ) \n",
    "    H0PTMTmp2.to_excel( writer, sheet_name='H0_Temp2', na_rep=str(np.nan),\n",
    "                        index_label=\"Year\" )\n",
    "    H0PTMETo2.to_excel( writer, sheet_name='H0_ETo2', na_rep=str(np.nan),\n",
    "                        index_label=\"Year\" )\n",
    "    H0PTMPre3.to_excel( writer, sheet_name='H0_Precip3', na_rep=str(np.nan),\n",
    "                        index_label=\"Year\" )\n",
    "    H0PTMTmp3.to_excel( writer, sheet_name='H0_Temp3', na_rep=str(np.nan),\n",
    "                        index_label=\"Year\" )\n",
    "    H0PTMETo3.to_excel( writer, sheet_name='H0_ETo3', na_rep=str(np.nan),\n",
    "                        index_label=\"Year\" )\n",
    "    H0PTMPre4.to_excel( writer, sheet_name='H0_Precip4', na_rep=str(np.nan),\n",
    "                        index_label=\"Year\" ) \n",
    "    H0PTMTmp4.to_excel( writer, sheet_name='H0_Temp4', na_rep=str(np.nan),\n",
    "                        index_label=\"Year\" )\n",
    "    H0PTMETo4.to_excel( writer, sheet_name='H0_ETo4', na_rep=str(np.nan),\n",
    "                        index_label=\"Year\" )\n",
    "    H1PTMPre1.to_excel( writer, sheet_name='H1_Precip1', na_rep=str(np.nan),\n",
    "                        index_label=\"Year\" )\n",
    "    H1PTMTmp1.to_excel( writer, sheet_name='H1_Temp1', na_rep=str(np.nan),\n",
    "                        index_label=\"Year\" )\n",
    "    H1PTMETo1.to_excel( writer, sheet_name='H1_ETo1', na_rep=str(np.nan),\n",
    "                        index_label=\"Year\" )\n",
    "    H1PTMPre2.to_excel( writer, sheet_name='H1_Precip2', na_rep=str(np.nan),\n",
    "                        index_label=\"Year\" ) \n",
    "    H1PTMTmp2.to_excel( writer, sheet_name='H1_Temp2', na_rep=str(np.nan),\n",
    "                        index_label=\"Year\" )\n",
    "    H1PTMETo2.to_excel( writer, sheet_name='H1_ETo2', na_rep=str(np.nan),\n",
    "                        index_label=\"Year\" )\n",
    "    H1PTMPre3.to_excel( writer, sheet_name='H1_Precip3', na_rep=str(np.nan),\n",
    "                        index_label=\"Year\" )\n",
    "    H1PTMTmp3.to_excel( writer, sheet_name='H1_Temp3', na_rep=str(np.nan),\n",
    "                        index_label=\"Year\" )\n",
    "    H1PTMETo3.to_excel( writer, sheet_name='H1_ETo3', na_rep=str(np.nan),\n",
    "                        index_label=\"Year\" )\n",
    "    H1PTMPre4.to_excel( writer, sheet_name='H1_Precip4', na_rep=str(np.nan),\n",
    "                        index_label=\"Year\" ) \n",
    "    H1PTMTmp4.to_excel( writer, sheet_name='H1_Temp4', na_rep=str(np.nan),\n",
    "                        index_label=\"Year\" )\n",
    "    H1PTMETo4.to_excel( writer, sheet_name='H1_ETo4', na_rep=str(np.nan),\n",
    "                        index_label=\"Year\" )\n",
    "# end with"
   ]
  },
  {
   "cell_type": "markdown",
   "metadata": {},
   "source": [
    "## Calculate Time History Stats"
   ]
  },
  {
   "cell_type": "markdown",
   "metadata": {},
   "source": [
    "### H0"
   ]
  },
  {
   "cell_type": "code",
   "execution_count": 36,
   "metadata": {},
   "outputs": [],
   "source": [
    "DictH0Pre1 = dict()\n",
    "DictH0Pre2 = dict()\n",
    "DictH0Pre3 = dict()\n",
    "DictH0Pre4 = dict()\n",
    "DictH0Tmp1 = dict()\n",
    "DictH0Tmp2 = dict()\n",
    "DictH0Tmp3 = dict()\n",
    "DictH0Tmp4 = dict()\n",
    "DictH0ETo1 = dict()\n",
    "DictH0ETo2 = dict()\n",
    "DictH0ETo3 = dict()\n",
    "DictH0ETo4 = dict()\n",
    "hdrCnt = 0\n",
    "# start out by doing the percentiles\n",
    "for iI in range(NumQs):\n",
    "    curQ = OurQs[iI]\n",
    "    DictH0Pre1[StatsHdsList[hdrCnt]] = H0Precip1.quantile( q=curQ, axis=1 ).to_numpy()\n",
    "    DictH0Pre2[StatsHdsList[hdrCnt]] = H0Precip2.quantile( q=curQ, axis=1 ).to_numpy()\n",
    "    DictH0Pre3[StatsHdsList[hdrCnt]] = H0Precip3.quantile( q=curQ, axis=1 ).to_numpy()\n",
    "    DictH0Pre4[StatsHdsList[hdrCnt]] = H0Precip4.quantile( q=curQ, axis=1 ).to_numpy()\n",
    "    DictH0Tmp1[StatsHdsList[hdrCnt]] = H0Temp1.quantile( q=curQ, axis=1 ).to_numpy()\n",
    "    DictH0Tmp2[StatsHdsList[hdrCnt]] = H0Temp2.quantile( q=curQ, axis=1 ).to_numpy()\n",
    "    DictH0Tmp3[StatsHdsList[hdrCnt]] = H0Temp3.quantile( q=curQ, axis=1 ).to_numpy()\n",
    "    DictH0Tmp4[StatsHdsList[hdrCnt]] = H0Temp4.quantile( q=curQ, axis=1 ).to_numpy()\n",
    "    DictH0ETo1[StatsHdsList[hdrCnt]] = H0ETo1.quantile( q=curQ, axis=1 ).to_numpy()\n",
    "    DictH0ETo2[StatsHdsList[hdrCnt]] = H0ETo2.quantile( q=curQ, axis=1 ).to_numpy()\n",
    "    DictH0ETo3[StatsHdsList[hdrCnt]] = H0ETo3.quantile( q=curQ, axis=1 ).to_numpy()\n",
    "    DictH0ETo4[StatsHdsList[hdrCnt]] = H0ETo4.quantile( q=curQ, axis=1 ).to_numpy()\n",
    "    hdrCnt += 1\n",
    "# end for\n",
    "DictH0Pre1[StatsHdsList[hdrCnt]] = H0Precip1.mean( axis=1 ).to_numpy()\n",
    "DictH0Pre2[StatsHdsList[hdrCnt]] = H0Precip2.mean( axis=1 ).to_numpy()\n",
    "DictH0Pre3[StatsHdsList[hdrCnt]] = H0Precip3.mean( axis=1 ).to_numpy()\n",
    "DictH0Pre4[StatsHdsList[hdrCnt]] = H0Precip4.mean( axis=1 ).to_numpy()\n",
    "DictH0Tmp1[StatsHdsList[hdrCnt]] = H0Temp1.mean( axis=1 ).to_numpy()\n",
    "DictH0Tmp2[StatsHdsList[hdrCnt]] = H0Temp2.mean( axis=1 ).to_numpy()\n",
    "DictH0Tmp3[StatsHdsList[hdrCnt]] = H0Temp3.mean( axis=1 ).to_numpy()\n",
    "DictH0Tmp4[StatsHdsList[hdrCnt]] = H0Temp4.mean( axis=1 ).to_numpy()\n",
    "DictH0ETo1[StatsHdsList[hdrCnt]] = H0ETo1.mean( axis=1 ).to_numpy()\n",
    "DictH0ETo2[StatsHdsList[hdrCnt]] = H0ETo2.mean( axis=1 ).to_numpy()\n",
    "DictH0ETo3[StatsHdsList[hdrCnt]] = H0ETo3.mean( axis=1 ).to_numpy()\n",
    "DictH0ETo4[StatsHdsList[hdrCnt]] = H0ETo4.mean( axis=1 ).to_numpy()\n",
    "hdrCnt += 1"
   ]
  },
  {
   "cell_type": "code",
   "execution_count": 37,
   "metadata": {},
   "outputs": [],
   "source": [
    "DictH0Pre1[StatsHdsList[hdrCnt]] = H0Precip1.var( axis=1 ).to_numpy()\n",
    "DictH0Pre2[StatsHdsList[hdrCnt]] = H0Precip2.var( axis=1 ).to_numpy()\n",
    "DictH0Pre3[StatsHdsList[hdrCnt]] = H0Precip3.var( axis=1 ).to_numpy()\n",
    "DictH0Pre4[StatsHdsList[hdrCnt]] = H0Precip4.var( axis=1 ).to_numpy()\n",
    "DictH0Tmp1[StatsHdsList[hdrCnt]] = H0Temp1.var( axis=1 ).to_numpy()\n",
    "DictH0Tmp2[StatsHdsList[hdrCnt]] = H0Temp2.var( axis=1 ).to_numpy()\n",
    "DictH0Tmp3[StatsHdsList[hdrCnt]] = H0Temp3.var( axis=1 ).to_numpy()\n",
    "DictH0Tmp4[StatsHdsList[hdrCnt]] = H0Temp4.var( axis=1 ).to_numpy()\n",
    "DictH0ETo1[StatsHdsList[hdrCnt]] = H0ETo1.var( axis=1 ).to_numpy()\n",
    "DictH0ETo2[StatsHdsList[hdrCnt]] = H0ETo2.var( axis=1 ).to_numpy()\n",
    "DictH0ETo3[StatsHdsList[hdrCnt]] = H0ETo3.var( axis=1 ).to_numpy()\n",
    "DictH0ETo4[StatsHdsList[hdrCnt]] = H0ETo4.var( axis=1 ).to_numpy()\n",
    "hdrCnt += 1"
   ]
  },
  {
   "cell_type": "code",
   "execution_count": 38,
   "metadata": {},
   "outputs": [],
   "source": [
    "DictH0Pre1[StatsHdsList[hdrCnt]] = H0Precip1.skew( axis=1 ).to_numpy()\n",
    "DictH0Pre2[StatsHdsList[hdrCnt]] = H0Precip2.skew( axis=1 ).to_numpy()\n",
    "DictH0Pre3[StatsHdsList[hdrCnt]] = H0Precip3.skew( axis=1 ).to_numpy()\n",
    "DictH0Pre4[StatsHdsList[hdrCnt]] = H0Precip4.skew( axis=1 ).to_numpy()\n",
    "DictH0Tmp1[StatsHdsList[hdrCnt]] = H0Temp1.skew( axis=1 ).to_numpy()\n",
    "DictH0Tmp2[StatsHdsList[hdrCnt]] = H0Temp2.skew( axis=1 ).to_numpy()\n",
    "DictH0Tmp3[StatsHdsList[hdrCnt]] = H0Temp3.skew( axis=1 ).to_numpy()\n",
    "DictH0Tmp4[StatsHdsList[hdrCnt]] = H0Temp4.skew( axis=1 ).to_numpy()\n",
    "DictH0ETo1[StatsHdsList[hdrCnt]] = H0ETo1.skew( axis=1 ).to_numpy()\n",
    "DictH0ETo2[StatsHdsList[hdrCnt]] = H0ETo2.skew( axis=1 ).to_numpy()\n",
    "DictH0ETo3[StatsHdsList[hdrCnt]] = H0ETo3.skew( axis=1 ).to_numpy()\n",
    "DictH0ETo4[StatsHdsList[hdrCnt]] = H0ETo4.skew( axis=1 ).to_numpy()\n",
    "hdrCnt += 1"
   ]
  },
  {
   "cell_type": "code",
   "execution_count": 39,
   "metadata": {},
   "outputs": [],
   "source": [
    "DictH0Pre1[StatsHdsList[hdrCnt]] = H0Precip1.kurt( axis=1 ).to_numpy()\n",
    "DictH0Pre2[StatsHdsList[hdrCnt]] = H0Precip2.kurt( axis=1 ).to_numpy()\n",
    "DictH0Pre3[StatsHdsList[hdrCnt]] = H0Precip3.kurt( axis=1 ).to_numpy()\n",
    "DictH0Pre4[StatsHdsList[hdrCnt]] = H0Precip4.kurt( axis=1 ).to_numpy()\n",
    "DictH0Tmp1[StatsHdsList[hdrCnt]] = H0Temp1.kurt( axis=1 ).to_numpy()\n",
    "DictH0Tmp2[StatsHdsList[hdrCnt]] = H0Temp2.kurt( axis=1 ).to_numpy()\n",
    "DictH0Tmp3[StatsHdsList[hdrCnt]] = H0Temp3.kurt( axis=1 ).to_numpy()\n",
    "DictH0Tmp4[StatsHdsList[hdrCnt]] = H0Temp4.kurt( axis=1 ).to_numpy()\n",
    "DictH0ETo1[StatsHdsList[hdrCnt]] = H0ETo1.kurt( axis=1 ).to_numpy()\n",
    "DictH0ETo2[StatsHdsList[hdrCnt]] = H0ETo2.kurt( axis=1 ).to_numpy()\n",
    "DictH0ETo3[StatsHdsList[hdrCnt]] = H0ETo3.kurt( axis=1 ).to_numpy()\n",
    "DictH0ETo4[StatsHdsList[hdrCnt]] = H0ETo4.kurt( axis=1 ).to_numpy()"
   ]
  },
  {
   "cell_type": "markdown",
   "metadata": {},
   "source": [
    "Make DataFrames from the stats"
   ]
  },
  {
   "cell_type": "code",
   "execution_count": 40,
   "metadata": {},
   "outputs": [],
   "source": [
    "TimIndex1 = H0Precip1.index\n",
    "TimIndex2 = H0Precip2.index\n",
    "TimIndex3 = H0Precip3.index\n",
    "TimIndex4 = H0Precip4.index"
   ]
  },
  {
   "cell_type": "code",
   "execution_count": 41,
   "metadata": {},
   "outputs": [],
   "source": [
    "H0PreStats1 = pd.DataFrame(index=TimIndex1, data=DictH0Pre1 )\n",
    "H0PreStats2 = pd.DataFrame(index=TimIndex2, data=DictH0Pre2 )\n",
    "H0PreStats3 = pd.DataFrame(index=TimIndex3, data=DictH0Pre3 )\n",
    "H0PreStats4 = pd.DataFrame(index=TimIndex4, data=DictH0Pre4 )"
   ]
  },
  {
   "cell_type": "code",
   "execution_count": 42,
   "metadata": {},
   "outputs": [],
   "source": [
    "H0TempStats1 = pd.DataFrame(index=TimIndex1, data=DictH0Tmp1 )\n",
    "H0TempStats2 = pd.DataFrame(index=TimIndex2, data=DictH0Tmp2 )\n",
    "H0TempStats3 = pd.DataFrame(index=TimIndex3, data=DictH0Tmp3 )\n",
    "H0TempStats4 = pd.DataFrame(index=TimIndex4, data=DictH0Tmp4 )"
   ]
  },
  {
   "cell_type": "code",
   "execution_count": 43,
   "metadata": {},
   "outputs": [],
   "source": [
    "H0EToStats1 = pd.DataFrame(index=TimIndex1, data=DictH0ETo1 )\n",
    "H0EToStats2 = pd.DataFrame(index=TimIndex2, data=DictH0ETo2 )\n",
    "H0EToStats3 = pd.DataFrame(index=TimIndex3, data=DictH0ETo3 )\n",
    "H0EToStats4 = pd.DataFrame(index=TimIndex4, data=DictH0ETo4 )"
   ]
  },
  {
   "cell_type": "markdown",
   "metadata": {},
   "source": [
    "Output to a spreadsheet"
   ]
  },
  {
   "cell_type": "code",
   "execution_count": 44,
   "metadata": {},
   "outputs": [],
   "source": [
    "OutFileName = \"CumWS_H0_%s_ProcessMonthly_Stats.xlsx\" % OUT_ROOT\n",
    "OutFP = os.path.normpath( os.path.join( OUT_DIR, OutFileName ) )\n",
    "with pd.ExcelWriter( OutFP ) as writer:\n",
    "    H0PreStats1.to_excel( writer, sheet_name=\"Precip_1\", index_label=\"Date\",\n",
    "                        columns=StatsHdsList, na_rep=str(np.nan) )\n",
    "    H0PreStats2.to_excel( writer, sheet_name=\"Precip_2\", index_label=\"Date\",\n",
    "                        columns=StatsHdsList, na_rep=str(np.nan) )\n",
    "    H0PreStats3.to_excel( writer, sheet_name=\"Precip_3\", index_label=\"Date\",\n",
    "                        columns=StatsHdsList, na_rep=str(np.nan) )\n",
    "    H0PreStats4.to_excel( writer, sheet_name=\"Precip_4\", index_label=\"Date\",\n",
    "                        columns=StatsHdsList, na_rep=str(np.nan) )\n",
    "    H0TempStats1.to_excel( writer, sheet_name=\"Temp_1\", index_label=\"Date\",\n",
    "                           columns=StatsHdsList, na_rep=str(np.nan) )\n",
    "    H0TempStats2.to_excel( writer, sheet_name=\"Temp_2\", index_label=\"Date\",\n",
    "                           columns=StatsHdsList, na_rep=str(np.nan) )\n",
    "    H0TempStats3.to_excel( writer, sheet_name=\"Temp_3\", index_label=\"Date\",\n",
    "                           columns=StatsHdsList, na_rep=str(np.nan) )\n",
    "    H0TempStats4.to_excel( writer, sheet_name=\"Temp_4\", index_label=\"Date\",\n",
    "                           columns=StatsHdsList, na_rep=str(np.nan) )\n",
    "    H0EToStats1.to_excel( writer, sheet_name=\"ETop_1\", index_label=\"Date\",\n",
    "                           columns=StatsHdsList, na_rep=str(np.nan) )\n",
    "    H0EToStats2.to_excel( writer, sheet_name=\"ETo_2\", index_label=\"Date\",\n",
    "                           columns=StatsHdsList, na_rep=str(np.nan) )\n",
    "    H0EToStats3.to_excel( writer, sheet_name=\"ETo_3\", index_label=\"Date\",\n",
    "                           columns=StatsHdsList, na_rep=str(np.nan) )\n",
    "    H0EToStats4.to_excel( writer, sheet_name=\"ETo_4\", index_label=\"Date\",\n",
    "                           columns=StatsHdsList, na_rep=str(np.nan) )\n",
    "# end with"
   ]
  },
  {
   "cell_type": "markdown",
   "metadata": {},
   "source": [
    "### H1"
   ]
  },
  {
   "cell_type": "code",
   "execution_count": 45,
   "metadata": {},
   "outputs": [],
   "source": [
    "DictH1Pre1 = dict()\n",
    "DictH1Pre2 = dict()\n",
    "DictH1Pre3 = dict()\n",
    "DictH1Pre4 = dict()\n",
    "DictH1Tmp1 = dict()\n",
    "DictH1Tmp2 = dict()\n",
    "DictH1Tmp3 = dict()\n",
    "DictH1Tmp4 = dict()\n",
    "DictH1ETo1 = dict()\n",
    "DictH1ETo2 = dict()\n",
    "DictH1ETo3 = dict()\n",
    "DictH1ETo4 = dict()\n",
    "hdrCnt = 0\n",
    "# start out by doing the percentiles\n",
    "for iI in range(NumQs):\n",
    "    curQ = OurQs[iI]\n",
    "    DictH1Pre1[StatsHdsList[hdrCnt]] = H1Precip1.quantile( q=curQ, axis=1 ).to_numpy()\n",
    "    DictH1Pre2[StatsHdsList[hdrCnt]] = H1Precip2.quantile( q=curQ, axis=1 ).to_numpy()\n",
    "    DictH1Pre3[StatsHdsList[hdrCnt]] = H1Precip3.quantile( q=curQ, axis=1 ).to_numpy()\n",
    "    DictH1Pre4[StatsHdsList[hdrCnt]] = H1Precip4.quantile( q=curQ, axis=1 ).to_numpy()\n",
    "    DictH1Tmp1[StatsHdsList[hdrCnt]] = H1Temp1.quantile( q=curQ, axis=1 ).to_numpy()\n",
    "    DictH1Tmp2[StatsHdsList[hdrCnt]] = H1Temp2.quantile( q=curQ, axis=1 ).to_numpy()\n",
    "    DictH1Tmp3[StatsHdsList[hdrCnt]] = H1Temp3.quantile( q=curQ, axis=1 ).to_numpy()\n",
    "    DictH1Tmp4[StatsHdsList[hdrCnt]] = H1Temp4.quantile( q=curQ, axis=1 ).to_numpy()\n",
    "    DictH1ETo1[StatsHdsList[hdrCnt]] = H1ETo1.quantile( q=curQ, axis=1 ).to_numpy()\n",
    "    DictH1ETo2[StatsHdsList[hdrCnt]] = H1ETo2.quantile( q=curQ, axis=1 ).to_numpy()\n",
    "    DictH1ETo3[StatsHdsList[hdrCnt]] = H1ETo3.quantile( q=curQ, axis=1 ).to_numpy()\n",
    "    DictH1ETo4[StatsHdsList[hdrCnt]] = H1ETo4.quantile( q=curQ, axis=1 ).to_numpy()\n",
    "    hdrCnt += 1\n",
    "# end for\n",
    "DictH1Pre1[StatsHdsList[hdrCnt]] = H1Precip1.mean( axis=1 ).to_numpy()\n",
    "DictH1Pre2[StatsHdsList[hdrCnt]] = H1Precip2.mean( axis=1 ).to_numpy()\n",
    "DictH1Pre3[StatsHdsList[hdrCnt]] = H1Precip3.mean( axis=1 ).to_numpy()\n",
    "DictH1Pre4[StatsHdsList[hdrCnt]] = H1Precip4.mean( axis=1 ).to_numpy()\n",
    "DictH1Tmp1[StatsHdsList[hdrCnt]] = H1Temp1.mean( axis=1 ).to_numpy()\n",
    "DictH1Tmp2[StatsHdsList[hdrCnt]] = H1Temp2.mean( axis=1 ).to_numpy()\n",
    "DictH1Tmp3[StatsHdsList[hdrCnt]] = H1Temp3.mean( axis=1 ).to_numpy()\n",
    "DictH1Tmp4[StatsHdsList[hdrCnt]] = H1Temp4.mean( axis=1 ).to_numpy()\n",
    "DictH1ETo1[StatsHdsList[hdrCnt]] = H1ETo1.mean( axis=1 ).to_numpy()\n",
    "DictH1ETo2[StatsHdsList[hdrCnt]] = H1ETo2.mean( axis=1 ).to_numpy()\n",
    "DictH1ETo3[StatsHdsList[hdrCnt]] = H1ETo3.mean( axis=1 ).to_numpy()\n",
    "DictH1ETo4[StatsHdsList[hdrCnt]] = H1ETo4.mean( axis=1 ).to_numpy()\n",
    "hdrCnt += 1"
   ]
  },
  {
   "cell_type": "code",
   "execution_count": 46,
   "metadata": {},
   "outputs": [],
   "source": [
    "DictH1Pre1[StatsHdsList[hdrCnt]] = H1Precip1.var( axis=1 ).to_numpy()\n",
    "DictH1Pre2[StatsHdsList[hdrCnt]] = H1Precip2.var( axis=1 ).to_numpy()\n",
    "DictH1Pre3[StatsHdsList[hdrCnt]] = H1Precip3.var( axis=1 ).to_numpy()\n",
    "DictH1Pre4[StatsHdsList[hdrCnt]] = H1Precip4.var( axis=1 ).to_numpy()\n",
    "DictH1Tmp1[StatsHdsList[hdrCnt]] = H1Temp1.var( axis=1 ).to_numpy()\n",
    "DictH1Tmp2[StatsHdsList[hdrCnt]] = H1Temp2.var( axis=1 ).to_numpy()\n",
    "DictH1Tmp3[StatsHdsList[hdrCnt]] = H1Temp3.var( axis=1 ).to_numpy()\n",
    "DictH1Tmp4[StatsHdsList[hdrCnt]] = H1Temp4.var( axis=1 ).to_numpy()\n",
    "DictH1ETo1[StatsHdsList[hdrCnt]] = H1ETo1.var( axis=1 ).to_numpy()\n",
    "DictH1ETo2[StatsHdsList[hdrCnt]] = H1ETo2.var( axis=1 ).to_numpy()\n",
    "DictH1ETo3[StatsHdsList[hdrCnt]] = H1ETo3.var( axis=1 ).to_numpy()\n",
    "DictH1ETo4[StatsHdsList[hdrCnt]] = H1ETo4.var( axis=1 ).to_numpy()\n",
    "hdrCnt += 1"
   ]
  },
  {
   "cell_type": "code",
   "execution_count": 47,
   "metadata": {},
   "outputs": [],
   "source": [
    "DictH1Pre1[StatsHdsList[hdrCnt]] = H1Precip1.skew( axis=1 ).to_numpy()\n",
    "DictH1Pre2[StatsHdsList[hdrCnt]] = H1Precip2.skew( axis=1 ).to_numpy()\n",
    "DictH1Pre3[StatsHdsList[hdrCnt]] = H1Precip3.skew( axis=1 ).to_numpy()\n",
    "DictH1Pre4[StatsHdsList[hdrCnt]] = H1Precip4.skew( axis=1 ).to_numpy()\n",
    "DictH1Tmp1[StatsHdsList[hdrCnt]] = H1Temp1.skew( axis=1 ).to_numpy()\n",
    "DictH1Tmp2[StatsHdsList[hdrCnt]] = H1Temp2.skew( axis=1 ).to_numpy()\n",
    "DictH1Tmp3[StatsHdsList[hdrCnt]] = H1Temp3.skew( axis=1 ).to_numpy()\n",
    "DictH1Tmp4[StatsHdsList[hdrCnt]] = H1Temp4.skew( axis=1 ).to_numpy()\n",
    "DictH1ETo1[StatsHdsList[hdrCnt]] = H1ETo1.skew( axis=1 ).to_numpy()\n",
    "DictH1ETo2[StatsHdsList[hdrCnt]] = H1ETo2.skew( axis=1 ).to_numpy()\n",
    "DictH1ETo3[StatsHdsList[hdrCnt]] = H1ETo3.skew( axis=1 ).to_numpy()\n",
    "DictH1ETo4[StatsHdsList[hdrCnt]] = H1ETo4.skew( axis=1 ).to_numpy()\n",
    "hdrCnt += 1"
   ]
  },
  {
   "cell_type": "code",
   "execution_count": 48,
   "metadata": {},
   "outputs": [],
   "source": [
    "DictH1Pre1[StatsHdsList[hdrCnt]] = H1Precip1.kurt( axis=1 ).to_numpy()\n",
    "DictH1Pre2[StatsHdsList[hdrCnt]] = H1Precip2.kurt( axis=1 ).to_numpy()\n",
    "DictH1Pre3[StatsHdsList[hdrCnt]] = H1Precip3.kurt( axis=1 ).to_numpy()\n",
    "DictH1Pre4[StatsHdsList[hdrCnt]] = H1Precip4.kurt( axis=1 ).to_numpy()\n",
    "DictH1Tmp1[StatsHdsList[hdrCnt]] = H1Temp1.kurt( axis=1 ).to_numpy()\n",
    "DictH1Tmp2[StatsHdsList[hdrCnt]] = H1Temp2.kurt( axis=1 ).to_numpy()\n",
    "DictH1Tmp3[StatsHdsList[hdrCnt]] = H1Temp3.kurt( axis=1 ).to_numpy()\n",
    "DictH1Tmp4[StatsHdsList[hdrCnt]] = H1Temp4.kurt( axis=1 ).to_numpy()\n",
    "DictH1ETo1[StatsHdsList[hdrCnt]] = H1ETo1.kurt( axis=1 ).to_numpy()\n",
    "DictH1ETo2[StatsHdsList[hdrCnt]] = H1ETo2.kurt( axis=1 ).to_numpy()\n",
    "DictH1ETo3[StatsHdsList[hdrCnt]] = H1ETo3.kurt( axis=1 ).to_numpy()\n",
    "DictH1ETo4[StatsHdsList[hdrCnt]] = H1ETo4.kurt( axis=1 ).to_numpy()"
   ]
  },
  {
   "cell_type": "markdown",
   "metadata": {},
   "source": [
    "Make DataFrames from the stats"
   ]
  },
  {
   "cell_type": "code",
   "execution_count": 49,
   "metadata": {},
   "outputs": [],
   "source": [
    "H1PreStats1 = pd.DataFrame(index=TimIndex1, data=DictH1Pre1 )\n",
    "H1PreStats2 = pd.DataFrame(index=TimIndex2, data=DictH1Pre2 )\n",
    "H1PreStats3 = pd.DataFrame(index=TimIndex3, data=DictH1Pre3 )\n",
    "H1PreStats4 = pd.DataFrame(index=TimIndex4, data=DictH1Pre4 )"
   ]
  },
  {
   "cell_type": "code",
   "execution_count": 50,
   "metadata": {},
   "outputs": [],
   "source": [
    "H1TempStats1 = pd.DataFrame(index=TimIndex1, data=DictH1Tmp1 )\n",
    "H1TempStats2 = pd.DataFrame(index=TimIndex2, data=DictH1Tmp2 )\n",
    "H1TempStats3 = pd.DataFrame(index=TimIndex3, data=DictH1Tmp3 )\n",
    "H1TempStats4 = pd.DataFrame(index=TimIndex4, data=DictH1Tmp4 )"
   ]
  },
  {
   "cell_type": "code",
   "execution_count": 51,
   "metadata": {},
   "outputs": [],
   "source": [
    "H1EToStats1 = pd.DataFrame(index=TimIndex1, data=DictH1ETo1 )\n",
    "H1EToStats2 = pd.DataFrame(index=TimIndex2, data=DictH1ETo2 )\n",
    "H1EToStats3 = pd.DataFrame(index=TimIndex3, data=DictH1ETo3 )\n",
    "H1EToStats4 = pd.DataFrame(index=TimIndex4, data=DictH1ETo4 )"
   ]
  },
  {
   "cell_type": "markdown",
   "metadata": {},
   "source": [
    "Output to a spreadsheet"
   ]
  },
  {
   "cell_type": "code",
   "execution_count": 52,
   "metadata": {},
   "outputs": [],
   "source": [
    "OutFileName = \"CumWS_H1_%s_ProcessMonthly_Stats.xlsx\" % OUT_ROOT\n",
    "OutFP = os.path.normpath( os.path.join( OUT_DIR, OutFileName ) )\n",
    "with pd.ExcelWriter( OutFP ) as writer:\n",
    "    H1PreStats1.to_excel( writer, sheet_name=\"Precip_1\", index_label=\"Date\",\n",
    "                        columns=StatsHdsList, na_rep=str(np.nan) )\n",
    "    H1PreStats2.to_excel( writer, sheet_name=\"Precip_2\", index_label=\"Date\",\n",
    "                        columns=StatsHdsList, na_rep=str(np.nan) )\n",
    "    H1PreStats3.to_excel( writer, sheet_name=\"Precip_3\", index_label=\"Date\",\n",
    "                        columns=StatsHdsList, na_rep=str(np.nan) )\n",
    "    H1PreStats4.to_excel( writer, sheet_name=\"Precip_4\", index_label=\"Date\",\n",
    "                        columns=StatsHdsList, na_rep=str(np.nan) )\n",
    "    H1TempStats1.to_excel( writer, sheet_name=\"Temp_1\", index_label=\"Date\",\n",
    "                           columns=StatsHdsList, na_rep=str(np.nan) )\n",
    "    H1TempStats2.to_excel( writer, sheet_name=\"Temp_2\", index_label=\"Date\",\n",
    "                           columns=StatsHdsList, na_rep=str(np.nan) )\n",
    "    H1TempStats3.to_excel( writer, sheet_name=\"Temp_3\", index_label=\"Date\",\n",
    "                           columns=StatsHdsList, na_rep=str(np.nan) )\n",
    "    H1TempStats4.to_excel( writer, sheet_name=\"Temp_4\", index_label=\"Date\",\n",
    "                           columns=StatsHdsList, na_rep=str(np.nan) )\n",
    "    H1EToStats1.to_excel( writer, sheet_name=\"ETo_1\", index_label=\"Date\",\n",
    "                           columns=StatsHdsList, na_rep=str(np.nan) )\n",
    "    H1EToStats2.to_excel( writer, sheet_name=\"ETo_2\", index_label=\"Date\",\n",
    "                           columns=StatsHdsList, na_rep=str(np.nan) )\n",
    "    H1EToStats3.to_excel( writer, sheet_name=\"ETo_3\", index_label=\"Date\",\n",
    "                           columns=StatsHdsList, na_rep=str(np.nan) )\n",
    "    H1EToStats4.to_excel( writer, sheet_name=\"ETo_4\", index_label=\"Date\",\n",
    "                           columns=StatsHdsList, na_rep=str(np.nan) )\n",
    "# end with"
   ]
  },
  {
   "cell_type": "markdown",
   "metadata": {},
   "source": [
    "## Time History Plots"
   ]
  },
  {
   "cell_type": "markdown",
   "metadata": {},
   "source": [
    "### Precip"
   ]
  },
  {
   "cell_type": "code",
   "execution_count": 53,
   "metadata": {},
   "outputs": [
    {
     "data": {
      "text/plain": [
       "(360, 360, 360, 360)"
      ]
     },
     "execution_count": 53,
     "metadata": {},
     "output_type": "execute_result"
    }
   ],
   "source": [
    "NumD1 = len( H0PreStats1 )\n",
    "NumP1 = len( H0PreStats2 )\n",
    "NumP2 = len( H0PreStats3 )\n",
    "NumP3 = len( H0PreStats4 )\n",
    "NumD1, NumP1, NumP2, NumP3"
   ]
  },
  {
   "cell_type": "code",
   "execution_count": 54,
   "metadata": {},
   "outputs": [
    {
     "data": {
      "text/plain": [
       "(Timestamp('2010-12-01 00:00:00', freq='MS'),\n",
       " Timestamp('2040-12-01 00:00:00', freq='MS'),\n",
       " Timestamp('2070-12-01 00:00:00', freq='MS'),\n",
       " Timestamp('2100-12-01 00:00:00', freq='MS'))"
      ]
     },
     "execution_count": 54,
     "metadata": {},
     "output_type": "execute_result"
    }
   ],
   "source": [
    "IndexD1 = H0PreStats1.index[NumD1-1]\n",
    "IndexP1 = H0PreStats2.index[NumP1-1]\n",
    "IndexP2 = H0PreStats3.index[NumP2-1]\n",
    "IndexP3 = H0PreStats4.index[NumP3-1]\n",
    "IndexD1, IndexP1, IndexP2, IndexP3"
   ]
  },
  {
   "cell_type": "code",
   "execution_count": 55,
   "metadata": {},
   "outputs": [
    {
     "data": {
      "text/plain": [
       "(18031.245704608504, 36054.619566755064, 54082.17307079365, 72110.50773363918)"
      ]
     },
     "execution_count": 55,
     "metadata": {},
     "output_type": "execute_result"
    }
   ],
   "source": [
    "H0PreD1AveTot = H0PreStats1.at[IndexD1, StatsHdsList[101]]\n",
    "H0PreP1AveTot = H0PreStats2.at[IndexP1, StatsHdsList[101]] + H0PreD1AveTot\n",
    "H0PreP2AveTot = H0PreStats3.at[IndexP2, StatsHdsList[101]] + H0PreP1AveTot\n",
    "H0PreP3AveTot = H0PreStats4.at[IndexP3, StatsHdsList[101]] + H0PreP2AveTot\n",
    "H0PreD1AveTot, H0PreP1AveTot, H0PreP2AveTot, H0PreP3AveTot"
   ]
  },
  {
   "cell_type": "code",
   "execution_count": 56,
   "metadata": {},
   "outputs": [
    {
     "data": {
      "text/plain": [
       "1440"
      ]
     },
     "execution_count": 56,
     "metadata": {},
     "output_type": "execute_result"
    }
   ],
   "source": [
    "H0PreAllAve = H0PreStats1[[StatsHdsList[101]]].to_numpy()\n",
    "H0PreAllAve = np.append( H0PreAllAve, \n",
    "                         H0PreStats2[[StatsHdsList[101]]].to_numpy() + H0PreD1AveTot )\n",
    "H0PreAllAve = np.append( H0PreAllAve, \n",
    "                         H0PreStats3[[StatsHdsList[101]]].to_numpy() + H0PreP1AveTot )\n",
    "H0PreAllAve = np.append( H0PreAllAve, \n",
    "                         H0PreStats4[[StatsHdsList[101]]].to_numpy() + H0PreP2AveTot )\n",
    "len( H0PreAllAve )"
   ]
  },
  {
   "cell_type": "code",
   "execution_count": 57,
   "metadata": {},
   "outputs": [
    {
     "data": {
      "text/plain": [
       "(18031.245704608504, 35506.66673481291, 53194.644109565204, 71272.76178821697)"
      ]
     },
     "execution_count": 57,
     "metadata": {},
     "output_type": "execute_result"
    }
   ],
   "source": [
    "H1PreD1AveTot = H1PreStats1.at[IndexD1, StatsHdsList[101]]\n",
    "H1PreP1AveTot = H1PreStats2.at[IndexP1, StatsHdsList[101]] + H1PreD1AveTot\n",
    "H1PreP2AveTot = H1PreStats3.at[IndexP2, StatsHdsList[101]] + H1PreP1AveTot\n",
    "H1PreP3AveTot = H1PreStats4.at[IndexP3, StatsHdsList[101]] + H1PreP2AveTot\n",
    "H1PreD1AveTot, H1PreP1AveTot, H1PreP2AveTot, H1PreP3AveTot "
   ]
  },
  {
   "cell_type": "code",
   "execution_count": 58,
   "metadata": {},
   "outputs": [
    {
     "data": {
      "text/plain": [
       "1440"
      ]
     },
     "execution_count": 58,
     "metadata": {},
     "output_type": "execute_result"
    }
   ],
   "source": [
    "H1PreAllAve = H1PreStats1[[StatsHdsList[101]]].to_numpy()\n",
    "H1PreAllAve = np.append( H1PreAllAve, \n",
    "                         H1PreStats2[[StatsHdsList[101]]].to_numpy() + H1PreD1AveTot )\n",
    "H1PreAllAve = np.append( H1PreAllAve, \n",
    "                         H1PreStats3[[StatsHdsList[101]]].to_numpy() + H1PreP1AveTot )\n",
    "H1PreAllAve = np.append( H1PreAllAve, \n",
    "                         H1PreStats4[[StatsHdsList[101]]].to_numpy() + H1PreP2AveTot )\n",
    "len( H1PreAllAve )"
   ]
  },
  {
   "cell_type": "markdown",
   "metadata": {},
   "source": [
    "25th and 75th percentiles"
   ]
  },
  {
   "cell_type": "code",
   "execution_count": 59,
   "metadata": {},
   "outputs": [
    {
     "data": {
      "text/plain": [
       "(17513.777809350442, 35011.980455611134, 52516.84575086774, 70024.72160380262)"
      ]
     },
     "execution_count": 59,
     "metadata": {},
     "output_type": "execute_result"
    }
   ],
   "source": [
    "H0PreD1P25Tot = H0PreStats1.at[IndexD1, StatsHdsList[25]]\n",
    "H0PreP1P25Tot = H0PreStats2.at[IndexP1, StatsHdsList[25]] + H0PreD1P25Tot\n",
    "H0PreP2P25Tot = H0PreStats3.at[IndexP2, StatsHdsList[25]] + H0PreP1P25Tot\n",
    "H0PreP3P25Tot = H0PreStats4.at[IndexP3, StatsHdsList[25]] + H0PreP2P25Tot\n",
    "H0PreD1P25Tot, H0PreP1P25Tot, H0PreP2P25Tot, H0PreP3P25Tot "
   ]
  },
  {
   "cell_type": "code",
   "execution_count": 60,
   "metadata": {},
   "outputs": [
    {
     "data": {
      "text/plain": [
       "(18540.20337662478, 37076.459651398836, 55624.732986146475, 74164.70572939805)"
      ]
     },
     "execution_count": 60,
     "metadata": {},
     "output_type": "execute_result"
    }
   ],
   "source": [
    "H0PreD1P75Tot = H0PreStats1.at[IndexD1, StatsHdsList[75]]\n",
    "H0PreP1P75Tot = H0PreStats2.at[IndexP1, StatsHdsList[75]] + H0PreD1P75Tot\n",
    "H0PreP2P75Tot = H0PreStats3.at[IndexP2, StatsHdsList[75]] + H0PreP1P75Tot\n",
    "H0PreP3P75Tot = H0PreStats4.at[IndexP3, StatsHdsList[75]] + H0PreP2P75Tot\n",
    "H0PreD1P75Tot, H0PreP1P75Tot, H0PreP2P75Tot, H0PreP3P75Tot "
   ]
  },
  {
   "cell_type": "code",
   "execution_count": 61,
   "metadata": {},
   "outputs": [
    {
     "data": {
      "text/plain": [
       "1440"
      ]
     },
     "execution_count": 61,
     "metadata": {},
     "output_type": "execute_result"
    }
   ],
   "source": [
    "H0PreAllP25 = H0PreStats1[[StatsHdsList[25]]].to_numpy()\n",
    "H0PreAllP25 = np.append( H0PreAllP25, \n",
    "                         H0PreStats2[[StatsHdsList[25]]].to_numpy() + H0PreD1P25Tot )\n",
    "H0PreAllP25 = np.append( H0PreAllP25, \n",
    "                         H0PreStats3[[StatsHdsList[25]]].to_numpy() + H0PreP1P25Tot )\n",
    "H0PreAllP25 = np.append( H0PreAllP25, \n",
    "                         H0PreStats4[[StatsHdsList[25]]].to_numpy() + H0PreP2P25Tot )\n",
    "len( H0PreAllP25 )"
   ]
  },
  {
   "cell_type": "code",
   "execution_count": 62,
   "metadata": {},
   "outputs": [
    {
     "data": {
      "text/plain": [
       "1440"
      ]
     },
     "execution_count": 62,
     "metadata": {},
     "output_type": "execute_result"
    }
   ],
   "source": [
    "H0PreAllP75 = H0PreStats1[[StatsHdsList[75]]].to_numpy()\n",
    "H0PreAllP75 = np.append( H0PreAllP75, \n",
    "                         H0PreStats2[[StatsHdsList[75]]].to_numpy() + H0PreD1P75Tot )\n",
    "H0PreAllP75 = np.append( H0PreAllP75, \n",
    "                         H0PreStats3[[StatsHdsList[75]]].to_numpy() + H0PreP1P75Tot )\n",
    "H0PreAllP75 = np.append( H0PreAllP75, \n",
    "                         H0PreStats4[[StatsHdsList[75]]].to_numpy() + H0PreP2P75Tot )\n",
    "len( H0PreAllP75 )"
   ]
  },
  {
   "cell_type": "code",
   "execution_count": 63,
   "metadata": {},
   "outputs": [
    {
     "data": {
      "text/plain": [
       "(17513.777809350442, 34435.11176693834, 51567.29845404488, 69061.47819494971)"
      ]
     },
     "execution_count": 63,
     "metadata": {},
     "output_type": "execute_result"
    }
   ],
   "source": [
    "H1PreD1P25Tot = H1PreStats1.at[IndexD1, StatsHdsList[25]]\n",
    "H1PreP1P25Tot = H1PreStats2.at[IndexP1, StatsHdsList[25]] + H1PreD1P25Tot\n",
    "H1PreP2P25Tot = H1PreStats3.at[IndexP2, StatsHdsList[25]] + H1PreP1P25Tot\n",
    "H1PreP3P25Tot = H1PreStats4.at[IndexP3, StatsHdsList[25]] + H1PreP2P25Tot\n",
    "H1PreD1P25Tot, H1PreP1P25Tot, H1PreP2P25Tot, H1PreP3P25Tot "
   ]
  },
  {
   "cell_type": "code",
   "execution_count": 64,
   "metadata": {},
   "outputs": [
    {
     "data": {
      "text/plain": [
       "(18540.20337662478, 36563.814561096864, 54811.96458586129, 73464.35481903286)"
      ]
     },
     "execution_count": 64,
     "metadata": {},
     "output_type": "execute_result"
    }
   ],
   "source": [
    "H1PreD1P75Tot = H1PreStats1.at[IndexD1, StatsHdsList[75]]\n",
    "H1PreP1P75Tot = H1PreStats2.at[IndexP1, StatsHdsList[75]] + H1PreD1P75Tot\n",
    "H1PreP2P75Tot = H1PreStats3.at[IndexP2, StatsHdsList[75]] + H1PreP1P75Tot\n",
    "H1PreP3P75Tot = H1PreStats4.at[IndexP3, StatsHdsList[75]] + H1PreP2P75Tot\n",
    "H1PreD1P75Tot, H1PreP1P75Tot, H1PreP2P75Tot, H1PreP3P75Tot "
   ]
  },
  {
   "cell_type": "code",
   "execution_count": 65,
   "metadata": {},
   "outputs": [],
   "source": [
    "MinPrecip = 10000.0"
   ]
  },
  {
   "cell_type": "code",
   "execution_count": 66,
   "metadata": {},
   "outputs": [],
   "source": [
    "MaxPrecip = 120000.0"
   ]
  },
  {
   "cell_type": "code",
   "execution_count": 67,
   "metadata": {},
   "outputs": [
    {
     "data": {
      "text/plain": [
       "1440"
      ]
     },
     "execution_count": 67,
     "metadata": {},
     "output_type": "execute_result"
    }
   ],
   "source": [
    "H1PreAllP25 = H1PreStats1[[StatsHdsList[25]]].to_numpy()\n",
    "H1PreAllP25 = np.append( H1PreAllP25, \n",
    "                         H1PreStats2[[StatsHdsList[25]]].to_numpy() + H1PreD1P25Tot )\n",
    "H1PreAllP25 = np.append( H1PreAllP25, \n",
    "                         H1PreStats3[[StatsHdsList[25]]].to_numpy() + H1PreP1P25Tot )\n",
    "H1PreAllP25 = np.append( H1PreAllP25, \n",
    "                         H1PreStats4[[StatsHdsList[25]]].to_numpy() + H1PreP2P25Tot )\n",
    "len( H1PreAllP25 )"
   ]
  },
  {
   "cell_type": "code",
   "execution_count": 68,
   "metadata": {},
   "outputs": [
    {
     "data": {
      "text/plain": [
       "1440"
      ]
     },
     "execution_count": 68,
     "metadata": {},
     "output_type": "execute_result"
    }
   ],
   "source": [
    "H1PreAllP75 = H1PreStats1[[StatsHdsList[75]]].to_numpy()\n",
    "H1PreAllP75 = np.append( H1PreAllP75, \n",
    "                         H1PreStats2[[StatsHdsList[75]]].to_numpy() + H1PreD1P75Tot )\n",
    "H1PreAllP75 = np.append( H1PreAllP75, \n",
    "                         H1PreStats3[[StatsHdsList[75]]].to_numpy() + H1PreP1P75Tot )\n",
    "H1PreAllP75 = np.append( H1PreAllP75, \n",
    "                         H1PreStats4[[StatsHdsList[75]]].to_numpy() + H1PreP2P75Tot )\n",
    "len( H1PreAllP75 )"
   ]
  },
  {
   "cell_type": "code",
   "execution_count": 69,
   "metadata": {},
   "outputs": [],
   "source": [
    "H0FillValues = H0PreAllP25.tolist()\n",
    "tmpList1 = H0PreAllP75.tolist()\n",
    "tmpList2 = tmpList1[::-1]\n",
    "H0FillValues.extend( tmpList2 )"
   ]
  },
  {
   "cell_type": "code",
   "execution_count": 70,
   "metadata": {},
   "outputs": [],
   "source": [
    "H1FillValues = H1PreAllP25.tolist()\n",
    "tmpList1 = H1PreAllP75.tolist()\n",
    "tmpList2 = tmpList1[::-1]\n",
    "H1FillValues.extend( tmpList2 )"
   ]
  },
  {
   "cell_type": "code",
   "execution_count": 71,
   "metadata": {},
   "outputs": [],
   "source": [
    "FillIndex = list( H0PreStats1.index.to_pydatetime() )\n",
    "FillIndex.extend( list(H0PreStats2.index.to_pydatetime() ) )\n",
    "FillIndex.extend( list(H0PreStats3.index.to_pydatetime() ) )\n",
    "FillIndex.extend( list(H0PreStats4.index.to_pydatetime() ) )\n",
    "VPlotIndex = deepcopy( FillIndex )\n",
    "tmpList1 = list(H0PreStats4.index.to_pydatetime() )\n",
    "tmpList2 = tmpList1[::-1]\n",
    "FillIndex.extend( tmpList2 )\n",
    "tmpList1 = list(H0PreStats3.index.to_pydatetime() )\n",
    "tmpList2 = tmpList1[::-1]\n",
    "FillIndex.extend( tmpList2 )\n",
    "tmpList1 = list(H0PreStats2.index.to_pydatetime() )\n",
    "tmpList2 = tmpList1[::-1]\n",
    "FillIndex.extend( tmpList2 )\n",
    "tmpList1 = list(H0PreStats1.index.to_pydatetime() )\n",
    "tmpList2 = tmpList1[::-1]\n",
    "FillIndex.extend( tmpList2 )"
   ]
  },
  {
   "cell_type": "code",
   "execution_count": 72,
   "metadata": {},
   "outputs": [
    {
     "data": {
      "image/png": "[encoded data removed]",
      "text/plain": [
       "<Figure size 720x432 with 1 Axes>"
      ]
     },
     "metadata": {
      "needs_background": "light"
     },
     "output_type": "display_data"
    }
   ],
   "source": [
    "Fig1 = plt.figure()\n",
    "Fig1.set_size_inches(10.0, 6.0)\n",
    "ax11 = Fig1.add_subplot(111)\n",
    "ax11.plot( [TP_DICT[2][0], TP_DICT[2][0]], [MinPrecip, MaxPrecip], linestyle='-',\n",
    "           linewidth=2, color='xkcd:dark orange' )\n",
    "ax11.plot( [TP_DICT[3][0], TP_DICT[3][0]], [MinPrecip, MaxPrecip], linestyle='-',\n",
    "           linewidth=2, color='xkcd:dark orange' )\n",
    "ax11.plot( [TP_DICT[4][0], TP_DICT[4][0]], [MinPrecip, MaxPrecip], linestyle='-',\n",
    "           linewidth=2, color='xkcd:dark orange' )\n",
    "ax11.fill( FillIndex, H1FillValues, color=\"xkcd:light blue\", alpha=0.5, \n",
    "           label=\"H1 Interquartile Range\")\n",
    "ax11.fill( FillIndex, H0FillValues, color=\"xkcd:puce\", alpha=0.5, \n",
    "           label=\"H0 Interquartile Range\")\n",
    "ax11.plot( VPlotIndex, H1PreAllAve, linestyle='-',\n",
    "           linewidth=3, color='xkcd:royal blue', label='H1 Mean' )\n",
    "ax11.plot( VPlotIndex, H0PreAllAve, linestyle='-',\n",
    "           linewidth=2, color='xkcd:black', label='H0 Mean' )\n",
    "ax11.set_xlim( (dt.datetime(2010, 1, 1), TP_DICT[4][1]))\n",
    "ax11.set_ylim( (MinPrecip, MaxPrecip) )\n",
    "ax11.grid(True, axis='y', which='both')\n",
    "#ax11.set_title(\"Probabilistic Discharge\", fontsize=16)\n",
    "#ax11.set_xlabel('Day of the Year', fontsize=14 )\n",
    "ax11.set_ylabel('Cumulative Ensemble Average Precipitation (mm)', fontsize=14)\n",
    "ax11.grid( b=True )\n",
    "ax11.legend( loc='lower right' )\n",
    "ax11.tick_params(axis='both', which='major', labelsize=13)\n",
    "ax11.tick_params(axis='x', which='major', labelrotation=30.0)\n",
    "ax11.yaxis.set_major_formatter( mpl.ticker.StrMethodFormatter( \"{x:,.1f}\" ) )\n",
    "ax11.xaxis.set_major_formatter( mpl.dates.DateFormatter(\"%Y-%m-%d\") )"
   ]
  },
  {
   "cell_type": "markdown",
   "metadata": {},
   "source": [
    "### Temperature"
   ]
  },
  {
   "cell_type": "code",
   "execution_count": 73,
   "metadata": {},
   "outputs": [
    {
     "data": {
      "text/plain": [
       "(6676.4453, 13351.828, 20028.348, 26704.059)"
      ]
     },
     "execution_count": 73,
     "metadata": {},
     "output_type": "execute_result"
    }
   ],
   "source": [
    "H0TempD1AveTot = H0TempStats1.at[IndexD1, StatsHdsList[101]]\n",
    "H0TempP1AveTot = H0TempStats2.at[IndexP1, StatsHdsList[101]] + H0TempD1AveTot\n",
    "H0TempP2AveTot = H0TempStats3.at[IndexP2, StatsHdsList[101]] + H0TempP1AveTot\n",
    "H0TempP3AveTot = H0TempStats4.at[IndexP3, StatsHdsList[101]] + H0TempP2AveTot\n",
    "H0TempD1AveTot, H0TempP1AveTot, H0TempP2AveTot, H0TempP3AveTot "
   ]
  },
  {
   "cell_type": "code",
   "execution_count": 74,
   "metadata": {},
   "outputs": [
    {
     "data": {
      "text/plain": [
       "1440"
      ]
     },
     "execution_count": 74,
     "metadata": {},
     "output_type": "execute_result"
    }
   ],
   "source": [
    "H0TempAllAve = H0TempStats1[[StatsHdsList[101]]].to_numpy()\n",
    "H0TempAllAve = np.append( H0TempAllAve, \n",
    "                         H0TempStats2[[StatsHdsList[101]]].to_numpy() + H0TempD1AveTot )\n",
    "H0TempAllAve = np.append( H0TempAllAve, \n",
    "                         H0TempStats3[[StatsHdsList[101]]].to_numpy() + H0TempP1AveTot )\n",
    "H0TempAllAve = np.append( H0TempAllAve, \n",
    "                         H0TempStats4[[StatsHdsList[101]]].to_numpy() + H0TempP2AveTot )\n",
    "len( H0TempAllAve )"
   ]
  },
  {
   "cell_type": "code",
   "execution_count": 75,
   "metadata": {},
   "outputs": [
    {
     "data": {
      "text/plain": [
       "(6676.4453, 14098.723, 21945.434, 30194.697)"
      ]
     },
     "execution_count": 75,
     "metadata": {},
     "output_type": "execute_result"
    }
   ],
   "source": [
    "H1TempD1AveTot = H1TempStats1.at[IndexD1, StatsHdsList[101]]\n",
    "H1TempP1AveTot = H1TempStats2.at[IndexP1, StatsHdsList[101]] + H1TempD1AveTot\n",
    "H1TempP2AveTot = H1TempStats3.at[IndexP2, StatsHdsList[101]] + H1TempP1AveTot\n",
    "H1TempP3AveTot = H1TempStats4.at[IndexP3, StatsHdsList[101]] + H1TempP2AveTot\n",
    "H1TempD1AveTot, H1TempP1AveTot, H1TempP2AveTot, H1TempP3AveTot "
   ]
  },
  {
   "cell_type": "code",
   "execution_count": 76,
   "metadata": {},
   "outputs": [
    {
     "data": {
      "text/plain": [
       "1440"
      ]
     },
     "execution_count": 76,
     "metadata": {},
     "output_type": "execute_result"
    }
   ],
   "source": [
    "H1TempAllAve = H1TempStats1[[StatsHdsList[101]]].to_numpy()\n",
    "H1TempAllAve = np.append( H1TempAllAve, \n",
    "                         H1TempStats2[[StatsHdsList[101]]].to_numpy() + H1TempD1AveTot )\n",
    "H1TempAllAve = np.append( H1TempAllAve, \n",
    "                         H1TempStats3[[StatsHdsList[101]]].to_numpy() + H1TempP1AveTot )\n",
    "H1TempAllAve = np.append( H1TempAllAve, \n",
    "                         H1TempStats4[[StatsHdsList[101]]].to_numpy() + H1TempP2AveTot )\n",
    "len( H1TempAllAve )"
   ]
  },
  {
   "cell_type": "code",
   "execution_count": 77,
   "metadata": {},
   "outputs": [
    {
     "data": {
      "text/plain": [
       "(6648.2686767578125,\n",
       " 13294.788330078125,\n",
       " 19942.335083007812,\n",
       " 26589.254760742188)"
      ]
     },
     "execution_count": 77,
     "metadata": {},
     "output_type": "execute_result"
    }
   ],
   "source": [
    "H0TempD1P25Tot = H0TempStats1.at[IndexD1, StatsHdsList[25]]\n",
    "H0TempP1P25Tot = H0TempStats2.at[IndexP1, StatsHdsList[25]] + H0TempD1P25Tot\n",
    "H0TempP2P25Tot = H0TempStats3.at[IndexP2, StatsHdsList[25]] + H0TempP1P25Tot\n",
    "H0TempP3P25Tot = H0TempStats4.at[IndexP3, StatsHdsList[25]] + H0TempP2P25Tot\n",
    "H0TempD1P25Tot, H0TempP1P25Tot, H0TempP2P25Tot, H0TempP3P25Tot"
   ]
  },
  {
   "cell_type": "code",
   "execution_count": 78,
   "metadata": {},
   "outputs": [
    {
     "data": {
      "text/plain": [
       "(6704.2740478515625, 13407.996459960938, 20113.235717773438, 26817.75341796875)"
      ]
     },
     "execution_count": 78,
     "metadata": {},
     "output_type": "execute_result"
    }
   ],
   "source": [
    "H0TempD1P75Tot = H0TempStats1.at[IndexD1, StatsHdsList[75]]\n",
    "H0TempP1P75Tot = H0TempStats2.at[IndexP1, StatsHdsList[75]] + H0TempD1P75Tot\n",
    "H0TempP2P75Tot = H0TempStats3.at[IndexP2, StatsHdsList[75]] + H0TempP1P75Tot\n",
    "H0TempP3P75Tot = H0TempStats4.at[IndexP3, StatsHdsList[75]] + H0TempP2P75Tot\n",
    "H0TempD1P75Tot, H0TempP1P75Tot, H0TempP2P75Tot, H0TempP3P75Tot "
   ]
  },
  {
   "cell_type": "code",
   "execution_count": 79,
   "metadata": {},
   "outputs": [
    {
     "data": {
      "text/plain": [
       "1440"
      ]
     },
     "execution_count": 79,
     "metadata": {},
     "output_type": "execute_result"
    }
   ],
   "source": [
    "H0TempAllP25 = H0TempStats1[[StatsHdsList[25]]].to_numpy()\n",
    "H0TempAllP25 = np.append( H0TempAllP25, \n",
    "                         H0TempStats2[[StatsHdsList[25]]].to_numpy() + H0TempD1P25Tot )\n",
    "H0TempAllP25 = np.append( H0TempAllP25, \n",
    "                         H0TempStats3[[StatsHdsList[25]]].to_numpy() + H0TempP1P25Tot )\n",
    "H0TempAllP25 = np.append( H0TempAllP25, \n",
    "                         H0TempStats4[[StatsHdsList[25]]].to_numpy() + H0TempP2P25Tot )\n",
    "len( H0TempAllP25 )"
   ]
  },
  {
   "cell_type": "code",
   "execution_count": 80,
   "metadata": {},
   "outputs": [
    {
     "data": {
      "text/plain": [
       "1440"
      ]
     },
     "execution_count": 80,
     "metadata": {},
     "output_type": "execute_result"
    }
   ],
   "source": [
    "H0TempAllP75 = H0TempStats1[[StatsHdsList[75]]].to_numpy()\n",
    "H0TempAllP75 = np.append( H0TempAllP75, \n",
    "                         H0TempStats2[[StatsHdsList[75]]].to_numpy() + H0TempD1P75Tot )\n",
    "H0TempAllP75 = np.append( H0TempAllP75, \n",
    "                         H0TempStats3[[StatsHdsList[75]]].to_numpy() + H0TempP1P75Tot )\n",
    "H0TempAllP75 = np.append( H0TempAllP75, \n",
    "                         H0TempStats4[[StatsHdsList[75]]].to_numpy() + H0TempP2P75Tot )\n",
    "len( H0TempAllP75 )"
   ]
  },
  {
   "cell_type": "code",
   "execution_count": 81,
   "metadata": {},
   "outputs": [
    {
     "data": {
      "text/plain": [
       "(6648.2686767578125,\n",
       " 14041.461669921875,\n",
       " 21858.877807617188,\n",
       " 30077.814086914062)"
      ]
     },
     "execution_count": 81,
     "metadata": {},
     "output_type": "execute_result"
    }
   ],
   "source": [
    "H1TempD1P25Tot = H1TempStats1.at[IndexD1, StatsHdsList[25]]\n",
    "H1TempP1P25Tot = H1TempStats2.at[IndexP1, StatsHdsList[25]] + H1TempD1P25Tot\n",
    "H1TempP2P25Tot = H1TempStats3.at[IndexP2, StatsHdsList[25]] + H1TempP1P25Tot\n",
    "H1TempP3P25Tot = H1TempStats4.at[IndexP3, StatsHdsList[25]] + H1TempP2P25Tot\n",
    "H1TempD1P25Tot, H1TempP1P25Tot, H1TempP2P25Tot, H1TempP3P25Tot "
   ]
  },
  {
   "cell_type": "code",
   "execution_count": 82,
   "metadata": {},
   "outputs": [
    {
     "data": {
      "text/plain": [
       "(6704.2740478515625,\n",
       " 14155.244995117188,\n",
       " 22031.226806640625,\n",
       " 30311.222412109375)"
      ]
     },
     "execution_count": 82,
     "metadata": {},
     "output_type": "execute_result"
    }
   ],
   "source": [
    "H1TempD1P75Tot = H1TempStats1.at[IndexD1, StatsHdsList[75]]\n",
    "H1TempP1P75Tot = H1TempStats2.at[IndexP1, StatsHdsList[75]] + H1TempD1P75Tot\n",
    "H1TempP2P75Tot = H1TempStats3.at[IndexP2, StatsHdsList[75]] + H1TempP1P75Tot\n",
    "H1TempP3P75Tot = H1TempStats4.at[IndexP3, StatsHdsList[75]] + H1TempP2P75Tot\n",
    "H1TempD1P75Tot, H1TempP1P75Tot, H1TempP2P75Tot, H1TempP3P75Tot "
   ]
  },
  {
   "cell_type": "code",
   "execution_count": 83,
   "metadata": {},
   "outputs": [],
   "source": [
    "MaxTemp = 40000"
   ]
  },
  {
   "cell_type": "code",
   "execution_count": 84,
   "metadata": {},
   "outputs": [],
   "source": [
    "MinTemp = 0.0"
   ]
  },
  {
   "cell_type": "code",
   "execution_count": 85,
   "metadata": {},
   "outputs": [
    {
     "data": {
      "text/plain": [
       "1440"
      ]
     },
     "execution_count": 85,
     "metadata": {},
     "output_type": "execute_result"
    }
   ],
   "source": [
    "H1TempAllP25 = H1TempStats1[[StatsHdsList[25]]].to_numpy()\n",
    "H1TempAllP25 = np.append( H1TempAllP25, \n",
    "                         H1TempStats2[[StatsHdsList[25]]].to_numpy() + H1TempD1P25Tot )\n",
    "H1TempAllP25 = np.append( H1TempAllP25, \n",
    "                         H1TempStats3[[StatsHdsList[25]]].to_numpy() + H1TempP1P25Tot )\n",
    "H1TempAllP25 = np.append( H1TempAllP25, \n",
    "                         H1TempStats4[[StatsHdsList[25]]].to_numpy() + H1TempP2P25Tot )\n",
    "len( H1TempAllP25 )"
   ]
  },
  {
   "cell_type": "code",
   "execution_count": 86,
   "metadata": {},
   "outputs": [
    {
     "data": {
      "text/plain": [
       "1440"
      ]
     },
     "execution_count": 86,
     "metadata": {},
     "output_type": "execute_result"
    }
   ],
   "source": [
    "H1TempAllP75 = H1TempStats1[[StatsHdsList[75]]].to_numpy()\n",
    "H1TempAllP75 = np.append( H1TempAllP75, \n",
    "                         H1TempStats2[[StatsHdsList[75]]].to_numpy() + H1TempD1P75Tot )\n",
    "H1TempAllP75 = np.append( H1TempAllP75, \n",
    "                         H1TempStats3[[StatsHdsList[75]]].to_numpy() + H1TempP1P75Tot )\n",
    "H1TempAllP75 = np.append( H1TempAllP75, \n",
    "                         H1TempStats4[[StatsHdsList[75]]].to_numpy() + H1TempP2P75Tot )\n",
    "len( H1TempAllP75 )"
   ]
  },
  {
   "cell_type": "code",
   "execution_count": 87,
   "metadata": {},
   "outputs": [],
   "source": [
    "H0FTempValues = H0TempAllP25.tolist()\n",
    "tmpList1 = H0TempAllP75.tolist()\n",
    "tmpList2 = tmpList1[::-1]\n",
    "H0FTempValues.extend( tmpList2 )"
   ]
  },
  {
   "cell_type": "code",
   "execution_count": 88,
   "metadata": {},
   "outputs": [],
   "source": [
    "H1FTempValues = H1TempAllP25.tolist()\n",
    "tmpList1 = H1TempAllP75.tolist()\n",
    "tmpList2 = tmpList1[::-1]\n",
    "H1FTempValues.extend( tmpList2 )"
   ]
  },
  {
   "cell_type": "code",
   "execution_count": 89,
   "metadata": {},
   "outputs": [
    {
     "data": {
      "image/png": "[encoded data removed]",
      "text/plain": [
       "<Figure size 720x432 with 1 Axes>"
      ]
     },
     "metadata": {
      "needs_background": "light"
     },
     "output_type": "display_data"
    }
   ],
   "source": [
    "Fig1 = plt.figure()\n",
    "Fig1.set_size_inches(10.0, 6.0)\n",
    "ax11 = Fig1.add_subplot(111)\n",
    "ax11.plot( [TP_DICT[2][0], TP_DICT[2][0]], [MinTemp, MaxTemp], linestyle='-',\n",
    "           linewidth=2, color='xkcd:dark orange' )\n",
    "ax11.plot( [TP_DICT[3][0], TP_DICT[3][0]], [MinTemp, MaxTemp], linestyle='-',\n",
    "           linewidth=2, color='xkcd:dark orange' )\n",
    "ax11.plot( [TP_DICT[4][0], TP_DICT[4][0]], [MinTemp, MaxTemp], linestyle='-',\n",
    "           linewidth=2, color='xkcd:dark orange' )\n",
    "ax11.fill( FillIndex, H1FTempValues, color=\"xkcd:red brown\", alpha=0.5, \n",
    "           label=\"H1 Interquartile Range\")\n",
    "ax11.fill( FillIndex, H0FTempValues, color=\"xkcd:puce\", alpha=0.5, \n",
    "           label=\"H0 Interquartile Range\")\n",
    "ax11.plot( VPlotIndex, H1TempAllAve, linestyle='-',\n",
    "           linewidth=1, color='xkcd:bright red', label='H1 Mean' )\n",
    "ax11.plot( VPlotIndex, H0TempAllAve, linestyle='-',\n",
    "           linewidth=1, color='xkcd:black', label='H0 Mean' )\n",
    "ax11.set_xlim( (dt.datetime(2010, 1, 1), TP_DICT[4][1]))\n",
    "ax11.set_ylim( (MinTemp, MaxTemp) )\n",
    "ax11.grid(True, axis='y', which='both')\n",
    "#ax11.set_title(\"Probabilistic Discharge\", fontsize=16)\n",
    "#ax11.set_xlabel('Day of the Year', fontsize=14 )\n",
    "ax11.set_ylabel('Cumulative Ensemble Average Monthly Temperature ($C^{\\circ} $)', fontsize=14)\n",
    "ax11.grid( b=True )\n",
    "ax11.legend( loc='lower right' )\n",
    "ax11.tick_params(axis='both', which='major', labelsize=13)\n",
    "ax11.tick_params(axis='x', which='major', labelrotation=30.0)\n",
    "ax11.yaxis.set_major_formatter( mpl.ticker.StrMethodFormatter( \"{x:,.1f}\" ) )\n",
    "ax11.xaxis.set_major_formatter( mpl.dates.DateFormatter(\"%Y-%m-%d\") )"
   ]
  },
  {
   "cell_type": "code",
   "execution_count": null,
   "metadata": {},
   "outputs": [],
   "source": []
  }
 ],
 "metadata": {
  "kernelspec": {
   "display_name": "Python 3",
   "language": "python",
   "name": "python3"
  },
  "language_info": {
   "codemirror_mode": {
    "name": "ipython",
    "version": 3
   },
   "file_extension": ".py",
   "mimetype": "text/x-python",
   "name": "python",
   "nbconvert_exporter": "python",
   "pygments_lexer": "ipython3",
   "version": "3.7.5"
  }
 },
 "nbformat": 4,
 "nbformat_minor": 2
}
