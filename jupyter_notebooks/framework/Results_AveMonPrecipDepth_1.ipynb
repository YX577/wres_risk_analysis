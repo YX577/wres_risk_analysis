{
 "cells": [
  {
   "cell_type": "markdown",
   "metadata": {},
   "source": [
    "# Results: Monthly Precipitation Depth"
   ]
  },
  {
   "cell_type": "markdown",
   "metadata": {},
   "source": [
    "Compare simulated monthly precipitation depth distributions to the underlying data sets"
   ]
  },
  {
   "cell_type": "markdown",
   "metadata": {},
   "source": [
    "## Parameters and Imports"
   ]
  },
  {
   "cell_type": "code",
   "execution_count": 1,
   "metadata": {},
   "outputs": [],
   "source": [
    "%matplotlib inline"
   ]
  },
  {
   "cell_type": "code",
   "execution_count": 2,
   "metadata": {},
   "outputs": [],
   "source": [
    "from IPython.display import display, HTML\n",
    "import numpy as np\n",
    "import pandas as pd\n",
    "import datetime as dt\n",
    "import matplotlib as mpl\n",
    "import matplotlib.pyplot as plt\n",
    "import os\n",
    "import pickle\n",
    "import seaborn as sns\n",
    "from copy import deepcopy"
   ]
  },
  {
   "cell_type": "code",
   "execution_count": 3,
   "metadata": {},
   "outputs": [],
   "source": [
    "IN_DIR = r'C:\\Users\\nmartin\\Documents\\CC_IRD\\Process_Results'\n",
    "SIM_ROOT = \"DC_WGMN1\"\n",
    "MON_TOT_ROOT = \"%s_%s_PreMonTotal_Dict.pickle\"\n",
    "DP_DATA_IN = r'C:\\Users\\nmartin\\Documents\\CC_IRD\\Events\\PRISM_DP_TotalPrecipDepth_by_Month.pickle'\n",
    "P1_LOCA_IN = r'C:\\Users\\nmartin\\Documents\\CC_IRD\\Events\\LOCA_P1_TotalPrecipDepth_by_Month.pickle'\n",
    "P2_LOCA_IN = r'C:\\Users\\nmartin\\Documents\\CC_IRD\\Events\\LOCA_P2_TotalPrecipDepth_by_Month.pickle'\n",
    "P3_LOCA_IN = r'C:\\Users\\nmartin\\Documents\\CC_IRD\\Events\\LOCA_P3_TotalPrecipDepth_by_Month.pickle'"
   ]
  },
  {
   "cell_type": "code",
   "execution_count": 4,
   "metadata": {},
   "outputs": [],
   "source": [
    "OUT_DIR = r'C:\\Users\\nmartin\\Documents\\CC_IRD\\Events'"
   ]
  },
  {
   "cell_type": "markdown",
   "metadata": {},
   "source": [
    "## Load"
   ]
  },
  {
   "cell_type": "markdown",
   "metadata": {},
   "source": [
    "### Data and LOCA"
   ]
  },
  {
   "cell_type": "code",
   "execution_count": 5,
   "metadata": {},
   "outputs": [],
   "source": [
    "with open( DP_DATA_IN, 'rb' ) as IP:\n",
    "    PRISM_md = pickle.load( IP )"
   ]
  },
  {
   "cell_type": "code",
   "execution_count": 6,
   "metadata": {},
   "outputs": [],
   "source": [
    "with open( P1_LOCA_IN, 'rb' ) as IP:\n",
    "    LOCA_P1 = pickle.load( IP )"
   ]
  },
  {
   "cell_type": "code",
   "execution_count": 7,
   "metadata": {},
   "outputs": [],
   "source": [
    "with open( P2_LOCA_IN, 'rb' ) as IP:\n",
    "    LOCA_P2 = pickle.load( IP )"
   ]
  },
  {
   "cell_type": "code",
   "execution_count": 8,
   "metadata": {},
   "outputs": [],
   "source": [
    "with open( P3_LOCA_IN, 'rb' ) as IP:\n",
    "    LOCA_P3 = pickle.load( IP )"
   ]
  },
  {
   "cell_type": "code",
   "execution_count": 9,
   "metadata": {},
   "outputs": [
    {
     "data": {
      "text/plain": [
       "dict"
      ]
     },
     "execution_count": 9,
     "metadata": {},
     "output_type": "execute_result"
    }
   ],
   "source": [
    "type( LOCA_P3 )"
   ]
  },
  {
   "cell_type": "markdown",
   "metadata": {},
   "source": [
    "### Simulation Results"
   ]
  },
  {
   "cell_type": "code",
   "execution_count": 10,
   "metadata": {},
   "outputs": [],
   "source": [
    "InFile = os.path.normpath( os.path.join( IN_DIR, MON_TOT_ROOT % ( \"DP\", SIM_ROOT ) ) )\n",
    "with open( InFile, 'rb' ) as IP:\n",
    "    DP_SimDict = pickle.load( IP )"
   ]
  },
  {
   "cell_type": "code",
   "execution_count": 11,
   "metadata": {},
   "outputs": [],
   "source": [
    "InFile = os.path.normpath( os.path.join( IN_DIR, MON_TOT_ROOT % ( \"P1\", SIM_ROOT ) ) )\n",
    "with open( InFile, 'rb' ) as IP:\n",
    "    P1_SimDict = pickle.load( IP )"
   ]
  },
  {
   "cell_type": "code",
   "execution_count": 12,
   "metadata": {},
   "outputs": [],
   "source": [
    "InFile = os.path.normpath( os.path.join( IN_DIR, MON_TOT_ROOT % ( \"P2\", SIM_ROOT ) ) )\n",
    "with open( InFile, 'rb' ) as IP:\n",
    "    P2_SimDict = pickle.load( IP )"
   ]
  },
  {
   "cell_type": "code",
   "execution_count": 13,
   "metadata": {},
   "outputs": [],
   "source": [
    "InFile = os.path.normpath( os.path.join( IN_DIR, MON_TOT_ROOT % ( \"P3\", SIM_ROOT ) ) )\n",
    "with open( InFile, 'rb' ) as IP:\n",
    "    P3_SimDict = pickle.load( IP )"
   ]
  },
  {
   "cell_type": "code",
   "execution_count": 14,
   "metadata": {},
   "outputs": [
    {
     "data": {
      "text/plain": [
       "dict"
      ]
     },
     "execution_count": 14,
     "metadata": {},
     "output_type": "execute_result"
    }
   ],
   "source": [
    "type( P3_SimDict )"
   ]
  },
  {
   "cell_type": "markdown",
   "metadata": {},
   "source": [
    "## Make Plotting DataFrames"
   ]
  },
  {
   "cell_type": "markdown",
   "metadata": {},
   "source": [
    "### Data Period"
   ]
  },
  {
   "cell_type": "code",
   "execution_count": 15,
   "metadata": {},
   "outputs": [],
   "source": [
    "DataLabel1 = \"PRISM 1981-2010\"\n",
    "SimLabel1 = \"Simulated 1981-2010\""
   ]
  },
  {
   "cell_type": "code",
   "execution_count": 16,
   "metadata": {},
   "outputs": [],
   "source": [
    "MonthLabels = list()\n",
    "DSetLabels = list()"
   ]
  },
  {
   "cell_type": "code",
   "execution_count": 17,
   "metadata": {},
   "outputs": [
    {
     "name": "stdout",
     "output_type": "stream",
     "text": [
      "Month 1: 30 PRISM values, max 66.7401; 310000 sim values, max 179.687\n",
      "Month 2: 30 PRISM values, max 87.9186; 310000 sim values, max 281.292\n",
      "Month 3: 30 PRISM values, max 140.59; 310000 sim values, max 348.874\n",
      "Month 4: 30 PRISM values, max 146.672; 310000 sim values, max 368.863\n",
      "Month 5: 30 PRISM values, max 187.481; 310000 sim values, max 392.265\n",
      "Month 6: 30 PRISM values, max 197.88; 310000 sim values, max 423.354\n",
      "Month 7: 30 PRISM values, max 211.668; 310000 sim values, max 338.447\n",
      "Month 8: 30 PRISM values, max 286.079; 310000 sim values, max 702.435\n",
      "Month 9: 30 PRISM values, max 196.247; 310000 sim values, max 469.332\n",
      "Month 10: 30 PRISM values, max 224.143; 310000 sim values, max 516.767\n",
      "Month 11: 30 PRISM values, max 133.098; 310000 sim values, max 289.985\n",
      "Month 12: 30 PRISM values, max 90.0409; 310000 sim values, max 240.479\n"
     ]
    }
   ],
   "source": [
    "for jJ in range( 1, 13, 1):\n",
    "    DataAr = PRISM_md[jJ]\n",
    "    DataAr = np.where( DataAr < 1.0, 1.0, DataAr )\n",
    "    NumDATA = DataAr.shape[0]\n",
    "    SimAr = DP_SimDict[jJ]\n",
    "    SimAr = np.where( SimAr < 1.0, 1.0, SimAr )\n",
    "    NumSIM = SimAr.shape[0]\n",
    "    print( \"Month %d: %d PRISM values, max %g; %d sim values, max %g\" % \n",
    "           (jJ, NumDATA, DataAr.max(), NumSIM, SimAr.max() ) )\n",
    "    Data_Labels = [ DataLabel1 for x in range( NumDATA ) ]\n",
    "    Sim_Labels = [ SimLabel1 for x in range( NumSIM ) ]\n",
    "    AllLabels = deepcopy( Data_Labels )\n",
    "    AllLabels.extend( Sim_Labels )\n",
    "    DSetLabels.extend( AllLabels )\n",
    "    if jJ == 1:\n",
    "        MonthLabels.extend( [\"Jan\" for x in range( NumDATA + NumSIM ) ] )\n",
    "    elif jJ == 2:\n",
    "        MonthLabels.extend( [\"Feb\" for x in range( NumDATA + NumSIM ) ] )\n",
    "    elif jJ == 3:\n",
    "        MonthLabels.extend( [\"Mar\" for x in range( NumDATA + NumSIM ) ] )\n",
    "    elif jJ == 4:\n",
    "        MonthLabels.extend( [\"Apr\" for x in range( NumDATA + NumSIM ) ] )\n",
    "    elif jJ == 5:\n",
    "        MonthLabels.extend( [\"May\" for x in range( NumDATA + NumSIM ) ] )\n",
    "    elif jJ == 6:\n",
    "        MonthLabels.extend( [\"Jun\" for x in range( NumDATA + NumSIM ) ] )\n",
    "    elif jJ == 7:\n",
    "        MonthLabels.extend( [\"Jul\" for x in range( NumDATA + NumSIM ) ] )\n",
    "    elif jJ == 8:\n",
    "        MonthLabels.extend( [\"Aug\" for x in range( NumDATA + NumSIM ) ] )\n",
    "    elif jJ == 9:\n",
    "        MonthLabels.extend( [\"Sep\" for x in range( NumDATA + NumSIM ) ] )\n",
    "    elif jJ == 10:\n",
    "        MonthLabels.extend( [\"Oct\" for x in range( NumDATA + NumSIM ) ] )\n",
    "    elif jJ == 11:\n",
    "        MonthLabels.extend( [\"Nov\" for x in range( NumDATA + NumSIM ) ] )\n",
    "    elif jJ == 12:\n",
    "        MonthLabels.extend( [\"Dec\" for x in range( NumDATA + NumSIM ) ] )\n",
    "    # end if\n",
    "    if jJ == 1:\n",
    "        AllValues = np.concatenate( [ DataAr, SimAr ], axis=0 )\n",
    "    else:\n",
    "        AllValues = np.concatenate( [ AllValues, DataAr, SimAr ], axis=0 )\n",
    "    # end if"
   ]
  },
  {
   "cell_type": "code",
   "execution_count": 18,
   "metadata": {},
   "outputs": [],
   "source": [
    "DataDict = { \"DLabel\" : DSetLabels,\n",
    "             \"Month\" : MonthLabels,\n",
    "             \"MonTotal\" : AllValues, }\n",
    "DPDF = pd.DataFrame( data=DataDict )"
   ]
  },
  {
   "cell_type": "code",
   "execution_count": 19,
   "metadata": {},
   "outputs": [
    {
     "data": {
      "text/html": [
       "<table border=\"1\" class=\"dataframe\">\n",
       "  <thead>\n",
       "    <tr style=\"text-align: right;\">\n",
       "      <th></th>\n",
       "      <th>DLabel</th>\n",
       "      <th>Month</th>\n",
       "      <th>MonTotal</th>\n",
       "    </tr>\n",
       "  </thead>\n",
       "  <tbody>\n",
       "    <tr>\n",
       "      <th>0</th>\n",
       "      <td>PRISM 1981-2010</td>\n",
       "      <td>Jan</td>\n",
       "      <td>18.677666</td>\n",
       "    </tr>\n",
       "    <tr>\n",
       "      <th>1</th>\n",
       "      <td>PRISM 1981-2010</td>\n",
       "      <td>Jan</td>\n",
       "      <td>9.888207</td>\n",
       "    </tr>\n",
       "    <tr>\n",
       "      <th>2</th>\n",
       "      <td>PRISM 1981-2010</td>\n",
       "      <td>Jan</td>\n",
       "      <td>31.688014</td>\n",
       "    </tr>\n",
       "    <tr>\n",
       "      <th>3</th>\n",
       "      <td>PRISM 1981-2010</td>\n",
       "      <td>Jan</td>\n",
       "      <td>36.788953</td>\n",
       "    </tr>\n",
       "    <tr>\n",
       "      <th>4</th>\n",
       "      <td>PRISM 1981-2010</td>\n",
       "      <td>Jan</td>\n",
       "      <td>39.146484</td>\n",
       "    </tr>\n",
       "  </tbody>\n",
       "</table>"
      ],
      "text/plain": [
       "<IPython.core.display.HTML object>"
      ]
     },
     "metadata": {},
     "output_type": "display_data"
    }
   ],
   "source": [
    "display( HTML( DPDF.head().to_html() ) )"
   ]
  },
  {
   "cell_type": "code",
   "execution_count": 20,
   "metadata": {},
   "outputs": [
    {
     "data": {
      "text/html": [
       "<table border=\"1\" class=\"dataframe\">\n",
       "  <thead>\n",
       "    <tr style=\"text-align: right;\">\n",
       "      <th></th>\n",
       "      <th>MonTotal</th>\n",
       "    </tr>\n",
       "  </thead>\n",
       "  <tbody>\n",
       "    <tr>\n",
       "      <th>count</th>\n",
       "      <td>3.720360e+06</td>\n",
       "    </tr>\n",
       "    <tr>\n",
       "      <th>mean</th>\n",
       "      <td>5.013449e+01</td>\n",
       "    </tr>\n",
       "    <tr>\n",
       "      <th>std</th>\n",
       "      <td>4.356701e+01</td>\n",
       "    </tr>\n",
       "    <tr>\n",
       "      <th>min</th>\n",
       "      <td>1.000000e+00</td>\n",
       "    </tr>\n",
       "    <tr>\n",
       "      <th>25%</th>\n",
       "      <td>1.804322e+01</td>\n",
       "    </tr>\n",
       "    <tr>\n",
       "      <th>50%</th>\n",
       "      <td>3.914804e+01</td>\n",
       "    </tr>\n",
       "    <tr>\n",
       "      <th>75%</th>\n",
       "      <td>7.016964e+01</td>\n",
       "    </tr>\n",
       "    <tr>\n",
       "      <th>max</th>\n",
       "      <td>7.024354e+02</td>\n",
       "    </tr>\n",
       "  </tbody>\n",
       "</table>"
      ],
      "text/plain": [
       "<IPython.core.display.HTML object>"
      ]
     },
     "metadata": {},
     "output_type": "display_data"
    }
   ],
   "source": [
    "display( HTML( DPDF.describe().to_html() ) )"
   ]
  },
  {
   "cell_type": "code",
   "execution_count": 21,
   "metadata": {},
   "outputs": [],
   "source": [
    "OutFiler = os.path.normpath( os.path.join( OUT_DIR, \"SimDF_%s_TotMonDepth_1981-2010.pickle\" % SIM_ROOT ) )\n",
    "DPDF.to_pickle( OutFiler, compression='zip', protocol=-1 )"
   ]
  },
  {
   "cell_type": "markdown",
   "metadata": {},
   "source": [
    "### Projection Period 1"
   ]
  },
  {
   "cell_type": "code",
   "execution_count": 22,
   "metadata": {},
   "outputs": [],
   "source": [
    "DataLabel2 = \"LOCA 2011-2040\"\n",
    "SimLabel2 = \"Simulated 2011-2040\""
   ]
  },
  {
   "cell_type": "code",
   "execution_count": 23,
   "metadata": {},
   "outputs": [],
   "source": [
    "MonthLabels = list()\n",
    "DSetLabels = list()"
   ]
  },
  {
   "cell_type": "code",
   "execution_count": 24,
   "metadata": {},
   "outputs": [
    {
     "name": "stdout",
     "output_type": "stream",
     "text": [
      "Month 1: 1920 LOCA values, max 141.933; 300000 sim values, max 171.65\n",
      "Month 2: 1920 LOCA values, max 181.808; 300000 sim values, max 303.96\n",
      "Month 3: 1920 LOCA values, max 234.909; 300000 sim values, max 381.569\n",
      "Month 4: 1920 LOCA values, max 218.647; 300000 sim values, max 401.279\n",
      "Month 5: 1920 LOCA values, max 348.565; 300000 sim values, max 505.789\n",
      "Month 6: 1920 LOCA values, max 382.876; 300000 sim values, max 529.383\n",
      "Month 7: 1920 LOCA values, max 377.249; 300000 sim values, max 431.659\n",
      "Month 8: 1920 LOCA values, max 428.374; 300000 sim values, max 635.613\n",
      "Month 9: 1920 LOCA values, max 522.224; 300000 sim values, max 679.795\n",
      "Month 10: 1920 LOCA values, max 355.571; 300000 sim values, max 525.476\n",
      "Month 11: 1920 LOCA values, max 171.335; 300000 sim values, max 306.122\n",
      "Month 12: 1920 LOCA values, max 233.96; 300000 sim values, max 270.824\n"
     ]
    }
   ],
   "source": [
    "for jJ in range( 1, 13, 1):\n",
    "    DataAr = LOCA_P1[jJ]\n",
    "    DataAr = np.where( DataAr < 1.0, 1.0, DataAr )\n",
    "    NumDATA = DataAr.shape[0]\n",
    "    SimAr = P1_SimDict[jJ]\n",
    "    SimAr = np.where( SimAr < 1.0, 1.0, SimAr )\n",
    "    NumSIM = SimAr.shape[0]\n",
    "    print( \"Month %d: %d LOCA values, max %g; %d sim values, max %g\" % \n",
    "           (jJ, NumDATA, DataAr.max(), NumSIM, SimAr.max() ) )\n",
    "    Data_Labels = [ DataLabel2 for x in range( NumDATA ) ]\n",
    "    Sim_Labels = [ SimLabel2 for x in range( NumSIM ) ]\n",
    "    AllLabels = deepcopy( Data_Labels )\n",
    "    AllLabels.extend( Sim_Labels )\n",
    "    DSetLabels.extend( AllLabels )\n",
    "    if jJ == 1:\n",
    "        MonthLabels.extend( [\"Jan\" for x in range( NumDATA + NumSIM ) ] )\n",
    "    elif jJ == 2:\n",
    "        MonthLabels.extend( [\"Feb\" for x in range( NumDATA + NumSIM ) ] )\n",
    "    elif jJ == 3:\n",
    "        MonthLabels.extend( [\"Mar\" for x in range( NumDATA + NumSIM ) ] )\n",
    "    elif jJ == 4:\n",
    "        MonthLabels.extend( [\"Apr\" for x in range( NumDATA + NumSIM ) ] )\n",
    "    elif jJ == 5:\n",
    "        MonthLabels.extend( [\"May\" for x in range( NumDATA + NumSIM ) ] )\n",
    "    elif jJ == 6:\n",
    "        MonthLabels.extend( [\"Jun\" for x in range( NumDATA + NumSIM ) ] )\n",
    "    elif jJ == 7:\n",
    "        MonthLabels.extend( [\"Jul\" for x in range( NumDATA + NumSIM ) ] )\n",
    "    elif jJ == 8:\n",
    "        MonthLabels.extend( [\"Aug\" for x in range( NumDATA + NumSIM ) ] )\n",
    "    elif jJ == 9:\n",
    "        MonthLabels.extend( [\"Sep\" for x in range( NumDATA + NumSIM ) ] )\n",
    "    elif jJ == 10:\n",
    "        MonthLabels.extend( [\"Oct\" for x in range( NumDATA + NumSIM ) ] )\n",
    "    elif jJ == 11:\n",
    "        MonthLabels.extend( [\"Nov\" for x in range( NumDATA + NumSIM ) ] )\n",
    "    elif jJ == 12:\n",
    "        MonthLabels.extend( [\"Dec\" for x in range( NumDATA + NumSIM ) ] )\n",
    "    # end if\n",
    "    if jJ == 1:\n",
    "        AllValues = np.concatenate( [ DataAr, SimAr ], axis=0 )\n",
    "    else:\n",
    "        AllValues = np.concatenate( [ AllValues, DataAr, SimAr ], axis=0 )\n",
    "    # end if"
   ]
  },
  {
   "cell_type": "code",
   "execution_count": 25,
   "metadata": {},
   "outputs": [],
   "source": [
    "DataDict = { \"DLabel\" : DSetLabels,\n",
    "             \"Month\" : MonthLabels,\n",
    "             \"MonTotal\" : AllValues, }\n",
    "P1DF = pd.DataFrame( data=DataDict )"
   ]
  },
  {
   "cell_type": "code",
   "execution_count": 26,
   "metadata": {},
   "outputs": [
    {
     "data": {
      "text/html": [
       "<table border=\"1\" class=\"dataframe\">\n",
       "  <thead>\n",
       "    <tr style=\"text-align: right;\">\n",
       "      <th></th>\n",
       "      <th>MonTotal</th>\n",
       "    </tr>\n",
       "  </thead>\n",
       "  <tbody>\n",
       "    <tr>\n",
       "      <th>count</th>\n",
       "      <td>3.623040e+06</td>\n",
       "    </tr>\n",
       "    <tr>\n",
       "      <th>mean</th>\n",
       "      <td>6.641111e+01</td>\n",
       "    </tr>\n",
       "    <tr>\n",
       "      <th>std</th>\n",
       "      <td>5.690437e+01</td>\n",
       "    </tr>\n",
       "    <tr>\n",
       "      <th>min</th>\n",
       "      <td>1.000000e+00</td>\n",
       "    </tr>\n",
       "    <tr>\n",
       "      <th>25%</th>\n",
       "      <td>2.439807e+01</td>\n",
       "    </tr>\n",
       "    <tr>\n",
       "      <th>50%</th>\n",
       "      <td>5.081527e+01</td>\n",
       "    </tr>\n",
       "    <tr>\n",
       "      <th>75%</th>\n",
       "      <td>9.260424e+01</td>\n",
       "    </tr>\n",
       "    <tr>\n",
       "      <th>max</th>\n",
       "      <td>6.797951e+02</td>\n",
       "    </tr>\n",
       "  </tbody>\n",
       "</table>"
      ],
      "text/plain": [
       "<IPython.core.display.HTML object>"
      ]
     },
     "metadata": {},
     "output_type": "display_data"
    }
   ],
   "source": [
    "display( HTML( P1DF.describe().to_html() ) )"
   ]
  },
  {
   "cell_type": "code",
   "execution_count": 27,
   "metadata": {},
   "outputs": [],
   "source": [
    "OutFiler = os.path.normpath( os.path.join( OUT_DIR, \"SimDF_%s_TotMonDepth_2011-2040.pickle\" % SIM_ROOT ) )\n",
    "P1DF.to_pickle( OutFiler, compression='zip', protocol=-1 )"
   ]
  },
  {
   "cell_type": "markdown",
   "metadata": {},
   "source": [
    "### Projection Period 2"
   ]
  },
  {
   "cell_type": "code",
   "execution_count": 28,
   "metadata": {},
   "outputs": [],
   "source": [
    "DataLabel3 = \"LOCA 2041-2070\"\n",
    "SimLabel3 = \"Simulated 2041-2070\""
   ]
  },
  {
   "cell_type": "code",
   "execution_count": 29,
   "metadata": {},
   "outputs": [],
   "source": [
    "MonthLabels = list()\n",
    "DSetLabels = list()"
   ]
  },
  {
   "cell_type": "code",
   "execution_count": 30,
   "metadata": {},
   "outputs": [
    {
     "name": "stdout",
     "output_type": "stream",
     "text": [
      "Month 1: 1920 LOCA values, max 124.03; 300000 sim values, max 198.999\n",
      "Month 2: 1920 LOCA values, max 223.42; 300000 sim values, max 286.645\n",
      "Month 3: 1920 LOCA values, max 265.512; 300000 sim values, max 331.203\n",
      "Month 4: 1920 LOCA values, max 236.054; 300000 sim values, max 460.359\n",
      "Month 5: 1920 LOCA values, max 301.628; 300000 sim values, max 509.912\n",
      "Month 6: 1920 LOCA values, max 423.121; 300000 sim values, max 548.751\n",
      "Month 7: 1920 LOCA values, max 550.796; 300000 sim values, max 414.036\n",
      "Month 8: 1920 LOCA values, max 497.165; 300000 sim values, max 647.145\n",
      "Month 9: 1920 LOCA values, max 477.451; 300000 sim values, max 778.672\n",
      "Month 10: 1920 LOCA values, max 372.07; 300000 sim values, max 516.748\n",
      "Month 11: 1920 LOCA values, max 247.067; 300000 sim values, max 294.968\n",
      "Month 12: 1920 LOCA values, max 286.493; 300000 sim values, max 294.618\n"
     ]
    }
   ],
   "source": [
    "for jJ in range( 1, 13, 1):\n",
    "    DataAr = LOCA_P2[jJ]\n",
    "    DataAr = np.where( DataAr < 1.0, 1.0, DataAr )\n",
    "    NumDATA = DataAr.shape[0]\n",
    "    SimAr = P2_SimDict[jJ]\n",
    "    SimAr = np.where( SimAr < 1.0, 1.0, SimAr )\n",
    "    NumSIM = SimAr.shape[0]\n",
    "    print( \"Month %d: %d LOCA values, max %g; %d sim values, max %g\" % \n",
    "           (jJ, NumDATA, DataAr.max(), NumSIM, SimAr.max() ) )\n",
    "    Data_Labels = [ DataLabel3 for x in range( NumDATA ) ]\n",
    "    Sim_Labels = [ SimLabel3 for x in range( NumSIM ) ]\n",
    "    AllLabels = deepcopy( Data_Labels )\n",
    "    AllLabels.extend( Sim_Labels )\n",
    "    DSetLabels.extend( AllLabels )\n",
    "    if jJ == 1:\n",
    "        MonthLabels.extend( [\"Jan\" for x in range( NumDATA + NumSIM ) ] )\n",
    "    elif jJ == 2:\n",
    "        MonthLabels.extend( [\"Feb\" for x in range( NumDATA + NumSIM ) ] )\n",
    "    elif jJ == 3:\n",
    "        MonthLabels.extend( [\"Mar\" for x in range( NumDATA + NumSIM ) ] )\n",
    "    elif jJ == 4:\n",
    "        MonthLabels.extend( [\"Apr\" for x in range( NumDATA + NumSIM ) ] )\n",
    "    elif jJ == 5:\n",
    "        MonthLabels.extend( [\"May\" for x in range( NumDATA + NumSIM ) ] )\n",
    "    elif jJ == 6:\n",
    "        MonthLabels.extend( [\"Jun\" for x in range( NumDATA + NumSIM ) ] )\n",
    "    elif jJ == 7:\n",
    "        MonthLabels.extend( [\"Jul\" for x in range( NumDATA + NumSIM ) ] )\n",
    "    elif jJ == 8:\n",
    "        MonthLabels.extend( [\"Aug\" for x in range( NumDATA + NumSIM ) ] )\n",
    "    elif jJ == 9:\n",
    "        MonthLabels.extend( [\"Sep\" for x in range( NumDATA + NumSIM ) ] )\n",
    "    elif jJ == 10:\n",
    "        MonthLabels.extend( [\"Oct\" for x in range( NumDATA + NumSIM ) ] )\n",
    "    elif jJ == 11:\n",
    "        MonthLabels.extend( [\"Nov\" for x in range( NumDATA + NumSIM ) ] )\n",
    "    elif jJ == 12:\n",
    "        MonthLabels.extend( [\"Dec\" for x in range( NumDATA + NumSIM ) ] )\n",
    "    # end if\n",
    "    if jJ == 1:\n",
    "        AllValues = np.concatenate( [ DataAr, SimAr ], axis=0 )\n",
    "    else:\n",
    "        AllValues = np.concatenate( [ AllValues, DataAr, SimAr ], axis=0 )\n",
    "    # end if"
   ]
  },
  {
   "cell_type": "code",
   "execution_count": 31,
   "metadata": {},
   "outputs": [],
   "source": [
    "DataDict = { \"DLabel\" : DSetLabels,\n",
    "             \"Month\" : MonthLabels,\n",
    "             \"MonTotal\" : AllValues, }\n",
    "P2DF = pd.DataFrame( data=DataDict )"
   ]
  },
  {
   "cell_type": "code",
   "execution_count": 32,
   "metadata": {},
   "outputs": [
    {
     "data": {
      "text/html": [
       "<table border=\"1\" class=\"dataframe\">\n",
       "  <thead>\n",
       "    <tr style=\"text-align: right;\">\n",
       "      <th></th>\n",
       "      <th>MonTotal</th>\n",
       "    </tr>\n",
       "  </thead>\n",
       "  <tbody>\n",
       "    <tr>\n",
       "      <th>count</th>\n",
       "      <td>3.623040e+06</td>\n",
       "    </tr>\n",
       "    <tr>\n",
       "      <th>mean</th>\n",
       "      <td>6.562901e+01</td>\n",
       "    </tr>\n",
       "    <tr>\n",
       "      <th>std</th>\n",
       "      <td>5.689740e+01</td>\n",
       "    </tr>\n",
       "    <tr>\n",
       "      <th>min</th>\n",
       "      <td>1.000000e+00</td>\n",
       "    </tr>\n",
       "    <tr>\n",
       "      <th>25%</th>\n",
       "      <td>2.334836e+01</td>\n",
       "    </tr>\n",
       "    <tr>\n",
       "      <th>50%</th>\n",
       "      <td>5.007218e+01</td>\n",
       "    </tr>\n",
       "    <tr>\n",
       "      <th>75%</th>\n",
       "      <td>9.204882e+01</td>\n",
       "    </tr>\n",
       "    <tr>\n",
       "      <th>max</th>\n",
       "      <td>7.786715e+02</td>\n",
       "    </tr>\n",
       "  </tbody>\n",
       "</table>"
      ],
      "text/plain": [
       "<IPython.core.display.HTML object>"
      ]
     },
     "metadata": {},
     "output_type": "display_data"
    }
   ],
   "source": [
    "display( HTML( P2DF.describe().to_html() ) )"
   ]
  },
  {
   "cell_type": "code",
   "execution_count": 33,
   "metadata": {},
   "outputs": [],
   "source": [
    "OutFiler = os.path.normpath( os.path.join( OUT_DIR, \"SimDF_%s_TotMonDepth_2041-2070.pickle\" % SIM_ROOT ) )\n",
    "P2DF.to_pickle( OutFiler, compression='zip', protocol=-1 )"
   ]
  },
  {
   "cell_type": "markdown",
   "metadata": {},
   "source": [
    "### Projection Period 3"
   ]
  },
  {
   "cell_type": "code",
   "execution_count": 34,
   "metadata": {},
   "outputs": [],
   "source": [
    "DataLabel4 = \"LOCA 2071-2099\"\n",
    "SimLabel4 = \"Simulated 2071-2100\""
   ]
  },
  {
   "cell_type": "code",
   "execution_count": 35,
   "metadata": {},
   "outputs": [],
   "source": [
    "MonthLabels = list()\n",
    "DSetLabels = list()"
   ]
  },
  {
   "cell_type": "code",
   "execution_count": 36,
   "metadata": {},
   "outputs": [
    {
     "name": "stdout",
     "output_type": "stream",
     "text": [
      "Month 1: 1856 LOCA values, max 168.968; 300000 sim values, max 183.635\n",
      "Month 2: 1856 LOCA values, max 204.251; 300000 sim values, max 333.9\n",
      "Month 3: 1856 LOCA values, max 166.378; 300000 sim values, max 409.248\n",
      "Month 4: 1856 LOCA values, max 217.13; 300000 sim values, max 396.638\n",
      "Month 5: 1856 LOCA values, max 323.932; 300000 sim values, max 487.115\n",
      "Month 6: 1856 LOCA values, max 578.341; 300000 sim values, max 644.787\n",
      "Month 7: 1856 LOCA values, max 508.439; 300000 sim values, max 460.295\n",
      "Month 8: 1856 LOCA values, max 514.574; 300000 sim values, max 839.776\n",
      "Month 9: 1856 LOCA values, max 462.866; 300000 sim values, max 699.905\n",
      "Month 10: 1856 LOCA values, max 322.001; 300000 sim values, max 553.145\n",
      "Month 11: 1856 LOCA values, max 277.418; 300000 sim values, max 298.605\n",
      "Month 12: 1856 LOCA values, max 213.798; 300000 sim values, max 268.68\n"
     ]
    }
   ],
   "source": [
    "for jJ in range( 1, 13, 1):\n",
    "    DataAr = LOCA_P3[jJ]\n",
    "    DataAr = np.where( DataAr < 1.0, 1.0, DataAr )\n",
    "    NumDATA = DataAr.shape[0]\n",
    "    SimAr = P3_SimDict[jJ]\n",
    "    SimAr = np.where( SimAr < 1.0, 1.0, SimAr )\n",
    "    NumSIM = SimAr.shape[0]\n",
    "    print( \"Month %d: %d LOCA values, max %g; %d sim values, max %g\" % \n",
    "           (jJ, NumDATA, DataAr.max(), NumSIM, SimAr.max() ) )\n",
    "    Data_Labels = [ DataLabel4 for x in range( NumDATA ) ]\n",
    "    Sim_Labels = [ SimLabel4 for x in range( NumSIM ) ]\n",
    "    AllLabels = deepcopy( Data_Labels )\n",
    "    AllLabels.extend( Sim_Labels )\n",
    "    DSetLabels.extend( AllLabels )\n",
    "    if jJ == 1:\n",
    "        MonthLabels.extend( [\"Jan\" for x in range( NumDATA + NumSIM ) ] )\n",
    "    elif jJ == 2:\n",
    "        MonthLabels.extend( [\"Feb\" for x in range( NumDATA + NumSIM ) ] )\n",
    "    elif jJ == 3:\n",
    "        MonthLabels.extend( [\"Mar\" for x in range( NumDATA + NumSIM ) ] )\n",
    "    elif jJ == 4:\n",
    "        MonthLabels.extend( [\"Apr\" for x in range( NumDATA + NumSIM ) ] )\n",
    "    elif jJ == 5:\n",
    "        MonthLabels.extend( [\"May\" for x in range( NumDATA + NumSIM ) ] )\n",
    "    elif jJ == 6:\n",
    "        MonthLabels.extend( [\"Jun\" for x in range( NumDATA + NumSIM ) ] )\n",
    "    elif jJ == 7:\n",
    "        MonthLabels.extend( [\"Jul\" for x in range( NumDATA + NumSIM ) ] )\n",
    "    elif jJ == 8:\n",
    "        MonthLabels.extend( [\"Aug\" for x in range( NumDATA + NumSIM ) ] )\n",
    "    elif jJ == 9:\n",
    "        MonthLabels.extend( [\"Sep\" for x in range( NumDATA + NumSIM ) ] )\n",
    "    elif jJ == 10:\n",
    "        MonthLabels.extend( [\"Oct\" for x in range( NumDATA + NumSIM ) ] )\n",
    "    elif jJ == 11:\n",
    "        MonthLabels.extend( [\"Nov\" for x in range( NumDATA + NumSIM ) ] )\n",
    "    elif jJ == 12:\n",
    "        MonthLabels.extend( [\"Dec\" for x in range( NumDATA + NumSIM ) ] )\n",
    "    # end if\n",
    "    if jJ == 1:\n",
    "        AllValues = np.concatenate( [ DataAr, SimAr ], axis=0 )\n",
    "    else:\n",
    "        AllValues = np.concatenate( [ AllValues, DataAr, SimAr ], axis=0 )\n",
    "    # end if"
   ]
  },
  {
   "cell_type": "code",
   "execution_count": 37,
   "metadata": {},
   "outputs": [],
   "source": [
    "DataDict = { \"DLabel\" : DSetLabels,\n",
    "             \"Month\" : MonthLabels,\n",
    "             \"MonTotal\" : AllValues, }\n",
    "P3DF = pd.DataFrame( data=DataDict )"
   ]
  },
  {
   "cell_type": "code",
   "execution_count": 38,
   "metadata": {},
   "outputs": [
    {
     "data": {
      "text/html": [
       "<table border=\"1\" class=\"dataframe\">\n",
       "  <thead>\n",
       "    <tr style=\"text-align: right;\">\n",
       "      <th></th>\n",
       "      <th>MonTotal</th>\n",
       "    </tr>\n",
       "  </thead>\n",
       "  <tbody>\n",
       "    <tr>\n",
       "      <th>count</th>\n",
       "      <td>3.622272e+06</td>\n",
       "    </tr>\n",
       "    <tr>\n",
       "      <th>mean</th>\n",
       "      <td>6.533065e+01</td>\n",
       "    </tr>\n",
       "    <tr>\n",
       "      <th>std</th>\n",
       "      <td>5.903488e+01</td>\n",
       "    </tr>\n",
       "    <tr>\n",
       "      <th>min</th>\n",
       "      <td>1.000000e+00</td>\n",
       "    </tr>\n",
       "    <tr>\n",
       "      <th>25%</th>\n",
       "      <td>2.184983e+01</td>\n",
       "    </tr>\n",
       "    <tr>\n",
       "      <th>50%</th>\n",
       "      <td>4.834527e+01</td>\n",
       "    </tr>\n",
       "    <tr>\n",
       "      <th>75%</th>\n",
       "      <td>9.157858e+01</td>\n",
       "    </tr>\n",
       "    <tr>\n",
       "      <th>max</th>\n",
       "      <td>8.397760e+02</td>\n",
       "    </tr>\n",
       "  </tbody>\n",
       "</table>"
      ],
      "text/plain": [
       "<IPython.core.display.HTML object>"
      ]
     },
     "metadata": {},
     "output_type": "display_data"
    }
   ],
   "source": [
    "display( HTML( P3DF.describe().to_html() ) )"
   ]
  },
  {
   "cell_type": "code",
   "execution_count": 39,
   "metadata": {},
   "outputs": [],
   "source": [
    "OutFiler = os.path.normpath( os.path.join( OUT_DIR, \"SimDF_%s_TotMonDepth_2071-2100.pickle\" % SIM_ROOT ) )\n",
    "P3DF.to_pickle( OutFiler, compression='zip', protocol=-1 )"
   ]
  },
  {
   "cell_type": "markdown",
   "metadata": {},
   "source": [
    "## Plots"
   ]
  },
  {
   "cell_type": "code",
   "execution_count": 40,
   "metadata": {},
   "outputs": [],
   "source": [
    "preTicks = [ 1.0, 10.0, 100.0, 500.0, 1000.0 ]"
   ]
  },
  {
   "cell_type": "code",
   "execution_count": 41,
   "metadata": {},
   "outputs": [
    {
     "data": {
      "text/plain": [
       "'C:\\\\Users\\\\nmartin\\\\Documents\\\\CC_IRD\\\\Events\\\\Plots\\\\Results_MonTotPreDep_DC_WGMN1_BW.svg'"
      ]
     },
     "execution_count": 41,
     "metadata": {},
     "output_type": "execute_result"
    }
   ],
   "source": [
    "OutSVG = os.path.normpath( os.path.join( OUT_DIR, \"Plots\", \"Results_MonTotPreDep_%s_BW.svg\" % SIM_ROOT ) )\n",
    "OutSVG"
   ]
  },
  {
   "cell_type": "code",
   "execution_count": 42,
   "metadata": {},
   "outputs": [
    {
     "data": {
      "text/plain": [
       "'C:\\\\Users\\\\nmartin\\\\Documents\\\\CC_IRD\\\\Events\\\\Plots\\\\Results_MonTotPreDep_DC_WGMN1_BW.png'"
      ]
     },
     "execution_count": 42,
     "metadata": {},
     "output_type": "execute_result"
    }
   ],
   "source": [
    "OutPNG = os.path.normpath( os.path.join( OUT_DIR, \"Plots\", \"Results_MonTotPreDep_%s_BW.png\" % SIM_ROOT) )\n",
    "OutPNG"
   ]
  },
  {
   "cell_type": "code",
   "execution_count": 43,
   "metadata": {},
   "outputs": [
    {
     "data": {
      "image/png": "[encoded data removed]",
      "text/plain": [
       "<Figure size 1080x1512 with 4 Axes>"
      ]
     },
     "metadata": {
      "needs_background": "light"
     },
     "output_type": "display_data"
    }
   ],
   "source": [
    "Fig1 = plt.figure()\n",
    "Fig1.set_size_inches(15, 21)\n",
    "ax11 = Fig1.add_subplot(4,1,1)\n",
    "g1 = sns.boxplot( x=\"Month\", y=\"MonTotal\", hue=\"DLabel\",\n",
    "                  dodge=True, linewidth=1.2, orient=\"v\", showmeans=True,\n",
    "                  palette={ DataLabel4 : \"xkcd:sky blue\", \n",
    "                            SimLabel4 : \"xkcd:burnt orange\" },\n",
    "                  data=P3DF, ax=ax11 )\n",
    "g1.legend(prop=dict(size=11))\n",
    "g1.legend(loc=\"lower center\")\n",
    "g1.set_yscale('log')\n",
    "g1.grid(b=True, which=\"both\", axis='y')\n",
    "g1.set_yticks( preTicks )\n",
    "g1.set_xlabel('', fontsize=12 )\n",
    "g1.set_ylabel('Total Precipitation Depth ($mm$)', fontsize=12)\n",
    "g1.set_ylim( ( 1.0, 1000.0))\n",
    "g1.tick_params(axis='both', which='major', labelsize=11)\n",
    "g1.yaxis.set_major_formatter( mpl.ticker.StrMethodFormatter( \"{x:,.1f}\" ) )\n",
    "g1.annotate(\"D\", xy=(0.98,0.95), xycoords=\"axes fraction\")\n",
    "ax21 = Fig1.add_subplot(4,1,2)\n",
    "g2 = sns.boxplot( x=\"Month\", y=\"MonTotal\", hue=\"DLabel\",\n",
    "                  dodge=True, linewidth=1.2, orient=\"v\", showmeans=True,\n",
    "                  palette={ DataLabel3 : \"xkcd:sky blue\", \n",
    "                            SimLabel3 : \"xkcd:pumpkin\" },\n",
    "                  data=P2DF, ax=ax21 )\n",
    "g2.legend(prop=dict(size=11))\n",
    "g2.legend(loc=\"lower center\")\n",
    "g2.set_yscale('log')\n",
    "g2.grid(b=True, which=\"both\", axis='y')\n",
    "g2.set_yticks( preTicks )\n",
    "g2.set_xlabel('', fontsize=12 )\n",
    "g2.set_ylabel('Total Precipitation Depth ($mm$)', fontsize=12)\n",
    "g2.set_ylim( ( 1.0, 1000.0))\n",
    "g2.tick_params(axis='both', which='major', labelsize=11)\n",
    "g2.yaxis.set_major_formatter( mpl.ticker.StrMethodFormatter( \"{x:,.1f}\" ) )\n",
    "g2.annotate(\"C\", xy=(0.98,0.95), xycoords=\"axes fraction\")\n",
    "ax31 = Fig1.add_subplot(4,1,3)\n",
    "g3 = sns.boxplot( x=\"Month\", y=\"MonTotal\", hue=\"DLabel\",\n",
    "                  dodge=True, linewidth=1.2, orient=\"v\", showmeans=True,\n",
    "                  palette={ DataLabel2 : \"xkcd:sky blue\", \n",
    "                            SimLabel2 : \"xkcd:tangerine\" },\n",
    "                  data=P1DF, ax=ax31 )\n",
    "g3.legend(prop=dict(size=11))\n",
    "g3.legend(loc=\"lower center\")\n",
    "g3.set_yscale('log')\n",
    "g3.grid(b=True, which=\"both\", axis='y')\n",
    "g3.set_yticks( preTicks )\n",
    "g3.set_xlabel('', fontsize=12 )\n",
    "g3.set_ylabel('Total Precipitation Depth ($mm$)', fontsize=12)\n",
    "g3.set_ylim( ( 1.0, 1000.0))\n",
    "g3.tick_params(axis='both', which='major', labelsize=11)\n",
    "g3.yaxis.set_major_formatter( mpl.ticker.StrMethodFormatter( \"{x:,.1f}\" ) )\n",
    "g3.annotate(\"B\", xy=(0.98,0.95), xycoords=\"axes fraction\")\n",
    "ax41 = Fig1.add_subplot(4,1,4)\n",
    "g4 = sns.boxplot( x=\"Month\", y=\"MonTotal\", hue=\"DLabel\",\n",
    "                  dodge=True, linewidth=1.2, orient=\"v\", showmeans=True,\n",
    "                  palette={ DataLabel1 : \"xkcd:sky blue\", \n",
    "                            SimLabel1 : \"xkcd:pale orange\" },\n",
    "                  data=DPDF, ax=ax41 )\n",
    "g4.legend(prop=dict(size=11))\n",
    "g4.legend(loc=\"lower center\")\n",
    "g4.set_yscale('log')\n",
    "g4.grid(b=True, which=\"both\", axis='y')\n",
    "g4.set_yticks( preTicks )\n",
    "g4.set_xlabel('', fontsize=12 )\n",
    "g4.set_ylabel('Total Precipitation Depth ($mm$)', fontsize=12)\n",
    "g4.set_ylim( ( 1.0, 1000.0))\n",
    "g4.tick_params(axis='both', which='major', labelsize=11)\n",
    "g4.yaxis.set_major_formatter( mpl.ticker.StrMethodFormatter( \"{x:,.1f}\" ) )\n",
    "g4.annotate(\"A\", xy=(0.98,0.95), xycoords=\"axes fraction\")\n",
    "Fig1.savefig( OutSVG )\n",
    "Fig1.savefig( OutPNG )"
   ]
  },
  {
   "cell_type": "code",
   "execution_count": null,
   "metadata": {},
   "outputs": [],
   "source": []
  }
 ],
 "metadata": {
  "kernelspec": {
   "display_name": "Python 3",
   "language": "python",
   "name": "python3"
  },
  "language_info": {
   "codemirror_mode": {
    "name": "ipython",
    "version": 3
   },
   "file_extension": ".py",
   "mimetype": "text/x-python",
   "name": "python",
   "nbconvert_exporter": "python",
   "pygments_lexer": "ipython3",
   "version": "3.7.7"
  }
 },
 "nbformat": 4,
 "nbformat_minor": 4
}
