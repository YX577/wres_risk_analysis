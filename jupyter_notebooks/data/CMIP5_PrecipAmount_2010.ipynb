{
 "cells": [
  {
   "cell_type": "markdown",
   "metadata": {},
   "source": [
    "# CMIP5: Processing Precip Amounts, 1981-2010"
   ]
  },
  {
   "cell_type": "markdown",
   "metadata": {},
   "source": [
    "This notebook provides for preliminary processing of precipitation amounts primarily to break up the enormous wet days archive. Want to break this into months and save two different DataFrames:\n",
    "\n",
    "1. Wet Day Counts\n",
    "2. Precipitation depths\n",
    "\n",
    "Then we can proceed to distribution fitting.\n",
    "\n",
    "Go through a month at a time and create the monthly DataFrame for analysis and then output it for distribution fitting in R.\n",
    "\n",
    "After outputting then analyze the various DataFrames graphically and output some summary statistics to save from doing this in R."
   ]
  },
  {
   "cell_type": "markdown",
   "metadata": {},
   "source": [
    "From Wilks & Wilby (1999)\n",
    "*\"Most stochastic weather generators make the assumption that precipitation amounts\n",
    "on wet days are independent, and follow the same distribution. Allowing different\n",
    "probability distributions for precipitation amounts depending on that day’s position in\n",
    "a wet spell (e.g., the mean rainfall on a wet day following a wet day might be greater\n",
    "than on a wet day following a dry day) has been considered by Katz (1977), Buishand\n",
    "(1977; 1978), Chin and Miller (1980) and Wilks (1999a), but allowing this extra\n",
    "complexity often makes little difference to the result. Similarly, the autocorrelation\n",
    "between successive nonzero precipitation amounts in daily series is sometimes (statistically) significantly different from zero, but is typically quite small and usually of little\n",
    "practical importance (Katz, 1977; Buishand, 1977; 1978; Foufoula-Georgiou and\n",
    "Lettenmaier, 1987). In contrast, accounting for serial correlation of nonzero precipitation\n",
    "amounts is essential if the precipitation model has an hourly (or smaller) rather than a\n",
    "daily time step (Katz and Parlange, 1995).\"*"
   ]
  },
  {
   "cell_type": "code",
   "execution_count": 1,
   "metadata": {},
   "outputs": [],
   "source": [
    "from IPython.display import display, HTML\n",
    "import os\n",
    "import numpy as np\n",
    "import pandas as pd\n",
    "import datetime as dt\n",
    "import geopandas as gpd\n",
    "from copy import deepcopy\n",
    "import re"
   ]
  },
  {
   "cell_type": "code",
   "execution_count": 2,
   "metadata": {},
   "outputs": [],
   "source": [
    "OUT_DIR = r'\\\\augustine.space.swri.edu\\jdrive\\Groundwater\\R8937_Stochastic_CC_Recharge\\Da' \\\n",
    "          r'ta\\JNotes\\Processed\\CMIP5\\CMIP5_1981_WetDays'"
   ]
  },
  {
   "cell_type": "markdown",
   "metadata": {},
   "source": [
    "Have a DataFrame saved as a pickle file of all of the wet days. Use this as the base for the calculations in this notebook"
   ]
  },
  {
   "cell_type": "code",
   "execution_count": 3,
   "metadata": {},
   "outputs": [],
   "source": [
    "IN_PICKLE = r'\\\\augustine.space.swri.edu\\jdrive\\Groundwater\\R8937_Stochastic_CC_Recharge\\Da' \\\n",
    "            r'ta\\JNotes\\Processed\\CMIP5\\WetDays_1981-2010.pickle'"
   ]
  },
  {
   "cell_type": "code",
   "execution_count": 4,
   "metadata": {},
   "outputs": [],
   "source": [
    "WetDF = pd.read_pickle( IN_PICKLE )"
   ]
  },
  {
   "cell_type": "code",
   "execution_count": 22,
   "metadata": {},
   "outputs": [
    {
     "data": {
      "text/html": [
       "<table border=\"1\" class=\"dataframe\">\n",
       "  <thead>\n",
       "    <tr style=\"text-align: right;\">\n",
       "      <th></th>\n",
       "      <th>MGrid_Id</th>\n",
       "      <th>Year</th>\n",
       "      <th>Month</th>\n",
       "      <th>Day</th>\n",
       "      <th>Wet_Count</th>\n",
       "      <th>Total_Depth</th>\n",
       "      <th>Day_1</th>\n",
       "      <th>Day_2</th>\n",
       "      <th>Day_3</th>\n",
       "      <th>Day_4</th>\n",
       "      <th>Day_5</th>\n",
       "      <th>Day_6</th>\n",
       "      <th>Day_7</th>\n",
       "      <th>Day_8</th>\n",
       "      <th>Day_9</th>\n",
       "      <th>Day_10</th>\n",
       "      <th>Day_11</th>\n",
       "      <th>Day_12</th>\n",
       "      <th>Day_13</th>\n",
       "      <th>Day_14</th>\n",
       "      <th>Day_15</th>\n",
       "      <th>Day_16</th>\n",
       "      <th>Day_17</th>\n",
       "      <th>Day_18</th>\n",
       "      <th>Day_19</th>\n",
       "      <th>Day_20</th>\n",
       "      <th>Day_21</th>\n",
       "      <th>Day_22</th>\n",
       "      <th>Day_23</th>\n",
       "      <th>Day_24</th>\n",
       "      <th>Day_25</th>\n",
       "      <th>Day_26</th>\n",
       "      <th>Day_27</th>\n",
       "      <th>Day_28</th>\n",
       "      <th>Day_29</th>\n",
       "      <th>Day_30</th>\n",
       "      <th>Day_31</th>\n",
       "      <th>Day_32</th>\n",
       "      <th>Day_33</th>\n",
       "      <th>Day_34</th>\n",
       "      <th>Day_35</th>\n",
       "      <th>Day_36</th>\n",
       "      <th>Day_37</th>\n",
       "      <th>Day_38</th>\n",
       "      <th>Day_39</th>\n",
       "      <th>Day_40</th>\n",
       "      <th>Day_41</th>\n",
       "      <th>Day_42</th>\n",
       "      <th>Day_43</th>\n",
       "      <th>Day_44</th>\n",
       "      <th>Day_45</th>\n",
       "      <th>Day_46</th>\n",
       "      <th>Day_47</th>\n",
       "      <th>Day_48</th>\n",
       "      <th>Day_49</th>\n",
       "      <th>Day_50</th>\n",
       "      <th>Day_51</th>\n",
       "      <th>Day_52</th>\n",
       "      <th>Day_53</th>\n",
       "      <th>Day_54</th>\n",
       "      <th>Day_55</th>\n",
       "      <th>Day_56</th>\n",
       "      <th>Day_57</th>\n",
       "      <th>Day_58</th>\n",
       "      <th>Day_59</th>\n",
       "      <th>Day_60</th>\n",
       "      <th>Day_61</th>\n",
       "      <th>Day_62</th>\n",
       "      <th>Day_63</th>\n",
       "      <th>Day_64</th>\n",
       "      <th>Day_65</th>\n",
       "      <th>Day_66</th>\n",
       "      <th>Day_67</th>\n",
       "      <th>Day_68</th>\n",
       "      <th>Day_69</th>\n",
       "    </tr>\n",
       "  </thead>\n",
       "  <tbody>\n",
       "    <tr>\n",
       "      <th>0</th>\n",
       "      <td>M100_169</td>\n",
       "      <td>1981</td>\n",
       "      <td>1</td>\n",
       "      <td>2</td>\n",
       "      <td>2</td>\n",
       "      <td>11.387080</td>\n",
       "      <td>10.222975</td>\n",
       "      <td>1.164105</td>\n",
       "      <td>0.000000</td>\n",
       "      <td>0.000000</td>\n",
       "      <td>0.000000</td>\n",
       "      <td>0.000000</td>\n",
       "      <td>0.0</td>\n",
       "      <td>0.0</td>\n",
       "      <td>0.0</td>\n",
       "      <td>0.0</td>\n",
       "      <td>0.0</td>\n",
       "      <td>0.0</td>\n",
       "      <td>0.0</td>\n",
       "      <td>0.0</td>\n",
       "      <td>0.0</td>\n",
       "      <td>0.0</td>\n",
       "      <td>0.0</td>\n",
       "      <td>0.0</td>\n",
       "      <td>0.0</td>\n",
       "      <td>0.0</td>\n",
       "      <td>0.0</td>\n",
       "      <td>0.0</td>\n",
       "      <td>0.0</td>\n",
       "      <td>0.0</td>\n",
       "      <td>0.0</td>\n",
       "      <td>0.0</td>\n",
       "      <td>0.0</td>\n",
       "      <td>0.0</td>\n",
       "      <td>0.0</td>\n",
       "      <td>0.0</td>\n",
       "      <td>0.0</td>\n",
       "      <td>0.0</td>\n",
       "      <td>0.0</td>\n",
       "      <td>0.0</td>\n",
       "      <td>0.0</td>\n",
       "      <td>0.0</td>\n",
       "      <td>0.0</td>\n",
       "      <td>0.0</td>\n",
       "      <td>0.0</td>\n",
       "      <td>0.0</td>\n",
       "      <td>0.0</td>\n",
       "      <td>0.0</td>\n",
       "      <td>0.0</td>\n",
       "      <td>0.0</td>\n",
       "      <td>0.0</td>\n",
       "      <td>0.0</td>\n",
       "      <td>0.0</td>\n",
       "      <td>0.0</td>\n",
       "      <td>0.0</td>\n",
       "      <td>0.0</td>\n",
       "      <td>0.0</td>\n",
       "      <td>0.0</td>\n",
       "      <td>0.0</td>\n",
       "      <td>0.0</td>\n",
       "      <td>0.0</td>\n",
       "      <td>0.0</td>\n",
       "      <td>0.0</td>\n",
       "      <td>0.0</td>\n",
       "      <td>0.0</td>\n",
       "      <td>0.0</td>\n",
       "      <td>0.0</td>\n",
       "      <td>0.0</td>\n",
       "      <td>0.0</td>\n",
       "      <td>0.0</td>\n",
       "      <td>0.0</td>\n",
       "      <td>0.0</td>\n",
       "      <td>0.0</td>\n",
       "      <td>0.0</td>\n",
       "      <td>0.0</td>\n",
       "    </tr>\n",
       "    <tr>\n",
       "      <th>1</th>\n",
       "      <td>M100_169</td>\n",
       "      <td>1981</td>\n",
       "      <td>1</td>\n",
       "      <td>7</td>\n",
       "      <td>6</td>\n",
       "      <td>15.535727</td>\n",
       "      <td>0.964378</td>\n",
       "      <td>0.696315</td>\n",
       "      <td>0.358811</td>\n",
       "      <td>10.081599</td>\n",
       "      <td>1.161914</td>\n",
       "      <td>2.272709</td>\n",
       "      <td>0.0</td>\n",
       "      <td>0.0</td>\n",
       "      <td>0.0</td>\n",
       "      <td>0.0</td>\n",
       "      <td>0.0</td>\n",
       "      <td>0.0</td>\n",
       "      <td>0.0</td>\n",
       "      <td>0.0</td>\n",
       "      <td>0.0</td>\n",
       "      <td>0.0</td>\n",
       "      <td>0.0</td>\n",
       "      <td>0.0</td>\n",
       "      <td>0.0</td>\n",
       "      <td>0.0</td>\n",
       "      <td>0.0</td>\n",
       "      <td>0.0</td>\n",
       "      <td>0.0</td>\n",
       "      <td>0.0</td>\n",
       "      <td>0.0</td>\n",
       "      <td>0.0</td>\n",
       "      <td>0.0</td>\n",
       "      <td>0.0</td>\n",
       "      <td>0.0</td>\n",
       "      <td>0.0</td>\n",
       "      <td>0.0</td>\n",
       "      <td>0.0</td>\n",
       "      <td>0.0</td>\n",
       "      <td>0.0</td>\n",
       "      <td>0.0</td>\n",
       "      <td>0.0</td>\n",
       "      <td>0.0</td>\n",
       "      <td>0.0</td>\n",
       "      <td>0.0</td>\n",
       "      <td>0.0</td>\n",
       "      <td>0.0</td>\n",
       "      <td>0.0</td>\n",
       "      <td>0.0</td>\n",
       "      <td>0.0</td>\n",
       "      <td>0.0</td>\n",
       "      <td>0.0</td>\n",
       "      <td>0.0</td>\n",
       "      <td>0.0</td>\n",
       "      <td>0.0</td>\n",
       "      <td>0.0</td>\n",
       "      <td>0.0</td>\n",
       "      <td>0.0</td>\n",
       "      <td>0.0</td>\n",
       "      <td>0.0</td>\n",
       "      <td>0.0</td>\n",
       "      <td>0.0</td>\n",
       "      <td>0.0</td>\n",
       "      <td>0.0</td>\n",
       "      <td>0.0</td>\n",
       "      <td>0.0</td>\n",
       "      <td>0.0</td>\n",
       "      <td>0.0</td>\n",
       "      <td>0.0</td>\n",
       "      <td>0.0</td>\n",
       "      <td>0.0</td>\n",
       "      <td>0.0</td>\n",
       "      <td>0.0</td>\n",
       "      <td>0.0</td>\n",
       "      <td>0.0</td>\n",
       "    </tr>\n",
       "    <tr>\n",
       "      <th>2</th>\n",
       "      <td>M100_169</td>\n",
       "      <td>1981</td>\n",
       "      <td>1</td>\n",
       "      <td>14</td>\n",
       "      <td>4</td>\n",
       "      <td>6.075534</td>\n",
       "      <td>0.607677</td>\n",
       "      <td>4.903019</td>\n",
       "      <td>0.276916</td>\n",
       "      <td>0.287922</td>\n",
       "      <td>0.000000</td>\n",
       "      <td>0.000000</td>\n",
       "      <td>0.0</td>\n",
       "      <td>0.0</td>\n",
       "      <td>0.0</td>\n",
       "      <td>0.0</td>\n",
       "      <td>0.0</td>\n",
       "      <td>0.0</td>\n",
       "      <td>0.0</td>\n",
       "      <td>0.0</td>\n",
       "      <td>0.0</td>\n",
       "      <td>0.0</td>\n",
       "      <td>0.0</td>\n",
       "      <td>0.0</td>\n",
       "      <td>0.0</td>\n",
       "      <td>0.0</td>\n",
       "      <td>0.0</td>\n",
       "      <td>0.0</td>\n",
       "      <td>0.0</td>\n",
       "      <td>0.0</td>\n",
       "      <td>0.0</td>\n",
       "      <td>0.0</td>\n",
       "      <td>0.0</td>\n",
       "      <td>0.0</td>\n",
       "      <td>0.0</td>\n",
       "      <td>0.0</td>\n",
       "      <td>0.0</td>\n",
       "      <td>0.0</td>\n",
       "      <td>0.0</td>\n",
       "      <td>0.0</td>\n",
       "      <td>0.0</td>\n",
       "      <td>0.0</td>\n",
       "      <td>0.0</td>\n",
       "      <td>0.0</td>\n",
       "      <td>0.0</td>\n",
       "      <td>0.0</td>\n",
       "      <td>0.0</td>\n",
       "      <td>0.0</td>\n",
       "      <td>0.0</td>\n",
       "      <td>0.0</td>\n",
       "      <td>0.0</td>\n",
       "      <td>0.0</td>\n",
       "      <td>0.0</td>\n",
       "      <td>0.0</td>\n",
       "      <td>0.0</td>\n",
       "      <td>0.0</td>\n",
       "      <td>0.0</td>\n",
       "      <td>0.0</td>\n",
       "      <td>0.0</td>\n",
       "      <td>0.0</td>\n",
       "      <td>0.0</td>\n",
       "      <td>0.0</td>\n",
       "      <td>0.0</td>\n",
       "      <td>0.0</td>\n",
       "      <td>0.0</td>\n",
       "      <td>0.0</td>\n",
       "      <td>0.0</td>\n",
       "      <td>0.0</td>\n",
       "      <td>0.0</td>\n",
       "      <td>0.0</td>\n",
       "      <td>0.0</td>\n",
       "      <td>0.0</td>\n",
       "      <td>0.0</td>\n",
       "      <td>0.0</td>\n",
       "      <td>0.0</td>\n",
       "    </tr>\n",
       "    <tr>\n",
       "      <th>3</th>\n",
       "      <td>M100_169</td>\n",
       "      <td>1981</td>\n",
       "      <td>1</td>\n",
       "      <td>24</td>\n",
       "      <td>2</td>\n",
       "      <td>3.113439</td>\n",
       "      <td>0.301083</td>\n",
       "      <td>2.812356</td>\n",
       "      <td>0.000000</td>\n",
       "      <td>0.000000</td>\n",
       "      <td>0.000000</td>\n",
       "      <td>0.000000</td>\n",
       "      <td>0.0</td>\n",
       "      <td>0.0</td>\n",
       "      <td>0.0</td>\n",
       "      <td>0.0</td>\n",
       "      <td>0.0</td>\n",
       "      <td>0.0</td>\n",
       "      <td>0.0</td>\n",
       "      <td>0.0</td>\n",
       "      <td>0.0</td>\n",
       "      <td>0.0</td>\n",
       "      <td>0.0</td>\n",
       "      <td>0.0</td>\n",
       "      <td>0.0</td>\n",
       "      <td>0.0</td>\n",
       "      <td>0.0</td>\n",
       "      <td>0.0</td>\n",
       "      <td>0.0</td>\n",
       "      <td>0.0</td>\n",
       "      <td>0.0</td>\n",
       "      <td>0.0</td>\n",
       "      <td>0.0</td>\n",
       "      <td>0.0</td>\n",
       "      <td>0.0</td>\n",
       "      <td>0.0</td>\n",
       "      <td>0.0</td>\n",
       "      <td>0.0</td>\n",
       "      <td>0.0</td>\n",
       "      <td>0.0</td>\n",
       "      <td>0.0</td>\n",
       "      <td>0.0</td>\n",
       "      <td>0.0</td>\n",
       "      <td>0.0</td>\n",
       "      <td>0.0</td>\n",
       "      <td>0.0</td>\n",
       "      <td>0.0</td>\n",
       "      <td>0.0</td>\n",
       "      <td>0.0</td>\n",
       "      <td>0.0</td>\n",
       "      <td>0.0</td>\n",
       "      <td>0.0</td>\n",
       "      <td>0.0</td>\n",
       "      <td>0.0</td>\n",
       "      <td>0.0</td>\n",
       "      <td>0.0</td>\n",
       "      <td>0.0</td>\n",
       "      <td>0.0</td>\n",
       "      <td>0.0</td>\n",
       "      <td>0.0</td>\n",
       "      <td>0.0</td>\n",
       "      <td>0.0</td>\n",
       "      <td>0.0</td>\n",
       "      <td>0.0</td>\n",
       "      <td>0.0</td>\n",
       "      <td>0.0</td>\n",
       "      <td>0.0</td>\n",
       "      <td>0.0</td>\n",
       "      <td>0.0</td>\n",
       "      <td>0.0</td>\n",
       "      <td>0.0</td>\n",
       "      <td>0.0</td>\n",
       "      <td>0.0</td>\n",
       "      <td>0.0</td>\n",
       "      <td>0.0</td>\n",
       "    </tr>\n",
       "    <tr>\n",
       "      <th>4</th>\n",
       "      <td>M100_169</td>\n",
       "      <td>1981</td>\n",
       "      <td>1</td>\n",
       "      <td>27</td>\n",
       "      <td>1</td>\n",
       "      <td>0.894761</td>\n",
       "      <td>0.894761</td>\n",
       "      <td>0.000000</td>\n",
       "      <td>0.000000</td>\n",
       "      <td>0.000000</td>\n",
       "      <td>0.000000</td>\n",
       "      <td>0.000000</td>\n",
       "      <td>0.0</td>\n",
       "      <td>0.0</td>\n",
       "      <td>0.0</td>\n",
       "      <td>0.0</td>\n",
       "      <td>0.0</td>\n",
       "      <td>0.0</td>\n",
       "      <td>0.0</td>\n",
       "      <td>0.0</td>\n",
       "      <td>0.0</td>\n",
       "      <td>0.0</td>\n",
       "      <td>0.0</td>\n",
       "      <td>0.0</td>\n",
       "      <td>0.0</td>\n",
       "      <td>0.0</td>\n",
       "      <td>0.0</td>\n",
       "      <td>0.0</td>\n",
       "      <td>0.0</td>\n",
       "      <td>0.0</td>\n",
       "      <td>0.0</td>\n",
       "      <td>0.0</td>\n",
       "      <td>0.0</td>\n",
       "      <td>0.0</td>\n",
       "      <td>0.0</td>\n",
       "      <td>0.0</td>\n",
       "      <td>0.0</td>\n",
       "      <td>0.0</td>\n",
       "      <td>0.0</td>\n",
       "      <td>0.0</td>\n",
       "      <td>0.0</td>\n",
       "      <td>0.0</td>\n",
       "      <td>0.0</td>\n",
       "      <td>0.0</td>\n",
       "      <td>0.0</td>\n",
       "      <td>0.0</td>\n",
       "      <td>0.0</td>\n",
       "      <td>0.0</td>\n",
       "      <td>0.0</td>\n",
       "      <td>0.0</td>\n",
       "      <td>0.0</td>\n",
       "      <td>0.0</td>\n",
       "      <td>0.0</td>\n",
       "      <td>0.0</td>\n",
       "      <td>0.0</td>\n",
       "      <td>0.0</td>\n",
       "      <td>0.0</td>\n",
       "      <td>0.0</td>\n",
       "      <td>0.0</td>\n",
       "      <td>0.0</td>\n",
       "      <td>0.0</td>\n",
       "      <td>0.0</td>\n",
       "      <td>0.0</td>\n",
       "      <td>0.0</td>\n",
       "      <td>0.0</td>\n",
       "      <td>0.0</td>\n",
       "      <td>0.0</td>\n",
       "      <td>0.0</td>\n",
       "      <td>0.0</td>\n",
       "      <td>0.0</td>\n",
       "      <td>0.0</td>\n",
       "      <td>0.0</td>\n",
       "      <td>0.0</td>\n",
       "      <td>0.0</td>\n",
       "      <td>0.0</td>\n",
       "    </tr>\n",
       "  </tbody>\n",
       "</table>"
      ],
      "text/plain": [
       "<IPython.core.display.HTML object>"
      ]
     },
     "metadata": {},
     "output_type": "display_data"
    }
   ],
   "source": [
    "display( HTML( WetDF.head().to_html() ) )"
   ]
  },
  {
   "cell_type": "code",
   "execution_count": 12,
   "metadata": {},
   "outputs": [],
   "source": [
    "ExModNum = lambda GId: int( (re.match( r'M(.*[0-9])_(.*[0-9])', GId )).group(1) )\n",
    "ExGridNum = lambda GId: int( (re.match( r'M(.*[0-9])_(.*[0-9])', GId )).group(2) )"
   ]
  },
  {
   "cell_type": "markdown",
   "metadata": {},
   "source": [
    "## Monthly Data"
   ]
  },
  {
   "cell_type": "markdown",
   "metadata": {},
   "source": [
    "Now will split this DataFrame up by month, keeping the grid cell id, and only the other needed columns"
   ]
  },
  {
   "cell_type": "code",
   "execution_count": 13,
   "metadata": {},
   "outputs": [
    {
     "data": {
      "text/plain": [
       "['MGrid_Id', 'Year', 'Month', 'Day', 'Wet_Count', 'Total_Depth']"
      ]
     },
     "execution_count": 13,
     "metadata": {},
     "output_type": "execute_result"
    }
   ],
   "source": [
    "AllCols = list( WetDF.columns )\n",
    "AllCols[:6]"
   ]
  },
  {
   "cell_type": "code",
   "execution_count": 14,
   "metadata": {},
   "outputs": [],
   "source": [
    "RootCols = deepcopy( AllCols[:6] )\n",
    "DayCols = deepcopy( AllCols[6:] )"
   ]
  },
  {
   "cell_type": "code",
   "execution_count": 15,
   "metadata": {},
   "outputs": [
    {
     "data": {
      "text/plain": [
       "69"
      ]
     },
     "execution_count": 15,
     "metadata": {},
     "output_type": "execute_result"
    }
   ],
   "source": [
    "MaxDays = WetDF['Wet_Count'].max()\n",
    "MaxDays"
   ]
  },
  {
   "cell_type": "code",
   "execution_count": 16,
   "metadata": {},
   "outputs": [],
   "source": [
    "StartInd = 3"
   ]
  },
  {
   "cell_type": "markdown",
   "metadata": {},
   "source": [
    "Go through each month and split out the wet days by month and output these for further distribution fitting in R."
   ]
  },
  {
   "cell_type": "markdown",
   "metadata": {},
   "source": [
    "### Jan"
   ]
  },
  {
   "cell_type": "markdown",
   "metadata": {},
   "source": [
    "Counts"
   ]
  },
  {
   "cell_type": "code",
   "execution_count": 23,
   "metadata": {},
   "outputs": [],
   "source": [
    "JanDF = WetDF[RootCols].loc[WetDF['Month'] == 1].copy()"
   ]
  },
  {
   "cell_type": "code",
   "execution_count": 24,
   "metadata": {},
   "outputs": [
    {
     "data": {
      "text/html": [
       "<table border=\"1\" class=\"dataframe\">\n",
       "  <thead>\n",
       "    <tr style=\"text-align: right;\">\n",
       "      <th></th>\n",
       "      <th>MGrid_Id</th>\n",
       "      <th>Year</th>\n",
       "      <th>Month</th>\n",
       "      <th>Day</th>\n",
       "      <th>Wet_Count</th>\n",
       "      <th>Total_Depth</th>\n",
       "    </tr>\n",
       "  </thead>\n",
       "  <tbody>\n",
       "    <tr>\n",
       "      <th>0</th>\n",
       "      <td>M100_169</td>\n",
       "      <td>1981</td>\n",
       "      <td>1</td>\n",
       "      <td>2</td>\n",
       "      <td>2</td>\n",
       "      <td>11.387080</td>\n",
       "    </tr>\n",
       "    <tr>\n",
       "      <th>1</th>\n",
       "      <td>M100_169</td>\n",
       "      <td>1981</td>\n",
       "      <td>1</td>\n",
       "      <td>7</td>\n",
       "      <td>6</td>\n",
       "      <td>15.535727</td>\n",
       "    </tr>\n",
       "    <tr>\n",
       "      <th>2</th>\n",
       "      <td>M100_169</td>\n",
       "      <td>1981</td>\n",
       "      <td>1</td>\n",
       "      <td>14</td>\n",
       "      <td>4</td>\n",
       "      <td>6.075534</td>\n",
       "    </tr>\n",
       "    <tr>\n",
       "      <th>3</th>\n",
       "      <td>M100_169</td>\n",
       "      <td>1981</td>\n",
       "      <td>1</td>\n",
       "      <td>24</td>\n",
       "      <td>2</td>\n",
       "      <td>3.113439</td>\n",
       "    </tr>\n",
       "    <tr>\n",
       "      <th>4</th>\n",
       "      <td>M100_169</td>\n",
       "      <td>1981</td>\n",
       "      <td>1</td>\n",
       "      <td>27</td>\n",
       "      <td>1</td>\n",
       "      <td>0.894761</td>\n",
       "    </tr>\n",
       "  </tbody>\n",
       "</table>"
      ],
      "text/plain": [
       "<IPython.core.display.HTML object>"
      ]
     },
     "metadata": {},
     "output_type": "display_data"
    }
   ],
   "source": [
    "display( HTML( JanDF.head().to_html() ) )"
   ]
  },
  {
   "cell_type": "code",
   "execution_count": 25,
   "metadata": {},
   "outputs": [],
   "source": [
    "JanDF['Grid_Id'] = JanDF.apply( lambda row: ExGridNum(row['MGrid_Id']), axis=1 )\n",
    "JanDF['Model_Id'] = JanDF.apply( lambda row: ExModNum(row['MGrid_Id']), axis=1 )"
   ]
  },
  {
   "cell_type": "code",
   "execution_count": 26,
   "metadata": {},
   "outputs": [
    {
     "data": {
      "text/html": [
       "<table border=\"1\" class=\"dataframe\">\n",
       "  <thead>\n",
       "    <tr style=\"text-align: right;\">\n",
       "      <th></th>\n",
       "      <th>MGrid_Id</th>\n",
       "      <th>Year</th>\n",
       "      <th>Month</th>\n",
       "      <th>Day</th>\n",
       "      <th>Wet_Count</th>\n",
       "      <th>Total_Depth</th>\n",
       "      <th>Grid_Id</th>\n",
       "      <th>Model_Id</th>\n",
       "    </tr>\n",
       "  </thead>\n",
       "  <tbody>\n",
       "    <tr>\n",
       "      <th>0</th>\n",
       "      <td>M100_169</td>\n",
       "      <td>1981</td>\n",
       "      <td>1</td>\n",
       "      <td>2</td>\n",
       "      <td>2</td>\n",
       "      <td>11.387080</td>\n",
       "      <td>169</td>\n",
       "      <td>100</td>\n",
       "    </tr>\n",
       "    <tr>\n",
       "      <th>1</th>\n",
       "      <td>M100_169</td>\n",
       "      <td>1981</td>\n",
       "      <td>1</td>\n",
       "      <td>7</td>\n",
       "      <td>6</td>\n",
       "      <td>15.535727</td>\n",
       "      <td>169</td>\n",
       "      <td>100</td>\n",
       "    </tr>\n",
       "    <tr>\n",
       "      <th>2</th>\n",
       "      <td>M100_169</td>\n",
       "      <td>1981</td>\n",
       "      <td>1</td>\n",
       "      <td>14</td>\n",
       "      <td>4</td>\n",
       "      <td>6.075534</td>\n",
       "      <td>169</td>\n",
       "      <td>100</td>\n",
       "    </tr>\n",
       "    <tr>\n",
       "      <th>3</th>\n",
       "      <td>M100_169</td>\n",
       "      <td>1981</td>\n",
       "      <td>1</td>\n",
       "      <td>24</td>\n",
       "      <td>2</td>\n",
       "      <td>3.113439</td>\n",
       "      <td>169</td>\n",
       "      <td>100</td>\n",
       "    </tr>\n",
       "    <tr>\n",
       "      <th>4</th>\n",
       "      <td>M100_169</td>\n",
       "      <td>1981</td>\n",
       "      <td>1</td>\n",
       "      <td>27</td>\n",
       "      <td>1</td>\n",
       "      <td>0.894761</td>\n",
       "      <td>169</td>\n",
       "      <td>100</td>\n",
       "    </tr>\n",
       "  </tbody>\n",
       "</table>"
      ],
      "text/plain": [
       "<IPython.core.display.HTML object>"
      ]
     },
     "metadata": {},
     "output_type": "display_data"
    }
   ],
   "source": [
    "display( HTML( JanDF.head().to_html() ) )"
   ]
  },
  {
   "cell_type": "code",
   "execution_count": 28,
   "metadata": {},
   "outputs": [],
   "source": [
    "JanPCKF = os.path.normpath( os.path.join( OUT_DIR, \"Jan_WetCnt_CMIP5_1981-2010.pickle\" ) )\n",
    "JanDF.to_pickle( JanPCKF )"
   ]
  },
  {
   "cell_type": "code",
   "execution_count": 30,
   "metadata": {},
   "outputs": [],
   "source": [
    "JanDF = JanDF.reset_index()\n",
    "JanFeatherF = os.path.normpath( os.path.join( OUT_DIR, \"Jan_WetCnt_CMIP5_1981-2010.feather\" ) )\n",
    "JanDF.to_feather( JanFeatherF )"
   ]
  },
  {
   "cell_type": "markdown",
   "metadata": {},
   "source": [
    "Depths"
   ]
  },
  {
   "cell_type": "code",
   "execution_count": 31,
   "metadata": {},
   "outputs": [],
   "source": [
    "JanDF = WetDF[WetDF['Month'] == 1].copy()"
   ]
  },
  {
   "cell_type": "code",
   "execution_count": 32,
   "metadata": {},
   "outputs": [
    {
     "data": {
      "text/html": [
       "<table border=\"1\" class=\"dataframe\">\n",
       "  <thead>\n",
       "    <tr style=\"text-align: right;\">\n",
       "      <th></th>\n",
       "      <th>MGrid_Id</th>\n",
       "      <th>Year</th>\n",
       "      <th>Month</th>\n",
       "      <th>Day</th>\n",
       "      <th>Wet_Count</th>\n",
       "      <th>Total_Depth</th>\n",
       "      <th>Day_1</th>\n",
       "      <th>Day_2</th>\n",
       "      <th>Day_3</th>\n",
       "      <th>Day_4</th>\n",
       "      <th>Day_5</th>\n",
       "      <th>Day_6</th>\n",
       "      <th>Day_7</th>\n",
       "      <th>Day_8</th>\n",
       "      <th>Day_9</th>\n",
       "      <th>Day_10</th>\n",
       "      <th>Day_11</th>\n",
       "      <th>Day_12</th>\n",
       "      <th>Day_13</th>\n",
       "      <th>Day_14</th>\n",
       "      <th>Day_15</th>\n",
       "      <th>Day_16</th>\n",
       "      <th>Day_17</th>\n",
       "      <th>Day_18</th>\n",
       "      <th>Day_19</th>\n",
       "      <th>Day_20</th>\n",
       "      <th>Day_21</th>\n",
       "      <th>Day_22</th>\n",
       "      <th>Day_23</th>\n",
       "      <th>Day_24</th>\n",
       "      <th>Day_25</th>\n",
       "      <th>Day_26</th>\n",
       "      <th>Day_27</th>\n",
       "      <th>Day_28</th>\n",
       "      <th>Day_29</th>\n",
       "      <th>Day_30</th>\n",
       "      <th>Day_31</th>\n",
       "      <th>Day_32</th>\n",
       "      <th>Day_33</th>\n",
       "      <th>Day_34</th>\n",
       "      <th>Day_35</th>\n",
       "      <th>Day_36</th>\n",
       "      <th>Day_37</th>\n",
       "      <th>Day_38</th>\n",
       "      <th>Day_39</th>\n",
       "      <th>Day_40</th>\n",
       "      <th>Day_41</th>\n",
       "      <th>Day_42</th>\n",
       "      <th>Day_43</th>\n",
       "      <th>Day_44</th>\n",
       "      <th>Day_45</th>\n",
       "      <th>Day_46</th>\n",
       "      <th>Day_47</th>\n",
       "      <th>Day_48</th>\n",
       "      <th>Day_49</th>\n",
       "      <th>Day_50</th>\n",
       "      <th>Day_51</th>\n",
       "      <th>Day_52</th>\n",
       "      <th>Day_53</th>\n",
       "      <th>Day_54</th>\n",
       "      <th>Day_55</th>\n",
       "      <th>Day_56</th>\n",
       "      <th>Day_57</th>\n",
       "      <th>Day_58</th>\n",
       "      <th>Day_59</th>\n",
       "      <th>Day_60</th>\n",
       "      <th>Day_61</th>\n",
       "      <th>Day_62</th>\n",
       "      <th>Day_63</th>\n",
       "      <th>Day_64</th>\n",
       "      <th>Day_65</th>\n",
       "      <th>Day_66</th>\n",
       "      <th>Day_67</th>\n",
       "      <th>Day_68</th>\n",
       "      <th>Day_69</th>\n",
       "    </tr>\n",
       "  </thead>\n",
       "  <tbody>\n",
       "    <tr>\n",
       "      <th>0</th>\n",
       "      <td>M100_169</td>\n",
       "      <td>1981</td>\n",
       "      <td>1</td>\n",
       "      <td>2</td>\n",
       "      <td>2</td>\n",
       "      <td>11.387080</td>\n",
       "      <td>10.222975</td>\n",
       "      <td>1.164105</td>\n",
       "      <td>0.000000</td>\n",
       "      <td>0.000000</td>\n",
       "      <td>0.000000</td>\n",
       "      <td>0.000000</td>\n",
       "      <td>0.0</td>\n",
       "      <td>0.0</td>\n",
       "      <td>0.0</td>\n",
       "      <td>0.0</td>\n",
       "      <td>0.0</td>\n",
       "      <td>0.0</td>\n",
       "      <td>0.0</td>\n",
       "      <td>0.0</td>\n",
       "      <td>0.0</td>\n",
       "      <td>0.0</td>\n",
       "      <td>0.0</td>\n",
       "      <td>0.0</td>\n",
       "      <td>0.0</td>\n",
       "      <td>0.0</td>\n",
       "      <td>0.0</td>\n",
       "      <td>0.0</td>\n",
       "      <td>0.0</td>\n",
       "      <td>0.0</td>\n",
       "      <td>0.0</td>\n",
       "      <td>0.0</td>\n",
       "      <td>0.0</td>\n",
       "      <td>0.0</td>\n",
       "      <td>0.0</td>\n",
       "      <td>0.0</td>\n",
       "      <td>0.0</td>\n",
       "      <td>0.0</td>\n",
       "      <td>0.0</td>\n",
       "      <td>0.0</td>\n",
       "      <td>0.0</td>\n",
       "      <td>0.0</td>\n",
       "      <td>0.0</td>\n",
       "      <td>0.0</td>\n",
       "      <td>0.0</td>\n",
       "      <td>0.0</td>\n",
       "      <td>0.0</td>\n",
       "      <td>0.0</td>\n",
       "      <td>0.0</td>\n",
       "      <td>0.0</td>\n",
       "      <td>0.0</td>\n",
       "      <td>0.0</td>\n",
       "      <td>0.0</td>\n",
       "      <td>0.0</td>\n",
       "      <td>0.0</td>\n",
       "      <td>0.0</td>\n",
       "      <td>0.0</td>\n",
       "      <td>0.0</td>\n",
       "      <td>0.0</td>\n",
       "      <td>0.0</td>\n",
       "      <td>0.0</td>\n",
       "      <td>0.0</td>\n",
       "      <td>0.0</td>\n",
       "      <td>0.0</td>\n",
       "      <td>0.0</td>\n",
       "      <td>0.0</td>\n",
       "      <td>0.0</td>\n",
       "      <td>0.0</td>\n",
       "      <td>0.0</td>\n",
       "      <td>0.0</td>\n",
       "      <td>0.0</td>\n",
       "      <td>0.0</td>\n",
       "      <td>0.0</td>\n",
       "      <td>0.0</td>\n",
       "      <td>0.0</td>\n",
       "    </tr>\n",
       "    <tr>\n",
       "      <th>1</th>\n",
       "      <td>M100_169</td>\n",
       "      <td>1981</td>\n",
       "      <td>1</td>\n",
       "      <td>7</td>\n",
       "      <td>6</td>\n",
       "      <td>15.535727</td>\n",
       "      <td>0.964378</td>\n",
       "      <td>0.696315</td>\n",
       "      <td>0.358811</td>\n",
       "      <td>10.081599</td>\n",
       "      <td>1.161914</td>\n",
       "      <td>2.272709</td>\n",
       "      <td>0.0</td>\n",
       "      <td>0.0</td>\n",
       "      <td>0.0</td>\n",
       "      <td>0.0</td>\n",
       "      <td>0.0</td>\n",
       "      <td>0.0</td>\n",
       "      <td>0.0</td>\n",
       "      <td>0.0</td>\n",
       "      <td>0.0</td>\n",
       "      <td>0.0</td>\n",
       "      <td>0.0</td>\n",
       "      <td>0.0</td>\n",
       "      <td>0.0</td>\n",
       "      <td>0.0</td>\n",
       "      <td>0.0</td>\n",
       "      <td>0.0</td>\n",
       "      <td>0.0</td>\n",
       "      <td>0.0</td>\n",
       "      <td>0.0</td>\n",
       "      <td>0.0</td>\n",
       "      <td>0.0</td>\n",
       "      <td>0.0</td>\n",
       "      <td>0.0</td>\n",
       "      <td>0.0</td>\n",
       "      <td>0.0</td>\n",
       "      <td>0.0</td>\n",
       "      <td>0.0</td>\n",
       "      <td>0.0</td>\n",
       "      <td>0.0</td>\n",
       "      <td>0.0</td>\n",
       "      <td>0.0</td>\n",
       "      <td>0.0</td>\n",
       "      <td>0.0</td>\n",
       "      <td>0.0</td>\n",
       "      <td>0.0</td>\n",
       "      <td>0.0</td>\n",
       "      <td>0.0</td>\n",
       "      <td>0.0</td>\n",
       "      <td>0.0</td>\n",
       "      <td>0.0</td>\n",
       "      <td>0.0</td>\n",
       "      <td>0.0</td>\n",
       "      <td>0.0</td>\n",
       "      <td>0.0</td>\n",
       "      <td>0.0</td>\n",
       "      <td>0.0</td>\n",
       "      <td>0.0</td>\n",
       "      <td>0.0</td>\n",
       "      <td>0.0</td>\n",
       "      <td>0.0</td>\n",
       "      <td>0.0</td>\n",
       "      <td>0.0</td>\n",
       "      <td>0.0</td>\n",
       "      <td>0.0</td>\n",
       "      <td>0.0</td>\n",
       "      <td>0.0</td>\n",
       "      <td>0.0</td>\n",
       "      <td>0.0</td>\n",
       "      <td>0.0</td>\n",
       "      <td>0.0</td>\n",
       "      <td>0.0</td>\n",
       "      <td>0.0</td>\n",
       "      <td>0.0</td>\n",
       "    </tr>\n",
       "    <tr>\n",
       "      <th>2</th>\n",
       "      <td>M100_169</td>\n",
       "      <td>1981</td>\n",
       "      <td>1</td>\n",
       "      <td>14</td>\n",
       "      <td>4</td>\n",
       "      <td>6.075534</td>\n",
       "      <td>0.607677</td>\n",
       "      <td>4.903019</td>\n",
       "      <td>0.276916</td>\n",
       "      <td>0.287922</td>\n",
       "      <td>0.000000</td>\n",
       "      <td>0.000000</td>\n",
       "      <td>0.0</td>\n",
       "      <td>0.0</td>\n",
       "      <td>0.0</td>\n",
       "      <td>0.0</td>\n",
       "      <td>0.0</td>\n",
       "      <td>0.0</td>\n",
       "      <td>0.0</td>\n",
       "      <td>0.0</td>\n",
       "      <td>0.0</td>\n",
       "      <td>0.0</td>\n",
       "      <td>0.0</td>\n",
       "      <td>0.0</td>\n",
       "      <td>0.0</td>\n",
       "      <td>0.0</td>\n",
       "      <td>0.0</td>\n",
       "      <td>0.0</td>\n",
       "      <td>0.0</td>\n",
       "      <td>0.0</td>\n",
       "      <td>0.0</td>\n",
       "      <td>0.0</td>\n",
       "      <td>0.0</td>\n",
       "      <td>0.0</td>\n",
       "      <td>0.0</td>\n",
       "      <td>0.0</td>\n",
       "      <td>0.0</td>\n",
       "      <td>0.0</td>\n",
       "      <td>0.0</td>\n",
       "      <td>0.0</td>\n",
       "      <td>0.0</td>\n",
       "      <td>0.0</td>\n",
       "      <td>0.0</td>\n",
       "      <td>0.0</td>\n",
       "      <td>0.0</td>\n",
       "      <td>0.0</td>\n",
       "      <td>0.0</td>\n",
       "      <td>0.0</td>\n",
       "      <td>0.0</td>\n",
       "      <td>0.0</td>\n",
       "      <td>0.0</td>\n",
       "      <td>0.0</td>\n",
       "      <td>0.0</td>\n",
       "      <td>0.0</td>\n",
       "      <td>0.0</td>\n",
       "      <td>0.0</td>\n",
       "      <td>0.0</td>\n",
       "      <td>0.0</td>\n",
       "      <td>0.0</td>\n",
       "      <td>0.0</td>\n",
       "      <td>0.0</td>\n",
       "      <td>0.0</td>\n",
       "      <td>0.0</td>\n",
       "      <td>0.0</td>\n",
       "      <td>0.0</td>\n",
       "      <td>0.0</td>\n",
       "      <td>0.0</td>\n",
       "      <td>0.0</td>\n",
       "      <td>0.0</td>\n",
       "      <td>0.0</td>\n",
       "      <td>0.0</td>\n",
       "      <td>0.0</td>\n",
       "      <td>0.0</td>\n",
       "      <td>0.0</td>\n",
       "      <td>0.0</td>\n",
       "    </tr>\n",
       "    <tr>\n",
       "      <th>3</th>\n",
       "      <td>M100_169</td>\n",
       "      <td>1981</td>\n",
       "      <td>1</td>\n",
       "      <td>24</td>\n",
       "      <td>2</td>\n",
       "      <td>3.113439</td>\n",
       "      <td>0.301083</td>\n",
       "      <td>2.812356</td>\n",
       "      <td>0.000000</td>\n",
       "      <td>0.000000</td>\n",
       "      <td>0.000000</td>\n",
       "      <td>0.000000</td>\n",
       "      <td>0.0</td>\n",
       "      <td>0.0</td>\n",
       "      <td>0.0</td>\n",
       "      <td>0.0</td>\n",
       "      <td>0.0</td>\n",
       "      <td>0.0</td>\n",
       "      <td>0.0</td>\n",
       "      <td>0.0</td>\n",
       "      <td>0.0</td>\n",
       "      <td>0.0</td>\n",
       "      <td>0.0</td>\n",
       "      <td>0.0</td>\n",
       "      <td>0.0</td>\n",
       "      <td>0.0</td>\n",
       "      <td>0.0</td>\n",
       "      <td>0.0</td>\n",
       "      <td>0.0</td>\n",
       "      <td>0.0</td>\n",
       "      <td>0.0</td>\n",
       "      <td>0.0</td>\n",
       "      <td>0.0</td>\n",
       "      <td>0.0</td>\n",
       "      <td>0.0</td>\n",
       "      <td>0.0</td>\n",
       "      <td>0.0</td>\n",
       "      <td>0.0</td>\n",
       "      <td>0.0</td>\n",
       "      <td>0.0</td>\n",
       "      <td>0.0</td>\n",
       "      <td>0.0</td>\n",
       "      <td>0.0</td>\n",
       "      <td>0.0</td>\n",
       "      <td>0.0</td>\n",
       "      <td>0.0</td>\n",
       "      <td>0.0</td>\n",
       "      <td>0.0</td>\n",
       "      <td>0.0</td>\n",
       "      <td>0.0</td>\n",
       "      <td>0.0</td>\n",
       "      <td>0.0</td>\n",
       "      <td>0.0</td>\n",
       "      <td>0.0</td>\n",
       "      <td>0.0</td>\n",
       "      <td>0.0</td>\n",
       "      <td>0.0</td>\n",
       "      <td>0.0</td>\n",
       "      <td>0.0</td>\n",
       "      <td>0.0</td>\n",
       "      <td>0.0</td>\n",
       "      <td>0.0</td>\n",
       "      <td>0.0</td>\n",
       "      <td>0.0</td>\n",
       "      <td>0.0</td>\n",
       "      <td>0.0</td>\n",
       "      <td>0.0</td>\n",
       "      <td>0.0</td>\n",
       "      <td>0.0</td>\n",
       "      <td>0.0</td>\n",
       "      <td>0.0</td>\n",
       "      <td>0.0</td>\n",
       "      <td>0.0</td>\n",
       "      <td>0.0</td>\n",
       "      <td>0.0</td>\n",
       "    </tr>\n",
       "    <tr>\n",
       "      <th>4</th>\n",
       "      <td>M100_169</td>\n",
       "      <td>1981</td>\n",
       "      <td>1</td>\n",
       "      <td>27</td>\n",
       "      <td>1</td>\n",
       "      <td>0.894761</td>\n",
       "      <td>0.894761</td>\n",
       "      <td>0.000000</td>\n",
       "      <td>0.000000</td>\n",
       "      <td>0.000000</td>\n",
       "      <td>0.000000</td>\n",
       "      <td>0.000000</td>\n",
       "      <td>0.0</td>\n",
       "      <td>0.0</td>\n",
       "      <td>0.0</td>\n",
       "      <td>0.0</td>\n",
       "      <td>0.0</td>\n",
       "      <td>0.0</td>\n",
       "      <td>0.0</td>\n",
       "      <td>0.0</td>\n",
       "      <td>0.0</td>\n",
       "      <td>0.0</td>\n",
       "      <td>0.0</td>\n",
       "      <td>0.0</td>\n",
       "      <td>0.0</td>\n",
       "      <td>0.0</td>\n",
       "      <td>0.0</td>\n",
       "      <td>0.0</td>\n",
       "      <td>0.0</td>\n",
       "      <td>0.0</td>\n",
       "      <td>0.0</td>\n",
       "      <td>0.0</td>\n",
       "      <td>0.0</td>\n",
       "      <td>0.0</td>\n",
       "      <td>0.0</td>\n",
       "      <td>0.0</td>\n",
       "      <td>0.0</td>\n",
       "      <td>0.0</td>\n",
       "      <td>0.0</td>\n",
       "      <td>0.0</td>\n",
       "      <td>0.0</td>\n",
       "      <td>0.0</td>\n",
       "      <td>0.0</td>\n",
       "      <td>0.0</td>\n",
       "      <td>0.0</td>\n",
       "      <td>0.0</td>\n",
       "      <td>0.0</td>\n",
       "      <td>0.0</td>\n",
       "      <td>0.0</td>\n",
       "      <td>0.0</td>\n",
       "      <td>0.0</td>\n",
       "      <td>0.0</td>\n",
       "      <td>0.0</td>\n",
       "      <td>0.0</td>\n",
       "      <td>0.0</td>\n",
       "      <td>0.0</td>\n",
       "      <td>0.0</td>\n",
       "      <td>0.0</td>\n",
       "      <td>0.0</td>\n",
       "      <td>0.0</td>\n",
       "      <td>0.0</td>\n",
       "      <td>0.0</td>\n",
       "      <td>0.0</td>\n",
       "      <td>0.0</td>\n",
       "      <td>0.0</td>\n",
       "      <td>0.0</td>\n",
       "      <td>0.0</td>\n",
       "      <td>0.0</td>\n",
       "      <td>0.0</td>\n",
       "      <td>0.0</td>\n",
       "      <td>0.0</td>\n",
       "      <td>0.0</td>\n",
       "      <td>0.0</td>\n",
       "      <td>0.0</td>\n",
       "      <td>0.0</td>\n",
       "    </tr>\n",
       "  </tbody>\n",
       "</table>"
      ],
      "text/plain": [
       "<IPython.core.display.HTML object>"
      ]
     },
     "metadata": {},
     "output_type": "display_data"
    }
   ],
   "source": [
    "display( HTML( JanDF.head().to_html() ) )"
   ]
  },
  {
   "cell_type": "code",
   "execution_count": 33,
   "metadata": {},
   "outputs": [
    {
     "data": {
      "text/plain": [
       "16"
      ]
     },
     "execution_count": 33,
     "metadata": {},
     "output_type": "execute_result"
    }
   ],
   "source": [
    "JanMaxCnt = JanDF['Wet_Count'].max()\n",
    "JanMaxCnt"
   ]
  },
  {
   "cell_type": "code",
   "execution_count": 34,
   "metadata": {},
   "outputs": [
    {
     "data": {
      "text/plain": [
       "['MGrid_Id', 'Wet_Count', 'Total_Depth']"
      ]
     },
     "execution_count": 34,
     "metadata": {},
     "output_type": "execute_result"
    }
   ],
   "source": [
    "CurCols = [RootCols[0], RootCols[4], RootCols[5] ]\n",
    "CurCols"
   ]
  },
  {
   "cell_type": "code",
   "execution_count": 35,
   "metadata": {},
   "outputs": [],
   "source": [
    "for jJ in range(JanMaxCnt):\n",
    "    CurCols.append( DayCols[jJ] )\n",
    "# end for"
   ]
  },
  {
   "cell_type": "code",
   "execution_count": 36,
   "metadata": {},
   "outputs": [],
   "source": [
    "JanDF = JanDF[CurCols].copy()"
   ]
  },
  {
   "cell_type": "code",
   "execution_count": 37,
   "metadata": {},
   "outputs": [],
   "source": [
    "JanDF.reset_index(drop=True, inplace=True)"
   ]
  },
  {
   "cell_type": "code",
   "execution_count": 38,
   "metadata": {},
   "outputs": [
    {
     "data": {
      "text/html": [
       "<table border=\"1\" class=\"dataframe\">\n",
       "  <thead>\n",
       "    <tr style=\"text-align: right;\">\n",
       "      <th></th>\n",
       "      <th>MGrid_Id</th>\n",
       "      <th>Wet_Count</th>\n",
       "      <th>Total_Depth</th>\n",
       "      <th>Day_1</th>\n",
       "      <th>Day_2</th>\n",
       "      <th>Day_3</th>\n",
       "      <th>Day_4</th>\n",
       "      <th>Day_5</th>\n",
       "      <th>Day_6</th>\n",
       "      <th>Day_7</th>\n",
       "      <th>Day_8</th>\n",
       "      <th>Day_9</th>\n",
       "      <th>Day_10</th>\n",
       "      <th>Day_11</th>\n",
       "      <th>Day_12</th>\n",
       "      <th>Day_13</th>\n",
       "      <th>Day_14</th>\n",
       "      <th>Day_15</th>\n",
       "      <th>Day_16</th>\n",
       "    </tr>\n",
       "  </thead>\n",
       "  <tbody>\n",
       "    <tr>\n",
       "      <th>0</th>\n",
       "      <td>M100_169</td>\n",
       "      <td>2</td>\n",
       "      <td>11.387080</td>\n",
       "      <td>10.222975</td>\n",
       "      <td>1.164105</td>\n",
       "      <td>0.000000</td>\n",
       "      <td>0.000000</td>\n",
       "      <td>0.000000</td>\n",
       "      <td>0.000000</td>\n",
       "      <td>0.0</td>\n",
       "      <td>0.0</td>\n",
       "      <td>0.0</td>\n",
       "      <td>0.0</td>\n",
       "      <td>0.0</td>\n",
       "      <td>0.0</td>\n",
       "      <td>0.0</td>\n",
       "      <td>0.0</td>\n",
       "      <td>0.0</td>\n",
       "      <td>0.0</td>\n",
       "    </tr>\n",
       "    <tr>\n",
       "      <th>1</th>\n",
       "      <td>M100_169</td>\n",
       "      <td>6</td>\n",
       "      <td>15.535727</td>\n",
       "      <td>0.964378</td>\n",
       "      <td>0.696315</td>\n",
       "      <td>0.358811</td>\n",
       "      <td>10.081599</td>\n",
       "      <td>1.161914</td>\n",
       "      <td>2.272709</td>\n",
       "      <td>0.0</td>\n",
       "      <td>0.0</td>\n",
       "      <td>0.0</td>\n",
       "      <td>0.0</td>\n",
       "      <td>0.0</td>\n",
       "      <td>0.0</td>\n",
       "      <td>0.0</td>\n",
       "      <td>0.0</td>\n",
       "      <td>0.0</td>\n",
       "      <td>0.0</td>\n",
       "    </tr>\n",
       "    <tr>\n",
       "      <th>2</th>\n",
       "      <td>M100_169</td>\n",
       "      <td>4</td>\n",
       "      <td>6.075534</td>\n",
       "      <td>0.607677</td>\n",
       "      <td>4.903019</td>\n",
       "      <td>0.276916</td>\n",
       "      <td>0.287922</td>\n",
       "      <td>0.000000</td>\n",
       "      <td>0.000000</td>\n",
       "      <td>0.0</td>\n",
       "      <td>0.0</td>\n",
       "      <td>0.0</td>\n",
       "      <td>0.0</td>\n",
       "      <td>0.0</td>\n",
       "      <td>0.0</td>\n",
       "      <td>0.0</td>\n",
       "      <td>0.0</td>\n",
       "      <td>0.0</td>\n",
       "      <td>0.0</td>\n",
       "    </tr>\n",
       "    <tr>\n",
       "      <th>3</th>\n",
       "      <td>M100_169</td>\n",
       "      <td>2</td>\n",
       "      <td>3.113439</td>\n",
       "      <td>0.301083</td>\n",
       "      <td>2.812356</td>\n",
       "      <td>0.000000</td>\n",
       "      <td>0.000000</td>\n",
       "      <td>0.000000</td>\n",
       "      <td>0.000000</td>\n",
       "      <td>0.0</td>\n",
       "      <td>0.0</td>\n",
       "      <td>0.0</td>\n",
       "      <td>0.0</td>\n",
       "      <td>0.0</td>\n",
       "      <td>0.0</td>\n",
       "      <td>0.0</td>\n",
       "      <td>0.0</td>\n",
       "      <td>0.0</td>\n",
       "      <td>0.0</td>\n",
       "    </tr>\n",
       "    <tr>\n",
       "      <th>4</th>\n",
       "      <td>M100_169</td>\n",
       "      <td>1</td>\n",
       "      <td>0.894761</td>\n",
       "      <td>0.894761</td>\n",
       "      <td>0.000000</td>\n",
       "      <td>0.000000</td>\n",
       "      <td>0.000000</td>\n",
       "      <td>0.000000</td>\n",
       "      <td>0.000000</td>\n",
       "      <td>0.0</td>\n",
       "      <td>0.0</td>\n",
       "      <td>0.0</td>\n",
       "      <td>0.0</td>\n",
       "      <td>0.0</td>\n",
       "      <td>0.0</td>\n",
       "      <td>0.0</td>\n",
       "      <td>0.0</td>\n",
       "      <td>0.0</td>\n",
       "      <td>0.0</td>\n",
       "    </tr>\n",
       "    <tr>\n",
       "      <th>5</th>\n",
       "      <td>M100_169</td>\n",
       "      <td>3</td>\n",
       "      <td>0.899845</td>\n",
       "      <td>0.315332</td>\n",
       "      <td>0.231725</td>\n",
       "      <td>0.352788</td>\n",
       "      <td>0.000000</td>\n",
       "      <td>0.000000</td>\n",
       "      <td>0.000000</td>\n",
       "      <td>0.0</td>\n",
       "      <td>0.0</td>\n",
       "      <td>0.0</td>\n",
       "      <td>0.0</td>\n",
       "      <td>0.0</td>\n",
       "      <td>0.0</td>\n",
       "      <td>0.0</td>\n",
       "      <td>0.0</td>\n",
       "      <td>0.0</td>\n",
       "      <td>0.0</td>\n",
       "    </tr>\n",
       "    <tr>\n",
       "      <th>6</th>\n",
       "      <td>M100_169</td>\n",
       "      <td>2</td>\n",
       "      <td>1.333776</td>\n",
       "      <td>0.584615</td>\n",
       "      <td>0.749161</td>\n",
       "      <td>0.000000</td>\n",
       "      <td>0.000000</td>\n",
       "      <td>0.000000</td>\n",
       "      <td>0.000000</td>\n",
       "      <td>0.0</td>\n",
       "      <td>0.0</td>\n",
       "      <td>0.0</td>\n",
       "      <td>0.0</td>\n",
       "      <td>0.0</td>\n",
       "      <td>0.0</td>\n",
       "      <td>0.0</td>\n",
       "      <td>0.0</td>\n",
       "      <td>0.0</td>\n",
       "      <td>0.0</td>\n",
       "    </tr>\n",
       "    <tr>\n",
       "      <th>7</th>\n",
       "      <td>M100_169</td>\n",
       "      <td>3</td>\n",
       "      <td>17.444168</td>\n",
       "      <td>11.235129</td>\n",
       "      <td>5.968732</td>\n",
       "      <td>0.240306</td>\n",
       "      <td>0.000000</td>\n",
       "      <td>0.000000</td>\n",
       "      <td>0.000000</td>\n",
       "      <td>0.0</td>\n",
       "      <td>0.0</td>\n",
       "      <td>0.0</td>\n",
       "      <td>0.0</td>\n",
       "      <td>0.0</td>\n",
       "      <td>0.0</td>\n",
       "      <td>0.0</td>\n",
       "      <td>0.0</td>\n",
       "      <td>0.0</td>\n",
       "      <td>0.0</td>\n",
       "    </tr>\n",
       "    <tr>\n",
       "      <th>8</th>\n",
       "      <td>M100_169</td>\n",
       "      <td>3</td>\n",
       "      <td>6.320639</td>\n",
       "      <td>0.850599</td>\n",
       "      <td>5.200100</td>\n",
       "      <td>0.269940</td>\n",
       "      <td>0.000000</td>\n",
       "      <td>0.000000</td>\n",
       "      <td>0.000000</td>\n",
       "      <td>0.0</td>\n",
       "      <td>0.0</td>\n",
       "      <td>0.0</td>\n",
       "      <td>0.0</td>\n",
       "      <td>0.0</td>\n",
       "      <td>0.0</td>\n",
       "      <td>0.0</td>\n",
       "      <td>0.0</td>\n",
       "      <td>0.0</td>\n",
       "      <td>0.0</td>\n",
       "    </tr>\n",
       "    <tr>\n",
       "      <th>9</th>\n",
       "      <td>M100_169</td>\n",
       "      <td>1</td>\n",
       "      <td>0.405912</td>\n",
       "      <td>0.405912</td>\n",
       "      <td>0.000000</td>\n",
       "      <td>0.000000</td>\n",
       "      <td>0.000000</td>\n",
       "      <td>0.000000</td>\n",
       "      <td>0.000000</td>\n",
       "      <td>0.0</td>\n",
       "      <td>0.0</td>\n",
       "      <td>0.0</td>\n",
       "      <td>0.0</td>\n",
       "      <td>0.0</td>\n",
       "      <td>0.0</td>\n",
       "      <td>0.0</td>\n",
       "      <td>0.0</td>\n",
       "      <td>0.0</td>\n",
       "      <td>0.0</td>\n",
       "    </tr>\n",
       "  </tbody>\n",
       "</table>"
      ],
      "text/plain": [
       "<IPython.core.display.HTML object>"
      ]
     },
     "metadata": {},
     "output_type": "display_data"
    }
   ],
   "source": [
    "display( HTML( JanDF.iloc[:10].to_html() ) )"
   ]
  },
  {
   "cell_type": "code",
   "execution_count": 39,
   "metadata": {},
   "outputs": [
    {
     "data": {
      "text/plain": [
       "3291541"
      ]
     },
     "execution_count": 39,
     "metadata": {},
     "output_type": "execute_result"
    }
   ],
   "source": [
    "JanTotDays = JanDF['Wet_Count'].sum()\n",
    "JanTotDays"
   ]
  },
  {
   "cell_type": "markdown",
   "metadata": {},
   "source": [
    "Setup the arrays that will use to store all of the wet day precipitation depths"
   ]
  },
  {
   "cell_type": "code",
   "execution_count": 43,
   "metadata": {},
   "outputs": [],
   "source": [
    "GridIDs = np.zeros( JanTotDays, dtype=np.int32 )\n",
    "ModelIDs = np.zeros( JanTotDays, dtype=np.int32 )\n",
    "PDDepth = np.zeros( JanTotDays, dtype=np.float32 )\n",
    "MGridIDs = [ \"%d\" % x for x in GridIDs.tolist() ]"
   ]
  },
  {
   "cell_type": "code",
   "execution_count": 44,
   "metadata": {},
   "outputs": [
    {
     "data": {
      "text/plain": [
       "1718160"
      ]
     },
     "execution_count": 44,
     "metadata": {},
     "output_type": "execute_result"
    }
   ],
   "source": [
    "NumJanWet = len( JanDF )\n",
    "NumJanWet"
   ]
  },
  {
   "cell_type": "code",
   "execution_count": 45,
   "metadata": {},
   "outputs": [],
   "source": [
    "iCnt = 0\n",
    "for iI in range(NumJanWet):\n",
    "    cRow = JanDF.loc[iI]\n",
    "    cMGridId = cRow.at[\"MGrid_Id\"]\n",
    "    cNumWet = int( cRow.at[\"Wet_Count\"] )\n",
    "    cGridId = ExGridNum( cMGridId )\n",
    "    cModelId = ExModNum( cMGridId )\n",
    "    for jJ in range(cNumWet):\n",
    "        cPDep = float( cRow.at[CurCols[StartInd+jJ]] )\n",
    "        MGridIDs[iCnt] = cMGridId\n",
    "        GridIDs[iCnt] = cGridId\n",
    "        ModelIDs[iCnt] = cModelId\n",
    "        PDDepth[iCnt] = cPDep\n",
    "        iCnt += 1\n",
    "    # end of inner for\n",
    "# end of outer for"
   ]
  },
  {
   "cell_type": "code",
   "execution_count": 46,
   "metadata": {
    "scrolled": true
   },
   "outputs": [
    {
     "data": {
      "text/plain": [
       "(1, 210)"
      ]
     },
     "execution_count": 46,
     "metadata": {},
     "output_type": "execute_result"
    }
   ],
   "source": [
    "GridIDs.min(), GridIDs.max()"
   ]
  },
  {
   "cell_type": "code",
   "execution_count": 47,
   "metadata": {},
   "outputs": [
    {
     "data": {
      "text/plain": [
       "(0.2000007, 68.76165)"
      ]
     },
     "execution_count": 47,
     "metadata": {},
     "output_type": "execute_result"
    }
   ],
   "source": [
    "PDDepth.min(), PDDepth.max()"
   ]
  },
  {
   "cell_type": "code",
   "execution_count": 48,
   "metadata": {},
   "outputs": [],
   "source": [
    "DataDict = { \"MGrid_Id\" : MGridIDs,\n",
    "             \"Grid_Id\" : GridIDs,\n",
    "             \"Model_Id\" : ModelIDs,\n",
    "             \"Precip_mm\" : PDDepth, }\n",
    "JanDayDF = pd.DataFrame( data=DataDict )"
   ]
  },
  {
   "cell_type": "code",
   "execution_count": 49,
   "metadata": {},
   "outputs": [
    {
     "data": {
      "text/html": [
       "<table border=\"1\" class=\"dataframe\">\n",
       "  <thead>\n",
       "    <tr style=\"text-align: right;\">\n",
       "      <th></th>\n",
       "      <th>Grid_Id</th>\n",
       "      <th>Model_Id</th>\n",
       "      <th>Precip_mm</th>\n",
       "    </tr>\n",
       "  </thead>\n",
       "  <tbody>\n",
       "    <tr>\n",
       "      <th>count</th>\n",
       "      <td>3.291541e+06</td>\n",
       "      <td>3.291541e+06</td>\n",
       "      <td>3.291541e+06</td>\n",
       "    </tr>\n",
       "    <tr>\n",
       "      <th>mean</th>\n",
       "      <td>1.303423e+02</td>\n",
       "      <td>7.434555e+01</td>\n",
       "      <td>2.648782e+00</td>\n",
       "    </tr>\n",
       "    <tr>\n",
       "      <th>std</th>\n",
       "      <td>6.368265e+01</td>\n",
       "      <td>5.627557e+01</td>\n",
       "      <td>4.029254e+00</td>\n",
       "    </tr>\n",
       "    <tr>\n",
       "      <th>min</th>\n",
       "      <td>1.000000e+00</td>\n",
       "      <td>1.000000e+00</td>\n",
       "      <td>2.000007e-01</td>\n",
       "    </tr>\n",
       "    <tr>\n",
       "      <th>25%</th>\n",
       "      <td>7.700000e+01</td>\n",
       "      <td>2.800000e+01</td>\n",
       "      <td>4.502591e-01</td>\n",
       "    </tr>\n",
       "    <tr>\n",
       "      <th>50%</th>\n",
       "      <td>1.490000e+02</td>\n",
       "      <td>5.600000e+01</td>\n",
       "      <td>1.090413e+00</td>\n",
       "    </tr>\n",
       "    <tr>\n",
       "      <th>75%</th>\n",
       "      <td>1.860000e+02</td>\n",
       "      <td>1.190000e+02</td>\n",
       "      <td>3.025742e+00</td>\n",
       "    </tr>\n",
       "    <tr>\n",
       "      <th>max</th>\n",
       "      <td>2.100000e+02</td>\n",
       "      <td>1.960000e+02</td>\n",
       "      <td>6.876165e+01</td>\n",
       "    </tr>\n",
       "  </tbody>\n",
       "</table>"
      ],
      "text/plain": [
       "<IPython.core.display.HTML object>"
      ]
     },
     "metadata": {},
     "output_type": "display_data"
    }
   ],
   "source": [
    "display( HTML( JanDayDF.describe().to_html() ))"
   ]
  },
  {
   "cell_type": "markdown",
   "metadata": {},
   "source": [
    "Now want to save the January DataFrame as both a pickle and a feather so that can reuse it with both Python and R."
   ]
  },
  {
   "cell_type": "code",
   "execution_count": 50,
   "metadata": {},
   "outputs": [],
   "source": [
    "JanPCKF = os.path.normpath( os.path.join( OUT_DIR, \"Jan_WetDep_CMIP5_1981-2010.pickle\" ) )\n",
    "JanDayDF.to_pickle( JanPCKF )\n",
    "JanFeatherF = os.path.normpath( os.path.join( OUT_DIR, \"Jan_WetDep_CMIP5_1981-2010.feather\" ) )\n",
    "JanDayDF.to_feather( JanFeatherF )"
   ]
  },
  {
   "cell_type": "markdown",
   "metadata": {},
   "source": [
    "### Feb"
   ]
  },
  {
   "cell_type": "markdown",
   "metadata": {},
   "source": [
    "Counts"
   ]
  },
  {
   "cell_type": "code",
   "execution_count": 51,
   "metadata": {},
   "outputs": [],
   "source": [
    "FebDF = WetDF[RootCols].loc[WetDF['Month'] == 2].copy()"
   ]
  },
  {
   "cell_type": "code",
   "execution_count": 52,
   "metadata": {},
   "outputs": [],
   "source": [
    "FebDF['Grid_Id'] = FebDF.apply( lambda row: ExGridNum(row['MGrid_Id']), axis=1 )\n",
    "FebDF['Model_Id'] = FebDF.apply( lambda row: ExModNum(row['MGrid_Id']), axis=1 )"
   ]
  },
  {
   "cell_type": "code",
   "execution_count": 53,
   "metadata": {},
   "outputs": [],
   "source": [
    "FebPCKF = os.path.normpath( os.path.join( OUT_DIR, \"Feb_WetCnt_CMIP5_1981-2010.pickle\" ) )\n",
    "FebDF.to_pickle( FebPCKF )"
   ]
  },
  {
   "cell_type": "code",
   "execution_count": 54,
   "metadata": {},
   "outputs": [],
   "source": [
    "FebDF = FebDF.reset_index()\n",
    "FebFeatherF = os.path.normpath( os.path.join( OUT_DIR, \"Feb_WetCnt_CMIP5_1981-2010.feather\" ) )\n",
    "FebDF.to_feather( FebFeatherF )"
   ]
  },
  {
   "cell_type": "markdown",
   "metadata": {},
   "source": [
    "Depths"
   ]
  },
  {
   "cell_type": "code",
   "execution_count": 55,
   "metadata": {},
   "outputs": [],
   "source": [
    "FebDF = WetDF[WetDF['Month'] == 2].copy()"
   ]
  },
  {
   "cell_type": "code",
   "execution_count": 56,
   "metadata": {},
   "outputs": [
    {
     "data": {
      "text/plain": [
       "20"
      ]
     },
     "execution_count": 56,
     "metadata": {},
     "output_type": "execute_result"
    }
   ],
   "source": [
    "FebMaxCnt = FebDF['Wet_Count'].max()\n",
    "FebMaxCnt"
   ]
  },
  {
   "cell_type": "code",
   "execution_count": 57,
   "metadata": {},
   "outputs": [],
   "source": [
    "CurCols = [RootCols[0], RootCols[4], RootCols[5] ]"
   ]
  },
  {
   "cell_type": "code",
   "execution_count": 58,
   "metadata": {},
   "outputs": [],
   "source": [
    "for jJ in range(FebMaxCnt):\n",
    "    CurCols.append( DayCols[jJ] )\n",
    "# end for"
   ]
  },
  {
   "cell_type": "code",
   "execution_count": 59,
   "metadata": {},
   "outputs": [],
   "source": [
    "FebDF = FebDF[CurCols].copy()"
   ]
  },
  {
   "cell_type": "code",
   "execution_count": 60,
   "metadata": {},
   "outputs": [],
   "source": [
    "FebDF.reset_index(drop=True, inplace=True)"
   ]
  },
  {
   "cell_type": "code",
   "execution_count": 61,
   "metadata": {},
   "outputs": [
    {
     "data": {
      "text/plain": [
       "3435683"
      ]
     },
     "execution_count": 61,
     "metadata": {},
     "output_type": "execute_result"
    }
   ],
   "source": [
    "FebTotDays = FebDF['Wet_Count'].sum()\n",
    "FebTotDays"
   ]
  },
  {
   "cell_type": "markdown",
   "metadata": {},
   "source": [
    "Setup the arrays that will use to store all of the wet day precipitation depths"
   ]
  },
  {
   "cell_type": "code",
   "execution_count": 62,
   "metadata": {},
   "outputs": [],
   "source": [
    "GridIDs = np.zeros( FebTotDays, dtype=np.int32 )\n",
    "ModelIDs = np.zeros( FebTotDays, dtype=np.int32 )\n",
    "PDDepth = np.zeros( FebTotDays, dtype=np.float32 )\n",
    "MGridIDs = [ \"%d\" % x for x in GridIDs.tolist() ]"
   ]
  },
  {
   "cell_type": "code",
   "execution_count": 63,
   "metadata": {},
   "outputs": [
    {
     "data": {
      "text/plain": [
       "1712378"
      ]
     },
     "execution_count": 63,
     "metadata": {},
     "output_type": "execute_result"
    }
   ],
   "source": [
    "NumFebWet = len( FebDF )\n",
    "NumFebWet"
   ]
  },
  {
   "cell_type": "code",
   "execution_count": 64,
   "metadata": {},
   "outputs": [],
   "source": [
    "iCnt = 0\n",
    "for iI in range(NumFebWet):\n",
    "    cRow = FebDF.loc[iI]\n",
    "    cMGridId = cRow.at[\"MGrid_Id\"]\n",
    "    cNumWet = int( cRow.at[\"Wet_Count\"] )\n",
    "    cGridId = ExGridNum( cMGridId )\n",
    "    cModelId = ExModNum( cMGridId )\n",
    "    for jJ in range(cNumWet):\n",
    "        cPDep = float( cRow.at[CurCols[StartInd+jJ]] )\n",
    "        MGridIDs[iCnt] = cMGridId\n",
    "        GridIDs[iCnt] = cGridId\n",
    "        ModelIDs[iCnt] = cModelId\n",
    "        PDDepth[iCnt] = cPDep\n",
    "        iCnt += 1\n",
    "    # end of inner for\n",
    "# end of outer for"
   ]
  },
  {
   "cell_type": "code",
   "execution_count": 65,
   "metadata": {},
   "outputs": [],
   "source": [
    "DataDict = { \"MGrid_Id\" : MGridIDs,\n",
    "             \"Grid_Id\" : GridIDs,\n",
    "             \"Model_Id\" : ModelIDs,\n",
    "             \"Precip_mm\" : PDDepth, }\n",
    "FebDayDF = pd.DataFrame( data=DataDict )"
   ]
  },
  {
   "cell_type": "markdown",
   "metadata": {},
   "source": [
    "Now want to save the January DataFrame as both a pickle and a feather so that can reuse it with both Python and R."
   ]
  },
  {
   "cell_type": "code",
   "execution_count": 66,
   "metadata": {},
   "outputs": [],
   "source": [
    "FebPCKF = os.path.normpath( os.path.join( OUT_DIR, \"Feb_WetDep_CMIP5_1981-2010.pickle\" ) )\n",
    "FebDayDF.to_pickle( FebPCKF )\n",
    "FebFeatherF = os.path.normpath( os.path.join( OUT_DIR, \"Feb_WetDep_CMIP5_1981-2010.feather\" ) )\n",
    "FebDayDF.to_feather( FebFeatherF )"
   ]
  },
  {
   "cell_type": "markdown",
   "metadata": {},
   "source": [
    "### Mar"
   ]
  },
  {
   "cell_type": "markdown",
   "metadata": {},
   "source": [
    "Counts"
   ]
  },
  {
   "cell_type": "code",
   "execution_count": 67,
   "metadata": {},
   "outputs": [],
   "source": [
    "MarDF = WetDF[RootCols].loc[WetDF['Month'] == 3].copy()"
   ]
  },
  {
   "cell_type": "code",
   "execution_count": 68,
   "metadata": {},
   "outputs": [],
   "source": [
    "MarDF['Grid_Id'] = MarDF.apply( lambda row: ExGridNum(row['MGrid_Id']), axis=1 )\n",
    "MarDF['Model_Id'] = MarDF.apply( lambda row: ExModNum(row['MGrid_Id']), axis=1 )"
   ]
  },
  {
   "cell_type": "code",
   "execution_count": 69,
   "metadata": {},
   "outputs": [],
   "source": [
    "MarPCKF = os.path.normpath( os.path.join( OUT_DIR, \"Mar_WetCnt_CMIP5_1981-2010.pickle\" ) )\n",
    "MarDF.to_pickle( MarPCKF )"
   ]
  },
  {
   "cell_type": "code",
   "execution_count": 70,
   "metadata": {},
   "outputs": [],
   "source": [
    "MarDF = MarDF.reset_index()\n",
    "MarFeatherF = os.path.normpath( os.path.join( OUT_DIR, \"Mar_WetCnt_CMIP5_1981-2010.feather\" ) )\n",
    "MarDF.to_feather( MarFeatherF )"
   ]
  },
  {
   "cell_type": "markdown",
   "metadata": {},
   "source": [
    "Depths"
   ]
  },
  {
   "cell_type": "code",
   "execution_count": 71,
   "metadata": {},
   "outputs": [],
   "source": [
    "MarDF = WetDF[WetDF['Month'] == 3].copy()"
   ]
  },
  {
   "cell_type": "code",
   "execution_count": 72,
   "metadata": {},
   "outputs": [
    {
     "data": {
      "text/plain": [
       "20"
      ]
     },
     "execution_count": 72,
     "metadata": {},
     "output_type": "execute_result"
    }
   ],
   "source": [
    "MarMaxCnt = MarDF['Wet_Count'].max()\n",
    "MarMaxCnt"
   ]
  },
  {
   "cell_type": "code",
   "execution_count": 73,
   "metadata": {},
   "outputs": [],
   "source": [
    "CurCols = [RootCols[0], RootCols[4], RootCols[5] ]"
   ]
  },
  {
   "cell_type": "code",
   "execution_count": 74,
   "metadata": {},
   "outputs": [],
   "source": [
    "for jJ in range(MarMaxCnt):\n",
    "    CurCols.append( DayCols[jJ] )\n",
    "# end for"
   ]
  },
  {
   "cell_type": "code",
   "execution_count": 75,
   "metadata": {},
   "outputs": [],
   "source": [
    "MarDF = MarDF[CurCols].copy()"
   ]
  },
  {
   "cell_type": "code",
   "execution_count": 76,
   "metadata": {},
   "outputs": [],
   "source": [
    "MarDF.reset_index(drop=True, inplace=True)"
   ]
  },
  {
   "cell_type": "code",
   "execution_count": 77,
   "metadata": {},
   "outputs": [
    {
     "data": {
      "text/plain": [
       "3659496"
      ]
     },
     "execution_count": 77,
     "metadata": {},
     "output_type": "execute_result"
    }
   ],
   "source": [
    "MarTotDays = MarDF['Wet_Count'].sum()\n",
    "MarTotDays"
   ]
  },
  {
   "cell_type": "markdown",
   "metadata": {},
   "source": [
    "Setup the arrays that will use to store all of the wet day precipitation depths"
   ]
  },
  {
   "cell_type": "code",
   "execution_count": 78,
   "metadata": {},
   "outputs": [],
   "source": [
    "GridIDs = np.zeros( MarTotDays, dtype=np.int32 )\n",
    "ModelIDs = np.zeros( MarTotDays, dtype=np.int32 )\n",
    "PDDepth = np.zeros( MarTotDays, dtype=np.float32 )\n",
    "MGridIDs = [ \"%d\" % x for x in GridIDs.tolist() ]"
   ]
  },
  {
   "cell_type": "code",
   "execution_count": 79,
   "metadata": {},
   "outputs": [
    {
     "data": {
      "text/plain": [
       "1877248"
      ]
     },
     "execution_count": 79,
     "metadata": {},
     "output_type": "execute_result"
    }
   ],
   "source": [
    "NumMarWet = len( MarDF )\n",
    "NumMarWet"
   ]
  },
  {
   "cell_type": "code",
   "execution_count": 80,
   "metadata": {},
   "outputs": [],
   "source": [
    "iCnt = 0\n",
    "for iI in range(NumMarWet):\n",
    "    cRow = MarDF.loc[iI]\n",
    "    cMGridId = cRow.at[\"MGrid_Id\"]\n",
    "    cNumWet = int( cRow.at[\"Wet_Count\"] )\n",
    "    cGridId = ExGridNum( cMGridId )\n",
    "    cModelId = ExModNum( cMGridId )\n",
    "    for jJ in range(cNumWet):\n",
    "        cPDep = float( cRow.at[CurCols[StartInd+jJ]] )\n",
    "        MGridIDs[iCnt] = cMGridId\n",
    "        GridIDs[iCnt] = cGridId\n",
    "        ModelIDs[iCnt] = cModelId\n",
    "        PDDepth[iCnt] = cPDep\n",
    "        iCnt += 1\n",
    "    # end of inner for\n",
    "# end of outer for"
   ]
  },
  {
   "cell_type": "code",
   "execution_count": 81,
   "metadata": {},
   "outputs": [],
   "source": [
    "DataDict = { \"MGrid_Id\" : MGridIDs,\n",
    "             \"Grid_Id\" : GridIDs,\n",
    "             \"Model_Id\" : ModelIDs,\n",
    "             \"Precip_mm\" : PDDepth, }\n",
    "MarDayDF = pd.DataFrame( data=DataDict )"
   ]
  },
  {
   "cell_type": "markdown",
   "metadata": {},
   "source": [
    "Now want to save the January DataFrame as both a pickle and a feather so that can reuse it with both Python and R."
   ]
  },
  {
   "cell_type": "code",
   "execution_count": 82,
   "metadata": {},
   "outputs": [],
   "source": [
    "MarPCKF = os.path.normpath( os.path.join( OUT_DIR, \"Mar_WetDep_CMIP5_1981-2010.pickle\" ) )\n",
    "MarDayDF.to_pickle( MarPCKF )\n",
    "MarFeatherF = os.path.normpath( os.path.join( OUT_DIR, \"Mar_WetDep_CMIP5_1981-2010.feather\" ) )\n",
    "MarDayDF.to_feather( MarFeatherF )"
   ]
  },
  {
   "cell_type": "markdown",
   "metadata": {},
   "source": [
    "### Apr"
   ]
  },
  {
   "cell_type": "markdown",
   "metadata": {},
   "source": [
    "Counts"
   ]
  },
  {
   "cell_type": "code",
   "execution_count": 83,
   "metadata": {},
   "outputs": [],
   "source": [
    "AprDF = WetDF[RootCols].loc[WetDF['Month'] == 4].copy()"
   ]
  },
  {
   "cell_type": "code",
   "execution_count": 84,
   "metadata": {},
   "outputs": [],
   "source": [
    "AprDF['Grid_Id'] = AprDF.apply( lambda row: ExGridNum(row['MGrid_Id']), axis=1 )\n",
    "AprDF['Model_Id'] = AprDF.apply( lambda row: ExModNum(row['MGrid_Id']), axis=1 )"
   ]
  },
  {
   "cell_type": "code",
   "execution_count": 85,
   "metadata": {},
   "outputs": [],
   "source": [
    "AprPCKF = os.path.normpath( os.path.join( OUT_DIR, \"Apr_WetCnt_CMIP5_1981-2010.pickle\" ) )\n",
    "AprDF.to_pickle( AprPCKF )"
   ]
  },
  {
   "cell_type": "code",
   "execution_count": 86,
   "metadata": {},
   "outputs": [],
   "source": [
    "AprDF = AprDF.reset_index()\n",
    "AprFeatherF = os.path.normpath( os.path.join( OUT_DIR, \"Apr_WetCnt_CMIP5_1981-2010.feather\" ) )\n",
    "AprDF.to_feather( AprFeatherF )"
   ]
  },
  {
   "cell_type": "markdown",
   "metadata": {},
   "source": [
    "Depths"
   ]
  },
  {
   "cell_type": "code",
   "execution_count": 87,
   "metadata": {},
   "outputs": [],
   "source": [
    "AprDF = WetDF[WetDF['Month'] == 4].copy()"
   ]
  },
  {
   "cell_type": "code",
   "execution_count": 88,
   "metadata": {},
   "outputs": [
    {
     "data": {
      "text/plain": [
       "37"
      ]
     },
     "execution_count": 88,
     "metadata": {},
     "output_type": "execute_result"
    }
   ],
   "source": [
    "AprMaxCnt = AprDF['Wet_Count'].max()\n",
    "AprMaxCnt"
   ]
  },
  {
   "cell_type": "code",
   "execution_count": 89,
   "metadata": {},
   "outputs": [],
   "source": [
    "CurCols = [RootCols[0], RootCols[4], RootCols[5] ]"
   ]
  },
  {
   "cell_type": "code",
   "execution_count": 90,
   "metadata": {},
   "outputs": [],
   "source": [
    "for jJ in range(AprMaxCnt):\n",
    "    CurCols.append( DayCols[jJ] )\n",
    "# end for"
   ]
  },
  {
   "cell_type": "code",
   "execution_count": 91,
   "metadata": {},
   "outputs": [],
   "source": [
    "AprDF = AprDF[CurCols].copy()"
   ]
  },
  {
   "cell_type": "code",
   "execution_count": 92,
   "metadata": {},
   "outputs": [],
   "source": [
    "AprDF.reset_index(drop=True, inplace=True)"
   ]
  },
  {
   "cell_type": "code",
   "execution_count": 93,
   "metadata": {},
   "outputs": [
    {
     "data": {
      "text/plain": [
       "4924715"
      ]
     },
     "execution_count": 93,
     "metadata": {},
     "output_type": "execute_result"
    }
   ],
   "source": [
    "AprTotDays = AprDF['Wet_Count'].sum()\n",
    "AprTotDays"
   ]
  },
  {
   "cell_type": "markdown",
   "metadata": {},
   "source": [
    "Setup the arrays that will use to store all of the wet day precipitation depths"
   ]
  },
  {
   "cell_type": "code",
   "execution_count": 94,
   "metadata": {},
   "outputs": [],
   "source": [
    "GridIDs = np.zeros( AprTotDays, dtype=np.int32 )\n",
    "ModelIDs = np.zeros( AprTotDays, dtype=np.int32 )\n",
    "PDDepth = np.zeros( AprTotDays, dtype=np.float32 )\n",
    "MGridIDs = [ \"%d\" % x for x in GridIDs.tolist() ]"
   ]
  },
  {
   "cell_type": "code",
   "execution_count": 95,
   "metadata": {},
   "outputs": [
    {
     "data": {
      "text/plain": [
       "2081296"
      ]
     },
     "execution_count": 95,
     "metadata": {},
     "output_type": "execute_result"
    }
   ],
   "source": [
    "NumAprWet = len( AprDF )\n",
    "NumAprWet"
   ]
  },
  {
   "cell_type": "code",
   "execution_count": 96,
   "metadata": {},
   "outputs": [],
   "source": [
    "iCnt = 0\n",
    "for iI in range(NumAprWet):\n",
    "    cRow = AprDF.loc[iI]\n",
    "    cMGridId = cRow.at[\"MGrid_Id\"]\n",
    "    cNumWet = int( cRow.at[\"Wet_Count\"] )\n",
    "    cGridId = ExGridNum( cMGridId )\n",
    "    cModelId = ExModNum( cMGridId )\n",
    "    for jJ in range(cNumWet):\n",
    "        cPDep = float( cRow.at[CurCols[StartInd+jJ]] )\n",
    "        MGridIDs[iCnt] = cMGridId\n",
    "        GridIDs[iCnt] = cGridId\n",
    "        ModelIDs[iCnt] = cModelId\n",
    "        PDDepth[iCnt] = cPDep\n",
    "        iCnt += 1\n",
    "    # end of inner for\n",
    "# end of outer for"
   ]
  },
  {
   "cell_type": "code",
   "execution_count": 97,
   "metadata": {},
   "outputs": [],
   "source": [
    "DataDict = { \"MGrid_Id\" : MGridIDs,\n",
    "             \"Grid_Id\" : GridIDs,\n",
    "             \"Model_Id\" : ModelIDs,\n",
    "             \"Precip_mm\" : PDDepth, }\n",
    "AprDayDF = pd.DataFrame( data=DataDict )"
   ]
  },
  {
   "cell_type": "markdown",
   "metadata": {},
   "source": [
    "Now want to save the January DataFrame as both a pickle and a feather so that can reuse it with both Python and R."
   ]
  },
  {
   "cell_type": "code",
   "execution_count": 98,
   "metadata": {},
   "outputs": [],
   "source": [
    "AprPCKF = os.path.normpath( os.path.join( OUT_DIR, \"Apr_WetDep_CMIP5_1981-2010.pickle\" ) )\n",
    "AprDayDF.to_pickle( AprPCKF )\n",
    "AprFeatherF = os.path.normpath( os.path.join( OUT_DIR, \"Apr_WetDep_CMIP5_1981-2010.feather\" ) )\n",
    "AprDayDF.to_feather( AprFeatherF )"
   ]
  },
  {
   "cell_type": "markdown",
   "metadata": {},
   "source": [
    "### May"
   ]
  },
  {
   "cell_type": "markdown",
   "metadata": {},
   "source": [
    "Counts"
   ]
  },
  {
   "cell_type": "code",
   "execution_count": 99,
   "metadata": {},
   "outputs": [],
   "source": [
    "MayDF = WetDF[RootCols].loc[WetDF['Month'] == 5].copy()"
   ]
  },
  {
   "cell_type": "code",
   "execution_count": 100,
   "metadata": {},
   "outputs": [],
   "source": [
    "MayDF['Grid_Id'] = MayDF.apply( lambda row: ExGridNum(row['MGrid_Id']), axis=1 )\n",
    "MayDF['Model_Id'] = MayDF.apply( lambda row: ExModNum(row['MGrid_Id']), axis=1 )"
   ]
  },
  {
   "cell_type": "code",
   "execution_count": 101,
   "metadata": {},
   "outputs": [],
   "source": [
    "MayPCKF = os.path.normpath( os.path.join( OUT_DIR, \"May_WetCnt_CMIP5_1981-2010.pickle\" ) )\n",
    "MayDF.to_pickle( MayPCKF )"
   ]
  },
  {
   "cell_type": "code",
   "execution_count": 102,
   "metadata": {},
   "outputs": [],
   "source": [
    "MayDF = MayDF.reset_index()\n",
    "MayFeatherF = os.path.normpath( os.path.join( OUT_DIR, \"May_WetCnt_CMIP5_1981-2010.feather\" ) )\n",
    "MayDF.to_feather( MayFeatherF )"
   ]
  },
  {
   "cell_type": "markdown",
   "metadata": {},
   "source": [
    "Depths"
   ]
  },
  {
   "cell_type": "code",
   "execution_count": 103,
   "metadata": {},
   "outputs": [],
   "source": [
    "MayDF = WetDF[WetDF['Month'] == 5].copy()"
   ]
  },
  {
   "cell_type": "code",
   "execution_count": 104,
   "metadata": {},
   "outputs": [
    {
     "data": {
      "text/plain": [
       "66"
      ]
     },
     "execution_count": 104,
     "metadata": {},
     "output_type": "execute_result"
    }
   ],
   "source": [
    "MayMaxCnt = MayDF['Wet_Count'].max()\n",
    "MayMaxCnt"
   ]
  },
  {
   "cell_type": "code",
   "execution_count": 105,
   "metadata": {},
   "outputs": [],
   "source": [
    "CurCols = [RootCols[0], RootCols[4], RootCols[5] ]"
   ]
  },
  {
   "cell_type": "code",
   "execution_count": 106,
   "metadata": {},
   "outputs": [],
   "source": [
    "for jJ in range(MayMaxCnt):\n",
    "    CurCols.append( DayCols[jJ] )\n",
    "# end for"
   ]
  },
  {
   "cell_type": "code",
   "execution_count": 107,
   "metadata": {},
   "outputs": [],
   "source": [
    "MayDF = MayDF[CurCols].copy()"
   ]
  },
  {
   "cell_type": "code",
   "execution_count": 108,
   "metadata": {},
   "outputs": [],
   "source": [
    "MayDF.reset_index(drop=True, inplace=True)"
   ]
  },
  {
   "cell_type": "code",
   "execution_count": 109,
   "metadata": {},
   "outputs": [
    {
     "data": {
      "text/plain": [
       "6745353"
      ]
     },
     "execution_count": 109,
     "metadata": {},
     "output_type": "execute_result"
    }
   ],
   "source": [
    "MayTotDays = MayDF['Wet_Count'].sum()\n",
    "MayTotDays"
   ]
  },
  {
   "cell_type": "markdown",
   "metadata": {},
   "source": [
    "Setup the arrays that will use to store all of the wet day precipitation depths"
   ]
  },
  {
   "cell_type": "code",
   "execution_count": 110,
   "metadata": {},
   "outputs": [],
   "source": [
    "GridIDs = np.zeros( MayTotDays, dtype=np.int32 )\n",
    "ModelIDs = np.zeros( MayTotDays, dtype=np.int32 )\n",
    "PDDepth = np.zeros( MayTotDays, dtype=np.float32 )\n",
    "MGridIDs = [ \"%d\" % x for x in GridIDs.tolist() ]"
   ]
  },
  {
   "cell_type": "code",
   "execution_count": 111,
   "metadata": {},
   "outputs": [
    {
     "data": {
      "text/plain": [
       "2343397"
      ]
     },
     "execution_count": 111,
     "metadata": {},
     "output_type": "execute_result"
    }
   ],
   "source": [
    "NumMayWet = len( MayDF )\n",
    "NumMayWet"
   ]
  },
  {
   "cell_type": "code",
   "execution_count": 112,
   "metadata": {},
   "outputs": [],
   "source": [
    "iCnt = 0\n",
    "for iI in range(NumMayWet):\n",
    "    cRow = MayDF.loc[iI]\n",
    "    cMGridId = cRow.at[\"MGrid_Id\"]\n",
    "    cNumWet = int( cRow.at[\"Wet_Count\"] )\n",
    "    cGridId = ExGridNum( cMGridId )\n",
    "    cModelId = ExModNum( cMGridId )\n",
    "    for jJ in range(cNumWet):\n",
    "        cPDep = float( cRow.at[CurCols[StartInd+jJ]] )\n",
    "        MGridIDs[iCnt] = cMGridId\n",
    "        GridIDs[iCnt] = cGridId\n",
    "        ModelIDs[iCnt] = cModelId\n",
    "        PDDepth[iCnt] = cPDep\n",
    "        iCnt += 1\n",
    "    # end of inner for\n",
    "# end of outer for"
   ]
  },
  {
   "cell_type": "code",
   "execution_count": 113,
   "metadata": {},
   "outputs": [],
   "source": [
    "DataDict = { \"MGrid_Id\" : MGridIDs,\n",
    "             \"Grid_Id\" : GridIDs,\n",
    "             \"Model_Id\" : ModelIDs,\n",
    "             \"Precip_mm\" : PDDepth, }\n",
    "MayDayDF = pd.DataFrame( data=DataDict )"
   ]
  },
  {
   "cell_type": "markdown",
   "metadata": {},
   "source": [
    "Now want to save the January DataFrame as both a pickle and a feather so that can reuse it with both Python and R."
   ]
  },
  {
   "cell_type": "code",
   "execution_count": 114,
   "metadata": {},
   "outputs": [],
   "source": [
    "MayPCKF = os.path.normpath( os.path.join( OUT_DIR, \"May_WetDep_CMIP5_1981-2010.pickle\" ) )\n",
    "MayDayDF.to_pickle( MayPCKF )\n",
    "MayFeatherF = os.path.normpath( os.path.join( OUT_DIR, \"May_WetDep_CMIP5_1981-2010.feather\" ) )\n",
    "MayDayDF.to_feather( MayFeatherF )"
   ]
  },
  {
   "cell_type": "markdown",
   "metadata": {},
   "source": [
    "### Jun"
   ]
  },
  {
   "cell_type": "markdown",
   "metadata": {},
   "source": [
    "Counts"
   ]
  },
  {
   "cell_type": "code",
   "execution_count": 115,
   "metadata": {},
   "outputs": [],
   "source": [
    "JunDF = WetDF[RootCols].loc[WetDF['Month'] == 6].copy()"
   ]
  },
  {
   "cell_type": "code",
   "execution_count": 116,
   "metadata": {},
   "outputs": [],
   "source": [
    "JunDF['Grid_Id'] = JunDF.apply( lambda row: ExGridNum(row['MGrid_Id']), axis=1 )\n",
    "JunDF['Model_Id'] = JunDF.apply( lambda row: ExModNum(row['MGrid_Id']), axis=1 )"
   ]
  },
  {
   "cell_type": "code",
   "execution_count": 117,
   "metadata": {},
   "outputs": [],
   "source": [
    "JunPCKF = os.path.normpath( os.path.join( OUT_DIR, \"Jun_WetCnt_CMIP5_1981-2010.pickle\" ) )\n",
    "JunDF.to_pickle( JunPCKF )"
   ]
  },
  {
   "cell_type": "code",
   "execution_count": 118,
   "metadata": {},
   "outputs": [],
   "source": [
    "JunDF = JunDF.reset_index()\n",
    "JunFeatherF = os.path.normpath( os.path.join( OUT_DIR, \"Jun_WetCnt_CMIP5_1981-2010.feather\" ) )\n",
    "JunDF.to_feather( JunFeatherF )"
   ]
  },
  {
   "cell_type": "markdown",
   "metadata": {},
   "source": [
    "Depths"
   ]
  },
  {
   "cell_type": "code",
   "execution_count": 119,
   "metadata": {},
   "outputs": [],
   "source": [
    "JunDF = WetDF[WetDF['Month'] == 6].copy()"
   ]
  },
  {
   "cell_type": "code",
   "execution_count": 120,
   "metadata": {},
   "outputs": [
    {
     "data": {
      "text/plain": [
       "69"
      ]
     },
     "execution_count": 120,
     "metadata": {},
     "output_type": "execute_result"
    }
   ],
   "source": [
    "JunMaxCnt = JunDF['Wet_Count'].max()\n",
    "JunMaxCnt"
   ]
  },
  {
   "cell_type": "code",
   "execution_count": 121,
   "metadata": {},
   "outputs": [],
   "source": [
    "CurCols = [RootCols[0], RootCols[4], RootCols[5] ]"
   ]
  },
  {
   "cell_type": "code",
   "execution_count": 122,
   "metadata": {},
   "outputs": [],
   "source": [
    "for jJ in range(JunMaxCnt):\n",
    "    CurCols.append( DayCols[jJ] )\n",
    "# end for"
   ]
  },
  {
   "cell_type": "code",
   "execution_count": 123,
   "metadata": {},
   "outputs": [],
   "source": [
    "JunDF = JunDF[CurCols].copy()"
   ]
  },
  {
   "cell_type": "code",
   "execution_count": 124,
   "metadata": {},
   "outputs": [],
   "source": [
    "JunDF.reset_index(drop=True, inplace=True)"
   ]
  },
  {
   "cell_type": "code",
   "execution_count": 125,
   "metadata": {},
   "outputs": [
    {
     "data": {
      "text/plain": [
       "5975417"
      ]
     },
     "execution_count": 125,
     "metadata": {},
     "output_type": "execute_result"
    }
   ],
   "source": [
    "JunTotDays = JunDF['Wet_Count'].sum()\n",
    "JunTotDays"
   ]
  },
  {
   "cell_type": "markdown",
   "metadata": {},
   "source": [
    "Setup the arrays that will use to store all of the wet day precipitation depths"
   ]
  },
  {
   "cell_type": "code",
   "execution_count": 126,
   "metadata": {},
   "outputs": [],
   "source": [
    "GridIDs = np.zeros( JunTotDays, dtype=np.int32 )\n",
    "ModelIDs = np.zeros( JunTotDays, dtype=np.int32 )\n",
    "PDDepth = np.zeros( JunTotDays, dtype=np.float32 )\n",
    "MGridIDs = [ \"%d\" % x for x in GridIDs.tolist() ]"
   ]
  },
  {
   "cell_type": "code",
   "execution_count": 127,
   "metadata": {},
   "outputs": [
    {
     "data": {
      "text/plain": [
       "2061361"
      ]
     },
     "execution_count": 127,
     "metadata": {},
     "output_type": "execute_result"
    }
   ],
   "source": [
    "NumJunWet = len( JunDF )\n",
    "NumJunWet"
   ]
  },
  {
   "cell_type": "code",
   "execution_count": 128,
   "metadata": {},
   "outputs": [],
   "source": [
    "iCnt = 0\n",
    "for iI in range(NumJunWet):\n",
    "    cRow = JunDF.loc[iI]\n",
    "    cMGridId = cRow.at[\"MGrid_Id\"]\n",
    "    cNumWet = int( cRow.at[\"Wet_Count\"] )\n",
    "    cGridId = ExGridNum( cMGridId )\n",
    "    cModelId = ExModNum( cMGridId )\n",
    "    for jJ in range(cNumWet):\n",
    "        cPDep = float( cRow.at[CurCols[StartInd+jJ]] )\n",
    "        MGridIDs[iCnt] = cMGridId\n",
    "        GridIDs[iCnt] = cGridId\n",
    "        ModelIDs[iCnt] = cModelId\n",
    "        PDDepth[iCnt] = cPDep\n",
    "        iCnt += 1\n",
    "    # end of inner for\n",
    "# end of outer for"
   ]
  },
  {
   "cell_type": "code",
   "execution_count": 129,
   "metadata": {},
   "outputs": [],
   "source": [
    "DataDict = { \"MGrid_Id\" : MGridIDs,\n",
    "             \"Grid_Id\" : GridIDs,\n",
    "             \"Model_Id\" : ModelIDs,\n",
    "             \"Precip_mm\" : PDDepth, }\n",
    "JunDayDF = pd.DataFrame( data=DataDict )"
   ]
  },
  {
   "cell_type": "markdown",
   "metadata": {},
   "source": [
    "Now want to save the January DataFrame as both a pickle and a feather so that can reuse it with both Python and R."
   ]
  },
  {
   "cell_type": "code",
   "execution_count": 130,
   "metadata": {},
   "outputs": [],
   "source": [
    "JunPCKF = os.path.normpath( os.path.join( OUT_DIR, \"Jun_WetDep_CMIP5_1981-2010.pickle\" ) )\n",
    "JunDayDF.to_pickle( JunPCKF )\n",
    "JunFeatherF = os.path.normpath( os.path.join( OUT_DIR, \"Jun_WetDep_CMIP5_1981-2010.feather\" ) )\n",
    "JunDayDF.to_feather( JunFeatherF )"
   ]
  },
  {
   "cell_type": "markdown",
   "metadata": {},
   "source": [
    "### Jul"
   ]
  },
  {
   "cell_type": "markdown",
   "metadata": {},
   "source": [
    "Counts"
   ]
  },
  {
   "cell_type": "code",
   "execution_count": 131,
   "metadata": {},
   "outputs": [],
   "source": [
    "JulDF = WetDF[RootCols].loc[WetDF['Month'] == 7].copy()"
   ]
  },
  {
   "cell_type": "code",
   "execution_count": 132,
   "metadata": {},
   "outputs": [],
   "source": [
    "JulDF['Grid_Id'] = JulDF.apply( lambda row: ExGridNum(row['MGrid_Id']), axis=1 )\n",
    "JulDF['Model_Id'] = JulDF.apply( lambda row: ExModNum(row['MGrid_Id']), axis=1 )"
   ]
  },
  {
   "cell_type": "code",
   "execution_count": 133,
   "metadata": {},
   "outputs": [],
   "source": [
    "JulPCKF = os.path.normpath( os.path.join( OUT_DIR, \"Jul_WetCnt_CMIP5_1981-2010.pickle\" ) )\n",
    "JulDF.to_pickle( JulPCKF )"
   ]
  },
  {
   "cell_type": "code",
   "execution_count": 134,
   "metadata": {},
   "outputs": [],
   "source": [
    "JulDF = JulDF.reset_index()\n",
    "JulFeatherF = os.path.normpath( os.path.join( OUT_DIR, \"Jul_WetCnt_CMIP5_1981-2010.feather\" ) )\n",
    "JulDF.to_feather( JulFeatherF )"
   ]
  },
  {
   "cell_type": "markdown",
   "metadata": {},
   "source": [
    "Depths"
   ]
  },
  {
   "cell_type": "code",
   "execution_count": 135,
   "metadata": {},
   "outputs": [],
   "source": [
    "JulDF = WetDF[WetDF['Month'] == 7].copy()"
   ]
  },
  {
   "cell_type": "code",
   "execution_count": 136,
   "metadata": {},
   "outputs": [
    {
     "data": {
      "text/plain": [
       "54"
      ]
     },
     "execution_count": 136,
     "metadata": {},
     "output_type": "execute_result"
    }
   ],
   "source": [
    "JulMaxCnt = JulDF['Wet_Count'].max()\n",
    "JulMaxCnt"
   ]
  },
  {
   "cell_type": "code",
   "execution_count": 137,
   "metadata": {},
   "outputs": [],
   "source": [
    "CurCols = [RootCols[0], RootCols[4], RootCols[5] ]"
   ]
  },
  {
   "cell_type": "code",
   "execution_count": 138,
   "metadata": {},
   "outputs": [],
   "source": [
    "for jJ in range(JulMaxCnt):\n",
    "    CurCols.append( DayCols[jJ] )\n",
    "# end for"
   ]
  },
  {
   "cell_type": "code",
   "execution_count": 139,
   "metadata": {},
   "outputs": [],
   "source": [
    "JulDF = JulDF[CurCols].copy()"
   ]
  },
  {
   "cell_type": "code",
   "execution_count": 140,
   "metadata": {},
   "outputs": [],
   "source": [
    "JulDF.reset_index(drop=True, inplace=True)"
   ]
  },
  {
   "cell_type": "code",
   "execution_count": 141,
   "metadata": {},
   "outputs": [
    {
     "data": {
      "text/plain": [
       "5042037"
      ]
     },
     "execution_count": 141,
     "metadata": {},
     "output_type": "execute_result"
    }
   ],
   "source": [
    "JulTotDays = JulDF['Wet_Count'].sum()\n",
    "JulTotDays"
   ]
  },
  {
   "cell_type": "markdown",
   "metadata": {},
   "source": [
    "Setup the arrays that will use to store all of the wet day precipitation depths"
   ]
  },
  {
   "cell_type": "code",
   "execution_count": 142,
   "metadata": {},
   "outputs": [],
   "source": [
    "GridIDs = np.zeros( JulTotDays, dtype=np.int32 )\n",
    "ModelIDs = np.zeros( JulTotDays, dtype=np.int32 )\n",
    "PDDepth = np.zeros( JulTotDays, dtype=np.float32 )\n",
    "MGridIDs = [ \"%d\" % x for x in GridIDs.tolist() ]"
   ]
  },
  {
   "cell_type": "code",
   "execution_count": 143,
   "metadata": {},
   "outputs": [
    {
     "data": {
      "text/plain": [
       "1905592"
      ]
     },
     "execution_count": 143,
     "metadata": {},
     "output_type": "execute_result"
    }
   ],
   "source": [
    "NumJulWet = len( JulDF )\n",
    "NumJulWet"
   ]
  },
  {
   "cell_type": "code",
   "execution_count": 144,
   "metadata": {},
   "outputs": [],
   "source": [
    "iCnt = 0\n",
    "for iI in range(NumJulWet):\n",
    "    cRow = JulDF.loc[iI]\n",
    "    cMGridId = cRow.at[\"MGrid_Id\"]\n",
    "    cNumWet = int( cRow.at[\"Wet_Count\"] )\n",
    "    cGridId = ExGridNum( cMGridId )\n",
    "    cModelId = ExModNum( cMGridId )\n",
    "    for jJ in range(cNumWet):\n",
    "        cPDep = float( cRow.at[CurCols[StartInd+jJ]] )\n",
    "        MGridIDs[iCnt] = cMGridId\n",
    "        GridIDs[iCnt] = cGridId\n",
    "        ModelIDs[iCnt] = cModelId\n",
    "        PDDepth[iCnt] = cPDep\n",
    "        iCnt += 1\n",
    "    # end of inner for\n",
    "# end of outer for"
   ]
  },
  {
   "cell_type": "code",
   "execution_count": 145,
   "metadata": {},
   "outputs": [],
   "source": [
    "DataDict = { \"MGrid_Id\" : MGridIDs,\n",
    "             \"Grid_Id\" : GridIDs,\n",
    "             \"Model_Id\" : ModelIDs,\n",
    "             \"Precip_mm\" : PDDepth, }\n",
    "JulDayDF = pd.DataFrame( data=DataDict )"
   ]
  },
  {
   "cell_type": "markdown",
   "metadata": {},
   "source": [
    "Now want to save the January DataFrame as both a pickle and a feather so that can reuse it with both Python and R."
   ]
  },
  {
   "cell_type": "code",
   "execution_count": 146,
   "metadata": {},
   "outputs": [],
   "source": [
    "JulPCKF = os.path.normpath( os.path.join( OUT_DIR, \"Jul_WetDep_CMIP5_1981-2010.pickle\" ) )\n",
    "JulDayDF.to_pickle( JulPCKF )\n",
    "JulFeatherF = os.path.normpath( os.path.join( OUT_DIR, \"Jul_WetDep_CMIP5_1981-2010.feather\" ) )\n",
    "JulDayDF.to_feather( JulFeatherF )"
   ]
  },
  {
   "cell_type": "markdown",
   "metadata": {},
   "source": [
    "### Aug"
   ]
  },
  {
   "cell_type": "markdown",
   "metadata": {},
   "source": [
    "Counts"
   ]
  },
  {
   "cell_type": "code",
   "execution_count": 147,
   "metadata": {},
   "outputs": [],
   "source": [
    "AugDF = WetDF[RootCols].loc[WetDF['Month'] == 8].copy()"
   ]
  },
  {
   "cell_type": "code",
   "execution_count": 148,
   "metadata": {},
   "outputs": [],
   "source": [
    "AugDF['Grid_Id'] = AugDF.apply( lambda row: ExGridNum(row['MGrid_Id']), axis=1 )\n",
    "AugDF['Model_Id'] = AugDF.apply( lambda row: ExModNum(row['MGrid_Id']), axis=1 )"
   ]
  },
  {
   "cell_type": "code",
   "execution_count": 149,
   "metadata": {},
   "outputs": [],
   "source": [
    "AugPCKF = os.path.normpath( os.path.join( OUT_DIR, \"Aug_WetCnt_CMIP5_1981-2010.pickle\" ) )\n",
    "AugDF.to_pickle( AugPCKF )"
   ]
  },
  {
   "cell_type": "code",
   "execution_count": 150,
   "metadata": {},
   "outputs": [],
   "source": [
    "AugDF = AugDF.reset_index()\n",
    "AugFeatherF = os.path.normpath( os.path.join( OUT_DIR, \"Aug_WetCnt_CMIP5_1981-2010.feather\" ) )\n",
    "AugDF.to_feather( AugFeatherF )"
   ]
  },
  {
   "cell_type": "markdown",
   "metadata": {},
   "source": [
    "Depths"
   ]
  },
  {
   "cell_type": "code",
   "execution_count": 151,
   "metadata": {},
   "outputs": [],
   "source": [
    "AugDF = WetDF[WetDF['Month'] == 8].copy()"
   ]
  },
  {
   "cell_type": "code",
   "execution_count": 152,
   "metadata": {},
   "outputs": [
    {
     "data": {
      "text/plain": [
       "49"
      ]
     },
     "execution_count": 152,
     "metadata": {},
     "output_type": "execute_result"
    }
   ],
   "source": [
    "AugMaxCnt = AugDF['Wet_Count'].max()\n",
    "AugMaxCnt"
   ]
  },
  {
   "cell_type": "code",
   "execution_count": 153,
   "metadata": {},
   "outputs": [],
   "source": [
    "CurCols = [RootCols[0], RootCols[4], RootCols[5] ]"
   ]
  },
  {
   "cell_type": "code",
   "execution_count": 154,
   "metadata": {},
   "outputs": [],
   "source": [
    "for jJ in range(AugMaxCnt):\n",
    "    CurCols.append( DayCols[jJ] )\n",
    "# end for"
   ]
  },
  {
   "cell_type": "code",
   "execution_count": 155,
   "metadata": {},
   "outputs": [],
   "source": [
    "AugDF = AugDF[CurCols].copy()"
   ]
  },
  {
   "cell_type": "code",
   "execution_count": 156,
   "metadata": {},
   "outputs": [],
   "source": [
    "AugDF.reset_index(drop=True, inplace=True)"
   ]
  },
  {
   "cell_type": "code",
   "execution_count": 157,
   "metadata": {},
   "outputs": [
    {
     "data": {
      "text/plain": [
       "5399138"
      ]
     },
     "execution_count": 157,
     "metadata": {},
     "output_type": "execute_result"
    }
   ],
   "source": [
    "AugTotDays = AugDF['Wet_Count'].sum()\n",
    "AugTotDays"
   ]
  },
  {
   "cell_type": "markdown",
   "metadata": {},
   "source": [
    "Setup the arrays that will use to store all of the wet day precipitation depths"
   ]
  },
  {
   "cell_type": "code",
   "execution_count": 158,
   "metadata": {},
   "outputs": [],
   "source": [
    "GridIDs = np.zeros( AugTotDays, dtype=np.int32 )\n",
    "ModelIDs = np.zeros( AugTotDays, dtype=np.int32 )\n",
    "PDDepth = np.zeros( AugTotDays, dtype=np.float32 )\n",
    "MGridIDs = [ \"%d\" % x for x in GridIDs.tolist() ]"
   ]
  },
  {
   "cell_type": "code",
   "execution_count": 159,
   "metadata": {},
   "outputs": [
    {
     "data": {
      "text/plain": [
       "1972429"
      ]
     },
     "execution_count": 159,
     "metadata": {},
     "output_type": "execute_result"
    }
   ],
   "source": [
    "NumAugWet = len( AugDF )\n",
    "NumAugWet"
   ]
  },
  {
   "cell_type": "code",
   "execution_count": 160,
   "metadata": {},
   "outputs": [],
   "source": [
    "iCnt = 0\n",
    "for iI in range(NumAugWet):\n",
    "    cRow = AugDF.loc[iI]\n",
    "    cMGridId = cRow.at[\"MGrid_Id\"]\n",
    "    cNumWet = int( cRow.at[\"Wet_Count\"] )\n",
    "    cGridId = ExGridNum( cMGridId )\n",
    "    cModelId = ExModNum( cMGridId )\n",
    "    for jJ in range(cNumWet):\n",
    "        cPDep = float( cRow.at[CurCols[StartInd+jJ]] )\n",
    "        MGridIDs[iCnt] = cMGridId\n",
    "        GridIDs[iCnt] = cGridId\n",
    "        ModelIDs[iCnt] = cModelId\n",
    "        PDDepth[iCnt] = cPDep\n",
    "        iCnt += 1\n",
    "    # end of inner for\n",
    "# end of outer for"
   ]
  },
  {
   "cell_type": "code",
   "execution_count": 161,
   "metadata": {},
   "outputs": [],
   "source": [
    "DataDict = { \"MGrid_Id\" : MGridIDs,\n",
    "             \"Grid_Id\" : GridIDs,\n",
    "             \"Model_Id\" : ModelIDs,\n",
    "             \"Precip_mm\" : PDDepth, }\n",
    "AugDayDF = pd.DataFrame( data=DataDict )"
   ]
  },
  {
   "cell_type": "markdown",
   "metadata": {},
   "source": [
    "Now want to save the January DataFrame as both a pickle and a feather so that can reuse it with both Python and R."
   ]
  },
  {
   "cell_type": "code",
   "execution_count": 162,
   "metadata": {},
   "outputs": [],
   "source": [
    "AugPCKF = os.path.normpath( os.path.join( OUT_DIR, \"Aug_WetDep_CMIP5_1981-2010.pickle\" ) )\n",
    "AugDayDF.to_pickle( AugPCKF )\n",
    "AugFeatherF = os.path.normpath( os.path.join( OUT_DIR, \"Aug_WetDep_CMIP5_1981-2010.feather\" ) )\n",
    "AugDayDF.to_feather( AugFeatherF )"
   ]
  },
  {
   "cell_type": "markdown",
   "metadata": {},
   "source": [
    "### Sep"
   ]
  },
  {
   "cell_type": "markdown",
   "metadata": {},
   "source": [
    "Counts"
   ]
  },
  {
   "cell_type": "code",
   "execution_count": 163,
   "metadata": {},
   "outputs": [],
   "source": [
    "SepDF = WetDF[RootCols].loc[WetDF['Month'] == 9].copy()"
   ]
  },
  {
   "cell_type": "code",
   "execution_count": 164,
   "metadata": {},
   "outputs": [],
   "source": [
    "SepDF['Grid_Id'] = SepDF.apply( lambda row: ExGridNum(row['MGrid_Id']), axis=1 )\n",
    "SepDF['Model_Id'] = SepDF.apply( lambda row: ExModNum(row['MGrid_Id']), axis=1 )"
   ]
  },
  {
   "cell_type": "code",
   "execution_count": 165,
   "metadata": {},
   "outputs": [],
   "source": [
    "SepPCKF = os.path.normpath( os.path.join( OUT_DIR, \"Sep_WetCnt_CMIP5_1981-2010.pickle\" ) )\n",
    "SepDF.to_pickle( SepPCKF )"
   ]
  },
  {
   "cell_type": "code",
   "execution_count": 166,
   "metadata": {},
   "outputs": [],
   "source": [
    "SepDF = SepDF.reset_index()\n",
    "SepFeatherF = os.path.normpath( os.path.join( OUT_DIR, \"Sep_WetCnt_CMIP5_1981-2010.feather\" ) )\n",
    "SepDF.to_feather( SepFeatherF )"
   ]
  },
  {
   "cell_type": "markdown",
   "metadata": {},
   "source": [
    "Depths"
   ]
  },
  {
   "cell_type": "code",
   "execution_count": 167,
   "metadata": {},
   "outputs": [],
   "source": [
    "SepDF = WetDF[WetDF['Month'] == 9].copy()"
   ]
  },
  {
   "cell_type": "code",
   "execution_count": 168,
   "metadata": {},
   "outputs": [
    {
     "data": {
      "text/plain": [
       "37"
      ]
     },
     "execution_count": 168,
     "metadata": {},
     "output_type": "execute_result"
    }
   ],
   "source": [
    "SepMaxCnt = SepDF['Wet_Count'].max()\n",
    "SepMaxCnt"
   ]
  },
  {
   "cell_type": "code",
   "execution_count": 169,
   "metadata": {},
   "outputs": [],
   "source": [
    "CurCols = [RootCols[0], RootCols[4], RootCols[5] ]"
   ]
  },
  {
   "cell_type": "code",
   "execution_count": 170,
   "metadata": {},
   "outputs": [],
   "source": [
    "for jJ in range(SepMaxCnt):\n",
    "    CurCols.append( DayCols[jJ] )\n",
    "# end for"
   ]
  },
  {
   "cell_type": "code",
   "execution_count": 171,
   "metadata": {},
   "outputs": [],
   "source": [
    "SepDF = SepDF[CurCols].copy()"
   ]
  },
  {
   "cell_type": "code",
   "execution_count": 172,
   "metadata": {},
   "outputs": [],
   "source": [
    "SepDF.reset_index(drop=True, inplace=True)"
   ]
  },
  {
   "cell_type": "code",
   "execution_count": 173,
   "metadata": {},
   "outputs": [
    {
     "data": {
      "text/plain": [
       "6045548"
      ]
     },
     "execution_count": 173,
     "metadata": {},
     "output_type": "execute_result"
    }
   ],
   "source": [
    "SepTotDays = SepDF['Wet_Count'].sum()\n",
    "SepTotDays"
   ]
  },
  {
   "cell_type": "markdown",
   "metadata": {},
   "source": [
    "Setup the arrays that will use to store all of the wet day precipitation depths"
   ]
  },
  {
   "cell_type": "code",
   "execution_count": 174,
   "metadata": {},
   "outputs": [],
   "source": [
    "GridIDs = np.zeros( SepTotDays, dtype=np.int32 )\n",
    "ModelIDs = np.zeros( SepTotDays, dtype=np.int32 )\n",
    "PDDepth = np.zeros( SepTotDays, dtype=np.float32 )\n",
    "MGridIDs = [ \"%d\" % x for x in GridIDs.tolist() ]"
   ]
  },
  {
   "cell_type": "code",
   "execution_count": 175,
   "metadata": {},
   "outputs": [
    {
     "data": {
      "text/plain": [
       "2029163"
      ]
     },
     "execution_count": 175,
     "metadata": {},
     "output_type": "execute_result"
    }
   ],
   "source": [
    "NumSepWet = len( SepDF )\n",
    "NumSepWet"
   ]
  },
  {
   "cell_type": "code",
   "execution_count": 176,
   "metadata": {},
   "outputs": [],
   "source": [
    "iCnt = 0\n",
    "for iI in range(NumSepWet):\n",
    "    cRow = SepDF.loc[iI]\n",
    "    cMGridId = cRow.at[\"MGrid_Id\"]\n",
    "    cNumWet = int( cRow.at[\"Wet_Count\"] )\n",
    "    cGridId = ExGridNum( cMGridId )\n",
    "    cModelId = ExModNum( cMGridId )\n",
    "    for jJ in range(cNumWet):\n",
    "        cPDep = float( cRow.at[CurCols[StartInd+jJ]] )\n",
    "        MGridIDs[iCnt] = cMGridId\n",
    "        GridIDs[iCnt] = cGridId\n",
    "        ModelIDs[iCnt] = cModelId\n",
    "        PDDepth[iCnt] = cPDep\n",
    "        iCnt += 1\n",
    "    # end of inner for\n",
    "# end of outer for"
   ]
  },
  {
   "cell_type": "code",
   "execution_count": 177,
   "metadata": {},
   "outputs": [],
   "source": [
    "DataDict = { \"MGrid_Id\" : MGridIDs,\n",
    "             \"Grid_Id\" : GridIDs,\n",
    "             \"Model_Id\" : ModelIDs,\n",
    "             \"Precip_mm\" : PDDepth, }\n",
    "SepDayDF = pd.DataFrame( data=DataDict )"
   ]
  },
  {
   "cell_type": "markdown",
   "metadata": {},
   "source": [
    "Now want to save the January DataFrame as both a pickle and a feather so that can reuse it with both Python and R."
   ]
  },
  {
   "cell_type": "code",
   "execution_count": 178,
   "metadata": {},
   "outputs": [],
   "source": [
    "SepPCKF = os.path.normpath( os.path.join( OUT_DIR, \"Sep_WetDep_CMIP5_1981-2010.pickle\" ) )\n",
    "SepDayDF.to_pickle( SepPCKF )\n",
    "SepFeatherF = os.path.normpath( os.path.join( OUT_DIR, \"Sep_WetDep_CMIP5_1981-2010.feather\" ) )\n",
    "SepDayDF.to_feather( SepFeatherF )"
   ]
  },
  {
   "cell_type": "markdown",
   "metadata": {},
   "source": [
    "### Oct"
   ]
  },
  {
   "cell_type": "markdown",
   "metadata": {},
   "source": [
    "Counts"
   ]
  },
  {
   "cell_type": "code",
   "execution_count": 179,
   "metadata": {},
   "outputs": [],
   "source": [
    "OctDF = WetDF[RootCols].loc[WetDF['Month'] == 10].copy()"
   ]
  },
  {
   "cell_type": "code",
   "execution_count": 180,
   "metadata": {},
   "outputs": [],
   "source": [
    "OctDF['Grid_Id'] = OctDF.apply( lambda row: ExGridNum(row['MGrid_Id']), axis=1 )\n",
    "OctDF['Model_Id'] = OctDF.apply( lambda row: ExModNum(row['MGrid_Id']), axis=1 )"
   ]
  },
  {
   "cell_type": "code",
   "execution_count": 181,
   "metadata": {},
   "outputs": [],
   "source": [
    "OctPCKF = os.path.normpath( os.path.join( OUT_DIR, \"Oct_WetCnt_CMIP5_1981-2010.pickle\" ) )\n",
    "OctDF.to_pickle( OctPCKF )"
   ]
  },
  {
   "cell_type": "code",
   "execution_count": 182,
   "metadata": {},
   "outputs": [],
   "source": [
    "OctDF = OctDF.reset_index()\n",
    "OctFeatherF = os.path.normpath( os.path.join( OUT_DIR, \"Oct_WetCnt_CMIP5_1981-2010.feather\" ) )\n",
    "OctDF.to_feather( OctFeatherF )"
   ]
  },
  {
   "cell_type": "markdown",
   "metadata": {},
   "source": [
    "Depths"
   ]
  },
  {
   "cell_type": "code",
   "execution_count": 183,
   "metadata": {},
   "outputs": [],
   "source": [
    "OctDF = WetDF[WetDF['Month'] == 10].copy()"
   ]
  },
  {
   "cell_type": "code",
   "execution_count": 184,
   "metadata": {},
   "outputs": [
    {
     "data": {
      "text/plain": [
       "27"
      ]
     },
     "execution_count": 184,
     "metadata": {},
     "output_type": "execute_result"
    }
   ],
   "source": [
    "OctMaxCnt = OctDF['Wet_Count'].max()\n",
    "OctMaxCnt"
   ]
  },
  {
   "cell_type": "code",
   "execution_count": 185,
   "metadata": {},
   "outputs": [],
   "source": [
    "CurCols = [RootCols[0], RootCols[4], RootCols[5] ]"
   ]
  },
  {
   "cell_type": "code",
   "execution_count": 186,
   "metadata": {},
   "outputs": [],
   "source": [
    "for jJ in range(OctMaxCnt):\n",
    "    CurCols.append( DayCols[jJ] )\n",
    "# end for"
   ]
  },
  {
   "cell_type": "code",
   "execution_count": 187,
   "metadata": {},
   "outputs": [],
   "source": [
    "OctDF = OctDF[CurCols].copy()"
   ]
  },
  {
   "cell_type": "code",
   "execution_count": 188,
   "metadata": {},
   "outputs": [],
   "source": [
    "OctDF.reset_index(drop=True, inplace=True)"
   ]
  },
  {
   "cell_type": "code",
   "execution_count": 189,
   "metadata": {},
   "outputs": [
    {
     "data": {
      "text/plain": [
       "4682225"
      ]
     },
     "execution_count": 189,
     "metadata": {},
     "output_type": "execute_result"
    }
   ],
   "source": [
    "OctTotDays = OctDF['Wet_Count'].sum()\n",
    "OctTotDays"
   ]
  },
  {
   "cell_type": "markdown",
   "metadata": {},
   "source": [
    "Setup the arrays that will use to store all of the wet day precipitation depths"
   ]
  },
  {
   "cell_type": "code",
   "execution_count": 190,
   "metadata": {},
   "outputs": [],
   "source": [
    "GridIDs = np.zeros( OctTotDays, dtype=np.int32 )\n",
    "ModelIDs = np.zeros( OctTotDays, dtype=np.int32 )\n",
    "PDDepth = np.zeros( OctTotDays, dtype=np.float32 )\n",
    "MGridIDs = [ \"%d\" % x for x in GridIDs.tolist() ]"
   ]
  },
  {
   "cell_type": "code",
   "execution_count": 191,
   "metadata": {},
   "outputs": [
    {
     "data": {
      "text/plain": [
       "1877449"
      ]
     },
     "execution_count": 191,
     "metadata": {},
     "output_type": "execute_result"
    }
   ],
   "source": [
    "NumOctWet = len( OctDF )\n",
    "NumOctWet"
   ]
  },
  {
   "cell_type": "code",
   "execution_count": 192,
   "metadata": {},
   "outputs": [],
   "source": [
    "iCnt = 0\n",
    "for iI in range(NumOctWet):\n",
    "    cRow = OctDF.loc[iI]\n",
    "    cMGridId = cRow.at[\"MGrid_Id\"]\n",
    "    cNumWet = int( cRow.at[\"Wet_Count\"] )\n",
    "    cGridId = ExGridNum( cMGridId )\n",
    "    cModelId = ExModNum( cMGridId )\n",
    "    for jJ in range(cNumWet):\n",
    "        cPDep = float( cRow.at[CurCols[StartInd+jJ]] )\n",
    "        MGridIDs[iCnt] = cMGridId\n",
    "        GridIDs[iCnt] = cGridId\n",
    "        ModelIDs[iCnt] = cModelId\n",
    "        PDDepth[iCnt] = cPDep\n",
    "        iCnt += 1\n",
    "    # end of inner for\n",
    "# end of outer for"
   ]
  },
  {
   "cell_type": "code",
   "execution_count": 193,
   "metadata": {},
   "outputs": [],
   "source": [
    "DataDict = { \"MGrid_Id\" : MGridIDs,\n",
    "             \"Grid_Id\" : GridIDs,\n",
    "             \"Model_Id\" : ModelIDs,\n",
    "             \"Precip_mm\" : PDDepth, }\n",
    "OctDayDF = pd.DataFrame( data=DataDict )"
   ]
  },
  {
   "cell_type": "markdown",
   "metadata": {},
   "source": [
    "Now want to save the January DataFrame as both a pickle and a feather so that can reuse it with both Python and R."
   ]
  },
  {
   "cell_type": "code",
   "execution_count": 194,
   "metadata": {},
   "outputs": [],
   "source": [
    "OctPCKF = os.path.normpath( os.path.join( OUT_DIR, \"Oct_WetDep_CMIP5_1981-2010.pickle\" ) )\n",
    "OctDayDF.to_pickle( OctPCKF )\n",
    "OctFeatherF = os.path.normpath( os.path.join( OUT_DIR, \"Oct_WetDep_CMIP5_1981-2010.feather\" ) )\n",
    "OctDayDF.to_feather( OctFeatherF )"
   ]
  },
  {
   "cell_type": "markdown",
   "metadata": {},
   "source": [
    "### Nov"
   ]
  },
  {
   "cell_type": "markdown",
   "metadata": {},
   "source": [
    "Counts"
   ]
  },
  {
   "cell_type": "code",
   "execution_count": 195,
   "metadata": {},
   "outputs": [],
   "source": [
    "NovDF = WetDF[RootCols].loc[WetDF['Month'] == 11].copy()"
   ]
  },
  {
   "cell_type": "code",
   "execution_count": 196,
   "metadata": {},
   "outputs": [],
   "source": [
    "NovDF['Grid_Id'] = NovDF.apply( lambda row: ExGridNum(row['MGrid_Id']), axis=1 )\n",
    "NovDF['Model_Id'] = NovDF.apply( lambda row: ExModNum(row['MGrid_Id']), axis=1 )"
   ]
  },
  {
   "cell_type": "code",
   "execution_count": 197,
   "metadata": {},
   "outputs": [],
   "source": [
    "NovPCKF = os.path.normpath( os.path.join( OUT_DIR, \"Nov_WetCnt_CMIP5_1981-2010.pickle\" ) )\n",
    "NovDF.to_pickle( NovPCKF )"
   ]
  },
  {
   "cell_type": "code",
   "execution_count": 198,
   "metadata": {},
   "outputs": [],
   "source": [
    "NovDF = NovDF.reset_index()\n",
    "NovFeatherF = os.path.normpath( os.path.join( OUT_DIR, \"Nov_WetCnt_CMIP5_1981-2010.feather\" ) )\n",
    "NovDF.to_feather( NovFeatherF )"
   ]
  },
  {
   "cell_type": "markdown",
   "metadata": {},
   "source": [
    "Depths"
   ]
  },
  {
   "cell_type": "code",
   "execution_count": 199,
   "metadata": {},
   "outputs": [],
   "source": [
    "NovDF = WetDF[WetDF['Month'] == 11].copy()"
   ]
  },
  {
   "cell_type": "code",
   "execution_count": 200,
   "metadata": {},
   "outputs": [
    {
     "data": {
      "text/plain": [
       "18"
      ]
     },
     "execution_count": 200,
     "metadata": {},
     "output_type": "execute_result"
    }
   ],
   "source": [
    "NovMaxCnt = NovDF['Wet_Count'].max()\n",
    "NovMaxCnt"
   ]
  },
  {
   "cell_type": "code",
   "execution_count": 201,
   "metadata": {},
   "outputs": [],
   "source": [
    "CurCols = [RootCols[0], RootCols[4], RootCols[5] ]"
   ]
  },
  {
   "cell_type": "code",
   "execution_count": 202,
   "metadata": {},
   "outputs": [],
   "source": [
    "for jJ in range(NovMaxCnt):\n",
    "    CurCols.append( DayCols[jJ] )\n",
    "# end for"
   ]
  },
  {
   "cell_type": "code",
   "execution_count": 203,
   "metadata": {},
   "outputs": [],
   "source": [
    "NovDF = NovDF[CurCols].copy()"
   ]
  },
  {
   "cell_type": "code",
   "execution_count": 204,
   "metadata": {},
   "outputs": [],
   "source": [
    "NovDF.reset_index(drop=True, inplace=True)"
   ]
  },
  {
   "cell_type": "code",
   "execution_count": 205,
   "metadata": {},
   "outputs": [
    {
     "data": {
      "text/plain": [
       "3789844"
      ]
     },
     "execution_count": 205,
     "metadata": {},
     "output_type": "execute_result"
    }
   ],
   "source": [
    "NovTotDays = NovDF['Wet_Count'].sum()\n",
    "NovTotDays"
   ]
  },
  {
   "cell_type": "markdown",
   "metadata": {},
   "source": [
    "Setup the arrays that will use to store all of the wet day precipitation depths"
   ]
  },
  {
   "cell_type": "code",
   "execution_count": 206,
   "metadata": {},
   "outputs": [],
   "source": [
    "GridIDs = np.zeros( NovTotDays, dtype=np.int32 )\n",
    "ModelIDs = np.zeros( NovTotDays, dtype=np.int32 )\n",
    "PDDepth = np.zeros( NovTotDays, dtype=np.float32 )\n",
    "MGridIDs = [ \"%d\" % x for x in GridIDs.tolist() ]"
   ]
  },
  {
   "cell_type": "code",
   "execution_count": 207,
   "metadata": {},
   "outputs": [
    {
     "data": {
      "text/plain": [
       "1815846"
      ]
     },
     "execution_count": 207,
     "metadata": {},
     "output_type": "execute_result"
    }
   ],
   "source": [
    "NumNovWet = len( NovDF )\n",
    "NumNovWet"
   ]
  },
  {
   "cell_type": "code",
   "execution_count": 208,
   "metadata": {},
   "outputs": [],
   "source": [
    "iCnt = 0\n",
    "for iI in range(NumNovWet):\n",
    "    cRow = NovDF.loc[iI]\n",
    "    cMGridId = cRow.at[\"MGrid_Id\"]\n",
    "    cNumWet = int( cRow.at[\"Wet_Count\"] )\n",
    "    cGridId = ExGridNum( cMGridId )\n",
    "    cModelId = ExModNum( cMGridId )\n",
    "    for jJ in range(cNumWet):\n",
    "        cPDep = float( cRow.at[CurCols[StartInd+jJ]] )\n",
    "        MGridIDs[iCnt] = cMGridId\n",
    "        GridIDs[iCnt] = cGridId\n",
    "        ModelIDs[iCnt] = cModelId\n",
    "        PDDepth[iCnt] = cPDep\n",
    "        iCnt += 1\n",
    "    # end of inner for\n",
    "# end of outer for"
   ]
  },
  {
   "cell_type": "code",
   "execution_count": 209,
   "metadata": {},
   "outputs": [],
   "source": [
    "DataDict = { \"MGrid_Id\" : MGridIDs,\n",
    "             \"Grid_Id\" : GridIDs,\n",
    "             \"Model_Id\" : ModelIDs,\n",
    "             \"Precip_mm\" : PDDepth, }\n",
    "NovDayDF = pd.DataFrame( data=DataDict )"
   ]
  },
  {
   "cell_type": "markdown",
   "metadata": {},
   "source": [
    "Now want to save the January DataFrame as both a pickle and a feather so that can reuse it with both Python and R."
   ]
  },
  {
   "cell_type": "code",
   "execution_count": 210,
   "metadata": {},
   "outputs": [],
   "source": [
    "NovPCKF = os.path.normpath( os.path.join( OUT_DIR, \"Nov_WetDep_CMIP5_1981-2010.pickle\" ) )\n",
    "NovDayDF.to_pickle( NovPCKF )\n",
    "NovFeatherF = os.path.normpath( os.path.join( OUT_DIR, \"Nov_WetDep_CMIP5_1981-2010.feather\" ) )\n",
    "NovDayDF.to_feather( NovFeatherF )"
   ]
  },
  {
   "cell_type": "markdown",
   "metadata": {},
   "source": [
    "### Dec"
   ]
  },
  {
   "cell_type": "markdown",
   "metadata": {},
   "source": [
    "Counts"
   ]
  },
  {
   "cell_type": "code",
   "execution_count": 211,
   "metadata": {},
   "outputs": [],
   "source": [
    "DecDF = WetDF[RootCols].loc[WetDF['Month'] == 12].copy()"
   ]
  },
  {
   "cell_type": "code",
   "execution_count": 212,
   "metadata": {},
   "outputs": [],
   "source": [
    "DecDF['Grid_Id'] = DecDF.apply( lambda row: ExGridNum(row['MGrid_Id']), axis=1 )\n",
    "DecDF['Model_Id'] = DecDF.apply( lambda row: ExModNum(row['MGrid_Id']), axis=1 )"
   ]
  },
  {
   "cell_type": "code",
   "execution_count": 213,
   "metadata": {},
   "outputs": [],
   "source": [
    "DecPCKF = os.path.normpath( os.path.join( OUT_DIR, \"Dec_WetCnt_CMIP5_1981-2010.pickle\" ) )\n",
    "DecDF.to_pickle( DecPCKF )"
   ]
  },
  {
   "cell_type": "code",
   "execution_count": 214,
   "metadata": {},
   "outputs": [],
   "source": [
    "DecDF = DecDF.reset_index()\n",
    "DecFeatherF = os.path.normpath( os.path.join( OUT_DIR, \"Dec_WetCnt_CMIP5_1981-2010.feather\" ) )\n",
    "DecDF.to_feather( DecFeatherF )"
   ]
  },
  {
   "cell_type": "markdown",
   "metadata": {},
   "source": [
    "Depths"
   ]
  },
  {
   "cell_type": "code",
   "execution_count": 215,
   "metadata": {},
   "outputs": [],
   "source": [
    "DecDF = WetDF[WetDF['Month'] == 12].copy()"
   ]
  },
  {
   "cell_type": "code",
   "execution_count": 216,
   "metadata": {},
   "outputs": [
    {
     "data": {
      "text/plain": [
       "18"
      ]
     },
     "execution_count": 216,
     "metadata": {},
     "output_type": "execute_result"
    }
   ],
   "source": [
    "DecMaxCnt = DecDF['Wet_Count'].max()\n",
    "DecMaxCnt"
   ]
  },
  {
   "cell_type": "code",
   "execution_count": 217,
   "metadata": {},
   "outputs": [],
   "source": [
    "CurCols = [RootCols[0], RootCols[4], RootCols[5] ]"
   ]
  },
  {
   "cell_type": "code",
   "execution_count": 218,
   "metadata": {},
   "outputs": [],
   "source": [
    "for jJ in range(DecMaxCnt):\n",
    "    CurCols.append( DayCols[jJ] )\n",
    "# end for"
   ]
  },
  {
   "cell_type": "code",
   "execution_count": 219,
   "metadata": {},
   "outputs": [],
   "source": [
    "DecDF = DecDF[CurCols].copy()"
   ]
  },
  {
   "cell_type": "code",
   "execution_count": 220,
   "metadata": {},
   "outputs": [],
   "source": [
    "DecDF.reset_index(drop=True, inplace=True)"
   ]
  },
  {
   "cell_type": "code",
   "execution_count": 221,
   "metadata": {},
   "outputs": [
    {
     "data": {
      "text/plain": [
       "3392164"
      ]
     },
     "execution_count": 221,
     "metadata": {},
     "output_type": "execute_result"
    }
   ],
   "source": [
    "DecTotDays = DecDF['Wet_Count'].sum()\n",
    "DecTotDays"
   ]
  },
  {
   "cell_type": "markdown",
   "metadata": {},
   "source": [
    "Setup the arrays that will use to store all of the wet day precipitation depths"
   ]
  },
  {
   "cell_type": "code",
   "execution_count": 222,
   "metadata": {},
   "outputs": [],
   "source": [
    "GridIDs = np.zeros( DecTotDays, dtype=np.int32 )\n",
    "ModelIDs = np.zeros( DecTotDays, dtype=np.int32 )\n",
    "PDDepth = np.zeros( DecTotDays, dtype=np.float32 )\n",
    "MGridIDs = [ \"%d\" % x for x in GridIDs.tolist() ]"
   ]
  },
  {
   "cell_type": "code",
   "execution_count": 223,
   "metadata": {},
   "outputs": [
    {
     "data": {
      "text/plain": [
       "1766793"
      ]
     },
     "execution_count": 223,
     "metadata": {},
     "output_type": "execute_result"
    }
   ],
   "source": [
    "NumDecWet = len( DecDF )\n",
    "NumDecWet"
   ]
  },
  {
   "cell_type": "code",
   "execution_count": 224,
   "metadata": {},
   "outputs": [],
   "source": [
    "iCnt = 0\n",
    "for iI in range(NumDecWet):\n",
    "    cRow = DecDF.loc[iI]\n",
    "    cMGridId = cRow.at[\"MGrid_Id\"]\n",
    "    cNumWet = int( cRow.at[\"Wet_Count\"] )\n",
    "    cGridId = ExGridNum( cMGridId )\n",
    "    cModelId = ExModNum( cMGridId )\n",
    "    for jJ in range(cNumWet):\n",
    "        cPDep = float( cRow.at[CurCols[StartInd+jJ]] )\n",
    "        MGridIDs[iCnt] = cMGridId\n",
    "        GridIDs[iCnt] = cGridId\n",
    "        ModelIDs[iCnt] = cModelId\n",
    "        PDDepth[iCnt] = cPDep\n",
    "        iCnt += 1\n",
    "    # end of inner for\n",
    "# end of outer for"
   ]
  },
  {
   "cell_type": "code",
   "execution_count": 225,
   "metadata": {},
   "outputs": [],
   "source": [
    "DataDict = { \"MGrid_Id\" : MGridIDs,\n",
    "             \"Grid_Id\" : GridIDs,\n",
    "             \"Model_Id\" : ModelIDs,\n",
    "             \"Precip_mm\" : PDDepth, }\n",
    "DecDayDF = pd.DataFrame( data=DataDict )"
   ]
  },
  {
   "cell_type": "markdown",
   "metadata": {},
   "source": [
    "Now want to save the January DataFrame as both a pickle and a feather so that can reuse it with both Python and R."
   ]
  },
  {
   "cell_type": "code",
   "execution_count": 226,
   "metadata": {},
   "outputs": [],
   "source": [
    "DecPCKF = os.path.normpath( os.path.join( OUT_DIR, \"Dec_WetDep_CMIP5_1981-2010.pickle\" ) )\n",
    "DecDayDF.to_pickle( DecPCKF )\n",
    "DecFeatherF = os.path.normpath( os.path.join( OUT_DIR, \"Dec_WetDep_CMIP5_1981-2010.feather\" ) )\n",
    "DecDayDF.to_feather( DecFeatherF )"
   ]
  }
 ],
 "metadata": {
  "kernelspec": {
   "display_name": "Python 3",
   "language": "python",
   "name": "python3"
  },
  "language_info": {
   "codemirror_mode": {
    "name": "ipython",
    "version": 3
   },
   "file_extension": ".py",
   "mimetype": "text/x-python",
   "name": "python",
   "nbconvert_exporter": "python",
   "pygments_lexer": "ipython3",
   "version": "3.7.5"
  }
 },
 "nbformat": 4,
 "nbformat_minor": 2
}
