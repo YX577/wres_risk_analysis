{
 "cells": [
  {
   "cell_type": "markdown",
   "metadata": {},
   "source": [
    "# Data: Wet Spell Lengths by Month"
   ]
  },
  {
   "cell_type": "markdown",
   "metadata": {},
   "source": [
    "Make violin plot comparison plots of the wet spell lengths by month"
   ]
  },
  {
   "cell_type": "markdown",
   "metadata": {},
   "source": [
    "## Imports and Parameters"
   ]
  },
  {
   "cell_type": "code",
   "execution_count": 1,
   "metadata": {},
   "outputs": [],
   "source": [
    "%matplotlib inline"
   ]
  },
  {
   "cell_type": "code",
   "execution_count": 2,
   "metadata": {},
   "outputs": [],
   "source": [
    "from IPython.display import display, HTML\n",
    "import numpy as np\n",
    "import pandas as pd\n",
    "import datetime as dt\n",
    "import matplotlib as mpl\n",
    "import matplotlib.pyplot as plt\n",
    "import os\n",
    "import pickle\n",
    "import seaborn as sns\n",
    "from copy import deepcopy"
   ]
  },
  {
   "cell_type": "code",
   "execution_count": 3,
   "metadata": {},
   "outputs": [],
   "source": [
    "IN_DIR = r'C:\\Users\\nmartin\\Documents\\CC_IRD\\Data\\Processed'\n",
    "PRISM_IN = \"WetDays_1981-2010.pickle\"\n",
    "LOCA_DP_IN = { 1 : \"Jan_WetCnt_CMIP5_1981-2010.pickle\",\n",
    "               2 : \"Feb_WetCnt_CMIP5_1981-2010.pickle\",\n",
    "               3 : \"Mar_WetCnt_CMIP5_1981-2010.pickle\",\n",
    "               4 : \"Apr_WetCnt_CMIP5_1981-2010.pickle\",\n",
    "               5 : \"May_WetCnt_CMIP5_1981-2010.pickle\",\n",
    "               6 : \"Jun_WetCnt_CMIP5_1981-2010.pickle\",\n",
    "               7 : \"Jul_WetCnt_CMIP5_1981-2010.pickle\",\n",
    "               8 : \"Aug_WetCnt_CMIP5_1981-2010.pickle\",\n",
    "               9 : \"Sep_WetCnt_CMIP5_1981-2010.pickle\",\n",
    "              10 : \"Oct_WetCnt_CMIP5_1981-2010.pickle\",\n",
    "              11 : \"Nov_WetCnt_CMIP5_1981-2010.pickle\",\n",
    "              12 : \"Dec_WetCnt_CMIP5_1981-2010.pickle\",    \n",
    "}\n",
    "LOCA_P1_IN = { 1 : \"Jan_WetCnt_CMIP5_LOCA_2011-2040.pickle\",\n",
    "               2 : \"Feb_WetCnt_CMIP5_LOCA_2011-2040.pickle\",\n",
    "               3 : \"Mar_WetCnt_CMIP5_LOCA_2011-2040.pickle\",\n",
    "               4 : \"Apr_WetCnt_CMIP5_LOCA_2011-2040.pickle\",\n",
    "               5 : \"May_WetCnt_CMIP5_LOCA_2011-2040.pickle\",\n",
    "               6 : \"Jun_WetCnt_CMIP5_LOCA_2011-2040.pickle\",\n",
    "               7 : \"Jul_WetCnt_CMIP5_LOCA_2011-2040.pickle\",\n",
    "               8 : \"Aug_WetCnt_CMIP5_LOCA_2011-2040.pickle\",\n",
    "               9 : \"Sep_WetCnt_CMIP5_LOCA_2011-2040.pickle\",\n",
    "              10 : \"Oct_WetCnt_CMIP5_LOCA_2011-2040.pickle\",\n",
    "              11 : \"Nov_WetCnt_CMIP5_LOCA_2011-2040.pickle\",\n",
    "              12 : \"Dec_WetCnt_CMIP5_LOCA_2011-2040.pickle\",    \n",
    "}\n",
    "LOCA_P2_IN = { 1 : \"Jan_WetCnt_CMIP5_LOCA_2041-2070.pickle\",\n",
    "               2 : \"Feb_WetCnt_CMIP5_LOCA_2041-2070.pickle\",\n",
    "               3 : \"Mar_WetCnt_CMIP5_LOCA_2041-2070.pickle\",\n",
    "               4 : \"Apr_WetCnt_CMIP5_LOCA_2041-2070.pickle\",\n",
    "               5 : \"May_WetCnt_CMIP5_LOCA_2041-2070.pickle\",\n",
    "               6 : \"Jun_WetCnt_CMIP5_LOCA_2041-2070.pickle\",\n",
    "               7 : \"Jul_WetCnt_CMIP5_LOCA_2041-2070.pickle\",\n",
    "               8 : \"Aug_WetCnt_CMIP5_LOCA_2041-2070.pickle\",\n",
    "               9 : \"Sep_WetCnt_CMIP5_LOCA_2041-2070.pickle\",\n",
    "              10 : \"Oct_WetCnt_CMIP5_LOCA_2041-2070.pickle\",\n",
    "              11 : \"Nov_WetCnt_CMIP5_LOCA_2041-2070.pickle\",\n",
    "              12 : \"Dec_WetCnt_CMIP5_LOCA_2041-2070.pickle\",    \n",
    "}\n",
    "LOCA_P3_IN = { 1 : \"Jan_WetCnt_CMIP5_LOCA_2071-2100.pickle\",\n",
    "               2 : \"Feb_WetCnt_CMIP5_LOCA_2071-2100.pickle\",\n",
    "               3 : \"Mar_WetCnt_CMIP5_LOCA_2071-2100.pickle\",\n",
    "               4 : \"Apr_WetCnt_CMIP5_LOCA_2071-2100.pickle\",\n",
    "               5 : \"May_WetCnt_CMIP5_LOCA_2071-2100.pickle\",\n",
    "               6 : \"Jun_WetCnt_CMIP5_LOCA_2071-2100.pickle\",\n",
    "               7 : \"Jul_WetCnt_CMIP5_LOCA_2071-2100.pickle\",\n",
    "               8 : \"Aug_WetCnt_CMIP5_LOCA_2071-2100.pickle\",\n",
    "               9 : \"Sep_WetCnt_CMIP5_LOCA_2071-2100.pickle\",\n",
    "              10 : \"Oct_WetCnt_CMIP5_LOCA_2071-2100.pickle\",\n",
    "              11 : \"Nov_WetCnt_CMIP5_LOCA_2071-2100.pickle\",\n",
    "              12 : \"Dec_WetCnt_CMIP5_LOCA_2071-2100.pickle\",    \n",
    "}\n",
    "NUM_MODEL = 64"
   ]
  },
  {
   "cell_type": "code",
   "execution_count": 4,
   "metadata": {},
   "outputs": [],
   "source": [
    "OUT_DIR = r'C:\\Users\\nmartin\\Documents\\CC_IRD\\Events'"
   ]
  },
  {
   "cell_type": "code",
   "execution_count": 5,
   "metadata": {},
   "outputs": [],
   "source": [
    "ExGridID = lambda MID: int( MID.split(\"_\")[1] )"
   ]
  },
  {
   "cell_type": "code",
   "execution_count": 6,
   "metadata": {},
   "outputs": [
    {
     "data": {
      "text/plain": [
       "1.00000000000003"
      ]
     },
     "execution_count": 6,
     "metadata": {},
     "output_type": "execute_result"
    }
   ],
   "source": [
    "PRISM_GRID = {  665148 : 0.00176052422816,\n",
    "                666551 : 0.00003619777770,\n",
    "                666552 : 0.00447893807178,\n",
    "                666553 : 0.02233714669049,\n",
    "                667952 : 0.00000017337539,\n",
    "                667953 : 0.00759409538941,\n",
    "                667954 : 0.00944984698009,\n",
    "                667955 : 0.02000399281203,\n",
    "                667956 : 0.02887520321616,\n",
    "                667957 : 0.03994590652912,\n",
    "                667958 : 0.01503588013165,\n",
    "                669356 : 0.00040530215007,\n",
    "                669357 : 0.01642009505413,\n",
    "                669358 : 0.04025673468223,\n",
    "                669359 : 0.04025524462676,\n",
    "                669360 : 0.04025378667464,\n",
    "                669361 : 0.04025236082198,\n",
    "                669362 : 0.03036726578528,\n",
    "                669363 : 0.00019977241236,\n",
    "                670761 : 0.01225891679128,\n",
    "                670762 : 0.04027489656596,\n",
    "                670763 : 0.04027337248402,\n",
    "                670764 : 0.04027188055013,\n",
    "                670765 : 0.04027042075996,\n",
    "                670766 : 0.03695970510496,\n",
    "                670767 : 0.00962956858856,\n",
    "                672166 : 0.01457105102829,\n",
    "                672167 : 0.04029151499066,\n",
    "                672168 : 0.04028998899039,\n",
    "                672169 : 0.04028849517830,\n",
    "                672170 : 0.03708655350147,\n",
    "                672171 : 0.01247135550851,\n",
    "                673571 : 0.01120101439253,\n",
    "                673572 : 0.04030811211126,\n",
    "                673573 : 0.04030658419330,\n",
    "                673574 : 0.03927785081953,\n",
    "                673575 : 0.00709453472727,\n",
    "                674976 : 0.00036798560164,\n",
    "                674977 : 0.02811487768940,\n",
    "                674978 : 0.04032315808561,\n",
    "                674979 : 0.01933268375330,\n",
    "                676382 : 0.00280777495815,\n",
    "                676383 : 0.00689566874867,\n",
    "                676384 : 0.00110356746745,\n",
    "}\n",
    "PRISM_GRID_IDs = sorted( PRISM_GRID.keys() )\n",
    "sum( PRISM_GRID.values() )"
   ]
  },
  {
   "cell_type": "code",
   "execution_count": 7,
   "metadata": {},
   "outputs": [
    {
     "data": {
      "text/plain": [
       "1.0"
      ]
     },
     "execution_count": 7,
     "metadata": {},
     "output_type": "execute_result"
    }
   ],
   "source": [
    "LOCA_GRID = {   62 : 0.00975665681587,\n",
    "                63 : 0.06984963803800,\n",
    "                64 : 0.02082930230072,\n",
    "                76 : 0.04809232194328,\n",
    "                77 : 0.08996761256735,\n",
    "                78 : 0.07587308637403,\n",
    "                79 : 0.00856966746339,\n",
    "                90 : 0.05037034481002,\n",
    "                91 : 0.09141978145391,\n",
    "                92 : 0.09133421001522,\n",
    "                93 : 0.07894275139521,\n",
    "                94 : 0.00987122962317,\n",
    "                104 : 0.00563905995157,\n",
    "                105 : 0.05800708699594,\n",
    "                106 : 0.07837366767499,\n",
    "                107 : 0.08920227204998,\n",
    "                108 : 0.05516277301390,\n",
    "                120 : 0.00103060109449,\n",
    "                121 : 0.00904520193285,\n",
    "                122 : 0.04853306134652,\n",
    "                123 : 0.00852111547488,\n",
    "                137 : 0.00160855766471,\n",
    "}\n",
    "LOCA_GRID_IDs = sorted( LOCA_GRID.keys() )\n",
    "sum( LOCA_GRID.values() )"
   ]
  },
  {
   "cell_type": "markdown",
   "metadata": {},
   "source": [
    "## Load PRISM"
   ]
  },
  {
   "cell_type": "code",
   "execution_count": 8,
   "metadata": {},
   "outputs": [],
   "source": [
    "InFiler = os.path.normpath( os.path.join( IN_DIR, \"PRISM\", PRISM_IN ) )\n",
    "PrismDF = pd.read_pickle( InFiler )"
   ]
  },
  {
   "cell_type": "code",
   "execution_count": 9,
   "metadata": {},
   "outputs": [
    {
     "data": {
      "text/html": [
       "<table border=\"1\" class=\"dataframe\">\n",
       "  <thead>\n",
       "    <tr style=\"text-align: right;\">\n",
       "      <th></th>\n",
       "      <th>Grid_Id</th>\n",
       "      <th>Year</th>\n",
       "      <th>Month</th>\n",
       "      <th>Day</th>\n",
       "      <th>Wet_Count</th>\n",
       "      <th>Total_Depth</th>\n",
       "      <th>Day_1</th>\n",
       "      <th>Day_2</th>\n",
       "      <th>Day_3</th>\n",
       "      <th>Day_4</th>\n",
       "      <th>Day_5</th>\n",
       "      <th>Day_6</th>\n",
       "      <th>Day_7</th>\n",
       "      <th>Day_8</th>\n",
       "      <th>Day_9</th>\n",
       "      <th>Day_10</th>\n",
       "      <th>Day_11</th>\n",
       "      <th>Day_12</th>\n",
       "      <th>Day_13</th>\n",
       "      <th>Day_14</th>\n",
       "      <th>Day_15</th>\n",
       "      <th>Day_16</th>\n",
       "      <th>Day_17</th>\n",
       "      <th>Day_18</th>\n",
       "      <th>Day_19</th>\n",
       "    </tr>\n",
       "  </thead>\n",
       "  <tbody>\n",
       "    <tr>\n",
       "      <th>0</th>\n",
       "      <td>662328</td>\n",
       "      <td>1981</td>\n",
       "      <td>1</td>\n",
       "      <td>6</td>\n",
       "      <td>1</td>\n",
       "      <td>1.31</td>\n",
       "      <td>1.31</td>\n",
       "      <td>0.00</td>\n",
       "      <td>0.00</td>\n",
       "      <td>0.0</td>\n",
       "      <td>0.0</td>\n",
       "      <td>0.0</td>\n",
       "      <td>0.0</td>\n",
       "      <td>0.0</td>\n",
       "      <td>0.0</td>\n",
       "      <td>0.0</td>\n",
       "      <td>0.0</td>\n",
       "      <td>0.0</td>\n",
       "      <td>0.0</td>\n",
       "      <td>0.0</td>\n",
       "      <td>0.0</td>\n",
       "      <td>0.0</td>\n",
       "      <td>0.0</td>\n",
       "      <td>0.0</td>\n",
       "      <td>0.0</td>\n",
       "    </tr>\n",
       "    <tr>\n",
       "      <th>1</th>\n",
       "      <td>662328</td>\n",
       "      <td>1981</td>\n",
       "      <td>1</td>\n",
       "      <td>9</td>\n",
       "      <td>1</td>\n",
       "      <td>7.96</td>\n",
       "      <td>7.96</td>\n",
       "      <td>0.00</td>\n",
       "      <td>0.00</td>\n",
       "      <td>0.0</td>\n",
       "      <td>0.0</td>\n",
       "      <td>0.0</td>\n",
       "      <td>0.0</td>\n",
       "      <td>0.0</td>\n",
       "      <td>0.0</td>\n",
       "      <td>0.0</td>\n",
       "      <td>0.0</td>\n",
       "      <td>0.0</td>\n",
       "      <td>0.0</td>\n",
       "      <td>0.0</td>\n",
       "      <td>0.0</td>\n",
       "      <td>0.0</td>\n",
       "      <td>0.0</td>\n",
       "      <td>0.0</td>\n",
       "      <td>0.0</td>\n",
       "    </tr>\n",
       "    <tr>\n",
       "      <th>2</th>\n",
       "      <td>662328</td>\n",
       "      <td>1981</td>\n",
       "      <td>1</td>\n",
       "      <td>11</td>\n",
       "      <td>1</td>\n",
       "      <td>0.32</td>\n",
       "      <td>0.32</td>\n",
       "      <td>0.00</td>\n",
       "      <td>0.00</td>\n",
       "      <td>0.0</td>\n",
       "      <td>0.0</td>\n",
       "      <td>0.0</td>\n",
       "      <td>0.0</td>\n",
       "      <td>0.0</td>\n",
       "      <td>0.0</td>\n",
       "      <td>0.0</td>\n",
       "      <td>0.0</td>\n",
       "      <td>0.0</td>\n",
       "      <td>0.0</td>\n",
       "      <td>0.0</td>\n",
       "      <td>0.0</td>\n",
       "      <td>0.0</td>\n",
       "      <td>0.0</td>\n",
       "      <td>0.0</td>\n",
       "      <td>0.0</td>\n",
       "    </tr>\n",
       "    <tr>\n",
       "      <th>3</th>\n",
       "      <td>662328</td>\n",
       "      <td>1981</td>\n",
       "      <td>1</td>\n",
       "      <td>14</td>\n",
       "      <td>1</td>\n",
       "      <td>0.70</td>\n",
       "      <td>0.70</td>\n",
       "      <td>0.00</td>\n",
       "      <td>0.00</td>\n",
       "      <td>0.0</td>\n",
       "      <td>0.0</td>\n",
       "      <td>0.0</td>\n",
       "      <td>0.0</td>\n",
       "      <td>0.0</td>\n",
       "      <td>0.0</td>\n",
       "      <td>0.0</td>\n",
       "      <td>0.0</td>\n",
       "      <td>0.0</td>\n",
       "      <td>0.0</td>\n",
       "      <td>0.0</td>\n",
       "      <td>0.0</td>\n",
       "      <td>0.0</td>\n",
       "      <td>0.0</td>\n",
       "      <td>0.0</td>\n",
       "      <td>0.0</td>\n",
       "    </tr>\n",
       "    <tr>\n",
       "      <th>4</th>\n",
       "      <td>662328</td>\n",
       "      <td>1981</td>\n",
       "      <td>1</td>\n",
       "      <td>17</td>\n",
       "      <td>3</td>\n",
       "      <td>12.92</td>\n",
       "      <td>1.08</td>\n",
       "      <td>5.27</td>\n",
       "      <td>6.57</td>\n",
       "      <td>0.0</td>\n",
       "      <td>0.0</td>\n",
       "      <td>0.0</td>\n",
       "      <td>0.0</td>\n",
       "      <td>0.0</td>\n",
       "      <td>0.0</td>\n",
       "      <td>0.0</td>\n",
       "      <td>0.0</td>\n",
       "      <td>0.0</td>\n",
       "      <td>0.0</td>\n",
       "      <td>0.0</td>\n",
       "      <td>0.0</td>\n",
       "      <td>0.0</td>\n",
       "      <td>0.0</td>\n",
       "      <td>0.0</td>\n",
       "      <td>0.0</td>\n",
       "    </tr>\n",
       "  </tbody>\n",
       "</table>"
      ],
      "text/plain": [
       "<IPython.core.display.HTML object>"
      ]
     },
     "metadata": {},
     "output_type": "display_data"
    }
   ],
   "source": [
    "display( HTML( PrismDF.head().to_html() ) )"
   ]
  },
  {
   "cell_type": "code",
   "execution_count": 10,
   "metadata": {},
   "outputs": [
    {
     "data": {
      "text/plain": [
       "226190"
      ]
     },
     "execution_count": 10,
     "metadata": {},
     "output_type": "execute_result"
    }
   ],
   "source": [
    "len( PrismDF )"
   ]
  },
  {
   "cell_type": "code",
   "execution_count": 11,
   "metadata": {},
   "outputs": [
    {
     "data": {
      "text/plain": [
       "47329"
      ]
     },
     "execution_count": 11,
     "metadata": {},
     "output_type": "execute_result"
    }
   ],
   "source": [
    "WSPrismDF = PrismDF[PrismDF[\"Grid_Id\"].isin( PRISM_GRID_IDs )].copy()\n",
    "len( WSPrismDF )"
   ]
  },
  {
   "cell_type": "code",
   "execution_count": 12,
   "metadata": {},
   "outputs": [
    {
     "data": {
      "text/html": [
       "<table border=\"1\" class=\"dataframe\">\n",
       "  <thead>\n",
       "    <tr style=\"text-align: right;\">\n",
       "      <th></th>\n",
       "      <th>Grid_Id</th>\n",
       "      <th>Year</th>\n",
       "      <th>Month</th>\n",
       "      <th>Day</th>\n",
       "      <th>Wet_Count</th>\n",
       "      <th>Total_Depth</th>\n",
       "      <th>Day_1</th>\n",
       "      <th>Day_2</th>\n",
       "      <th>Day_3</th>\n",
       "      <th>Day_4</th>\n",
       "      <th>Day_5</th>\n",
       "      <th>Day_6</th>\n",
       "      <th>Day_7</th>\n",
       "      <th>Day_8</th>\n",
       "      <th>Day_9</th>\n",
       "      <th>Day_10</th>\n",
       "      <th>Day_11</th>\n",
       "      <th>Day_12</th>\n",
       "      <th>Day_13</th>\n",
       "      <th>Day_14</th>\n",
       "      <th>Day_15</th>\n",
       "      <th>Day_16</th>\n",
       "      <th>Day_17</th>\n",
       "      <th>Day_18</th>\n",
       "      <th>Day_19</th>\n",
       "    </tr>\n",
       "  </thead>\n",
       "  <tbody>\n",
       "    <tr>\n",
       "      <th>count</th>\n",
       "      <td>47329.000000</td>\n",
       "      <td>47329.000000</td>\n",
       "      <td>47329.00000</td>\n",
       "      <td>47329.000000</td>\n",
       "      <td>47329.000000</td>\n",
       "      <td>47329.000000</td>\n",
       "      <td>47329.000000</td>\n",
       "      <td>47329.000000</td>\n",
       "      <td>47329.000000</td>\n",
       "      <td>47329.000000</td>\n",
       "      <td>47329.000000</td>\n",
       "      <td>47329.000000</td>\n",
       "      <td>47329.000000</td>\n",
       "      <td>47329.000000</td>\n",
       "      <td>47329.000000</td>\n",
       "      <td>47329.000000</td>\n",
       "      <td>47329.000000</td>\n",
       "      <td>47329.000000</td>\n",
       "      <td>47329.000000</td>\n",
       "      <td>47329.000000</td>\n",
       "      <td>47329.000000</td>\n",
       "      <td>47329.000000</td>\n",
       "      <td>47329.000000</td>\n",
       "      <td>47329.000000</td>\n",
       "      <td>47329.000000</td>\n",
       "    </tr>\n",
       "    <tr>\n",
       "      <th>mean</th>\n",
       "      <td>670857.050772</td>\n",
       "      <td>1995.398360</td>\n",
       "      <td>6.27873</td>\n",
       "      <td>15.807074</td>\n",
       "      <td>1.966405</td>\n",
       "      <td>14.752258</td>\n",
       "      <td>5.966657</td>\n",
       "      <td>4.769479</td>\n",
       "      <td>1.867925</td>\n",
       "      <td>0.897483</td>\n",
       "      <td>0.475864</td>\n",
       "      <td>0.248608</td>\n",
       "      <td>0.161971</td>\n",
       "      <td>0.098425</td>\n",
       "      <td>0.033350</td>\n",
       "      <td>0.011313</td>\n",
       "      <td>0.041466</td>\n",
       "      <td>0.095181</td>\n",
       "      <td>0.026695</td>\n",
       "      <td>0.012728</td>\n",
       "      <td>0.006461</td>\n",
       "      <td>0.013111</td>\n",
       "      <td>0.006078</td>\n",
       "      <td>0.019366</td>\n",
       "      <td>0.000097</td>\n",
       "    </tr>\n",
       "    <tr>\n",
       "      <th>std</th>\n",
       "      <td>2910.705916</td>\n",
       "      <td>8.754043</td>\n",
       "      <td>3.25788</td>\n",
       "      <td>8.909511</td>\n",
       "      <td>1.408094</td>\n",
       "      <td>22.262867</td>\n",
       "      <td>8.870597</td>\n",
       "      <td>9.833955</td>\n",
       "      <td>5.699056</td>\n",
       "      <td>4.674314</td>\n",
       "      <td>3.580288</td>\n",
       "      <td>2.780688</td>\n",
       "      <td>2.256475</td>\n",
       "      <td>1.554868</td>\n",
       "      <td>0.764202</td>\n",
       "      <td>0.295985</td>\n",
       "      <td>1.394576</td>\n",
       "      <td>2.577572</td>\n",
       "      <td>0.722126</td>\n",
       "      <td>0.308708</td>\n",
       "      <td>0.241156</td>\n",
       "      <td>0.486133</td>\n",
       "      <td>0.232613</td>\n",
       "      <td>0.721044</td>\n",
       "      <td>0.005719</td>\n",
       "    </tr>\n",
       "    <tr>\n",
       "      <th>min</th>\n",
       "      <td>665148.000000</td>\n",
       "      <td>1981.000000</td>\n",
       "      <td>1.00000</td>\n",
       "      <td>1.000000</td>\n",
       "      <td>1.000000</td>\n",
       "      <td>0.200000</td>\n",
       "      <td>0.200000</td>\n",
       "      <td>0.000000</td>\n",
       "      <td>0.000000</td>\n",
       "      <td>0.000000</td>\n",
       "      <td>0.000000</td>\n",
       "      <td>0.000000</td>\n",
       "      <td>0.000000</td>\n",
       "      <td>0.000000</td>\n",
       "      <td>0.000000</td>\n",
       "      <td>0.000000</td>\n",
       "      <td>0.000000</td>\n",
       "      <td>0.000000</td>\n",
       "      <td>0.000000</td>\n",
       "      <td>0.000000</td>\n",
       "      <td>0.000000</td>\n",
       "      <td>0.000000</td>\n",
       "      <td>0.000000</td>\n",
       "      <td>0.000000</td>\n",
       "      <td>0.000000</td>\n",
       "    </tr>\n",
       "    <tr>\n",
       "      <th>25%</th>\n",
       "      <td>667958.000000</td>\n",
       "      <td>1987.000000</td>\n",
       "      <td>4.00000</td>\n",
       "      <td>8.000000</td>\n",
       "      <td>1.000000</td>\n",
       "      <td>1.760000</td>\n",
       "      <td>0.900000</td>\n",
       "      <td>0.000000</td>\n",
       "      <td>0.000000</td>\n",
       "      <td>0.000000</td>\n",
       "      <td>0.000000</td>\n",
       "      <td>0.000000</td>\n",
       "      <td>0.000000</td>\n",
       "      <td>0.000000</td>\n",
       "      <td>0.000000</td>\n",
       "      <td>0.000000</td>\n",
       "      <td>0.000000</td>\n",
       "      <td>0.000000</td>\n",
       "      <td>0.000000</td>\n",
       "      <td>0.000000</td>\n",
       "      <td>0.000000</td>\n",
       "      <td>0.000000</td>\n",
       "      <td>0.000000</td>\n",
       "      <td>0.000000</td>\n",
       "      <td>0.000000</td>\n",
       "    </tr>\n",
       "    <tr>\n",
       "      <th>50%</th>\n",
       "      <td>670763.000000</td>\n",
       "      <td>1995.000000</td>\n",
       "      <td>6.00000</td>\n",
       "      <td>15.000000</td>\n",
       "      <td>2.000000</td>\n",
       "      <td>6.540000</td>\n",
       "      <td>2.630000</td>\n",
       "      <td>0.460000</td>\n",
       "      <td>0.000000</td>\n",
       "      <td>0.000000</td>\n",
       "      <td>0.000000</td>\n",
       "      <td>0.000000</td>\n",
       "      <td>0.000000</td>\n",
       "      <td>0.000000</td>\n",
       "      <td>0.000000</td>\n",
       "      <td>0.000000</td>\n",
       "      <td>0.000000</td>\n",
       "      <td>0.000000</td>\n",
       "      <td>0.000000</td>\n",
       "      <td>0.000000</td>\n",
       "      <td>0.000000</td>\n",
       "      <td>0.000000</td>\n",
       "      <td>0.000000</td>\n",
       "      <td>0.000000</td>\n",
       "      <td>0.000000</td>\n",
       "    </tr>\n",
       "    <tr>\n",
       "      <th>75%</th>\n",
       "      <td>673571.000000</td>\n",
       "      <td>2003.000000</td>\n",
       "      <td>9.00000</td>\n",
       "      <td>24.000000</td>\n",
       "      <td>2.000000</td>\n",
       "      <td>18.090000</td>\n",
       "      <td>7.230000</td>\n",
       "      <td>5.210000</td>\n",
       "      <td>0.000000</td>\n",
       "      <td>0.000000</td>\n",
       "      <td>0.000000</td>\n",
       "      <td>0.000000</td>\n",
       "      <td>0.000000</td>\n",
       "      <td>0.000000</td>\n",
       "      <td>0.000000</td>\n",
       "      <td>0.000000</td>\n",
       "      <td>0.000000</td>\n",
       "      <td>0.000000</td>\n",
       "      <td>0.000000</td>\n",
       "      <td>0.000000</td>\n",
       "      <td>0.000000</td>\n",
       "      <td>0.000000</td>\n",
       "      <td>0.000000</td>\n",
       "      <td>0.000000</td>\n",
       "      <td>0.000000</td>\n",
       "    </tr>\n",
       "    <tr>\n",
       "      <th>max</th>\n",
       "      <td>676384.000000</td>\n",
       "      <td>2010.000000</td>\n",
       "      <td>12.00000</td>\n",
       "      <td>31.000000</td>\n",
       "      <td>19.000000</td>\n",
       "      <td>318.780005</td>\n",
       "      <td>130.320007</td>\n",
       "      <td>200.690002</td>\n",
       "      <td>80.129997</td>\n",
       "      <td>102.910004</td>\n",
       "      <td>117.230003</td>\n",
       "      <td>76.699997</td>\n",
       "      <td>120.930000</td>\n",
       "      <td>71.309998</td>\n",
       "      <td>53.560001</td>\n",
       "      <td>28.850000</td>\n",
       "      <td>164.240005</td>\n",
       "      <td>140.009995</td>\n",
       "      <td>41.040001</td>\n",
       "      <td>21.820000</td>\n",
       "      <td>12.270000</td>\n",
       "      <td>23.129999</td>\n",
       "      <td>13.830000</td>\n",
       "      <td>34.720001</td>\n",
       "      <td>0.420000</td>\n",
       "    </tr>\n",
       "  </tbody>\n",
       "</table>"
      ],
      "text/plain": [
       "<IPython.core.display.HTML object>"
      ]
     },
     "metadata": {},
     "output_type": "display_data"
    }
   ],
   "source": [
    "display( HTML( WSPrismDF.describe().to_html() ) )"
   ]
  },
  {
   "cell_type": "markdown",
   "metadata": {},
   "source": [
    "Extract the arrays of spell lengths by months to a dictionary"
   ]
  },
  {
   "cell_type": "code",
   "execution_count": 13,
   "metadata": {},
   "outputs": [],
   "source": [
    "PrismMonDict = dict()"
   ]
  },
  {
   "cell_type": "code",
   "execution_count": 14,
   "metadata": {},
   "outputs": [
    {
     "name": "stdout",
     "output_type": "stream",
     "text": [
      "Month 1: 3699 dry spells, max 9\n",
      "Month 2: 3598 dry spells, max 6\n",
      "Month 3: 4339 dry spells, max 6\n",
      "Month 4: 3915 dry spells, max 6\n",
      "Month 5: 5191 dry spells, max 8\n",
      "Month 6: 4814 dry spells, max 14\n",
      "Month 7: 3624 dry spells, max 9\n",
      "Month 8: 4136 dry spells, max 15\n",
      "Month 9: 4283 dry spells, max 8\n",
      "Month 10: 4077 dry spells, max 19\n",
      "Month 11: 2854 dry spells, max 8\n",
      "Month 12: 2799 dry spells, max 8\n"
     ]
    }
   ],
   "source": [
    "for iI in range(1, 13, 1):\n",
    "    cMonDF = WSPrismDF[WSPrismDF[\"Month\"] == iI].copy()\n",
    "    cPrAr = cMonDF[\"Wet_Count\"].to_numpy()\n",
    "    print(\"Month %d: %d wet spells, max %g\" % ( iI, cPrAr.shape[0], cPrAr.max() ) )\n",
    "    PrismMonDict[iI] = cPrAr\n",
    "# end for"
   ]
  },
  {
   "cell_type": "code",
   "execution_count": 15,
   "metadata": {},
   "outputs": [],
   "source": [
    "del PrismDF\n",
    "del WSPrismDF"
   ]
  },
  {
   "cell_type": "markdown",
   "metadata": {},
   "source": [
    "Output to a pickle in case that need to use these later"
   ]
  },
  {
   "cell_type": "code",
   "execution_count": 16,
   "metadata": {},
   "outputs": [],
   "source": [
    "OutFiler = os.path.normpath( os.path.join( OUT_DIR, \"PRISM_DP_WetSpell_by_Month.pickle\" ) )\n",
    "with open( OutFiler, 'wb' ) as OP:\n",
    "    pickle.dump( PrismMonDict, OP, protocol=pickle.HIGHEST_PROTOCOL )\n",
    "# end with"
   ]
  },
  {
   "cell_type": "markdown",
   "metadata": {},
   "source": [
    "# Load LOCA"
   ]
  },
  {
   "cell_type": "markdown",
   "metadata": {},
   "source": [
    "There is a separate file for each analysis period and will have to handle these individually"
   ]
  },
  {
   "cell_type": "markdown",
   "metadata": {},
   "source": [
    "### Data Period"
   ]
  },
  {
   "cell_type": "code",
   "execution_count": 17,
   "metadata": {},
   "outputs": [],
   "source": [
    "cMon = 1\n",
    "InFiler = os.path.normpath( os.path.join( IN_DIR, \"LOCA\", LOCA_DP_IN[cMon] ) )\n",
    "LOCA_DP_DF = pd.read_pickle( InFiler )"
   ]
  },
  {
   "cell_type": "code",
   "execution_count": 18,
   "metadata": {},
   "outputs": [],
   "source": [
    "#LOCA_DP_DF[\"Grid_Id\"] = LOCA_DP_DF.apply( lambda row: ExGridID(row[\"MGrid_Id\"]), axis=1 )"
   ]
  },
  {
   "cell_type": "code",
   "execution_count": 19,
   "metadata": {},
   "outputs": [
    {
     "data": {
      "text/html": [
       "<table border=\"1\" class=\"dataframe\">\n",
       "  <thead>\n",
       "    <tr style=\"text-align: right;\">\n",
       "      <th></th>\n",
       "      <th>MGrid_Id</th>\n",
       "      <th>Year</th>\n",
       "      <th>Month</th>\n",
       "      <th>Day</th>\n",
       "      <th>Wet_Count</th>\n",
       "      <th>Total_Depth</th>\n",
       "      <th>Grid_Id</th>\n",
       "      <th>Model_Id</th>\n",
       "    </tr>\n",
       "  </thead>\n",
       "  <tbody>\n",
       "    <tr>\n",
       "      <th>0</th>\n",
       "      <td>M100_169</td>\n",
       "      <td>1981</td>\n",
       "      <td>1</td>\n",
       "      <td>2</td>\n",
       "      <td>2</td>\n",
       "      <td>11.387080</td>\n",
       "      <td>169</td>\n",
       "      <td>100</td>\n",
       "    </tr>\n",
       "    <tr>\n",
       "      <th>1</th>\n",
       "      <td>M100_169</td>\n",
       "      <td>1981</td>\n",
       "      <td>1</td>\n",
       "      <td>7</td>\n",
       "      <td>6</td>\n",
       "      <td>15.535727</td>\n",
       "      <td>169</td>\n",
       "      <td>100</td>\n",
       "    </tr>\n",
       "    <tr>\n",
       "      <th>2</th>\n",
       "      <td>M100_169</td>\n",
       "      <td>1981</td>\n",
       "      <td>1</td>\n",
       "      <td>14</td>\n",
       "      <td>4</td>\n",
       "      <td>6.075534</td>\n",
       "      <td>169</td>\n",
       "      <td>100</td>\n",
       "    </tr>\n",
       "    <tr>\n",
       "      <th>3</th>\n",
       "      <td>M100_169</td>\n",
       "      <td>1981</td>\n",
       "      <td>1</td>\n",
       "      <td>24</td>\n",
       "      <td>2</td>\n",
       "      <td>3.113439</td>\n",
       "      <td>169</td>\n",
       "      <td>100</td>\n",
       "    </tr>\n",
       "    <tr>\n",
       "      <th>4</th>\n",
       "      <td>M100_169</td>\n",
       "      <td>1981</td>\n",
       "      <td>1</td>\n",
       "      <td>27</td>\n",
       "      <td>1</td>\n",
       "      <td>0.894761</td>\n",
       "      <td>169</td>\n",
       "      <td>100</td>\n",
       "    </tr>\n",
       "  </tbody>\n",
       "</table>"
      ],
      "text/plain": [
       "<IPython.core.display.HTML object>"
      ]
     },
     "metadata": {},
     "output_type": "display_data"
    }
   ],
   "source": [
    "display( HTML( LOCA_DP_DF.head().to_html() ) )"
   ]
  },
  {
   "cell_type": "code",
   "execution_count": 20,
   "metadata": {},
   "outputs": [
    {
     "data": {
      "text/plain": [
       "1718160"
      ]
     },
     "execution_count": 20,
     "metadata": {},
     "output_type": "execute_result"
    }
   ],
   "source": [
    "len( LOCA_DP_DF )"
   ]
  },
  {
   "cell_type": "code",
   "execution_count": 21,
   "metadata": {},
   "outputs": [
    {
     "data": {
      "text/plain": [
       "133246"
      ]
     },
     "execution_count": 21,
     "metadata": {},
     "output_type": "execute_result"
    }
   ],
   "source": [
    "WSL_DP_DF = LOCA_DP_DF[LOCA_DP_DF[\"Grid_Id\"].isin( LOCA_GRID_IDs )].copy()\n",
    "len( WSL_DP_DF )"
   ]
  },
  {
   "cell_type": "code",
   "execution_count": 22,
   "metadata": {},
   "outputs": [],
   "source": [
    "del LOCA_DP_DF"
   ]
  },
  {
   "cell_type": "code",
   "execution_count": 23,
   "metadata": {},
   "outputs": [
    {
     "data": {
      "text/html": [
       "<table border=\"1\" class=\"dataframe\">\n",
       "  <thead>\n",
       "    <tr style=\"text-align: right;\">\n",
       "      <th></th>\n",
       "      <th>Year</th>\n",
       "      <th>Month</th>\n",
       "      <th>Day</th>\n",
       "      <th>Wet_Count</th>\n",
       "      <th>Total_Depth</th>\n",
       "      <th>Grid_Id</th>\n",
       "      <th>Model_Id</th>\n",
       "    </tr>\n",
       "  </thead>\n",
       "  <tbody>\n",
       "    <tr>\n",
       "      <th>count</th>\n",
       "      <td>133246.000000</td>\n",
       "      <td>133246.0</td>\n",
       "      <td>133246.000000</td>\n",
       "      <td>133246.000000</td>\n",
       "      <td>133246.000000</td>\n",
       "      <td>133246.000000</td>\n",
       "      <td>133246.000000</td>\n",
       "    </tr>\n",
       "    <tr>\n",
       "      <th>mean</th>\n",
       "      <td>1995.270867</td>\n",
       "      <td>1.0</td>\n",
       "      <td>16.472585</td>\n",
       "      <td>1.848693</td>\n",
       "      <td>5.549241</td>\n",
       "      <td>96.000931</td>\n",
       "      <td>32.455023</td>\n",
       "    </tr>\n",
       "    <tr>\n",
       "      <th>std</th>\n",
       "      <td>8.699206</td>\n",
       "      <td>0.0</td>\n",
       "      <td>8.972028</td>\n",
       "      <td>1.156222</td>\n",
       "      <td>8.956883</td>\n",
       "      <td>20.813730</td>\n",
       "      <td>18.479746</td>\n",
       "    </tr>\n",
       "    <tr>\n",
       "      <th>min</th>\n",
       "      <td>1981.000000</td>\n",
       "      <td>1.0</td>\n",
       "      <td>1.000000</td>\n",
       "      <td>1.000000</td>\n",
       "      <td>0.200019</td>\n",
       "      <td>62.000000</td>\n",
       "      <td>1.000000</td>\n",
       "    </tr>\n",
       "    <tr>\n",
       "      <th>25%</th>\n",
       "      <td>1988.000000</td>\n",
       "      <td>1.0</td>\n",
       "      <td>9.000000</td>\n",
       "      <td>1.000000</td>\n",
       "      <td>0.590504</td>\n",
       "      <td>78.000000</td>\n",
       "      <td>17.000000</td>\n",
       "    </tr>\n",
       "    <tr>\n",
       "      <th>50%</th>\n",
       "      <td>1995.000000</td>\n",
       "      <td>1.0</td>\n",
       "      <td>17.000000</td>\n",
       "      <td>1.000000</td>\n",
       "      <td>1.901467</td>\n",
       "      <td>93.000000</td>\n",
       "      <td>33.000000</td>\n",
       "    </tr>\n",
       "    <tr>\n",
       "      <th>75%</th>\n",
       "      <td>2003.000000</td>\n",
       "      <td>1.0</td>\n",
       "      <td>24.000000</td>\n",
       "      <td>2.000000</td>\n",
       "      <td>6.602073</td>\n",
       "      <td>108.000000</td>\n",
       "      <td>49.000000</td>\n",
       "    </tr>\n",
       "    <tr>\n",
       "      <th>max</th>\n",
       "      <td>2010.000000</td>\n",
       "      <td>1.0</td>\n",
       "      <td>31.000000</td>\n",
       "      <td>12.000000</td>\n",
       "      <td>92.907669</td>\n",
       "      <td>137.000000</td>\n",
       "      <td>64.000000</td>\n",
       "    </tr>\n",
       "  </tbody>\n",
       "</table>"
      ],
      "text/plain": [
       "<IPython.core.display.HTML object>"
      ]
     },
     "metadata": {},
     "output_type": "display_data"
    }
   ],
   "source": [
    "display( HTML( WSL_DP_DF.describe().to_html() ) )"
   ]
  },
  {
   "cell_type": "code",
   "execution_count": 24,
   "metadata": {},
   "outputs": [],
   "source": [
    "L_DP_MD = dict()"
   ]
  },
  {
   "cell_type": "code",
   "execution_count": 25,
   "metadata": {},
   "outputs": [
    {
     "name": "stdout",
     "output_type": "stream",
     "text": [
      "Month 1: 133246 wet spells, 12 max\n",
      "Month 2: 133666 wet spells, 13 max\n",
      "Month 3: 146777 wet spells, 19 max\n",
      "Month 4: 165299 wet spells, 21 max\n",
      "Month 5: 195317 wet spells, 37 max\n",
      "Month 6: 162592 wet spells, 29 max\n",
      "Month 7: 135080 wet spells, 37 max\n",
      "Month 8: 145206 wet spells, 30 max\n",
      "Month 9: 158730 wet spells, 22 max\n",
      "Month 10: 148301 wet spells, 17 max\n",
      "Month 11: 150757 wet spells, 17 max\n",
      "Month 12: 143840 wet spells, 12 max\n"
     ]
    }
   ],
   "source": [
    "for iI in range(1, 13, 1):\n",
    "    InFiler = os.path.normpath( os.path.join( IN_DIR, \"LOCA\", LOCA_DP_IN[iI] ) )\n",
    "    LOCA_DP_DF = pd.read_pickle( InFiler )\n",
    "    WSL_DP_DF = LOCA_DP_DF[LOCA_DP_DF[\"Grid_Id\"].isin( LOCA_GRID_IDs )].copy()\n",
    "    cMonDF = WSL_DP_DF[WSL_DP_DF[\"Month\"] == iI].copy()\n",
    "    cLocaAr = cMonDF[\"Wet_Count\"].to_numpy()\n",
    "    print(\"Month %d: %d wet spells, %g max\" % ( iI, cLocaAr.shape[0], cLocaAr.max() ) )\n",
    "    L_DP_MD[iI] = cLocaAr\n",
    "# end for"
   ]
  },
  {
   "cell_type": "code",
   "execution_count": 26,
   "metadata": {},
   "outputs": [],
   "source": [
    "del WSL_DP_DF\n",
    "del LOCA_DP_DF"
   ]
  },
  {
   "cell_type": "markdown",
   "metadata": {},
   "source": [
    "Output to a pickle file in case need to use again later"
   ]
  },
  {
   "cell_type": "code",
   "execution_count": 27,
   "metadata": {},
   "outputs": [],
   "source": [
    "OutFiler = os.path.normpath( os.path.join( OUT_DIR, \"LOCA_DP_WetSpell_by_Month.pickle\" ) )\n",
    "with open( OutFiler, 'wb' ) as OP:\n",
    "    pickle.dump( L_DP_MD, OP, protocol=pickle.HIGHEST_PROTOCOL )\n",
    "# end with"
   ]
  },
  {
   "cell_type": "markdown",
   "metadata": {},
   "source": [
    "### Projection 1"
   ]
  },
  {
   "cell_type": "code",
   "execution_count": 28,
   "metadata": {},
   "outputs": [],
   "source": [
    "cMon = 1\n",
    "InFiler = os.path.normpath( os.path.join( IN_DIR, \"LOCA\", LOCA_P1_IN[cMon] ) )\n",
    "LOCA_P1_DF = pd.read_pickle( InFiler )"
   ]
  },
  {
   "cell_type": "code",
   "execution_count": 29,
   "metadata": {},
   "outputs": [
    {
     "data": {
      "text/html": [
       "<table border=\"1\" class=\"dataframe\">\n",
       "  <thead>\n",
       "    <tr style=\"text-align: right;\">\n",
       "      <th></th>\n",
       "      <th>MGrid_Id</th>\n",
       "      <th>Grid_Id</th>\n",
       "      <th>Mod_Id</th>\n",
       "      <th>Year</th>\n",
       "      <th>Month</th>\n",
       "      <th>Day</th>\n",
       "      <th>Wet_Count</th>\n",
       "      <th>Model_Id</th>\n",
       "    </tr>\n",
       "  </thead>\n",
       "  <tbody>\n",
       "    <tr>\n",
       "      <th>0</th>\n",
       "      <td>M10_1</td>\n",
       "      <td>1</td>\n",
       "      <td>10</td>\n",
       "      <td>2011</td>\n",
       "      <td>1</td>\n",
       "      <td>9</td>\n",
       "      <td>1</td>\n",
       "      <td>10</td>\n",
       "    </tr>\n",
       "    <tr>\n",
       "      <th>1</th>\n",
       "      <td>M10_1</td>\n",
       "      <td>1</td>\n",
       "      <td>10</td>\n",
       "      <td>2011</td>\n",
       "      <td>1</td>\n",
       "      <td>15</td>\n",
       "      <td>2</td>\n",
       "      <td>10</td>\n",
       "    </tr>\n",
       "    <tr>\n",
       "      <th>38</th>\n",
       "      <td>M10_1</td>\n",
       "      <td>1</td>\n",
       "      <td>10</td>\n",
       "      <td>2012</td>\n",
       "      <td>1</td>\n",
       "      <td>17</td>\n",
       "      <td>1</td>\n",
       "      <td>10</td>\n",
       "    </tr>\n",
       "    <tr>\n",
       "      <th>39</th>\n",
       "      <td>M10_1</td>\n",
       "      <td>1</td>\n",
       "      <td>10</td>\n",
       "      <td>2012</td>\n",
       "      <td>1</td>\n",
       "      <td>28</td>\n",
       "      <td>1</td>\n",
       "      <td>10</td>\n",
       "    </tr>\n",
       "    <tr>\n",
       "      <th>40</th>\n",
       "      <td>M10_1</td>\n",
       "      <td>1</td>\n",
       "      <td>10</td>\n",
       "      <td>2012</td>\n",
       "      <td>1</td>\n",
       "      <td>31</td>\n",
       "      <td>1</td>\n",
       "      <td>10</td>\n",
       "    </tr>\n",
       "  </tbody>\n",
       "</table>"
      ],
      "text/plain": [
       "<IPython.core.display.HTML object>"
      ]
     },
     "metadata": {},
     "output_type": "display_data"
    }
   ],
   "source": [
    "display( HTML( LOCA_P1_DF.head().to_html() ) )"
   ]
  },
  {
   "cell_type": "code",
   "execution_count": 30,
   "metadata": {},
   "outputs": [
    {
     "data": {
      "text/plain": [
       "936856"
      ]
     },
     "execution_count": 30,
     "metadata": {},
     "output_type": "execute_result"
    }
   ],
   "source": [
    "len( LOCA_P1_DF )"
   ]
  },
  {
   "cell_type": "code",
   "execution_count": 31,
   "metadata": {},
   "outputs": [
    {
     "data": {
      "text/plain": [
       "122783"
      ]
     },
     "execution_count": 31,
     "metadata": {},
     "output_type": "execute_result"
    }
   ],
   "source": [
    "WSL_P1_DF = LOCA_P1_DF[LOCA_P1_DF[\"Grid_Id\"].isin( LOCA_GRID_IDs )].copy()\n",
    "len( WSL_P1_DF )"
   ]
  },
  {
   "cell_type": "code",
   "execution_count": 32,
   "metadata": {},
   "outputs": [
    {
     "data": {
      "text/html": [
       "<table border=\"1\" class=\"dataframe\">\n",
       "  <thead>\n",
       "    <tr style=\"text-align: right;\">\n",
       "      <th></th>\n",
       "      <th>Grid_Id</th>\n",
       "      <th>Mod_Id</th>\n",
       "      <th>Year</th>\n",
       "      <th>Month</th>\n",
       "      <th>Day</th>\n",
       "      <th>Wet_Count</th>\n",
       "      <th>Model_Id</th>\n",
       "    </tr>\n",
       "  </thead>\n",
       "  <tbody>\n",
       "    <tr>\n",
       "      <th>count</th>\n",
       "      <td>122783.000000</td>\n",
       "      <td>122783.000000</td>\n",
       "      <td>122783.000000</td>\n",
       "      <td>122783.0</td>\n",
       "      <td>122783.000000</td>\n",
       "      <td>122783.000000</td>\n",
       "      <td>122783.000000</td>\n",
       "    </tr>\n",
       "    <tr>\n",
       "      <th>mean</th>\n",
       "      <td>96.130116</td>\n",
       "      <td>32.047230</td>\n",
       "      <td>2025.465724</td>\n",
       "      <td>1.0</td>\n",
       "      <td>16.469422</td>\n",
       "      <td>1.790818</td>\n",
       "      <td>32.047230</td>\n",
       "    </tr>\n",
       "    <tr>\n",
       "      <th>std</th>\n",
       "      <td>20.819220</td>\n",
       "      <td>18.427605</td>\n",
       "      <td>8.665959</td>\n",
       "      <td>0.0</td>\n",
       "      <td>9.068332</td>\n",
       "      <td>1.110828</td>\n",
       "      <td>18.427605</td>\n",
       "    </tr>\n",
       "    <tr>\n",
       "      <th>min</th>\n",
       "      <td>62.000000</td>\n",
       "      <td>1.000000</td>\n",
       "      <td>2011.000000</td>\n",
       "      <td>1.0</td>\n",
       "      <td>1.000000</td>\n",
       "      <td>1.000000</td>\n",
       "      <td>1.000000</td>\n",
       "    </tr>\n",
       "    <tr>\n",
       "      <th>25%</th>\n",
       "      <td>78.000000</td>\n",
       "      <td>16.000000</td>\n",
       "      <td>2018.000000</td>\n",
       "      <td>1.0</td>\n",
       "      <td>9.000000</td>\n",
       "      <td>1.000000</td>\n",
       "      <td>16.000000</td>\n",
       "    </tr>\n",
       "    <tr>\n",
       "      <th>50%</th>\n",
       "      <td>94.000000</td>\n",
       "      <td>32.000000</td>\n",
       "      <td>2025.000000</td>\n",
       "      <td>1.0</td>\n",
       "      <td>17.000000</td>\n",
       "      <td>1.000000</td>\n",
       "      <td>32.000000</td>\n",
       "    </tr>\n",
       "    <tr>\n",
       "      <th>75%</th>\n",
       "      <td>108.000000</td>\n",
       "      <td>48.000000</td>\n",
       "      <td>2033.000000</td>\n",
       "      <td>1.0</td>\n",
       "      <td>24.000000</td>\n",
       "      <td>2.000000</td>\n",
       "      <td>48.000000</td>\n",
       "    </tr>\n",
       "    <tr>\n",
       "      <th>max</th>\n",
       "      <td>137.000000</td>\n",
       "      <td>64.000000</td>\n",
       "      <td>2040.000000</td>\n",
       "      <td>1.0</td>\n",
       "      <td>31.000000</td>\n",
       "      <td>12.000000</td>\n",
       "      <td>64.000000</td>\n",
       "    </tr>\n",
       "  </tbody>\n",
       "</table>"
      ],
      "text/plain": [
       "<IPython.core.display.HTML object>"
      ]
     },
     "metadata": {},
     "output_type": "display_data"
    }
   ],
   "source": [
    "display( HTML( WSL_P1_DF.describe().to_html() ) )"
   ]
  },
  {
   "cell_type": "code",
   "execution_count": 33,
   "metadata": {},
   "outputs": [],
   "source": [
    "L_P1_MD = dict()"
   ]
  },
  {
   "cell_type": "code",
   "execution_count": 34,
   "metadata": {},
   "outputs": [
    {
     "name": "stdout",
     "output_type": "stream",
     "text": [
      "Month 1: 122783 wet spells, 12 max\n",
      "Month 2: 129402 wet spells, 16 max\n",
      "Month 3: 143241 wet spells, 14 max\n",
      "Month 4: 162352 wet spells, 26 max\n",
      "Month 5: 190395 wet spells, 29 max\n",
      "Month 6: 156285 wet spells, 30 max\n",
      "Month 7: 129304 wet spells, 28 max\n",
      "Month 8: 140196 wet spells, 32 max\n",
      "Month 9: 155284 wet spells, 37 max\n",
      "Month 10: 142731 wet spells, 20 max\n",
      "Month 11: 143413 wet spells, 15 max\n",
      "Month 12: 134517 wet spells, 14 max\n"
     ]
    }
   ],
   "source": [
    "for iI in range(1, 13, 1):\n",
    "    InFiler = os.path.normpath( os.path.join( IN_DIR, \"LOCA\", LOCA_P1_IN[iI] ) )\n",
    "    LOCA_P1_DF = pd.read_pickle( InFiler )\n",
    "    WSL_P1_DF = LOCA_P1_DF[LOCA_P1_DF[\"Grid_Id\"].isin( LOCA_GRID_IDs )].copy()\n",
    "    cMonDF = WSL_P1_DF[WSL_P1_DF[\"Month\"] == iI].copy()\n",
    "    cLocaAr = cMonDF[\"Wet_Count\"].to_numpy()\n",
    "    print(\"Month %d: %d wet spells, %g max\" % ( iI, cLocaAr.shape[0], cLocaAr.max() ) )\n",
    "    L_P1_MD[iI] = cLocaAr\n",
    "# end for"
   ]
  },
  {
   "cell_type": "code",
   "execution_count": 35,
   "metadata": {},
   "outputs": [],
   "source": [
    "del LOCA_P1_DF\n",
    "del WSL_P1_DF"
   ]
  },
  {
   "cell_type": "markdown",
   "metadata": {},
   "source": [
    "Output to a pickle file in case need to use again later"
   ]
  },
  {
   "cell_type": "code",
   "execution_count": 36,
   "metadata": {},
   "outputs": [],
   "source": [
    "OutFiler = os.path.normpath( os.path.join( OUT_DIR, \"LOCA_P1_WetSpell_by_Month.pickle\" ) )\n",
    "with open( OutFiler, 'wb' ) as OP:\n",
    "    pickle.dump( L_P1_MD, OP, protocol=pickle.HIGHEST_PROTOCOL )\n",
    "# end with"
   ]
  },
  {
   "cell_type": "markdown",
   "metadata": {},
   "source": [
    "### Projection 2"
   ]
  },
  {
   "cell_type": "code",
   "execution_count": 37,
   "metadata": {},
   "outputs": [],
   "source": [
    "L_P2_MD = dict()"
   ]
  },
  {
   "cell_type": "code",
   "execution_count": 38,
   "metadata": {},
   "outputs": [
    {
     "name": "stdout",
     "output_type": "stream",
     "text": [
      "Month 1: 120028 wet spells, 13 max\n",
      "Month 2: 125374 wet spells, 15 max\n",
      "Month 3: 136427 wet spells, 16 max\n",
      "Month 4: 158406 wet spells, 23 max\n",
      "Month 5: 183886 wet spells, 38 max\n",
      "Month 6: 152863 wet spells, 36 max\n",
      "Month 7: 127831 wet spells, 28 max\n",
      "Month 8: 137081 wet spells, 47 max\n",
      "Month 9: 153552 wet spells, 31 max\n",
      "Month 10: 139387 wet spells, 19 max\n",
      "Month 11: 141682 wet spells, 21 max\n",
      "Month 12: 131635 wet spells, 16 max\n"
     ]
    }
   ],
   "source": [
    "for iI in range(1, 13, 1):\n",
    "    InFiler = os.path.normpath( os.path.join( IN_DIR, \"LOCA\", LOCA_P2_IN[iI] ) )\n",
    "    LOCA_P2_DF = pd.read_pickle( InFiler )\n",
    "    WSL_P2_DF = LOCA_P2_DF[LOCA_P2_DF[\"Grid_Id\"].isin( LOCA_GRID_IDs )].copy()\n",
    "    cMonDF = WSL_P2_DF[WSL_P2_DF[\"Month\"] == iI].copy()\n",
    "    cLocaAr = cMonDF[\"Wet_Count\"].to_numpy()\n",
    "    print(\"Month %d: %d wet spells, %g max\" % ( iI, cLocaAr.shape[0], cLocaAr.max() ) )\n",
    "    L_P2_MD[iI] = cLocaAr\n",
    "# end for"
   ]
  },
  {
   "cell_type": "code",
   "execution_count": 39,
   "metadata": {},
   "outputs": [],
   "source": [
    "del LOCA_P2_DF\n",
    "del WSL_P2_DF"
   ]
  },
  {
   "cell_type": "markdown",
   "metadata": {},
   "source": [
    "Output to a pickle file in case need to use again later"
   ]
  },
  {
   "cell_type": "code",
   "execution_count": 40,
   "metadata": {},
   "outputs": [],
   "source": [
    "OutFiler = os.path.normpath( os.path.join( OUT_DIR, \"LOCA_P2_WetSpell_by_Month.pickle\" ) )\n",
    "with open( OutFiler, 'wb' ) as OP:\n",
    "    pickle.dump( L_P2_MD, OP, protocol=pickle.HIGHEST_PROTOCOL )\n",
    "# end with"
   ]
  },
  {
   "cell_type": "markdown",
   "metadata": {},
   "source": [
    "### Projection 3"
   ]
  },
  {
   "cell_type": "code",
   "execution_count": 41,
   "metadata": {},
   "outputs": [],
   "source": [
    "L_P3_MD = dict()"
   ]
  },
  {
   "cell_type": "code",
   "execution_count": 42,
   "metadata": {},
   "outputs": [
    {
     "name": "stdout",
     "output_type": "stream",
     "text": [
      "Month 1: 113099 wet spells, 18 max\n",
      "Month 2: 117365 wet spells, 12 max\n",
      "Month 3: 130690 wet spells, 15 max\n",
      "Month 4: 149588 wet spells, 20 max\n",
      "Month 5: 177136 wet spells, 34 max\n",
      "Month 6: 144041 wet spells, 27 max\n",
      "Month 7: 119750 wet spells, 39 max\n",
      "Month 8: 126522 wet spells, 32 max\n",
      "Month 9: 145345 wet spells, 27 max\n",
      "Month 10: 130142 wet spells, 24 max\n",
      "Month 11: 132772 wet spells, 15 max\n",
      "Month 12: 123477 wet spells, 12 max\n"
     ]
    }
   ],
   "source": [
    "for iI in range(1, 13, 1):\n",
    "    InFiler = os.path.normpath( os.path.join( IN_DIR, \"LOCA\", LOCA_P3_IN[iI] ) )\n",
    "    LOCA_P3_DF = pd.read_pickle( InFiler )\n",
    "    WSL_P3_DF = LOCA_P3_DF[LOCA_P3_DF[\"Grid_Id\"].isin( LOCA_GRID_IDs )].copy()\n",
    "    cMonDF = WSL_P3_DF[WSL_P3_DF[\"Month\"] == iI].copy()\n",
    "    cLocaAr = cMonDF[\"Wet_Count\"].to_numpy()\n",
    "    print(\"Month %d: %d wet spells, %g max\" % ( iI, cLocaAr.shape[0], cLocaAr.max() ) )\n",
    "    L_P3_MD[iI] = cLocaAr\n",
    "# end for"
   ]
  },
  {
   "cell_type": "code",
   "execution_count": 43,
   "metadata": {},
   "outputs": [],
   "source": [
    "del LOCA_P3_DF\n",
    "del WSL_P3_DF"
   ]
  },
  {
   "cell_type": "markdown",
   "metadata": {},
   "source": [
    "Output to a pickle file in case need to use again later"
   ]
  },
  {
   "cell_type": "code",
   "execution_count": 44,
   "metadata": {},
   "outputs": [],
   "source": [
    "OutFiler = os.path.normpath( os.path.join( OUT_DIR, \"LOCA_P3_WetSpell_by_Month.pickle\" ) )\n",
    "with open( OutFiler, 'wb' ) as OP:\n",
    "    pickle.dump( L_P3_MD, OP, protocol=pickle.HIGHEST_PROTOCOL )\n",
    "# end with"
   ]
  },
  {
   "cell_type": "markdown",
   "metadata": {},
   "source": [
    "## Plots"
   ]
  },
  {
   "cell_type": "code",
   "execution_count": 45,
   "metadata": {},
   "outputs": [],
   "source": [
    "sns.set(style=\"whitegrid\", palette=\"pastel\", color_codes=True)"
   ]
  },
  {
   "cell_type": "markdown",
   "metadata": {},
   "source": [
    "### Data Interval: 1981-2010"
   ]
  },
  {
   "cell_type": "markdown",
   "metadata": {},
   "source": [
    "#### Make DataFrame for Split Violin"
   ]
  },
  {
   "cell_type": "code",
   "execution_count": 46,
   "metadata": {},
   "outputs": [],
   "source": [
    "PrismLabel = \"PRISM 1981-2010\"\n",
    "LocaLabel = \"LOCA 1981-2010\""
   ]
  },
  {
   "cell_type": "code",
   "execution_count": 47,
   "metadata": {},
   "outputs": [],
   "source": [
    "MonthLabels = list()\n",
    "DSetLabels = list()"
   ]
  },
  {
   "cell_type": "code",
   "execution_count": 48,
   "metadata": {},
   "outputs": [],
   "source": [
    "for jJ in range( 1, 13, 1):\n",
    "    PriAr = PrismMonDict[jJ]\n",
    "    NumPRISM = PriAr.shape[0]\n",
    "    LocaAr = L_DP_MD[jJ]\n",
    "    NumLOCA = LocaAr.shape[0]\n",
    "    PRISM_Labels = [ PrismLabel for x in range( NumPRISM ) ]\n",
    "    LOCA_Labels = [ LocaLabel for x in range( NumLOCA ) ]\n",
    "    AllLabels = deepcopy( PRISM_Labels )\n",
    "    AllLabels.extend( LOCA_Labels )\n",
    "    DSetLabels.extend( AllLabels )\n",
    "    if jJ == 1:\n",
    "        MonthLabels.extend( [\"Jan\" for x in range( NumPRISM + NumLOCA ) ] )\n",
    "    elif jJ == 2:\n",
    "        MonthLabels.extend( [\"Feb\" for x in range( NumPRISM + NumLOCA ) ] )\n",
    "    elif jJ == 3:\n",
    "        MonthLabels.extend( [\"Mar\" for x in range( NumPRISM + NumLOCA ) ] )\n",
    "    elif jJ == 4:\n",
    "        MonthLabels.extend( [\"Apr\" for x in range( NumPRISM + NumLOCA ) ] )\n",
    "    elif jJ == 5:\n",
    "        MonthLabels.extend( [\"May\" for x in range( NumPRISM + NumLOCA ) ] )\n",
    "    elif jJ == 6:\n",
    "        MonthLabels.extend( [\"Jun\" for x in range( NumPRISM + NumLOCA ) ] )\n",
    "    elif jJ == 7:\n",
    "        MonthLabels.extend( [\"Jul\" for x in range( NumPRISM + NumLOCA ) ] )\n",
    "    elif jJ == 8:\n",
    "        MonthLabels.extend( [\"Aug\" for x in range( NumPRISM + NumLOCA ) ] )\n",
    "    elif jJ == 9:\n",
    "        MonthLabels.extend( [\"Sep\" for x in range( NumPRISM + NumLOCA ) ] )\n",
    "    elif jJ == 10:\n",
    "        MonthLabels.extend( [\"Oct\" for x in range( NumPRISM + NumLOCA ) ] )\n",
    "    elif jJ == 11:\n",
    "        MonthLabels.extend( [\"Nov\" for x in range( NumPRISM + NumLOCA ) ] )\n",
    "    elif jJ == 12:\n",
    "        MonthLabels.extend( [\"Dec\" for x in range( NumPRISM + NumLOCA ) ] )\n",
    "    # end if\n",
    "    if jJ == 1:\n",
    "        AllValues = np.concatenate( [ PriAr, LocaAr ], axis=0 )\n",
    "    else:\n",
    "        AllValues = np.concatenate( [ AllValues, PriAr, LocaAr ], axis=0 )\n",
    "    # end if"
   ]
  },
  {
   "cell_type": "code",
   "execution_count": 49,
   "metadata": {},
   "outputs": [],
   "source": [
    "DataDict = { \"DLabel\" : DSetLabels,\n",
    "             \"Month\" : MonthLabels,\n",
    "             \"MonTotal\" : AllValues, }\n",
    "DPDF = pd.DataFrame( data=DataDict )"
   ]
  },
  {
   "cell_type": "code",
   "execution_count": 50,
   "metadata": {},
   "outputs": [
    {
     "data": {
      "text/html": [
       "<table border=\"1\" class=\"dataframe\">\n",
       "  <thead>\n",
       "    <tr style=\"text-align: right;\">\n",
       "      <th></th>\n",
       "      <th>DLabel</th>\n",
       "      <th>Month</th>\n",
       "      <th>MonTotal</th>\n",
       "    </tr>\n",
       "  </thead>\n",
       "  <tbody>\n",
       "    <tr>\n",
       "      <th>0</th>\n",
       "      <td>PRISM 1981-2010</td>\n",
       "      <td>Jan</td>\n",
       "      <td>1</td>\n",
       "    </tr>\n",
       "    <tr>\n",
       "      <th>1</th>\n",
       "      <td>PRISM 1981-2010</td>\n",
       "      <td>Jan</td>\n",
       "      <td>1</td>\n",
       "    </tr>\n",
       "    <tr>\n",
       "      <th>2</th>\n",
       "      <td>PRISM 1981-2010</td>\n",
       "      <td>Jan</td>\n",
       "      <td>1</td>\n",
       "    </tr>\n",
       "    <tr>\n",
       "      <th>3</th>\n",
       "      <td>PRISM 1981-2010</td>\n",
       "      <td>Jan</td>\n",
       "      <td>3</td>\n",
       "    </tr>\n",
       "    <tr>\n",
       "      <th>4</th>\n",
       "      <td>PRISM 1981-2010</td>\n",
       "      <td>Jan</td>\n",
       "      <td>2</td>\n",
       "    </tr>\n",
       "  </tbody>\n",
       "</table>"
      ],
      "text/plain": [
       "<IPython.core.display.HTML object>"
      ]
     },
     "metadata": {},
     "output_type": "display_data"
    }
   ],
   "source": [
    "display( HTML( DPDF.head().to_html() ) )"
   ]
  },
  {
   "cell_type": "code",
   "execution_count": 51,
   "metadata": {},
   "outputs": [
    {
     "data": {
      "text/html": [
       "<table border=\"1\" class=\"dataframe\">\n",
       "  <thead>\n",
       "    <tr style=\"text-align: right;\">\n",
       "      <th></th>\n",
       "      <th>MonTotal</th>\n",
       "    </tr>\n",
       "  </thead>\n",
       "  <tbody>\n",
       "    <tr>\n",
       "      <th>count</th>\n",
       "      <td>1.866140e+06</td>\n",
       "    </tr>\n",
       "    <tr>\n",
       "      <th>mean</th>\n",
       "      <td>2.396263e+00</td>\n",
       "    </tr>\n",
       "    <tr>\n",
       "      <th>std</th>\n",
       "      <td>1.963388e+00</td>\n",
       "    </tr>\n",
       "    <tr>\n",
       "      <th>min</th>\n",
       "      <td>1.000000e+00</td>\n",
       "    </tr>\n",
       "    <tr>\n",
       "      <th>25%</th>\n",
       "      <td>1.000000e+00</td>\n",
       "    </tr>\n",
       "    <tr>\n",
       "      <th>50%</th>\n",
       "      <td>2.000000e+00</td>\n",
       "    </tr>\n",
       "    <tr>\n",
       "      <th>75%</th>\n",
       "      <td>3.000000e+00</td>\n",
       "    </tr>\n",
       "    <tr>\n",
       "      <th>max</th>\n",
       "      <td>3.700000e+01</td>\n",
       "    </tr>\n",
       "  </tbody>\n",
       "</table>"
      ],
      "text/plain": [
       "<IPython.core.display.HTML object>"
      ]
     },
     "metadata": {},
     "output_type": "display_data"
    }
   ],
   "source": [
    "display( HTML( DPDF.describe().to_html() ) )"
   ]
  },
  {
   "cell_type": "code",
   "execution_count": 52,
   "metadata": {},
   "outputs": [],
   "source": [
    "OutFiler = os.path.normpath( os.path.join( OUT_DIR, \"DF_MonWetSpell_1981-2010.pickle\" ) )\n",
    "DPDF.to_pickle( OutFiler, compression='zip', protocol=-1 )"
   ]
  },
  {
   "cell_type": "markdown",
   "metadata": {},
   "source": [
    "#### Plot"
   ]
  },
  {
   "cell_type": "code",
   "execution_count": 53,
   "metadata": {},
   "outputs": [],
   "source": [
    "#preTicks = [ 0.0 + (x *25.0) for x in range(9) ]\n",
    "preTicks = [ 1.0, 10.0, 100.0 ]"
   ]
  },
  {
   "cell_type": "code",
   "execution_count": 54,
   "metadata": {},
   "outputs": [
    {
     "data": {
      "text/plain": [
       "'C:\\\\Users\\\\nmartin\\\\Documents\\\\CC_IRD\\\\Events\\\\Plots\\\\MonWetSpell_Comp_1981-2010.svg'"
      ]
     },
     "execution_count": 54,
     "metadata": {},
     "output_type": "execute_result"
    }
   ],
   "source": [
    "OutSVG = os.path.normpath( os.path.join( OUT_DIR, \"Plots\", \"MonWetSpell_Comp_1981-2010.svg\") )\n",
    "OutSVG"
   ]
  },
  {
   "cell_type": "code",
   "execution_count": 55,
   "metadata": {},
   "outputs": [
    {
     "data": {
      "text/plain": [
       "'C:\\\\Users\\\\nmartin\\\\Documents\\\\CC_IRD\\\\Events\\\\Plots\\\\MonWetSpell_Comp_1981-2010.png'"
      ]
     },
     "execution_count": 55,
     "metadata": {},
     "output_type": "execute_result"
    }
   ],
   "source": [
    "OutPNG = os.path.normpath( os.path.join( OUT_DIR, \"Plots\", \"MonWetSpell_Comp_1981-2010.png\") )\n",
    "OutPNG"
   ]
  },
  {
   "cell_type": "code",
   "execution_count": 56,
   "metadata": {},
   "outputs": [
    {
     "data": {
      "image/png": "[encoded data removed]",
      "text/plain": [
       "<Figure size 1080x504 with 1 Axes>"
      ]
     },
     "metadata": {},
     "output_type": "display_data"
    }
   ],
   "source": [
    "Fig1 = plt.figure()\n",
    "Fig1.set_size_inches(15.0, 7.0)\n",
    "ax11 = Fig1.add_subplot(111)\n",
    "g = sns.violinplot( x=\"Month\", y=\"MonTotal\", hue=\"DLabel\", split=True,\n",
    "                inner=\"quart\", cut=0, linewidth=1.2,\n",
    "                palette={ PrismLabel : \"xkcd:sky blue\", \n",
    "                          LocaLabel : \"xkcd:pale orange\" },\n",
    "                data=DPDF, ax=ax11, legend_out=True )\n",
    "g.legend(prop=dict(size=12))\n",
    "g.legend(loc=\"upper left\")\n",
    "g.set_yscale('log')\n",
    "g.grid(b=True, which=\"both\", axis='y')\n",
    "g.set_yticks( preTicks )\n",
    "g.set_xlabel('', fontsize=14 )\n",
    "g.set_ylabel('Wet Spell Duration ($days$)', fontsize=14)\n",
    "g.set_ylim( ( 1.0, 100.0))\n",
    "g.tick_params(axis='both', which='major', labelsize=12)\n",
    "g.yaxis.set_major_formatter( mpl.ticker.StrMethodFormatter( \"{x:,.0f}\" ) )\n",
    "Fig1.savefig( OutSVG )\n",
    "Fig1.savefig( OutPNG )"
   ]
  },
  {
   "cell_type": "markdown",
   "metadata": {},
   "source": [
    "### Projection 1: 2011-2040"
   ]
  },
  {
   "cell_type": "markdown",
   "metadata": {},
   "source": [
    "#### Make DataFrame for Split Violin"
   ]
  },
  {
   "cell_type": "code",
   "execution_count": 57,
   "metadata": {},
   "outputs": [],
   "source": [
    "PrismLabel = \"PRISM 1981-2010\"\n",
    "LocaLabel = \"LOCA 2011-2040\""
   ]
  },
  {
   "cell_type": "code",
   "execution_count": 58,
   "metadata": {},
   "outputs": [],
   "source": [
    "MonthLabels = list()\n",
    "DSetLabels = list()"
   ]
  },
  {
   "cell_type": "code",
   "execution_count": 59,
   "metadata": {},
   "outputs": [],
   "source": [
    "for jJ in range( 1, 13, 1):\n",
    "    PriAr = PrismMonDict[jJ]\n",
    "    NumPRISM = PriAr.shape[0]\n",
    "    LocaAr = L_P1_MD[jJ]\n",
    "    NumLOCA = LocaAr.shape[0]\n",
    "    PRISM_Labels = [ PrismLabel for x in range( NumPRISM ) ]\n",
    "    LOCA_Labels = [ LocaLabel for x in range( NumLOCA ) ]\n",
    "    AllLabels = deepcopy( PRISM_Labels )\n",
    "    AllLabels.extend( LOCA_Labels )\n",
    "    DSetLabels.extend( AllLabels )\n",
    "    if jJ == 1:\n",
    "        MonthLabels.extend( [\"Jan\" for x in range( NumPRISM + NumLOCA ) ] )\n",
    "    elif jJ == 2:\n",
    "        MonthLabels.extend( [\"Feb\" for x in range( NumPRISM + NumLOCA ) ] )\n",
    "    elif jJ == 3:\n",
    "        MonthLabels.extend( [\"Mar\" for x in range( NumPRISM + NumLOCA ) ] )\n",
    "    elif jJ == 4:\n",
    "        MonthLabels.extend( [\"Apr\" for x in range( NumPRISM + NumLOCA ) ] )\n",
    "    elif jJ == 5:\n",
    "        MonthLabels.extend( [\"May\" for x in range( NumPRISM + NumLOCA ) ] )\n",
    "    elif jJ == 6:\n",
    "        MonthLabels.extend( [\"Jun\" for x in range( NumPRISM + NumLOCA ) ] )\n",
    "    elif jJ == 7:\n",
    "        MonthLabels.extend( [\"Jul\" for x in range( NumPRISM + NumLOCA ) ] )\n",
    "    elif jJ == 8:\n",
    "        MonthLabels.extend( [\"Aug\" for x in range( NumPRISM + NumLOCA ) ] )\n",
    "    elif jJ == 9:\n",
    "        MonthLabels.extend( [\"Sep\" for x in range( NumPRISM + NumLOCA ) ] )\n",
    "    elif jJ == 10:\n",
    "        MonthLabels.extend( [\"Oct\" for x in range( NumPRISM + NumLOCA ) ] )\n",
    "    elif jJ == 11:\n",
    "        MonthLabels.extend( [\"Nov\" for x in range( NumPRISM + NumLOCA ) ] )\n",
    "    elif jJ == 12:\n",
    "        MonthLabels.extend( [\"Dec\" for x in range( NumPRISM + NumLOCA ) ] )\n",
    "    # end if\n",
    "    if jJ == 1:\n",
    "        AllValues = np.concatenate( [ PriAr, LocaAr ], axis=0 )\n",
    "    else:\n",
    "        AllValues = np.concatenate( [ AllValues, PriAr, LocaAr ], axis=0 )\n",
    "    # end if"
   ]
  },
  {
   "cell_type": "code",
   "execution_count": 60,
   "metadata": {},
   "outputs": [],
   "source": [
    "DataDict = { \"DLabel\" : DSetLabels,\n",
    "             \"Month\" : MonthLabels,\n",
    "             \"MonTotal\" : AllValues, }\n",
    "P1DF = pd.DataFrame( data=DataDict )"
   ]
  },
  {
   "cell_type": "code",
   "execution_count": 61,
   "metadata": {},
   "outputs": [
    {
     "data": {
      "text/html": [
       "<table border=\"1\" class=\"dataframe\">\n",
       "  <thead>\n",
       "    <tr style=\"text-align: right;\">\n",
       "      <th></th>\n",
       "      <th>DLabel</th>\n",
       "      <th>Month</th>\n",
       "      <th>MonTotal</th>\n",
       "    </tr>\n",
       "  </thead>\n",
       "  <tbody>\n",
       "    <tr>\n",
       "      <th>0</th>\n",
       "      <td>PRISM 1981-2010</td>\n",
       "      <td>Jan</td>\n",
       "      <td>1</td>\n",
       "    </tr>\n",
       "    <tr>\n",
       "      <th>1</th>\n",
       "      <td>PRISM 1981-2010</td>\n",
       "      <td>Jan</td>\n",
       "      <td>1</td>\n",
       "    </tr>\n",
       "    <tr>\n",
       "      <th>2</th>\n",
       "      <td>PRISM 1981-2010</td>\n",
       "      <td>Jan</td>\n",
       "      <td>1</td>\n",
       "    </tr>\n",
       "    <tr>\n",
       "      <th>3</th>\n",
       "      <td>PRISM 1981-2010</td>\n",
       "      <td>Jan</td>\n",
       "      <td>3</td>\n",
       "    </tr>\n",
       "    <tr>\n",
       "      <th>4</th>\n",
       "      <td>PRISM 1981-2010</td>\n",
       "      <td>Jan</td>\n",
       "      <td>2</td>\n",
       "    </tr>\n",
       "  </tbody>\n",
       "</table>"
      ],
      "text/plain": [
       "<IPython.core.display.HTML object>"
      ]
     },
     "metadata": {},
     "output_type": "display_data"
    }
   ],
   "source": [
    "display( HTML( P1DF.head().to_html() ) )"
   ]
  },
  {
   "cell_type": "code",
   "execution_count": 62,
   "metadata": {},
   "outputs": [
    {
     "data": {
      "text/html": [
       "<table border=\"1\" class=\"dataframe\">\n",
       "  <thead>\n",
       "    <tr style=\"text-align: right;\">\n",
       "      <th></th>\n",
       "      <th>MonTotal</th>\n",
       "    </tr>\n",
       "  </thead>\n",
       "  <tbody>\n",
       "    <tr>\n",
       "      <th>count</th>\n",
       "      <td>1.797232e+06</td>\n",
       "    </tr>\n",
       "    <tr>\n",
       "      <th>mean</th>\n",
       "      <td>2.385715e+00</td>\n",
       "    </tr>\n",
       "    <tr>\n",
       "      <th>std</th>\n",
       "      <td>1.982520e+00</td>\n",
       "    </tr>\n",
       "    <tr>\n",
       "      <th>min</th>\n",
       "      <td>1.000000e+00</td>\n",
       "    </tr>\n",
       "    <tr>\n",
       "      <th>25%</th>\n",
       "      <td>1.000000e+00</td>\n",
       "    </tr>\n",
       "    <tr>\n",
       "      <th>50%</th>\n",
       "      <td>2.000000e+00</td>\n",
       "    </tr>\n",
       "    <tr>\n",
       "      <th>75%</th>\n",
       "      <td>3.000000e+00</td>\n",
       "    </tr>\n",
       "    <tr>\n",
       "      <th>max</th>\n",
       "      <td>3.700000e+01</td>\n",
       "    </tr>\n",
       "  </tbody>\n",
       "</table>"
      ],
      "text/plain": [
       "<IPython.core.display.HTML object>"
      ]
     },
     "metadata": {},
     "output_type": "display_data"
    }
   ],
   "source": [
    "display( HTML( P1DF.describe().to_html() ) )"
   ]
  },
  {
   "cell_type": "code",
   "execution_count": 63,
   "metadata": {},
   "outputs": [],
   "source": [
    "OutFiler = os.path.normpath( os.path.join( OUT_DIR, \"DF_MonWetSpell_2011-2040.pickle\" ) )\n",
    "P1DF.to_pickle( OutFiler, compression='zip', protocol=-1 )"
   ]
  },
  {
   "cell_type": "markdown",
   "metadata": {},
   "source": [
    "#### Plot"
   ]
  },
  {
   "cell_type": "code",
   "execution_count": 64,
   "metadata": {},
   "outputs": [],
   "source": [
    "#preTicks = [ 0.0 + (x *25.0) for x in range(9) ]\n",
    "preTicks = [ 1.0, 10.0, 100.0 ]"
   ]
  },
  {
   "cell_type": "code",
   "execution_count": 65,
   "metadata": {},
   "outputs": [
    {
     "data": {
      "text/plain": [
       "'C:\\\\Users\\\\nmartin\\\\Documents\\\\CC_IRD\\\\Events\\\\Plots\\\\MonWetSpell_Comp_2011-2040.svg'"
      ]
     },
     "execution_count": 65,
     "metadata": {},
     "output_type": "execute_result"
    }
   ],
   "source": [
    "OutSVG = os.path.normpath( os.path.join( OUT_DIR, \"Plots\", \"MonWetSpell_Comp_2011-2040.svg\") )\n",
    "OutSVG"
   ]
  },
  {
   "cell_type": "code",
   "execution_count": 66,
   "metadata": {},
   "outputs": [
    {
     "data": {
      "text/plain": [
       "'C:\\\\Users\\\\nmartin\\\\Documents\\\\CC_IRD\\\\Events\\\\Plots\\\\MonWetSpell_Comp_2011-2040.png'"
      ]
     },
     "execution_count": 66,
     "metadata": {},
     "output_type": "execute_result"
    }
   ],
   "source": [
    "OutPNG = os.path.normpath( os.path.join( OUT_DIR, \"Plots\", \"MonWetSpell_Comp_2011-2040.png\") )\n",
    "OutPNG"
   ]
  },
  {
   "cell_type": "code",
   "execution_count": 67,
   "metadata": {},
   "outputs": [
    {
     "data": {
      "image/png": "[encoded data removed]",
      "text/plain": [
       "<Figure size 1080x504 with 1 Axes>"
      ]
     },
     "metadata": {},
     "output_type": "display_data"
    }
   ],
   "source": [
    "Fig1 = plt.figure()\n",
    "Fig1.set_size_inches(15.0, 7.0)\n",
    "ax11 = Fig1.add_subplot(111)\n",
    "g = sns.violinplot( x=\"Month\", y=\"MonTotal\", hue=\"DLabel\", split=True,\n",
    "                inner=\"quart\", cut=0, linewidth=1.2,\n",
    "                palette={ PrismLabel : \"xkcd:sky blue\", \n",
    "                          LocaLabel : \"xkcd:pale orange\" },\n",
    "                data=P1DF, ax=ax11, legend_out=True )\n",
    "g.legend(prop=dict(size=12))\n",
    "g.legend(loc=\"upper left\")\n",
    "g.set_yscale('log')\n",
    "g.grid(b=True, which=\"both\", axis='y')\n",
    "g.set_yticks( preTicks )\n",
    "g.set_xlabel('', fontsize=14 )\n",
    "g.set_ylabel('Wet Spell Duration ($days$)', fontsize=14)\n",
    "g.set_ylim( ( 1.0, 100.0))\n",
    "g.tick_params(axis='both', which='major', labelsize=12)\n",
    "g.yaxis.set_major_formatter( mpl.ticker.StrMethodFormatter( \"{x:,.0f}\" ) )\n",
    "Fig1.savefig( OutSVG )\n",
    "Fig1.savefig( OutPNG )"
   ]
  },
  {
   "cell_type": "markdown",
   "metadata": {},
   "source": [
    "### Projection 2: 2011-2040"
   ]
  },
  {
   "cell_type": "markdown",
   "metadata": {},
   "source": [
    "#### Make DataFrame for Split Violin"
   ]
  },
  {
   "cell_type": "code",
   "execution_count": 68,
   "metadata": {},
   "outputs": [],
   "source": [
    "PrismLabel = \"PRISM 1981-2010\"\n",
    "LocaLabel = \"LOCA 2041-2070\""
   ]
  },
  {
   "cell_type": "code",
   "execution_count": 69,
   "metadata": {},
   "outputs": [],
   "source": [
    "MonthLabels = list()\n",
    "DSetLabels = list()"
   ]
  },
  {
   "cell_type": "code",
   "execution_count": 70,
   "metadata": {},
   "outputs": [],
   "source": [
    "for jJ in range( 1, 13, 1):\n",
    "    PriAr = PrismMonDict[jJ]\n",
    "    NumPRISM = PriAr.shape[0]\n",
    "    LocaAr = L_P2_MD[jJ]\n",
    "    NumLOCA = LocaAr.shape[0]\n",
    "    PRISM_Labels = [ PrismLabel for x in range( NumPRISM ) ]\n",
    "    LOCA_Labels = [ LocaLabel for x in range( NumLOCA ) ]\n",
    "    AllLabels = deepcopy( PRISM_Labels )\n",
    "    AllLabels.extend( LOCA_Labels )\n",
    "    DSetLabels.extend( AllLabels )\n",
    "    if jJ == 1:\n",
    "        MonthLabels.extend( [\"Jan\" for x in range( NumPRISM + NumLOCA ) ] )\n",
    "    elif jJ == 2:\n",
    "        MonthLabels.extend( [\"Feb\" for x in range( NumPRISM + NumLOCA ) ] )\n",
    "    elif jJ == 3:\n",
    "        MonthLabels.extend( [\"Mar\" for x in range( NumPRISM + NumLOCA ) ] )\n",
    "    elif jJ == 4:\n",
    "        MonthLabels.extend( [\"Apr\" for x in range( NumPRISM + NumLOCA ) ] )\n",
    "    elif jJ == 5:\n",
    "        MonthLabels.extend( [\"May\" for x in range( NumPRISM + NumLOCA ) ] )\n",
    "    elif jJ == 6:\n",
    "        MonthLabels.extend( [\"Jun\" for x in range( NumPRISM + NumLOCA ) ] )\n",
    "    elif jJ == 7:\n",
    "        MonthLabels.extend( [\"Jul\" for x in range( NumPRISM + NumLOCA ) ] )\n",
    "    elif jJ == 8:\n",
    "        MonthLabels.extend( [\"Aug\" for x in range( NumPRISM + NumLOCA ) ] )\n",
    "    elif jJ == 9:\n",
    "        MonthLabels.extend( [\"Sep\" for x in range( NumPRISM + NumLOCA ) ] )\n",
    "    elif jJ == 10:\n",
    "        MonthLabels.extend( [\"Oct\" for x in range( NumPRISM + NumLOCA ) ] )\n",
    "    elif jJ == 11:\n",
    "        MonthLabels.extend( [\"Nov\" for x in range( NumPRISM + NumLOCA ) ] )\n",
    "    elif jJ == 12:\n",
    "        MonthLabels.extend( [\"Dec\" for x in range( NumPRISM + NumLOCA ) ] )\n",
    "    # end if\n",
    "    if jJ == 1:\n",
    "        AllValues = np.concatenate( [ PriAr, LocaAr ], axis=0 )\n",
    "    else:\n",
    "        AllValues = np.concatenate( [ AllValues, PriAr, LocaAr ], axis=0 )\n",
    "    # end if"
   ]
  },
  {
   "cell_type": "code",
   "execution_count": 71,
   "metadata": {},
   "outputs": [],
   "source": [
    "DataDict = { \"DLabel\" : DSetLabels,\n",
    "             \"Month\" : MonthLabels,\n",
    "             \"MonTotal\" : AllValues, }\n",
    "P2DF = pd.DataFrame( data=DataDict )"
   ]
  },
  {
   "cell_type": "code",
   "execution_count": 72,
   "metadata": {},
   "outputs": [
    {
     "data": {
      "text/html": [
       "<table border=\"1\" class=\"dataframe\">\n",
       "  <thead>\n",
       "    <tr style=\"text-align: right;\">\n",
       "      <th></th>\n",
       "      <th>DLabel</th>\n",
       "      <th>Month</th>\n",
       "      <th>MonTotal</th>\n",
       "    </tr>\n",
       "  </thead>\n",
       "  <tbody>\n",
       "    <tr>\n",
       "      <th>0</th>\n",
       "      <td>PRISM 1981-2010</td>\n",
       "      <td>Jan</td>\n",
       "      <td>1</td>\n",
       "    </tr>\n",
       "    <tr>\n",
       "      <th>1</th>\n",
       "      <td>PRISM 1981-2010</td>\n",
       "      <td>Jan</td>\n",
       "      <td>1</td>\n",
       "    </tr>\n",
       "    <tr>\n",
       "      <th>2</th>\n",
       "      <td>PRISM 1981-2010</td>\n",
       "      <td>Jan</td>\n",
       "      <td>1</td>\n",
       "    </tr>\n",
       "    <tr>\n",
       "      <th>3</th>\n",
       "      <td>PRISM 1981-2010</td>\n",
       "      <td>Jan</td>\n",
       "      <td>3</td>\n",
       "    </tr>\n",
       "    <tr>\n",
       "      <th>4</th>\n",
       "      <td>PRISM 1981-2010</td>\n",
       "      <td>Jan</td>\n",
       "      <td>2</td>\n",
       "    </tr>\n",
       "  </tbody>\n",
       "</table>"
      ],
      "text/plain": [
       "<IPython.core.display.HTML object>"
      ]
     },
     "metadata": {},
     "output_type": "display_data"
    }
   ],
   "source": [
    "display( HTML( P2DF.head().to_html() ) )"
   ]
  },
  {
   "cell_type": "code",
   "execution_count": 73,
   "metadata": {},
   "outputs": [
    {
     "data": {
      "text/html": [
       "<table border=\"1\" class=\"dataframe\">\n",
       "  <thead>\n",
       "    <tr style=\"text-align: right;\">\n",
       "      <th></th>\n",
       "      <th>MonTotal</th>\n",
       "    </tr>\n",
       "  </thead>\n",
       "  <tbody>\n",
       "    <tr>\n",
       "      <th>count</th>\n",
       "      <td>1.755481e+06</td>\n",
       "    </tr>\n",
       "    <tr>\n",
       "      <th>mean</th>\n",
       "      <td>2.381158e+00</td>\n",
       "    </tr>\n",
       "    <tr>\n",
       "      <th>std</th>\n",
       "      <td>1.986106e+00</td>\n",
       "    </tr>\n",
       "    <tr>\n",
       "      <th>min</th>\n",
       "      <td>1.000000e+00</td>\n",
       "    </tr>\n",
       "    <tr>\n",
       "      <th>25%</th>\n",
       "      <td>1.000000e+00</td>\n",
       "    </tr>\n",
       "    <tr>\n",
       "      <th>50%</th>\n",
       "      <td>2.000000e+00</td>\n",
       "    </tr>\n",
       "    <tr>\n",
       "      <th>75%</th>\n",
       "      <td>3.000000e+00</td>\n",
       "    </tr>\n",
       "    <tr>\n",
       "      <th>max</th>\n",
       "      <td>4.700000e+01</td>\n",
       "    </tr>\n",
       "  </tbody>\n",
       "</table>"
      ],
      "text/plain": [
       "<IPython.core.display.HTML object>"
      ]
     },
     "metadata": {},
     "output_type": "display_data"
    }
   ],
   "source": [
    "display( HTML( P2DF.describe().to_html() ) )"
   ]
  },
  {
   "cell_type": "code",
   "execution_count": 74,
   "metadata": {},
   "outputs": [],
   "source": [
    "OutFiler = os.path.normpath( os.path.join( OUT_DIR, \"DF_MonWetSpell_2041-2070.pickle\" ) )\n",
    "P2DF.to_pickle( OutFiler, compression='zip', protocol=-1 )"
   ]
  },
  {
   "cell_type": "markdown",
   "metadata": {},
   "source": [
    "#### Plot"
   ]
  },
  {
   "cell_type": "code",
   "execution_count": 75,
   "metadata": {},
   "outputs": [],
   "source": [
    "#preTicks = [ 0.0 + (x *25.0) for x in range(9) ]\n",
    "preTicks = [ 1.0, 10.0, 100.0 ]"
   ]
  },
  {
   "cell_type": "code",
   "execution_count": 76,
   "metadata": {},
   "outputs": [
    {
     "data": {
      "text/plain": [
       "'C:\\\\Users\\\\nmartin\\\\Documents\\\\CC_IRD\\\\Events\\\\Plots\\\\MonWetSpell_Comp_2041-2070.svg'"
      ]
     },
     "execution_count": 76,
     "metadata": {},
     "output_type": "execute_result"
    }
   ],
   "source": [
    "OutSVG = os.path.normpath( os.path.join( OUT_DIR, \"Plots\", \"MonWetSpell_Comp_2041-2070.svg\") )\n",
    "OutSVG"
   ]
  },
  {
   "cell_type": "code",
   "execution_count": 77,
   "metadata": {},
   "outputs": [
    {
     "data": {
      "text/plain": [
       "'C:\\\\Users\\\\nmartin\\\\Documents\\\\CC_IRD\\\\Events\\\\Plots\\\\MonWetSpell_Comp_2041-2070.png'"
      ]
     },
     "execution_count": 77,
     "metadata": {},
     "output_type": "execute_result"
    }
   ],
   "source": [
    "OutPNG = os.path.normpath( os.path.join( OUT_DIR, \"Plots\", \"MonWetSpell_Comp_2041-2070.png\") )\n",
    "OutPNG"
   ]
  },
  {
   "cell_type": "code",
   "execution_count": 78,
   "metadata": {},
   "outputs": [
    {
     "data": {
      "image/png": "[encoded data removed]",
      "text/plain": [
       "<Figure size 1080x504 with 1 Axes>"
      ]
     },
     "metadata": {},
     "output_type": "display_data"
    }
   ],
   "source": [
    "Fig1 = plt.figure()\n",
    "Fig1.set_size_inches(15.0, 7.0)\n",
    "ax11 = Fig1.add_subplot(111)\n",
    "g = sns.violinplot( x=\"Month\", y=\"MonTotal\", hue=\"DLabel\", split=True,\n",
    "                inner=\"quart\", cut=0, linewidth=1.2,\n",
    "                palette={ PrismLabel : \"xkcd:sky blue\", \n",
    "                          LocaLabel : \"xkcd:pale orange\" },\n",
    "                data=P2DF, ax=ax11, legend_out=True )\n",
    "g.legend(prop=dict(size=12))\n",
    "g.legend(loc=\"upper left\")\n",
    "g.set_yscale('log')\n",
    "g.grid(b=True, which=\"both\", axis='y')\n",
    "g.set_yticks( preTicks )\n",
    "g.set_xlabel('', fontsize=14 )\n",
    "g.set_ylabel('Wet Spell Duration ($days$)', fontsize=14)\n",
    "g.set_ylim( ( 1.0, 100.0))\n",
    "g.tick_params(axis='both', which='major', labelsize=12)\n",
    "g.yaxis.set_major_formatter( mpl.ticker.StrMethodFormatter( \"{x:,.0f}\" ) )\n",
    "Fig1.savefig( OutSVG )\n",
    "Fig1.savefig( OutPNG )"
   ]
  },
  {
   "cell_type": "markdown",
   "metadata": {},
   "source": [
    "### Projection 3: 2071-2100"
   ]
  },
  {
   "cell_type": "markdown",
   "metadata": {},
   "source": [
    "#### Make DataFrame for Split Violin"
   ]
  },
  {
   "cell_type": "code",
   "execution_count": 79,
   "metadata": {},
   "outputs": [],
   "source": [
    "PrismLabel = \"PRISM 1981-2010\"\n",
    "LocaLabel = \"LOCA 2071-2099\""
   ]
  },
  {
   "cell_type": "code",
   "execution_count": 80,
   "metadata": {},
   "outputs": [],
   "source": [
    "MonthLabels = list()\n",
    "DSetLabels = list()"
   ]
  },
  {
   "cell_type": "code",
   "execution_count": 81,
   "metadata": {},
   "outputs": [],
   "source": [
    "for jJ in range( 1, 13, 1):\n",
    "    PriAr = PrismMonDict[jJ]\n",
    "    NumPRISM = PriAr.shape[0]\n",
    "    LocaAr = L_P3_MD[jJ]\n",
    "    NumLOCA = LocaAr.shape[0]\n",
    "    PRISM_Labels = [ PrismLabel for x in range( NumPRISM ) ]\n",
    "    LOCA_Labels = [ LocaLabel for x in range( NumLOCA ) ]\n",
    "    AllLabels = deepcopy( PRISM_Labels )\n",
    "    AllLabels.extend( LOCA_Labels )\n",
    "    DSetLabels.extend( AllLabels )\n",
    "    if jJ == 1:\n",
    "        MonthLabels.extend( [\"Jan\" for x in range( NumPRISM + NumLOCA ) ] )\n",
    "    elif jJ == 2:\n",
    "        MonthLabels.extend( [\"Feb\" for x in range( NumPRISM + NumLOCA ) ] )\n",
    "    elif jJ == 3:\n",
    "        MonthLabels.extend( [\"Mar\" for x in range( NumPRISM + NumLOCA ) ] )\n",
    "    elif jJ == 4:\n",
    "        MonthLabels.extend( [\"Apr\" for x in range( NumPRISM + NumLOCA ) ] )\n",
    "    elif jJ == 5:\n",
    "        MonthLabels.extend( [\"May\" for x in range( NumPRISM + NumLOCA ) ] )\n",
    "    elif jJ == 6:\n",
    "        MonthLabels.extend( [\"Jun\" for x in range( NumPRISM + NumLOCA ) ] )\n",
    "    elif jJ == 7:\n",
    "        MonthLabels.extend( [\"Jul\" for x in range( NumPRISM + NumLOCA ) ] )\n",
    "    elif jJ == 8:\n",
    "        MonthLabels.extend( [\"Aug\" for x in range( NumPRISM + NumLOCA ) ] )\n",
    "    elif jJ == 9:\n",
    "        MonthLabels.extend( [\"Sep\" for x in range( NumPRISM + NumLOCA ) ] )\n",
    "    elif jJ == 10:\n",
    "        MonthLabels.extend( [\"Oct\" for x in range( NumPRISM + NumLOCA ) ] )\n",
    "    elif jJ == 11:\n",
    "        MonthLabels.extend( [\"Nov\" for x in range( NumPRISM + NumLOCA ) ] )\n",
    "    elif jJ == 12:\n",
    "        MonthLabels.extend( [\"Dec\" for x in range( NumPRISM + NumLOCA ) ] )\n",
    "    # end if\n",
    "    if jJ == 1:\n",
    "        AllValues = np.concatenate( [ PriAr, LocaAr ], axis=0 )\n",
    "    else:\n",
    "        AllValues = np.concatenate( [ AllValues, PriAr, LocaAr ], axis=0 )\n",
    "    # end if"
   ]
  },
  {
   "cell_type": "code",
   "execution_count": 82,
   "metadata": {},
   "outputs": [],
   "source": [
    "DataDict = { \"DLabel\" : DSetLabels,\n",
    "             \"Month\" : MonthLabels,\n",
    "             \"MonTotal\" : AllValues, }\n",
    "P3DF = pd.DataFrame( data=DataDict )"
   ]
  },
  {
   "cell_type": "code",
   "execution_count": 83,
   "metadata": {},
   "outputs": [
    {
     "data": {
      "text/html": [
       "<table border=\"1\" class=\"dataframe\">\n",
       "  <thead>\n",
       "    <tr style=\"text-align: right;\">\n",
       "      <th></th>\n",
       "      <th>DLabel</th>\n",
       "      <th>Month</th>\n",
       "      <th>MonTotal</th>\n",
       "    </tr>\n",
       "  </thead>\n",
       "  <tbody>\n",
       "    <tr>\n",
       "      <th>0</th>\n",
       "      <td>PRISM 1981-2010</td>\n",
       "      <td>Jan</td>\n",
       "      <td>1</td>\n",
       "    </tr>\n",
       "    <tr>\n",
       "      <th>1</th>\n",
       "      <td>PRISM 1981-2010</td>\n",
       "      <td>Jan</td>\n",
       "      <td>1</td>\n",
       "    </tr>\n",
       "    <tr>\n",
       "      <th>2</th>\n",
       "      <td>PRISM 1981-2010</td>\n",
       "      <td>Jan</td>\n",
       "      <td>1</td>\n",
       "    </tr>\n",
       "    <tr>\n",
       "      <th>3</th>\n",
       "      <td>PRISM 1981-2010</td>\n",
       "      <td>Jan</td>\n",
       "      <td>3</td>\n",
       "    </tr>\n",
       "    <tr>\n",
       "      <th>4</th>\n",
       "      <td>PRISM 1981-2010</td>\n",
       "      <td>Jan</td>\n",
       "      <td>2</td>\n",
       "    </tr>\n",
       "  </tbody>\n",
       "</table>"
      ],
      "text/plain": [
       "<IPython.core.display.HTML object>"
      ]
     },
     "metadata": {},
     "output_type": "display_data"
    }
   ],
   "source": [
    "display( HTML( P3DF.head().to_html() ) )"
   ]
  },
  {
   "cell_type": "code",
   "execution_count": 84,
   "metadata": {},
   "outputs": [
    {
     "data": {
      "text/html": [
       "<table border=\"1\" class=\"dataframe\">\n",
       "  <thead>\n",
       "    <tr style=\"text-align: right;\">\n",
       "      <th></th>\n",
       "      <th>MonTotal</th>\n",
       "    </tr>\n",
       "  </thead>\n",
       "  <tbody>\n",
       "    <tr>\n",
       "      <th>count</th>\n",
       "      <td>1.657256e+06</td>\n",
       "    </tr>\n",
       "    <tr>\n",
       "      <th>mean</th>\n",
       "      <td>2.369456e+00</td>\n",
       "    </tr>\n",
       "    <tr>\n",
       "      <th>std</th>\n",
       "      <td>2.014617e+00</td>\n",
       "    </tr>\n",
       "    <tr>\n",
       "      <th>min</th>\n",
       "      <td>1.000000e+00</td>\n",
       "    </tr>\n",
       "    <tr>\n",
       "      <th>25%</th>\n",
       "      <td>1.000000e+00</td>\n",
       "    </tr>\n",
       "    <tr>\n",
       "      <th>50%</th>\n",
       "      <td>2.000000e+00</td>\n",
       "    </tr>\n",
       "    <tr>\n",
       "      <th>75%</th>\n",
       "      <td>3.000000e+00</td>\n",
       "    </tr>\n",
       "    <tr>\n",
       "      <th>max</th>\n",
       "      <td>3.900000e+01</td>\n",
       "    </tr>\n",
       "  </tbody>\n",
       "</table>"
      ],
      "text/plain": [
       "<IPython.core.display.HTML object>"
      ]
     },
     "metadata": {},
     "output_type": "display_data"
    }
   ],
   "source": [
    "display( HTML( P3DF.describe().to_html() ) )"
   ]
  },
  {
   "cell_type": "code",
   "execution_count": 85,
   "metadata": {},
   "outputs": [],
   "source": [
    "OutFiler = os.path.normpath( os.path.join( OUT_DIR, \"DF_MonWetSpell_2071-2100.pickle\" ) )\n",
    "P3DF.to_pickle( OutFiler, compression='zip', protocol=-1 )"
   ]
  },
  {
   "cell_type": "markdown",
   "metadata": {},
   "source": [
    "#### Plot"
   ]
  },
  {
   "cell_type": "code",
   "execution_count": 86,
   "metadata": {},
   "outputs": [],
   "source": [
    "#preTicks = [ 0.0 + (x *25.0) for x in range(9) ]\n",
    "preTicks = [ 1.0, 10.0, 100.0 ]"
   ]
  },
  {
   "cell_type": "code",
   "execution_count": 87,
   "metadata": {},
   "outputs": [
    {
     "data": {
      "text/plain": [
       "'C:\\\\Users\\\\nmartin\\\\Documents\\\\CC_IRD\\\\Events\\\\Plots\\\\MonWetSpell_Comp_2071-2100.svg'"
      ]
     },
     "execution_count": 87,
     "metadata": {},
     "output_type": "execute_result"
    }
   ],
   "source": [
    "OutSVG = os.path.normpath( os.path.join( OUT_DIR, \"Plots\", \"MonWetSpell_Comp_2071-2100.svg\") )\n",
    "OutSVG"
   ]
  },
  {
   "cell_type": "code",
   "execution_count": 88,
   "metadata": {},
   "outputs": [
    {
     "data": {
      "text/plain": [
       "'C:\\\\Users\\\\nmartin\\\\Documents\\\\CC_IRD\\\\Events\\\\Plots\\\\MonWetSpell_Comp_2071-2100.png'"
      ]
     },
     "execution_count": 88,
     "metadata": {},
     "output_type": "execute_result"
    }
   ],
   "source": [
    "OutPNG = os.path.normpath( os.path.join( OUT_DIR, \"Plots\", \"MonWetSpell_Comp_2071-2100.png\") )\n",
    "OutPNG"
   ]
  },
  {
   "cell_type": "code",
   "execution_count": 89,
   "metadata": {},
   "outputs": [
    {
     "data": {
      "image/png": "[encoded data removed]",
      "text/plain": [
       "<Figure size 1080x504 with 1 Axes>"
      ]
     },
     "metadata": {},
     "output_type": "display_data"
    }
   ],
   "source": [
    "Fig1 = plt.figure()\n",
    "Fig1.set_size_inches(15.0, 7.0)\n",
    "ax11 = Fig1.add_subplot(111)\n",
    "g = sns.violinplot( x=\"Month\", y=\"MonTotal\", hue=\"DLabel\", split=True,\n",
    "                inner=\"quart\", cut=0, linewidth=1.2,\n",
    "                palette={ PrismLabel : \"xkcd:sky blue\", \n",
    "                          LocaLabel : \"xkcd:pale orange\" },\n",
    "                data=P3DF, ax=ax11, legend_out=True )\n",
    "g.legend(prop=dict(size=12))\n",
    "g.legend(loc=\"upper left\")\n",
    "g.set_yscale('log')\n",
    "g.grid(b=True, which=\"both\", axis='y')\n",
    "g.set_yticks( preTicks )\n",
    "g.set_xlabel('', fontsize=14 )\n",
    "g.set_ylabel('Wet Spell Duration ($days$)', fontsize=14)\n",
    "g.set_ylim( ( 1.0, 100.0))\n",
    "g.tick_params(axis='both', which='major', labelsize=12)\n",
    "g.yaxis.set_major_formatter( mpl.ticker.StrMethodFormatter( \"{x:,.0f}\" ) )\n",
    "Fig1.savefig( OutSVG )\n",
    "Fig1.savefig( OutPNG )"
   ]
  },
  {
   "cell_type": "markdown",
   "metadata": {},
   "source": [
    "## Final Plots"
   ]
  },
  {
   "cell_type": "code",
   "execution_count": 8,
   "metadata": {},
   "outputs": [],
   "source": [
    "InFiler = os.path.normpath( os.path.join( OUT_DIR, \"DF_MonWetSpell_1981-2010.pickle\" ) )\n",
    "DPDF = pd.read_pickle( InFiler, compression='zip' )"
   ]
  },
  {
   "cell_type": "code",
   "execution_count": 9,
   "metadata": {},
   "outputs": [],
   "source": [
    "InFiler = os.path.normpath( os.path.join( OUT_DIR, \"DF_MonWetSpell_2011-2040.pickle\" ) )\n",
    "P1DF = pd.read_pickle( InFiler, compression='zip' )"
   ]
  },
  {
   "cell_type": "code",
   "execution_count": 10,
   "metadata": {},
   "outputs": [],
   "source": [
    "InFiler = os.path.normpath( os.path.join( OUT_DIR, \"DF_MonWetSpell_2041-2070.pickle\" ) )\n",
    "P2DF = pd.read_pickle( InFiler, compression='zip' )"
   ]
  },
  {
   "cell_type": "code",
   "execution_count": 11,
   "metadata": {},
   "outputs": [],
   "source": [
    "InFiler = os.path.normpath( os.path.join( OUT_DIR, \"DF_MonWetSpell_2071-2100.pickle\" ) )\n",
    "P3DF = pd.read_pickle( InFiler, compression='zip' )"
   ]
  },
  {
   "cell_type": "code",
   "execution_count": 12,
   "metadata": {},
   "outputs": [
    {
     "data": {
      "text/plain": [
       "'C:\\\\Users\\\\nmartin\\\\Documents\\\\CC_IRD\\\\Events\\\\Plots\\\\Mon_WetSpell_All_BXN.svg'"
      ]
     },
     "execution_count": 12,
     "metadata": {},
     "output_type": "execute_result"
    }
   ],
   "source": [
    "OutSVG = os.path.normpath( os.path.join( OUT_DIR, \"Plots\", \"Mon_WetSpell_All_BXN.svg\") )\n",
    "OutSVG"
   ]
  },
  {
   "cell_type": "code",
   "execution_count": 13,
   "metadata": {},
   "outputs": [
    {
     "data": {
      "text/plain": [
       "'C:\\\\Users\\\\nmartin\\\\Documents\\\\CC_IRD\\\\Events\\\\Plots\\\\Mon_WetSpell_All_BXN.png'"
      ]
     },
     "execution_count": 13,
     "metadata": {},
     "output_type": "execute_result"
    }
   ],
   "source": [
    "OutPNG = os.path.normpath( os.path.join( OUT_DIR, \"Plots\", \"Mon_WetSpell_All_BXN.png\") )\n",
    "OutPNG"
   ]
  },
  {
   "cell_type": "code",
   "execution_count": 14,
   "metadata": {},
   "outputs": [],
   "source": [
    "PrismLabel1 = \"PRISM 1981-2010\"\n",
    "LocaLabel1 = \"LOCA 1981-2010\"\n",
    "PrismLabel2 = \"PRISM 1981-2010\"\n",
    "LocaLabel2 = \"LOCA 2011-2040\"\n",
    "PrismLabel3 = \"PRISM 1981-2010\"\n",
    "LocaLabel3 = \"LOCA 2041-2070\"\n",
    "PrismLabel4 = \"PRISM 1981-2010\"\n",
    "LocaLabel4 = \"LOCA 2071-2099\""
   ]
  },
  {
   "cell_type": "code",
   "execution_count": 15,
   "metadata": {},
   "outputs": [],
   "source": [
    "preTicks = [ 1.0, 10.0, 100.0 ]"
   ]
  },
  {
   "cell_type": "code",
   "execution_count": 16,
   "metadata": {},
   "outputs": [
    {
     "data": {
      "image/png": "[encoded data removed]",
      "text/plain": [
       "<Figure size 1080x1512 with 4 Axes>"
      ]
     },
     "metadata": {
      "needs_background": "light"
     },
     "output_type": "display_data"
    }
   ],
   "source": [
    "Fig1 = plt.figure()\n",
    "Fig1.set_size_inches(15, 21)\n",
    "ax11 = Fig1.add_subplot(4,1,1)\n",
    "g1 = sns.boxenplot( x=\"Month\", y=\"MonTotal\", hue=\"DLabel\",\n",
    "                   dodge=True, linewidth=1.2, orient=\"v\",\n",
    "                   palette={ PrismLabel4 : \"xkcd:sky blue\", \n",
    "                             LocaLabel4 : \"xkcd:burnt orange\" },\n",
    "                   data=P3DF, ax=ax11 )\n",
    "g1.legend(prop=dict(size=11))\n",
    "g1.legend(loc=\"upper left\")\n",
    "g1.set_yscale('log')\n",
    "g1.grid(b=True, which=\"both\", axis='y')\n",
    "g1.set_yticks( preTicks )\n",
    "g1.set_xlabel('', fontsize=12 )\n",
    "g1.set_ylabel('Wet Spell Duration ($days$)', fontsize=12)\n",
    "g1.set_ylim( ( 1.0, 100.0))\n",
    "g1.tick_params(axis='both', which='major', labelsize=11)\n",
    "g1.yaxis.set_major_formatter( mpl.ticker.StrMethodFormatter( \"{x:,.0f}\" ) )\n",
    "g1.annotate(\"D\", xy=(0.98,0.95), xycoords=\"axes fraction\")\n",
    "ax21 = Fig1.add_subplot(4,1,2)\n",
    "g2 = sns.boxenplot( x=\"Month\", y=\"MonTotal\", hue=\"DLabel\",\n",
    "                   dodge=True, linewidth=1.2, orient=\"v\",\n",
    "                   palette={ PrismLabel3 : \"xkcd:sky blue\", \n",
    "                             LocaLabel3 : \"xkcd:pumpkin\" },\n",
    "                   data=P2DF, ax=ax21 )\n",
    "g2.legend(prop=dict(size=11))\n",
    "g2.legend(loc=\"upper left\")\n",
    "g2.set_yscale('log')\n",
    "g2.grid(b=True, which=\"both\", axis='y')\n",
    "g2.set_yticks( preTicks )\n",
    "g2.set_xlabel('', fontsize=12 )\n",
    "g2.set_ylabel('Wet Spell Duration ($days$)', fontsize=12)\n",
    "g2.set_ylim( ( 1.0, 100.0))\n",
    "g2.tick_params(axis='both', which='major', labelsize=11)\n",
    "g2.yaxis.set_major_formatter( mpl.ticker.StrMethodFormatter( \"{x:,.0f}\" ) )\n",
    "g2.annotate(\"C\", xy=(0.98,0.95), xycoords=\"axes fraction\")\n",
    "ax31 = Fig1.add_subplot(4,1,3)\n",
    "g3 = sns.boxenplot( x=\"Month\", y=\"MonTotal\", hue=\"DLabel\",\n",
    "                   dodge=True, linewidth=1.2, orient=\"v\",\n",
    "                   palette={ PrismLabel2 : \"xkcd:sky blue\", \n",
    "                             LocaLabel2 : \"xkcd:tangerine\" },\n",
    "                   data=P1DF, ax=ax31 )\n",
    "g3.legend(prop=dict(size=11))\n",
    "g3.legend(loc=\"upper left\")\n",
    "g3.set_yscale('log')\n",
    "g3.grid(b=True, which=\"both\", axis='y')\n",
    "g3.set_yticks( preTicks )\n",
    "g3.set_xlabel('', fontsize=12 )\n",
    "g3.set_ylabel('Wet Spell Duration ($days$)', fontsize=12)\n",
    "g3.set_ylim( ( 1.0, 100.0))\n",
    "g3.tick_params(axis='both', which='major', labelsize=11)\n",
    "g3.yaxis.set_major_formatter( mpl.ticker.StrMethodFormatter( \"{x:,.0f}\" ) )\n",
    "g3.annotate(\"B\", xy=(0.98,0.95), xycoords=\"axes fraction\")\n",
    "ax41 = Fig1.add_subplot(4,1,4)\n",
    "g4 = sns.boxenplot( x=\"Month\", y=\"MonTotal\", hue=\"DLabel\",\n",
    "                   dodge=True, linewidth=1.2, orient=\"v\",\n",
    "                   palette={ PrismLabel1 : \"xkcd:sky blue\", \n",
    "                             LocaLabel1 : \"xkcd:pale orange\" },\n",
    "                   data=DPDF, ax=ax41 )\n",
    "g4.legend(prop=dict(size=11))\n",
    "g4.legend(loc=\"upper left\")\n",
    "g4.set_yscale('log')\n",
    "g4.grid(b=True, which=\"both\", axis='y')\n",
    "g4.set_yticks( preTicks )\n",
    "g4.set_xlabel('', fontsize=12 )\n",
    "g4.set_ylabel('Wet Spell Duration ($days$)', fontsize=12)\n",
    "g4.set_ylim( ( 1.0, 100.0))\n",
    "g4.tick_params(axis='both', which='major', labelsize=11)\n",
    "g4.yaxis.set_major_formatter( mpl.ticker.StrMethodFormatter( \"{x:,.0f}\" ) )\n",
    "g4.annotate(\"A\", xy=(0.98,0.95), xycoords=\"axes fraction\")\n",
    "Fig1.savefig( OutSVG )\n",
    "Fig1.savefig( OutPNG )"
   ]
  },
  {
   "cell_type": "code",
   "execution_count": 17,
   "metadata": {},
   "outputs": [
    {
     "data": {
      "text/plain": [
       "array(['LOCA 2011-2040'], dtype=object)"
      ]
     },
     "execution_count": 17,
     "metadata": {},
     "output_type": "execute_result"
    }
   ],
   "source": [
    "nP1DF = P1DF[P1DF[\"DLabel\"] == 'LOCA 2011-2040'].copy()\n",
    "nP1DF[\"DLabel\"].unique()"
   ]
  },
  {
   "cell_type": "code",
   "execution_count": 18,
   "metadata": {},
   "outputs": [
    {
     "data": {
      "text/plain": [
       "(1708152, 1609927)"
      ]
     },
     "execution_count": 18,
     "metadata": {},
     "output_type": "execute_result"
    }
   ],
   "source": [
    "nP2DF = P2DF[P2DF[\"DLabel\"] == 'LOCA 2041-2070'].copy()\n",
    "nP3DF = P3DF[P3DF[\"DLabel\"] == 'LOCA 2071-2099'].copy()\n",
    "len( nP2DF ), len( nP3DF )"
   ]
  },
  {
   "cell_type": "code",
   "execution_count": 19,
   "metadata": {},
   "outputs": [],
   "source": [
    "All1 = pd.concat( [ DPDF, nP1DF, nP2DF, nP3DF ], ignore_index=True )"
   ]
  },
  {
   "cell_type": "code",
   "execution_count": 20,
   "metadata": {},
   "outputs": [
    {
     "data": {
      "text/plain": [
       "array(['PRISM 1981-2010', 'LOCA 1981-2010', 'LOCA 2011-2040',\n",
       "       'LOCA 2041-2070', 'LOCA 2071-2099'], dtype=object)"
      ]
     },
     "execution_count": 20,
     "metadata": {},
     "output_type": "execute_result"
    }
   ],
   "source": [
    "All1[\"DLabel\"].unique()"
   ]
  },
  {
   "cell_type": "code",
   "execution_count": 21,
   "metadata": {},
   "outputs": [
    {
     "data": {
      "text/plain": [
       "'C:\\\\Users\\\\nmartin\\\\Documents\\\\CC_IRD\\\\Events\\\\Plots\\\\Mon_WetSpell_All1ax_BXN.svg'"
      ]
     },
     "execution_count": 21,
     "metadata": {},
     "output_type": "execute_result"
    }
   ],
   "source": [
    "OutSVG = os.path.normpath( os.path.join( OUT_DIR, \"Plots\", \"Mon_WetSpell_All1ax_BXN.svg\") )\n",
    "OutSVG"
   ]
  },
  {
   "cell_type": "code",
   "execution_count": 22,
   "metadata": {},
   "outputs": [
    {
     "data": {
      "text/plain": [
       "'C:\\\\Users\\\\nmartin\\\\Documents\\\\CC_IRD\\\\Events\\\\Plots\\\\Mon_WetSpell_All1ax_BXN.png'"
      ]
     },
     "execution_count": 22,
     "metadata": {},
     "output_type": "execute_result"
    }
   ],
   "source": [
    "OutPNG = os.path.normpath( os.path.join( OUT_DIR, \"Plots\", \"Mon_WetSpell_All1ax_BXN.png\") )\n",
    "OutPNG"
   ]
  },
  {
   "cell_type": "code",
   "execution_count": 23,
   "metadata": {},
   "outputs": [
    {
     "data": {
      "text/plain": [
       "'C:\\\\Users\\\\nmartin\\\\Documents\\\\CC_IRD\\\\Events\\\\Plots\\\\Mon_WetSpell_All1ax_BXN.pdf'"
      ]
     },
     "execution_count": 23,
     "metadata": {},
     "output_type": "execute_result"
    }
   ],
   "source": [
    "OutPDF = os.path.normpath( os.path.join( OUT_DIR, \"Plots\", \"Mon_WetSpell_All1ax_BXN.pdf\") )\n",
    "OutPDF"
   ]
  },
  {
   "cell_type": "code",
   "execution_count": 26,
   "metadata": {},
   "outputs": [
    {
     "data": {
      "image/png": "[encoded data removed]",
      "text/plain": [
       "<Figure size 720x540 with 1 Axes>"
      ]
     },
     "metadata": {
      "needs_background": "light"
     },
     "output_type": "display_data"
    }
   ],
   "source": [
    "Fig1 = plt.figure()\n",
    "Fig1.set_size_inches(10, 7.5)\n",
    "ax11 = Fig1.add_subplot()\n",
    "g1 = sns.boxenplot( x=\"Month\", y=\"MonTotal\", hue=\"DLabel\",\n",
    "                   dodge=True, linewidth=0.5, orient=\"v\",\n",
    "                   palette={ PrismLabel1 : \"xkcd:ocean blue\",\n",
    "                             LocaLabel1 : \"xkcd:pale orange\",\n",
    "                             LocaLabel2 : \"xkcd:tangerine\",\n",
    "                             LocaLabel3 : \"xkcd:pumpkin\",\n",
    "                             LocaLabel4 : \"xkcd:burnt orange\" },\n",
    "                   data=All1, ax=ax11 )\n",
    "g1.legend(prop=dict(size=11))\n",
    "g1.legend(loc=\"upper left\")\n",
    "g1.set_yscale('log')\n",
    "g1.grid(b=True, which=\"both\", axis='y')\n",
    "g1.set_yticks( preTicks )\n",
    "g1.set_xlabel('', fontsize=12 )\n",
    "g1.set_ylabel('Wet Spell Duration ($days$)', fontsize=12)\n",
    "g1.set_ylim( ( 1.0, 100.0))\n",
    "g1.tick_params(axis='both', which='major', labelsize=11)\n",
    "g1.yaxis.set_major_formatter( mpl.ticker.StrMethodFormatter( \"{x:,.0f}\" ) )\n",
    "Fig1.savefig( OutSVG )\n",
    "Fig1.savefig( OutPNG )\n",
    "Fig1.savefig( OutPDF )"
   ]
  },
  {
   "cell_type": "code",
   "execution_count": null,
   "metadata": {},
   "outputs": [],
   "source": []
  }
 ],
 "metadata": {
  "kernelspec": {
   "display_name": "Python 3",
   "language": "python",
   "name": "python3"
  },
  "language_info": {
   "codemirror_mode": {
    "name": "ipython",
    "version": 3
   },
   "file_extension": ".py",
   "mimetype": "text/x-python",
   "name": "python",
   "nbconvert_exporter": "python",
   "pygments_lexer": "ipython3",
   "version": "3.7.7"
  }
 },
 "nbformat": 4,
 "nbformat_minor": 4
}
