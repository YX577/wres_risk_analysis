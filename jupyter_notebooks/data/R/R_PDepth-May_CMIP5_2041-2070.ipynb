{
 "cells": [
  {
   "cell_type": "markdown",
   "metadata": {},
   "source": [
    "# CMIP5: May Distribution Fits, 2041-2070"
   ]
  },
  {
   "cell_type": "markdown",
   "metadata": {},
   "source": [
    "Downscaled CMIP5 simulation results were obtained using two downscaling methods period 2041-2070. These values have been collated into monthly collections of daily precipitation by grid cell and by group. Four groups were created using PCA and K-means clustering. The groups identified from PRISM data were also attributed to the grid locations.\n",
    "\n",
    "CMIP5 data will be processed by grid cell and regions will not be used for fitting distributions. There are 4, 30-yr climate periods and expect different regionalization for each climate period. Consequently, the most direct approach will be to use the grid cells as independent regions and then we get the automatic variation.\n",
    "\n",
    "- LOCA: 1/16 degree grid cells\n",
    "- BCCA: 1/8 degree grid cells == NLDAS2 grid"
   ]
  },
  {
   "cell_type": "markdown",
   "metadata": {},
   "source": [
    "## Parameters and Library Loading"
   ]
  },
  {
   "cell_type": "code",
   "execution_count": null,
   "metadata": {},
   "outputs": [],
   "source": [
    "oldw <- getOption(\"warn\")"
   ]
  },
  {
   "cell_type": "code",
   "execution_count": null,
   "metadata": {},
   "outputs": [],
   "source": [
    "options(warn = -1)"
   ]
  },
  {
   "cell_type": "code",
   "execution_count": null,
   "metadata": {},
   "outputs": [],
   "source": [
    "library(feather)\n",
    "library(moments)\n",
    "library(dplyr)\n",
    "library(fitdistrplus)\n",
    "library(gendist)\n",
    "library(mixtools)\n",
    "library(xlsx)\n",
    "library(r2excel)\n",
    "library(\"IRdisplay\")"
   ]
  },
  {
   "cell_type": "markdown",
   "metadata": {},
   "source": [
    "LOCA grid to show which cells, **Grid_Id**, values are actually needed."
   ]
  },
  {
   "cell_type": "code",
   "execution_count": null,
   "metadata": {},
   "outputs": [],
   "source": [
    "display_png(file=\"//augustine.space.swri.edu/jdrive/Groundwater/R8937_Stochastic_CC_Recharge/Data/JNotes/Images/PNG/Jan_LOCA_grid_PRISM_regions_.png\")"
   ]
  },
  {
   "cell_type": "code",
   "execution_count": null,
   "metadata": {},
   "outputs": [],
   "source": [
    "LOCA_IDs <- c( 136, 137, 120, 121, 122, 123, 104, 105, 106, 107, 108, 109,\n",
    "               90, 91, 92, 93, 94, 76, 77, 78, 79, 62, 63, 64 )"
   ]
  },
  {
   "cell_type": "markdown",
   "metadata": {},
   "source": [
    "BCCA grid to show which BCCA cells are needed"
   ]
  },
  {
   "cell_type": "code",
   "execution_count": null,
   "metadata": {},
   "outputs": [],
   "source": [
    "display_png(file=\"//augustine.space.swri.edu/jdrive/Groundwater/R8937_Stochastic_CC_Recharge/Data/JNotes/Images/PNG/Jan_BCCA_grid_PRISM_regions_.png\")"
   ]
  },
  {
   "cell_type": "code",
   "execution_count": null,
   "metadata": {},
   "outputs": [],
   "source": [
    "BCCA_IDs <- c( 200, 201, 202, 192, 193, 194, 195, 185, 186, 187, 179 )"
   ]
  },
  {
   "cell_type": "code",
   "execution_count": null,
   "metadata": {},
   "outputs": [],
   "source": [
    "NBCGrid <- length( BCCA_IDs )\n",
    "NLOGrid <- length( LOCA_IDs )\n",
    "cat( \"LOCA grid cells of interest: \", NLOGrid, \" and BCCA grid cells of interest: \", NBCGrid )"
   ]
  },
  {
   "cell_type": "code",
   "execution_count": null,
   "metadata": {},
   "outputs": [],
   "source": [
    "setwd(\"//augustine.space.swri.edu/jdrive/Groundwater/R8937_Stochastic_CC_Recharge/Data/R/Working/CMIP5_2041_PDepth\")"
   ]
  },
  {
   "cell_type": "markdown",
   "metadata": {},
   "source": [
    "Specify some parameters, primarily filenames\n",
    "\n",
    "Have two different downscaled grids and so have a separate file for each."
   ]
  },
  {
   "cell_type": "code",
   "execution_count": null,
   "metadata": {},
   "outputs": [],
   "source": [
    "feLONAM <- \"May_WetDays_LOCA_Grp_2041-2070.feather\""
   ]
  },
  {
   "cell_type": "code",
   "execution_count": null,
   "metadata": {},
   "outputs": [],
   "source": [
    "fBCNAM <- \"May_WetDays_BCCA_Grp_2041-2070.feather\""
   ]
  },
  {
   "cell_type": "code",
   "execution_count": null,
   "metadata": {},
   "outputs": [],
   "source": [
    "dfLOMay <- read_feather(feLONAM)"
   ]
  },
  {
   "cell_type": "code",
   "execution_count": null,
   "metadata": {},
   "outputs": [],
   "source": [
    "dfBCMay <- read_feather(fBCNAM)"
   ]
  },
  {
   "cell_type": "markdown",
   "metadata": {},
   "source": [
    "## May Distribution Fits"
   ]
  },
  {
   "cell_type": "markdown",
   "metadata": {},
   "source": [
    "Fit distributions for each defined grid cell in the header.\n",
    "\n",
    "There are 4 steps in fitting distributions (Ricci, 2005):\n",
    "\n",
    "1. Model/function choice: hypothesize families of distributions;\n",
    "2. Estimate parameters;\n",
    "3. Evaluate quality of fit;\n",
    "4. Goodness of fit statistical tests."
   ]
  },
  {
   "cell_type": "markdown",
   "metadata": {},
   "source": [
    "We will use two, pre-selected distributions for fitting. The first distribution is the 2-parameter gamma distribution which is often used for precipitation depth. This distribution has some advantages in terms of fitting ability because of the two parameters relative to the exponential distribution which is one parameter."
   ]
  },
  {
   "cell_type": "markdown",
   "metadata": {},
   "source": [
    "The second distribution to try is the mixed exponential distribution which is a probability mixture of two one-parameter exponential distributions. It provides for the superposition of two ordinary exponential distributions whose means are $\\mu_{1}$ and $\\mu_{2}$. It provides a better representation of the frequencies of teh very largest precipitation amounts"
   ]
  },
  {
   "cell_type": "markdown",
   "metadata": {},
   "source": [
    "\\begin{equation*}\n",
    "    f(x) = \\frac{ \\alpha }{\\mu_{1}} \\exp \\left[ \\frac{-x}{\\mu_{1}} \\right] + \\frac{ 1 - \\alpha }\n",
    "    {\\mu_{2}} \\exp \\left[ \\frac{-x}{\\mu_{2}} \\right]\n",
    "\\end{equation*}"
   ]
  },
  {
   "cell_type": "markdown",
   "metadata": {},
   "source": [
    "\\begin{equation*}\n",
    "    \\mu = \\alpha \\mu_{1} + \\left( 1 - \\alpha \\right) \\mu_{2}\n",
    "\\end{equation*}"
   ]
  },
  {
   "cell_type": "markdown",
   "metadata": {},
   "source": [
    "\\begin{equation*}\n",
    "    \\sigma^{2} = \\alpha \\mu_{1}^{2} + \\left( 1 - \\alpha \\right) \\mu_{2}^{2} + \\alpha \n",
    "    \\left( 1 - \\alpha \\right) \\left( \\mu_{1} - \\mu_{2} \\right)^{2}\n",
    "\\end{equation*}"
   ]
  },
  {
   "cell_type": "markdown",
   "metadata": {},
   "source": [
    "Use a DataFrame to track our results and then output to a spreadsheet."
   ]
  },
  {
   "cell_type": "markdown",
   "metadata": {},
   "source": [
    "### Grid Cell Distributions"
   ]
  },
  {
   "cell_type": "code",
   "execution_count": null,
   "metadata": {},
   "outputs": [],
   "source": [
    "MonLODistDF <- data.frame( gridno=rep(NA,NLOGrid), region=rep(NA,NLOGrid), GM_shape=rep(NA,NLOGrid), \n",
    "                           GM_rate=rep(NA,NLOGrid), GM_llike=rep(NA,NLOGrid), GM_mean=rep(NA,NLOGrid),\n",
    "                           GM_var=rep(NA,NLOGrid), GM_KSstat=rep(NA,NLOGrid), GM_KSp=rep(NA,NLOGrid),\n",
    "                           ME_rate1=rep(NA,NLOGrid), ME_rate2=rep(NA,NLOGrid), ME_lambda=rep(NA,NLOGrid),\n",
    "                           ME_mean1=rep(NA,NLOGrid), ME_mean2=rep(NA,NLOGrid), ME_mean=rep(NA,NLOGrid),\n",
    "                           ME_var1=rep(NA,NLOGrid), ME_var2=rep(NA,NLOGrid), ME_var=rep(NA,NLOGrid),\n",
    "                           ME_llike=rep(NA,NLOGrid), ME_KSstat=rep(NA,NLOGrid), ME_KSp=rep(NA,NLOGrid),\n",
    "                           stringsAsFactors=FALSE )"
   ]
  },
  {
   "cell_type": "code",
   "execution_count": null,
   "metadata": {},
   "outputs": [],
   "source": [
    "MonBCDistDF <- data.frame( gridno=rep(NA,NBCGrid), region=rep(NA,NBCGrid), GM_shape=rep(NA,NBCGrid), \n",
    "                           GM_rate=rep(NA,NBCGrid), GM_llike=rep(NA,NBCGrid), GM_mean=rep(NA,NBCGrid),\n",
    "                           GM_var=rep(NA,NBCGrid), GM_KSstat=rep(NA,NBCGrid), GM_KSp=rep(NA,NBCGrid),\n",
    "                           ME_rate1=rep(NA,NBCGrid), ME_rate2=rep(NA,NBCGrid), ME_lambda=rep(NA,NBCGrid),\n",
    "                           ME_mean1=rep(NA,NBCGrid), ME_mean2=rep(NA,NBCGrid), ME_mean=rep(NA,NBCGrid),\n",
    "                           ME_var1=rep(NA,NBCGrid), ME_var2=rep(NA,NBCGrid), ME_var=rep(NA,NBCGrid),\n",
    "                           ME_llike=rep(NA,NBCGrid), ME_KSstat=rep(NA,NBCGrid), ME_KSp=rep(NA,NBCGrid),\n",
    "                           stringsAsFactors=FALSE )"
   ]
  },
  {
   "cell_type": "code",
   "execution_count": null,
   "metadata": {},
   "outputs": [],
   "source": [
    "setwd(\"//augustine.space.swri.edu/jdrive/Groundwater/R8937_Stochastic_CC_Recharge/Data/R/Working/CMIP5_2041_PDepth/Plots\")"
   ]
  },
  {
   "cell_type": "code",
   "execution_count": null,
   "metadata": {},
   "outputs": [],
   "source": [
    "LOGridVct <- as.vector( 1:NLOGrid )\n",
    "for (iI in LOGridVct) {\n",
    "    # setup\n",
    "    cGridId <- LOCA_IDs[iI]\n",
    "    dfCGrid <- dfLOMay %>% filter( Grid_Id == cGridId )\n",
    "    cReg <- dfCGrid$PRegion_Id[1]\n",
    "    # gamma\n",
    "    fd_GM_MayA <- fitdist( dfCGrid$Precip_mm, \"gamma\" )\n",
    "    fdGM_MayA_shape <- fd_GM_MayA$estimate[[\"shape\"]]\n",
    "    fdGM_MayA_rate <- fd_GM_MayA$estimate[[\"rate\"]]\n",
    "    fdGM_MayA_llike <- fd_GM_MayA$loglik\n",
    "    fdGM_MayA_mean <- fdGM_MayA_shape / fdGM_MayA_rate\n",
    "    fdGM_MayA_var <- fdGM_MayA_shape / ( fdGM_MayA_rate ^ 2 )\n",
    "    ksRes <- ks.test( dfCGrid$Precip_mm, \"pgamma\", shape=fdGM_MayA_shape, rate=fdGM_MayA_rate )\n",
    "    fdGM_MayA_KSStat <- ksRes$statistic\n",
    "    fdGM_MayA_KSp <- ksRes$p.value\n",
    "    # mixed exponential\n",
    "    fd_ME_MayA <- expRMM_EM( dfCGrid$Precip_mm, d=NULL, lambda=c(0.05, 1-0.05),\n",
    "                             rate=c(1.0/median(dfCGrid$Precip_mm), 1.0/mean(dfCGrid$Precip_mm)), k=2,\n",
    "                             complete=\"xz\", epsilon=1e-08, maxit=1000, verb=FALSE )\n",
    "    fdME_MayA_rate1 <- fd_ME_MayA$rate[[1]]\n",
    "    fdME_MayA_rate2 <- fd_ME_MayA$rate[[2]]\n",
    "    fdME_MayA_lambda <- fd_ME_MayA$lambda[[1]]\n",
    "    fdME_MayA_mean1 <- 1.0 / fdME_MayA_rate1\n",
    "    fdME_MayA_mean2 <- 1.0 / fdME_MayA_rate2\n",
    "    fdME_MayA_mean <- ( (fdME_MayA_lambda * fdME_MayA_mean1) + \n",
    "                        ( ( 1.0 - fdME_MayA_lambda) * fdME_MayA_mean2 ) )\n",
    "    fdME_MayA_var1 <- 1.0 / (fdME_MayA_rate1 ^ 2)\n",
    "    fdME_MayA_var2 <- 1.0 / (fdME_MayA_rate2 ^ 2)\n",
    "    fdME_MayA_var <- ( (fdME_MayA_lambda * ( fdME_MayA_mean1 ^ 2 ) ) + \n",
    "                       ( ( 1.0 - fdME_MayA_lambda) * (fdME_MayA_mean2 ^ 2) ) + \n",
    "                       ( fdME_MayA_lambda * ( 1.0 - fdME_MayA_lambda) * \n",
    "                           ( fdME_MayA_mean1 - fdME_MayA_mean2 )^2 ) )\n",
    "    fdME_MayA_llike <- fd_ME_MayA$loglik\n",
    "    tvals <- rexpmix( length(dfCGrid$Precip_mm), fd_ME_MayA$lambda, fd_ME_MayA$rate )\n",
    "    ksResME <- ks.test( dfCGrid$Precip_mm, tvals )\n",
    "    fdME_MayA_KSStat <- ksResME$statistic\n",
    "    fdME_MayA_KSp <- ksResME$p.value\n",
    "    # save the values\n",
    "    MonLODistDF[iI, ] <- list( cGridId, cReg, fdGM_MayA_shape, fdGM_MayA_rate, fdGM_MayA_llike, fdGM_MayA_mean,\n",
    "                            fdGM_MayA_var, fdGM_MayA_KSStat, fdGM_MayA_KSp, fdME_MayA_rate1,\n",
    "                            fdME_MayA_rate2, fdME_MayA_lambda, fdME_MayA_mean1, fdME_MayA_mean2,\n",
    "                            fdME_MayA_mean, fdME_MayA_var1, fdME_MayA_var2, fdME_MayA_var,\n",
    "                            fdME_MayA_llike, fdME_MayA_KSStat, fdME_MayA_KSp )\n",
    "    # plots section\n",
    "    wMayAMax <- max( max( dfCGrid$Precip_mm ), max( tvals ) )\n",
    "    PName <- paste(\"May_LOCA_G\", cGridId, \"_QQ.png\")\n",
    "    png(filename=PName)\n",
    "    qqplot( tvals, dfCGrid$Precip_mm, col=\"green\", xlab=\"Theoretical Quantiles\",\n",
    "            ylab=\"Sample Quantiles\", main=\"May All Q-Q Plot\",\n",
    "            xlim=c(0,wMayAMax), ylim=c(0,wMayAMax) )\n",
    "    abline( 0, 1)\n",
    "    dev.off()\n",
    "    x <- seq(0,wMayAMax,1)\n",
    "    plot.legend <- c(\"Fitted Distribution\", \"Data Sample\" )\n",
    "    PName <- paste(\"May_LOCA_G\", cGridId, \"_ECDFs.png\")\n",
    "    png(filename=PName)\n",
    "    plot(ecdf(tvals),\n",
    "         xlab=\"Precip Depth (mm)\", ylab=\"Cumulative Density\",\n",
    "         col=\"blue\", main=\"Comparison of Empirical and Fitted CDFs\" )\n",
    "    plot(ecdf(dfCGrid$Precip_mm), col=\"green\", add=TRUE )\n",
    "    legend('bottomright', plot.legend, lty=1, col=c(\"blue\", \"green\"))\n",
    "    dev.off()\n",
    "    maxP <- max(dfCGrid$Precip_mm)\n",
    "    xVals <- seq(1, maxP, 1)\n",
    "    pdVals <- dmixt( xVals, phi=fdME_MayA_lambda, spec1=\"exp\", arg1=list(rate=fdME_MayA_rate1),\n",
    "                     spec2=\"exp\", arg2=list(rate=fdME_MayA_rate2) )\n",
    "    PName <- paste(\"May_LOCA_G\", cGridId, \"_HistFitME.png\")\n",
    "    png(filename=PName)\n",
    "    hist( dfCGrid$Precip_mm, freq=FALSE, col=\"lightsteelblue\", \n",
    "          xlab=\"Precipitation (mm/day)\", ylab=\"Probability Density\",\n",
    "          main=\"May All Histogram vs Fitted Mixed Exponential Distribution\" )\n",
    "    lines( xVals, pdVals, lwd=2, lty=1, col=\"firebrick\", add=TRUE)\n",
    "    dev.off()\n",
    "}"
   ]
  },
  {
   "cell_type": "code",
   "execution_count": null,
   "metadata": {},
   "outputs": [],
   "source": [
    "BCGridVct <- as.vector( 1:NBCGrid )\n",
    "for (iI in BCGridVct) {\n",
    "    # setup\n",
    "    cGridId <- BCCA_IDs[iI]\n",
    "    dfCGrid <- dfBCMay %>% filter( Grid_Id == cGridId )\n",
    "    cReg <- dfCGrid$PRegion_Id[1]\n",
    "    # gamma\n",
    "    fd_GM_MayA <- fitdist( dfCGrid$Precip_mm, \"gamma\" )\n",
    "    fdGM_MayA_shape <- fd_GM_MayA$estimate[[\"shape\"]]\n",
    "    fdGM_MayA_rate <- fd_GM_MayA$estimate[[\"rate\"]]\n",
    "    fdGM_MayA_llike <- fd_GM_MayA$loglik\n",
    "    fdGM_MayA_mean <- fdGM_MayA_shape / fdGM_MayA_rate\n",
    "    fdGM_MayA_var <- fdGM_MayA_shape / ( fdGM_MayA_rate ^ 2 )\n",
    "    ksRes <- ks.test( dfCGrid$Precip_mm, \"pgamma\", shape=fdGM_MayA_shape, rate=fdGM_MayA_rate )\n",
    "    fdGM_MayA_KSStat <- ksRes$statistic\n",
    "    fdGM_MayA_KSp <- ksRes$p.value\n",
    "    # mixed exponential\n",
    "    fd_MEB_MayA <- expRMM_EM( dfCGrid$Precip_mm, d=NULL, lambda=c(0.05, 1-0.05),\n",
    "                             rate=c(1.0/median(dfCGrid$Precip_mm), 1.0/mean(dfCGrid$Precip_mm)), k=2,\n",
    "                             complete=\"xz\", epsilon=1e-08, maxit=1000, verb=FALSE )\n",
    "    fdMEB_MayA_rate1 <- fd_MEB_MayA$rate[[1]]\n",
    "    fdMEB_MayA_rate2 <- fd_MEB_MayA$rate[[2]]\n",
    "    fdMEB_MayA_lambda <- fd_MEB_MayA$lambda[[1]]\n",
    "    fdMEB_MayA_mean1 <- 1.0 / fdMEB_MayA_rate1\n",
    "    fdMEB_MayA_mean2 <- 1.0 / fdMEB_MayA_rate2\n",
    "    fdMEB_MayA_mean <- ( (fdMEB_MayA_lambda * fdMEB_MayA_mean1) + \n",
    "                        ( ( 1.0 - fdMEB_MayA_lambda) * fdMEB_MayA_mean2 ) )\n",
    "    fdMEB_MayA_var1 <- 1.0 / (fdMEB_MayA_rate1 ^ 2)\n",
    "    fdMEB_MayA_var2 <- 1.0 / (fdMEB_MayA_rate2 ^ 2)\n",
    "    fdMEB_MayA_var <- ( (fdMEB_MayA_lambda * ( fdMEB_MayA_mean1 ^ 2 ) ) + \n",
    "                       ( ( 1.0 - fdMEB_MayA_lambda) * (fdMEB_MayA_mean2 ^ 2) ) + \n",
    "                       ( fdMEB_MayA_lambda * ( 1.0 - fdMEB_MayA_lambda) * \n",
    "                           ( fdMEB_MayA_mean1 - fdMEB_MayA_mean2 )^2 ) )\n",
    "    fdMEB_MayA_llike <- fd_MEB_MayA$loglik\n",
    "    tvals <- rexpmix( length(dfCGrid$Precip_mm), fd_MEB_MayA$lambda, fd_MEB_MayA$rate )\n",
    "    ksResME <- ks.test( dfCGrid$Precip_mm, tvals )\n",
    "    fdMEB_MayA_KSStat <- ksResME$statistic\n",
    "    fdMEB_MayA_KSp <- ksResME$p.value\n",
    "    # save the values\n",
    "    MonBCDistDF[iI, ] <- list( cGridId, cReg, fdGM_MayA_shape, fdGM_MayA_rate, fdGM_MayA_llike, fdGM_MayA_mean,\n",
    "                            fdGM_MayA_var, fdGM_MayA_KSStat, fdGM_MayA_KSp, fdMEB_MayA_rate1,\n",
    "                            fdMEB_MayA_rate2, fdMEB_MayA_lambda, fdMEB_MayA_mean1, fdMEB_MayA_mean2,\n",
    "                            fdMEB_MayA_mean, fdMEB_MayA_var1, fdMEB_MayA_var2, fdMEB_MayA_var,\n",
    "                            fdMEB_MayA_llike, fdMEB_MayA_KSStat, fdMEB_MayA_KSp )\n",
    "    # plots section\n",
    "    wMayAMax <- max( max( dfCGrid$Precip_mm ), max( tvals ) )\n",
    "    PName <- paste(\"May_BCCA_G\", cGridId, \"_QQ.png\")\n",
    "    png(filename=PName)\n",
    "    qqplot( tvals, dfCGrid$Precip_mm, col=\"green\", xlab=\"Theoretical Quantiles\",\n",
    "            ylab=\"Sample Quantiles\", main=\"May All Q-Q PBCt\",\n",
    "            xlim=c(0,wMayAMax), ylim=c(0,wMayAMax) )\n",
    "    abline( 0, 1)\n",
    "    dev.off()\n",
    "    x <- seq(0,wMayAMax,1)\n",
    "    plot.legend <- c(\"Fitted Distribution\", \"Data Sample\" )\n",
    "    PName <- paste(\"May_BCCA_G\", cGridId, \"_ECDFs.png\")\n",
    "    png(filename=PName)\n",
    "    plot(ecdf(tvals),\n",
    "         xlab=\"Precip Depth (mm)\", ylab=\"Cumulative Density\",\n",
    "         col=\"blue\", main=\"Comparison of Empirical and Fitted CDFs\" )\n",
    "    plot(ecdf(dfCGrid$Precip_mm), col=\"green\", add=TRUE )\n",
    "    legend('bottomright', plot.legend, lty=1, col=c(\"blue\", \"green\"))\n",
    "    dev.off()\n",
    "    maxP <- max(dfCGrid$Precip_mm)\n",
    "    xVals <- seq(1, maxP, 1)\n",
    "    pdVals <- dmixt( xVals, phi=fdMEB_MayA_lambda, spec1=\"exp\", arg1=list(rate=fdMEB_MayA_rate1),\n",
    "                     spec2=\"exp\", arg2=list(rate=fdMEB_MayA_rate2) )\n",
    "    PName <- paste(\"May_BCCA_G\", cGridId, \"_HistFitME.png\")\n",
    "    png(filename=PName)\n",
    "    hist( dfCGrid$Precip_mm, freq=FALSE, col=\"lightsteelblue\", \n",
    "          xlab=\"Precipitation (mm/day)\", ylab=\"Probability Density\",\n",
    "          main=\"May All Histogram vs Fitted Mixed Exponential Distribution\" )\n",
    "    lines( xVals, pdVals, lwd=2, lty=1, col=\"firebrick\", add=TRUE)\n",
    "    dev.off()\n",
    "}"
   ]
  },
  {
   "cell_type": "markdown",
   "metadata": {},
   "source": [
    "## Output Stats and Distribution Fits to Spreadsheet"
   ]
  },
  {
   "cell_type": "code",
   "execution_count": null,
   "metadata": {},
   "outputs": [],
   "source": [
    "setwd(\"//augustine.space.swri.edu/jdrive/Groundwater/R8937_Stochastic_CC_Recharge/Data/R/Working/CMIP5_2041_PDepth\")"
   ]
  },
  {
   "cell_type": "code",
   "execution_count": null,
   "metadata": {},
   "outputs": [],
   "source": [
    "outputDF_xlsx <- createWorkbook()"
   ]
  },
  {
   "cell_type": "code",
   "execution_count": null,
   "metadata": {},
   "outputs": [],
   "source": [
    "MayLO_xlsx <- createSheet(wb=outputDF_xlsx, sheetName=\"May_LOCA\")\n",
    "MayBC_xlsx <- createSheet(wb=outputDF_xlsx, sheetName=\"May_BCCA\")"
   ]
  },
  {
   "cell_type": "code",
   "execution_count": null,
   "metadata": {},
   "outputs": [],
   "source": [
    "addDataFrame( x=MonLODistDF, sheet=MayLO_xlsx )\n",
    "addDataFrame( x=MonBCDistDF, sheet=MayBC_xlsx )"
   ]
  },
  {
   "cell_type": "code",
   "execution_count": null,
   "metadata": {},
   "outputs": [],
   "source": [
    "saveWorkbook( outputDF_xlsx, file=\"CMIP5_2070_MayDistFits.xlsx\" )"
   ]
  },
  {
   "cell_type": "code",
   "execution_count": null,
   "metadata": {},
   "outputs": [],
   "source": [
    "options(warn = oldw)"
   ]
  }
 ],
 "metadata": {
  "kernelspec": {
   "display_name": "R",
   "language": "R",
   "name": "ir"
  },
  "language_info": {
   "codemirror_mode": "r",
   "file_extension": ".r",
   "mimetype": "text/x-r-source",
   "name": "R",
   "pygments_lexer": "r",
   "version": "3.6.0"
  }
 },
 "nbformat": 4,
 "nbformat_minor": 2
}
